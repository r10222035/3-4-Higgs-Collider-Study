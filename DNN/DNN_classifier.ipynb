{
 "cells": [
  {
   "cell_type": "code",
   "execution_count": 1,
   "id": "8bf47e0c",
   "metadata": {},
   "outputs": [
    {
     "name": "stderr",
     "output_type": "stream",
     "text": [
      "2022-12-19 21:44:51.140456: I tensorflow/core/util/util.cc:169] oneDNN custom operations are on. You may see slightly different numerical results due to floating-point round-off errors from different computation orders. To turn them off, set the environment variable `TF_ENABLE_ONEDNN_OPTS=0`.\n"
     ]
    }
   ],
   "source": [
    "import datetime\n",
    "import os\n",
    "import tensorflow as tf\n",
    "import numpy as np\n",
    "import pandas as pd\n",
    "import matplotlib.pyplot as plt\n",
    "\n",
    "from tqdm import tqdm\n",
    "from keras.models import Sequential\n",
    "from keras.layers import Dense\n",
    "from sklearn.model_selection import train_test_split\n",
    "from sklearn.metrics import roc_curve, roc_auc_score, accuracy_score"
   ]
  },
  {
   "cell_type": "markdown",
   "id": "d903a39a",
   "metadata": {},
   "source": [
    "# Training samples"
   ]
  },
  {
   "cell_type": "code",
   "execution_count": 2,
   "id": "03348dae",
   "metadata": {},
   "outputs": [],
   "source": [
    "pairing_method = 'min-dR'\n",
    "path_s = f'DNN_signal_{pairing_method}.npy'\n",
    "path_b = f'DNN_background_{pairing_method}.npy'"
   ]
  },
  {
   "cell_type": "code",
   "execution_count": 3,
   "id": "21ff8d61",
   "metadata": {},
   "outputs": [],
   "source": [
    "X_s = np.load(path_s)\n",
    "Y_s = np.eye(2)[np.array([1] * X_s.shape[0])]\n",
    "X_b = np.load(path_b)\n",
    "Y_b = np.eye(2)[np.array([0] * X_b.shape[0])]\n",
    "\n",
    "X = np.vstack((X_s, X_b))\n",
    "Y = np.vstack((Y_s, Y_b))\n",
    "\n",
    "X_train, X_test, y_train, y_test = train_test_split(X, Y, test_size=0.2, random_state=1)"
   ]
  },
  {
   "cell_type": "code",
   "execution_count": 4,
   "id": "a421c08c",
   "metadata": {},
   "outputs": [
    {
     "name": "stdout",
     "output_type": "stream",
     "text": [
      "Signal size: 17217\n",
      "Background size: 20355\n"
     ]
    }
   ],
   "source": [
    "print(f'Signal size: {X_s.shape[0]}')\n",
    "print(f'Background size: {X_b.shape[0]}')"
   ]
  },
  {
   "cell_type": "markdown",
   "id": "56bb2f06",
   "metadata": {},
   "source": [
    "# Training DNN"
   ]
  },
  {
   "cell_type": "code",
   "execution_count": 5,
   "id": "015f2b5a",
   "metadata": {},
   "outputs": [],
   "source": [
    "train_epochs = 500\n",
    "patience = 10\n",
    "min_delta = 0.\n",
    "learning_rate = 5e-3   \n",
    "batch_size = 512\n",
    "save_model_name = f'DNN_best_model_{pairing_method}/'"
   ]
  },
  {
   "cell_type": "code",
   "execution_count": 6,
   "id": "d75f497c",
   "metadata": {},
   "outputs": [
    {
     "name": "stdout",
     "output_type": "stream",
     "text": [
      "Model: \"sequential\"\n",
      "_________________________________________________________________\n",
      " Layer (type)                Output Shape              Param #   \n",
      "=================================================================\n",
      " dense (Dense)               (None, 256)               5376      \n",
      "                                                                 \n",
      " dense_1 (Dense)             (None, 256)               65792     \n",
      "                                                                 \n",
      " dense_2 (Dense)             (None, 2)                 514       \n",
      "                                                                 \n",
      "=================================================================\n",
      "Total params: 71,682\n",
      "Trainable params: 71,682\n",
      "Non-trainable params: 0\n",
      "_________________________________________________________________\n",
      "None\n"
     ]
    },
    {
     "name": "stderr",
     "output_type": "stream",
     "text": [
      "2022-12-19 21:44:57.973353: I tensorflow/core/platform/cpu_feature_guard.cc:193] This TensorFlow binary is optimized with oneAPI Deep Neural Network Library (oneDNN) to use the following CPU instructions in performance-critical operations:  SSE4.1 SSE4.2 AVX AVX2 AVX512F AVX512_VNNI FMA\n",
      "To enable them in other operations, rebuild TensorFlow with the appropriate compiler flags.\n",
      "2022-12-19 21:45:00.285181: I tensorflow/core/common_runtime/gpu/gpu_device.cc:1532] Created device /job:localhost/replica:0/task:0/device:GPU:0 with 46697 MB memory:  -> device: 0, name: NVIDIA RTX A6000, pci bus id: 0000:3b:00.0, compute capability: 8.6\n",
      "2022-12-19 21:45:00.287229: I tensorflow/core/common_runtime/gpu/gpu_device.cc:1532] Created device /job:localhost/replica:0/task:0/device:GPU:1 with 46697 MB memory:  -> device: 1, name: NVIDIA RTX A6000, pci bus id: 0000:5e:00.0, compute capability: 8.6\n",
      "2022-12-19 21:45:00.288446: I tensorflow/core/common_runtime/gpu/gpu_device.cc:1532] Created device /job:localhost/replica:0/task:0/device:GPU:2 with 22286 MB memory:  -> device: 2, name: NVIDIA GeForce RTX 3090, pci bus id: 0000:d8:00.0, compute capability: 8.6\n"
     ]
    }
   ],
   "source": [
    "# 建立 DNN\n",
    "model= Sequential()\n",
    "model.add(Dense(units=256, input_dim=20, activation='relu'))\n",
    "model.add(Dense(units=256, activation='relu'))\n",
    "model.add(Dense(units=2, activation='softmax'))\n",
    "\n",
    "print(model.summary())"
   ]
  },
  {
   "cell_type": "code",
   "execution_count": 7,
   "id": "860b5c39",
   "metadata": {},
   "outputs": [
    {
     "name": "stdout",
     "output_type": "stream",
     "text": [
      "Epoch 1/500\n",
      "40/47 [========================>.....] - ETA: 0s - loss: 29.4418 - accuracy: 0.5423"
     ]
    },
    {
     "name": "stderr",
     "output_type": "stream",
     "text": [
      "2022-12-19 21:45:03.129665: I tensorflow/stream_executor/cuda/cuda_blas.cc:1786] TensorFloat-32 will be used for the matrix multiplication. This will only be logged once.\n"
     ]
    },
    {
     "name": "stdout",
     "output_type": "stream",
     "text": [
      "\n",
      "Epoch 1: val_loss improved from inf to 0.79904, saving model to DNN_best_model_min-dR/\n",
      "INFO:tensorflow:Assets written to: DNN_best_model_min-dR/assets\n",
      "47/47 [==============================] - 3s 21ms/step - loss: 25.2039 - accuracy: 0.5539 - val_loss: 0.7990 - val_accuracy: 0.6123\n",
      "Epoch 2/500\n",
      "40/47 [========================>.....] - ETA: 0s - loss: 0.6741 - accuracy: 0.6294\n",
      "Epoch 2: val_loss improved from 0.79904 to 0.62663, saving model to DNN_best_model_min-dR/\n",
      "INFO:tensorflow:Assets written to: DNN_best_model_min-dR/assets\n",
      "47/47 [==============================] - 1s 17ms/step - loss: 0.6671 - accuracy: 0.6354 - val_loss: 0.6266 - val_accuracy: 0.6603\n",
      "Epoch 3/500\n",
      "42/47 [=========================>....] - ETA: 0s - loss: 0.6098 - accuracy: 0.6735\n",
      "Epoch 3: val_loss improved from 0.62663 to 0.59881, saving model to DNN_best_model_min-dR/\n",
      "INFO:tensorflow:Assets written to: DNN_best_model_min-dR/assets\n",
      "47/47 [==============================] - 1s 16ms/step - loss: 0.6084 - accuracy: 0.6741 - val_loss: 0.5988 - val_accuracy: 0.6929\n",
      "Epoch 4/500\n",
      "37/47 [======================>.......] - ETA: 0s - loss: 0.5881 - accuracy: 0.6984\n",
      "Epoch 4: val_loss improved from 0.59881 to 0.59331, saving model to DNN_best_model_min-dR/\n",
      "INFO:tensorflow:Assets written to: DNN_best_model_min-dR/assets\n",
      "47/47 [==============================] - 1s 19ms/step - loss: 0.5865 - accuracy: 0.7011 - val_loss: 0.5933 - val_accuracy: 0.6936\n",
      "Epoch 5/500\n",
      "42/47 [=========================>....] - ETA: 0s - loss: 0.5751 - accuracy: 0.7139\n",
      "Epoch 5: val_loss improved from 0.59331 to 0.57378, saving model to DNN_best_model_min-dR/\n",
      "INFO:tensorflow:Assets written to: DNN_best_model_min-dR/assets\n",
      "47/47 [==============================] - 1s 14ms/step - loss: 0.5743 - accuracy: 0.7146 - val_loss: 0.5738 - val_accuracy: 0.7267\n",
      "Epoch 6/500\n",
      "30/47 [==================>...........] - ETA: 0s - loss: 0.5648 - accuracy: 0.7262\n",
      "Epoch 6: val_loss improved from 0.57378 to 0.55900, saving model to DNN_best_model_min-dR/\n",
      "INFO:tensorflow:Assets written to: DNN_best_model_min-dR/assets\n",
      "47/47 [==============================] - 1s 15ms/step - loss: 0.5565 - accuracy: 0.7325 - val_loss: 0.5590 - val_accuracy: 0.7234\n",
      "Epoch 7/500\n",
      "43/47 [==========================>...] - ETA: 0s - loss: 0.5435 - accuracy: 0.7448\n",
      "Epoch 7: val_loss did not improve from 0.55900\n",
      "47/47 [==============================] - 0s 5ms/step - loss: 0.5440 - accuracy: 0.7437 - val_loss: 0.5995 - val_accuracy: 0.6971\n",
      "Epoch 8/500\n",
      "42/47 [=========================>....] - ETA: 0s - loss: 0.5453 - accuracy: 0.7425\n",
      "Epoch 8: val_loss improved from 0.55900 to 0.53144, saving model to DNN_best_model_min-dR/\n",
      "INFO:tensorflow:Assets written to: DNN_best_model_min-dR/assets\n",
      "47/47 [==============================] - 1s 16ms/step - loss: 0.5424 - accuracy: 0.7454 - val_loss: 0.5314 - val_accuracy: 0.7608\n",
      "Epoch 9/500\n",
      "40/47 [========================>.....] - ETA: 0s - loss: 0.5179 - accuracy: 0.7707\n",
      "Epoch 9: val_loss did not improve from 0.53144\n",
      "47/47 [==============================] - 0s 5ms/step - loss: 0.5184 - accuracy: 0.7684 - val_loss: 0.5325 - val_accuracy: 0.7535\n",
      "Epoch 10/500\n",
      "40/47 [========================>.....] - ETA: 0s - loss: 0.5229 - accuracy: 0.7633\n",
      "Epoch 10: val_loss did not improve from 0.53144\n",
      "47/47 [==============================] - 0s 6ms/step - loss: 0.5261 - accuracy: 0.7604 - val_loss: 0.5492 - val_accuracy: 0.7354\n",
      "Epoch 11/500\n",
      "38/47 [=======================>......] - ETA: 0s - loss: 0.5118 - accuracy: 0.7717\n",
      "Epoch 11: val_loss improved from 0.53144 to 0.52299, saving model to DNN_best_model_min-dR/\n",
      "INFO:tensorflow:Assets written to: DNN_best_model_min-dR/assets\n",
      "47/47 [==============================] - 1s 16ms/step - loss: 0.5100 - accuracy: 0.7738 - val_loss: 0.5230 - val_accuracy: 0.7613\n",
      "Epoch 12/500\n",
      "42/47 [=========================>....] - ETA: 0s - loss: 0.5033 - accuracy: 0.7793\n",
      "Epoch 12: val_loss improved from 0.52299 to 0.49949, saving model to DNN_best_model_min-dR/\n",
      "INFO:tensorflow:Assets written to: DNN_best_model_min-dR/assets\n",
      "47/47 [==============================] - 1s 17ms/step - loss: 0.5026 - accuracy: 0.7793 - val_loss: 0.4995 - val_accuracy: 0.7778\n",
      "Epoch 13/500\n",
      "39/47 [=======================>......] - ETA: 0s - loss: 0.5018 - accuracy: 0.7752\n",
      "Epoch 13: val_loss did not improve from 0.49949\n",
      "47/47 [==============================] - 0s 6ms/step - loss: 0.5010 - accuracy: 0.7783 - val_loss: 0.5083 - val_accuracy: 0.7753\n",
      "Epoch 14/500\n",
      "37/47 [======================>.......] - ETA: 0s - loss: 0.4951 - accuracy: 0.7863\n",
      "Epoch 14: val_loss did not improve from 0.49949\n",
      "47/47 [==============================] - 0s 6ms/step - loss: 0.4929 - accuracy: 0.7869 - val_loss: 0.5032 - val_accuracy: 0.7768\n",
      "Epoch 15/500\n",
      "44/47 [===========================>..] - ETA: 0s - loss: 0.5130 - accuracy: 0.7689\n",
      "Epoch 15: val_loss did not improve from 0.49949\n",
      "47/47 [==============================] - 0s 6ms/step - loss: 0.5112 - accuracy: 0.7700 - val_loss: 0.5169 - val_accuracy: 0.7741\n",
      "Epoch 16/500\n",
      "35/47 [=====================>........] - ETA: 0s - loss: 0.5006 - accuracy: 0.7780\n",
      "Epoch 16: val_loss improved from 0.49949 to 0.49117, saving model to DNN_best_model_min-dR/\n",
      "INFO:tensorflow:Assets written to: DNN_best_model_min-dR/assets\n",
      "47/47 [==============================] - 1s 14ms/step - loss: 0.4939 - accuracy: 0.7826 - val_loss: 0.4912 - val_accuracy: 0.7819\n",
      "Epoch 17/500\n",
      "40/47 [========================>.....] - ETA: 0s - loss: 0.4855 - accuracy: 0.7869\n",
      "Epoch 17: val_loss did not improve from 0.49117\n",
      "47/47 [==============================] - 0s 6ms/step - loss: 0.4837 - accuracy: 0.7890 - val_loss: 0.4954 - val_accuracy: 0.7818\n",
      "Epoch 18/500\n",
      "44/47 [===========================>..] - ETA: 0s - loss: 0.4803 - accuracy: 0.7910\n",
      "Epoch 18: val_loss did not improve from 0.49117\n",
      "47/47 [==============================] - 0s 6ms/step - loss: 0.4803 - accuracy: 0.7915 - val_loss: 0.4955 - val_accuracy: 0.7766\n",
      "Epoch 19/500\n",
      "41/47 [=========================>....] - ETA: 0s - loss: 0.4982 - accuracy: 0.7800\n",
      "Epoch 19: val_loss did not improve from 0.49117\n",
      "47/47 [==============================] - 0s 6ms/step - loss: 0.4961 - accuracy: 0.7811 - val_loss: 0.5192 - val_accuracy: 0.7713\n",
      "Epoch 20/500\n",
      "36/47 [=====================>........] - ETA: 0s - loss: 0.4799 - accuracy: 0.7914\n",
      "Epoch 20: val_loss improved from 0.49117 to 0.48014, saving model to DNN_best_model_min-dR/\n",
      "INFO:tensorflow:Assets written to: DNN_best_model_min-dR/assets\n",
      "47/47 [==============================] - 1s 16ms/step - loss: 0.4794 - accuracy: 0.7908 - val_loss: 0.4801 - val_accuracy: 0.7858\n",
      "Epoch 21/500\n",
      "40/47 [========================>.....] - ETA: 0s - loss: 0.4757 - accuracy: 0.7921\n",
      "Epoch 21: val_loss did not improve from 0.48014\n",
      "47/47 [==============================] - 0s 6ms/step - loss: 0.4751 - accuracy: 0.7913 - val_loss: 0.4946 - val_accuracy: 0.7846\n",
      "Epoch 22/500\n",
      "44/47 [===========================>..] - ETA: 0s - loss: 0.4796 - accuracy: 0.7912\n",
      "Epoch 22: val_loss did not improve from 0.48014\n",
      "47/47 [==============================] - 0s 5ms/step - loss: 0.4808 - accuracy: 0.7902 - val_loss: 0.4834 - val_accuracy: 0.7864\n",
      "Epoch 23/500\n",
      "38/47 [=======================>......] - ETA: 0s - loss: 0.4724 - accuracy: 0.7937\n",
      "Epoch 23: val_loss did not improve from 0.48014\n",
      "47/47 [==============================] - 0s 6ms/step - loss: 0.4698 - accuracy: 0.7948 - val_loss: 0.4887 - val_accuracy: 0.7883\n",
      "Epoch 24/500\n",
      "32/47 [===================>..........] - ETA: 0s - loss: 0.4675 - accuracy: 0.7955\n",
      "Epoch 24: val_loss improved from 0.48014 to 0.47955, saving model to DNN_best_model_min-dR/\n",
      "INFO:tensorflow:Assets written to: DNN_best_model_min-dR/assets\n",
      "47/47 [==============================] - 1s 19ms/step - loss: 0.4695 - accuracy: 0.7950 - val_loss: 0.4796 - val_accuracy: 0.7841\n",
      "Epoch 25/500\n",
      "41/47 [=========================>....] - ETA: 0s - loss: 0.4620 - accuracy: 0.7980\n",
      "Epoch 25: val_loss improved from 0.47955 to 0.46474, saving model to DNN_best_model_min-dR/\n",
      "INFO:tensorflow:Assets written to: DNN_best_model_min-dR/assets\n",
      "47/47 [==============================] - 1s 16ms/step - loss: 0.4624 - accuracy: 0.7973 - val_loss: 0.4647 - val_accuracy: 0.7903\n",
      "Epoch 26/500\n"
     ]
    },
    {
     "name": "stdout",
     "output_type": "stream",
     "text": [
      "43/47 [==========================>...] - ETA: 0s - loss: 0.4571 - accuracy: 0.8005\n",
      "Epoch 26: val_loss did not improve from 0.46474\n",
      "47/47 [==============================] - 0s 5ms/step - loss: 0.4578 - accuracy: 0.7999 - val_loss: 0.4768 - val_accuracy: 0.7859\n",
      "Epoch 27/500\n",
      "37/47 [======================>.......] - ETA: 0s - loss: 0.4548 - accuracy: 0.8015\n",
      "Epoch 27: val_loss did not improve from 0.46474\n",
      "47/47 [==============================] - 0s 6ms/step - loss: 0.4565 - accuracy: 0.8017 - val_loss: 0.4665 - val_accuracy: 0.7936\n",
      "Epoch 28/500\n",
      "41/47 [=========================>....] - ETA: 0s - loss: 0.4598 - accuracy: 0.8004\n",
      "Epoch 28: val_loss did not improve from 0.46474\n",
      "47/47 [==============================] - 0s 6ms/step - loss: 0.4625 - accuracy: 0.7980 - val_loss: 0.4977 - val_accuracy: 0.7738\n",
      "Epoch 29/500\n",
      "47/47 [==============================] - ETA: 0s - loss: 0.4570 - accuracy: 0.7997\n",
      "Epoch 29: val_loss did not improve from 0.46474\n",
      "47/47 [==============================] - 0s 6ms/step - loss: 0.4570 - accuracy: 0.7997 - val_loss: 0.4820 - val_accuracy: 0.7911\n",
      "Epoch 30/500\n",
      "35/47 [=====================>........] - ETA: 0s - loss: 0.4507 - accuracy: 0.8021\n",
      "Epoch 30: val_loss improved from 0.46474 to 0.45641, saving model to DNN_best_model_min-dR/\n",
      "INFO:tensorflow:Assets written to: DNN_best_model_min-dR/assets\n",
      "47/47 [==============================] - 1s 12ms/step - loss: 0.4494 - accuracy: 0.8027 - val_loss: 0.4564 - val_accuracy: 0.7936\n",
      "Epoch 31/500\n",
      "42/47 [=========================>....] - ETA: 0s - loss: 0.4536 - accuracy: 0.8021\n",
      "Epoch 31: val_loss did not improve from 0.45641\n",
      "47/47 [==============================] - 0s 6ms/step - loss: 0.4530 - accuracy: 0.8026 - val_loss: 0.4793 - val_accuracy: 0.7919\n",
      "Epoch 32/500\n",
      "38/47 [=======================>......] - ETA: 0s - loss: 0.4465 - accuracy: 0.8027\n",
      "Epoch 32: val_loss did not improve from 0.45641\n",
      "47/47 [==============================] - 0s 5ms/step - loss: 0.4505 - accuracy: 0.8006 - val_loss: 0.5332 - val_accuracy: 0.7610\n",
      "Epoch 33/500\n",
      "38/47 [=======================>......] - ETA: 0s - loss: 0.4614 - accuracy: 0.8013\n",
      "Epoch 33: val_loss improved from 0.45641 to 0.44600, saving model to DNN_best_model_min-dR/\n",
      "INFO:tensorflow:Assets written to: DNN_best_model_min-dR/assets\n",
      "47/47 [==============================] - 1s 13ms/step - loss: 0.4567 - accuracy: 0.8035 - val_loss: 0.4460 - val_accuracy: 0.7977\n",
      "Epoch 34/500\n",
      "41/47 [=========================>....] - ETA: 0s - loss: 0.4438 - accuracy: 0.8071\n",
      "Epoch 34: val_loss did not improve from 0.44600\n",
      "47/47 [==============================] - 0s 6ms/step - loss: 0.4442 - accuracy: 0.8072 - val_loss: 0.4665 - val_accuracy: 0.7904\n",
      "Epoch 35/500\n",
      "38/47 [=======================>......] - ETA: 0s - loss: 0.4414 - accuracy: 0.8079\n",
      "Epoch 35: val_loss did not improve from 0.44600\n",
      "47/47 [==============================] - 0s 6ms/step - loss: 0.4411 - accuracy: 0.8090 - val_loss: 0.4534 - val_accuracy: 0.8044\n",
      "Epoch 36/500\n",
      "38/47 [=======================>......] - ETA: 0s - loss: 0.4320 - accuracy: 0.8118\n",
      "Epoch 36: val_loss did not improve from 0.44600\n",
      "47/47 [==============================] - 0s 5ms/step - loss: 0.4319 - accuracy: 0.8138 - val_loss: 0.4566 - val_accuracy: 0.8019\n",
      "Epoch 37/500\n",
      "39/47 [=======================>......] - ETA: 0s - loss: 0.4283 - accuracy: 0.8153\n",
      "Epoch 37: val_loss did not improve from 0.44600\n",
      "47/47 [==============================] - 0s 5ms/step - loss: 0.4342 - accuracy: 0.8125 - val_loss: 0.4481 - val_accuracy: 0.8032\n",
      "Epoch 38/500\n",
      "39/47 [=======================>......] - ETA: 0s - loss: 0.4324 - accuracy: 0.8120\n",
      "Epoch 38: val_loss did not improve from 0.44600\n",
      "47/47 [==============================] - 0s 6ms/step - loss: 0.4344 - accuracy: 0.8105 - val_loss: 0.4541 - val_accuracy: 0.7959\n",
      "Epoch 39/500\n",
      "33/47 [====================>.........] - ETA: 0s - loss: 0.4308 - accuracy: 0.8126\n",
      "Epoch 39: val_loss did not improve from 0.44600\n",
      "47/47 [==============================] - 0s 5ms/step - loss: 0.4299 - accuracy: 0.8145 - val_loss: 0.4460 - val_accuracy: 0.8042\n",
      "Epoch 40/500\n",
      "42/47 [=========================>....] - ETA: 0s - loss: 0.4267 - accuracy: 0.8145\n",
      "Epoch 40: val_loss improved from 0.44600 to 0.43564, saving model to DNN_best_model_min-dR/\n",
      "INFO:tensorflow:Assets written to: DNN_best_model_min-dR/assets\n",
      "47/47 [==============================] - 1s 13ms/step - loss: 0.4239 - accuracy: 0.8163 - val_loss: 0.4356 - val_accuracy: 0.8046\n",
      "Epoch 41/500\n",
      "43/47 [==========================>...] - ETA: 0s - loss: 0.4256 - accuracy: 0.8157\n",
      "Epoch 41: val_loss did not improve from 0.43564\n",
      "47/47 [==============================] - 0s 5ms/step - loss: 0.4260 - accuracy: 0.8166 - val_loss: 0.4534 - val_accuracy: 0.7903\n",
      "Epoch 42/500\n",
      "39/47 [=======================>......] - ETA: 0s - loss: 0.4328 - accuracy: 0.8132\n",
      "Epoch 42: val_loss improved from 0.43564 to 0.43337, saving model to DNN_best_model_min-dR/\n",
      "INFO:tensorflow:Assets written to: DNN_best_model_min-dR/assets\n",
      "47/47 [==============================] - 1s 15ms/step - loss: 0.4305 - accuracy: 0.8133 - val_loss: 0.4334 - val_accuracy: 0.8062\n",
      "Epoch 43/500\n",
      "40/47 [========================>.....] - ETA: 0s - loss: 0.4260 - accuracy: 0.8146\n",
      "Epoch 43: val_loss did not improve from 0.43337\n",
      "47/47 [==============================] - 0s 6ms/step - loss: 0.4232 - accuracy: 0.8167 - val_loss: 0.4445 - val_accuracy: 0.8081\n",
      "Epoch 44/500\n",
      "40/47 [========================>.....] - ETA: 0s - loss: 0.4306 - accuracy: 0.8097\n",
      "Epoch 44: val_loss improved from 0.43337 to 0.42829, saving model to DNN_best_model_min-dR/\n",
      "INFO:tensorflow:Assets written to: DNN_best_model_min-dR/assets\n",
      "47/47 [==============================] - 1s 14ms/step - loss: 0.4269 - accuracy: 0.8127 - val_loss: 0.4283 - val_accuracy: 0.8071\n",
      "Epoch 45/500\n",
      "46/47 [============================>.] - ETA: 0s - loss: 0.4266 - accuracy: 0.8122\n",
      "Epoch 45: val_loss did not improve from 0.42829\n",
      "47/47 [==============================] - 0s 5ms/step - loss: 0.4260 - accuracy: 0.8125 - val_loss: 0.4573 - val_accuracy: 0.8019\n",
      "Epoch 46/500\n",
      "34/47 [====================>.........] - ETA: 0s - loss: 0.4335 - accuracy: 0.8092\n",
      "Epoch 46: val_loss did not improve from 0.42829\n",
      "47/47 [==============================] - 0s 5ms/step - loss: 0.4285 - accuracy: 0.8132 - val_loss: 0.4357 - val_accuracy: 0.8054\n",
      "Epoch 47/500\n",
      "36/47 [=====================>........] - ETA: 0s - loss: 0.4123 - accuracy: 0.8212\n",
      "Epoch 47: val_loss improved from 0.42829 to 0.42245, saving model to DNN_best_model_min-dR/\n",
      "INFO:tensorflow:Assets written to: DNN_best_model_min-dR/assets\n",
      "47/47 [==============================] - 1s 15ms/step - loss: 0.4134 - accuracy: 0.8204 - val_loss: 0.4224 - val_accuracy: 0.8110\n",
      "Epoch 48/500\n",
      "42/47 [=========================>....] - ETA: 0s - loss: 0.4166 - accuracy: 0.8178\n",
      "Epoch 48: val_loss did not improve from 0.42245\n",
      "47/47 [==============================] - 0s 5ms/step - loss: 0.4157 - accuracy: 0.8180 - val_loss: 0.4295 - val_accuracy: 0.8125\n",
      "Epoch 49/500\n",
      "37/47 [======================>.......] - ETA: 0s - loss: 0.4114 - accuracy: 0.8221\n",
      "Epoch 49: val_loss did not improve from 0.42245\n",
      "47/47 [==============================] - 0s 6ms/step - loss: 0.4197 - accuracy: 0.8174 - val_loss: 0.4500 - val_accuracy: 0.7961\n",
      "Epoch 50/500\n",
      "37/47 [======================>.......] - ETA: 0s - loss: 0.4187 - accuracy: 0.8185\n",
      "Epoch 50: val_loss improved from 0.42245 to 0.42239, saving model to DNN_best_model_min-dR/\n",
      "INFO:tensorflow:Assets written to: DNN_best_model_min-dR/assets\n",
      "47/47 [==============================] - 1s 13ms/step - loss: 0.4204 - accuracy: 0.8184 - val_loss: 0.4224 - val_accuracy: 0.8109\n",
      "Epoch 51/500\n",
      "42/47 [=========================>....] - ETA: 0s - loss: 0.4107 - accuracy: 0.8213\n",
      "Epoch 51: val_loss did not improve from 0.42239\n",
      "47/47 [==============================] - 0s 5ms/step - loss: 0.4131 - accuracy: 0.8200 - val_loss: 0.4455 - val_accuracy: 0.7994\n",
      "Epoch 52/500\n",
      "39/47 [=======================>......] - ETA: 0s - loss: 0.4212 - accuracy: 0.8143\n",
      "Epoch 52: val_loss did not improve from 0.42239\n",
      "47/47 [==============================] - 0s 6ms/step - loss: 0.4213 - accuracy: 0.8148 - val_loss: 0.4383 - val_accuracy: 0.8072\n",
      "Epoch 53/500\n"
     ]
    },
    {
     "name": "stdout",
     "output_type": "stream",
     "text": [
      "37/47 [======================>.......] - ETA: 0s - loss: 0.4130 - accuracy: 0.8184\n",
      "Epoch 53: val_loss improved from 0.42239 to 0.41529, saving model to DNN_best_model_min-dR/\n",
      "INFO:tensorflow:Assets written to: DNN_best_model_min-dR/assets\n",
      "47/47 [==============================] - 1s 12ms/step - loss: 0.4126 - accuracy: 0.8189 - val_loss: 0.4153 - val_accuracy: 0.8120\n",
      "Epoch 54/500\n",
      "40/47 [========================>.....] - ETA: 0s - loss: 0.4100 - accuracy: 0.8198\n",
      "Epoch 54: val_loss did not improve from 0.41529\n",
      "47/47 [==============================] - 0s 6ms/step - loss: 0.4130 - accuracy: 0.8179 - val_loss: 0.4544 - val_accuracy: 0.7984\n",
      "Epoch 55/500\n",
      "37/47 [======================>.......] - ETA: 0s - loss: 0.4204 - accuracy: 0.8160\n",
      "Epoch 55: val_loss did not improve from 0.41529\n",
      "47/47 [==============================] - 0s 6ms/step - loss: 0.4166 - accuracy: 0.8185 - val_loss: 0.4199 - val_accuracy: 0.8139\n",
      "Epoch 56/500\n",
      "39/47 [=======================>......] - ETA: 0s - loss: 0.4021 - accuracy: 0.8274\n",
      "Epoch 56: val_loss improved from 0.41529 to 0.40965, saving model to DNN_best_model_min-dR/\n",
      "INFO:tensorflow:Assets written to: DNN_best_model_min-dR/assets\n",
      "47/47 [==============================] - 1s 15ms/step - loss: 0.4037 - accuracy: 0.8257 - val_loss: 0.4097 - val_accuracy: 0.8165\n",
      "Epoch 57/500\n",
      "40/47 [========================>.....] - ETA: 0s - loss: 0.4068 - accuracy: 0.8237\n",
      "Epoch 57: val_loss did not improve from 0.40965\n",
      "47/47 [==============================] - 0s 6ms/step - loss: 0.4091 - accuracy: 0.8222 - val_loss: 0.4187 - val_accuracy: 0.8120\n",
      "Epoch 58/500\n",
      "43/47 [==========================>...] - ETA: 0s - loss: 0.4060 - accuracy: 0.8210\n",
      "Epoch 58: val_loss did not improve from 0.40965\n",
      "47/47 [==============================] - 0s 5ms/step - loss: 0.4055 - accuracy: 0.8214 - val_loss: 0.4230 - val_accuracy: 0.8097\n",
      "Epoch 59/500\n",
      "38/47 [=======================>......] - ETA: 0s - loss: 0.4047 - accuracy: 0.8248\n",
      "Epoch 59: val_loss did not improve from 0.40965\n",
      "47/47 [==============================] - 0s 6ms/step - loss: 0.4061 - accuracy: 0.8237 - val_loss: 0.4377 - val_accuracy: 0.8034\n",
      "Epoch 60/500\n",
      "40/47 [========================>.....] - ETA: 0s - loss: 0.4100 - accuracy: 0.8200\n",
      "Epoch 60: val_loss did not improve from 0.40965\n",
      "47/47 [==============================] - 0s 7ms/step - loss: 0.4065 - accuracy: 0.8213 - val_loss: 0.4288 - val_accuracy: 0.8092\n",
      "Epoch 61/500\n",
      "41/47 [=========================>....] - ETA: 0s - loss: 0.3990 - accuracy: 0.8250\n",
      "Epoch 61: val_loss did not improve from 0.40965\n",
      "47/47 [==============================] - 0s 6ms/step - loss: 0.4016 - accuracy: 0.8235 - val_loss: 0.4212 - val_accuracy: 0.8122\n",
      "Epoch 62/500\n",
      "44/47 [===========================>..] - ETA: 0s - loss: 0.4038 - accuracy: 0.8223\n",
      "Epoch 62: val_loss did not improve from 0.40965\n",
      "47/47 [==============================] - 0s 5ms/step - loss: 0.4026 - accuracy: 0.8230 - val_loss: 0.4124 - val_accuracy: 0.8157\n",
      "Epoch 63/500\n",
      "40/47 [========================>.....] - ETA: 0s - loss: 0.3966 - accuracy: 0.8254\n",
      "Epoch 63: val_loss did not improve from 0.40965\n",
      "47/47 [==============================] - 0s 6ms/step - loss: 0.3992 - accuracy: 0.8235 - val_loss: 0.4607 - val_accuracy: 0.8002\n",
      "Epoch 64/500\n",
      "44/47 [===========================>..] - ETA: 0s - loss: 0.4148 - accuracy: 0.8163\n",
      "Epoch 64: val_loss did not improve from 0.40965\n",
      "47/47 [==============================] - 0s 6ms/step - loss: 0.4136 - accuracy: 0.8169 - val_loss: 0.4443 - val_accuracy: 0.8039\n",
      "Epoch 65/500\n",
      "40/47 [========================>.....] - ETA: 0s - loss: 0.4059 - accuracy: 0.8211\n",
      "Epoch 65: val_loss did not improve from 0.40965\n",
      "47/47 [==============================] - 0s 5ms/step - loss: 0.4045 - accuracy: 0.8225 - val_loss: 0.4207 - val_accuracy: 0.8147\n",
      "Epoch 66/500\n",
      "35/47 [=====================>........] - ETA: 0s - loss: 0.3959 - accuracy: 0.8261\n",
      "Epoch 66: val_loss did not improve from 0.40965\n",
      "47/47 [==============================] - 0s 5ms/step - loss: 0.3945 - accuracy: 0.8262 - val_loss: 0.4152 - val_accuracy: 0.8150\n",
      "Epoch 66: early stopping\n"
     ]
    }
   ],
   "source": [
    "model.compile(optimizer=tf.keras.optimizers.Adam(learning_rate), \n",
    "            loss=tf.keras.losses.CategoricalCrossentropy(from_logits=False),\n",
    "            metrics=['accuracy'])\n",
    "\n",
    "early_stopping = tf.keras.callbacks.EarlyStopping(monitor='val_loss', min_delta=min_delta, verbose=1, patience=patience)\n",
    "check_point    = tf.keras.callbacks.ModelCheckpoint(save_model_name, monitor='val_loss', verbose=1, save_best_only=True)\n",
    "\n",
    "history = model.fit(x=X_train, y=y_train, validation_split=0.2, epochs=train_epochs, batch_size=batch_size, callbacks=[early_stopping, check_point])"
   ]
  },
  {
   "cell_type": "markdown",
   "id": "5e79bedc",
   "metadata": {},
   "source": [
    "# Accuracy and loss curve"
   ]
  },
  {
   "cell_type": "code",
   "execution_count": 8,
   "id": "4931122d",
   "metadata": {},
   "outputs": [
    {
     "data": {
      "image/png": "[encoded data removed]",
      "text/plain": [
       "<Figure size 600x500 with 1 Axes>"
      ]
     },
     "metadata": {},
     "output_type": "display_data"
    },
    {
     "data": {
      "image/png": "[encoded data removed]",
      "text/plain": [
       "<Figure size 600x500 with 1 Axes>"
      ]
     },
     "metadata": {},
     "output_type": "display_data"
    }
   ],
   "source": [
    "fig, ax = plt.subplots(1,1, figsize=(6,5))\n",
    "\n",
    "x = range(len(history.history['loss']))\n",
    "y_train = history.history['loss']\n",
    "y_validation = history.history['val_loss']\n",
    "\n",
    "ax.plot(x, y_train, label='Training')\n",
    "ax.plot(x, y_validation, label='Validation')\n",
    "\n",
    "ax.set_title('Loss across training')\n",
    "ax.set_xlabel('Epoch')\n",
    "ax.set_ylabel('Loss (categorical cross-entropy)')\n",
    "ax.legend()\n",
    "plt.savefig(f'figures/loss_curve_DNN_{pairing_method}.png', facecolor='White', dpi=300, bbox_inches = 'tight')\n",
    "\n",
    "\n",
    "fig, ax = plt.subplots(1,1, figsize=(6,5))\n",
    "\n",
    "x = range(len(history.history['accuracy']))\n",
    "y_train = history.history['accuracy']\n",
    "y_validation = history.history['val_accuracy']\n",
    "\n",
    "ax.plot(x, y_train, label='Training')\n",
    "ax.plot(x, y_validation, label='Validation')\n",
    "\n",
    "ax.set_title('Accuracy across training')\n",
    "ax.set_xlabel('Epoch')\n",
    "ax.set_ylabel('Accuracy')\n",
    "ax.legend()\n",
    "plt.savefig(f'figures/accuracy_curve_DNN_{pairing_method}.png', facecolor='White', dpi=300, bbox_inches = 'tight')\n",
    "\n",
    "plt.show()"
   ]
  },
  {
   "cell_type": "markdown",
   "id": "cef1a6af",
   "metadata": {},
   "source": [
    "# Training results"
   ]
  },
  {
   "cell_type": "code",
   "execution_count": 9,
   "id": "67691cee",
   "metadata": {},
   "outputs": [],
   "source": [
    "save_model_name = f'DNN_best_model_{pairing_method}/'\n",
    "loaded_model = tf.keras.models.load_model(save_model_name)"
   ]
  },
  {
   "cell_type": "code",
   "execution_count": 10,
   "id": "abff64b8",
   "metadata": {},
   "outputs": [
    {
     "name": "stdout",
     "output_type": "stream",
     "text": [
      "235/235 [==============================] - 1s 3ms/step - loss: 0.4058 - accuracy: 0.8209\n",
      "Testing Loss = 0.406, Testing Accuracy = 0.821\n"
     ]
    }
   ],
   "source": [
    "results = loaded_model.evaluate(x=X_test, y=y_test)\n",
    "print(f'Testing Loss = {results[0]:.3}, Testing Accuracy = {results[1]:.3}')"
   ]
  },
  {
   "cell_type": "markdown",
   "id": "56d6db6c",
   "metadata": {},
   "source": [
    "## Plot ROC curve"
   ]
  },
  {
   "cell_type": "code",
   "execution_count": 11,
   "id": "edb64b92",
   "metadata": {},
   "outputs": [
    {
     "name": "stdout",
     "output_type": "stream",
     "text": [
      "235/235 [==============================] - 0s 1ms/step\n"
     ]
    }
   ],
   "source": [
    "labels = y_test\n",
    "\n",
    "predictions = loaded_model.predict(X_test)"
   ]
  },
  {
   "cell_type": "code",
   "execution_count": 12,
   "id": "5162ba0a",
   "metadata": {},
   "outputs": [
    {
     "name": "stdout",
     "output_type": "stream",
     "text": [
      "[[1. 0.]\n",
      " [1. 0.]\n",
      " [1. 0.]\n",
      " [1. 0.]\n",
      " [1. 0.]\n",
      " [0. 1.]\n",
      " [0. 1.]\n",
      " [0. 1.]\n",
      " [1. 0.]\n",
      " [0. 1.]]\n",
      "[[0.83592856 0.16407149]\n",
      " [0.71541137 0.28458866]\n",
      " [0.99805343 0.0019466 ]\n",
      " [0.9124232  0.08757684]\n",
      " [0.69094396 0.309056  ]\n",
      " [0.0757977  0.92420226]\n",
      " [0.45728517 0.5427149 ]\n",
      " [0.1696076  0.83039236]\n",
      " [0.9574669  0.04253304]\n",
      " [0.26861352 0.7313865 ]]\n",
      "[0 0 0 0 0 1 1 1 0 1]\n",
      "[[0.83592856 0.16407149]\n",
      " [0.71541137 0.28458866]\n",
      " [0.99805343 0.0019466 ]\n",
      " [0.9124232  0.08757684]\n",
      " [0.69094396 0.309056  ]\n",
      " [0.0757977  0.92420226]\n",
      " [0.45728517 0.5427149 ]\n",
      " [0.1696076  0.83039236]\n",
      " [0.9574669  0.04253304]\n",
      " [0.26861352 0.7313865 ]]\n"
     ]
    }
   ],
   "source": [
    "print(labels[:10])\n",
    "print(predictions[:10])\n",
    "\n",
    "y_test = np.argmax(labels, axis=1)\n",
    "y_prob = np.array(predictions)\n",
    "\n",
    "print(y_test[:10])\n",
    "print(y_prob[:10])"
   ]
  },
  {
   "cell_type": "code",
   "execution_count": 13,
   "id": "56947f48",
   "metadata": {},
   "outputs": [
    {
     "data": {
      "image/png": "[encoded data removed]",
      "text/plain": [
       "<Figure size 600x500 with 1 Axes>"
      ]
     },
     "metadata": {},
     "output_type": "display_data"
    }
   ],
   "source": [
    "fig, ax = plt.subplots(1,1, figsize=(6,5))\n",
    "\n",
    "i=1\n",
    "\n",
    "AUC = roc_auc_score(y_test==i,  y_prob[:,i])\n",
    "fpr, tpr, thresholds = roc_curve(y_test==i, y_prob[:,i])\n",
    "\n",
    "ax.plot(fpr, tpr, label = f'AUC = {AUC:.3f}')\n",
    "\n",
    "ax.set_title(f'ROC of DNN {pairing_method}')\n",
    "ax.set_xlabel('False Positive Rate')\n",
    "ax.set_ylabel('True Positive Rate')\n",
    "ax.legend()\n",
    "\n",
    "plt.savefig(f'figures/ROC_DNN_{pairing_method}.png', facecolor='White', dpi=300, bbox_inches = 'tight')\n",
    "plt.show()"
   ]
  },
  {
   "cell_type": "markdown",
   "id": "9a89a08b",
   "metadata": {},
   "source": [
    "# Write training results"
   ]
  },
  {
   "cell_type": "code",
   "execution_count": 31,
   "id": "43705617",
   "metadata": {},
   "outputs": [],
   "source": [
    "now = datetime.datetime.now()"
   ]
  },
  {
   "cell_type": "code",
   "execution_count": 32,
   "id": "445b979c",
   "metadata": {},
   "outputs": [],
   "source": [
    "file_name = 'DNN_training_results.csv'"
   ]
  },
  {
   "cell_type": "code",
   "execution_count": 33,
   "id": "38273e84",
   "metadata": {},
   "outputs": [],
   "source": [
    "data_dict = {'Pairing': [pairing_method],\n",
    "             'Signal': [X_s.shape[0]],\n",
    "             'Background': [X_b.shape[0]],\n",
    "             'ACC': [results[1]],\n",
    "             'AUC': [AUC],\n",
    "             'time': [now],\n",
    "            }"
   ]
  },
  {
   "cell_type": "code",
   "execution_count": 34,
   "id": "3034f722",
   "metadata": {},
   "outputs": [],
   "source": [
    "df = pd.DataFrame(data_dict)\n",
    "if os.path.isfile(file_name):\n",
    "    training_results_df = pd.read_csv(file_name)\n",
    "    pd.concat([training_results_df, df], ignore_index=True).to_csv(file_name, index=False)\n",
    "else:\n",
    "    df.to_csv(file_name, index=False)"
   ]
  },
  {
   "cell_type": "code",
   "execution_count": null,
   "id": "0c7c422d",
   "metadata": {},
   "outputs": [],
   "source": []
  }
 ],
 "metadata": {
  "kernelspec": {
   "display_name": "Python 3 (ipykernel)",
   "language": "python",
   "name": "python3"
  },
  "language_info": {
   "codemirror_mode": {
    "name": "ipython",
    "version": 3
   },
   "file_extension": ".py",
   "mimetype": "text/x-python",
   "name": "python",
   "nbconvert_exporter": "python",
   "pygments_lexer": "ipython3",
   "version": "3.8.13"
  }
 },
 "nbformat": 4,
 "nbformat_minor": 5
}
