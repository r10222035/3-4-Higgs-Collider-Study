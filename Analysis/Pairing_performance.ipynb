{
 "cells": [
  {
   "cell_type": "code",
   "execution_count": 1,
   "id": "544ab3fb-6d63-497f-85c6-d198a866dc54",
   "metadata": {},
   "outputs": [],
   "source": [
    "import os\n",
    "import re\n",
    "import h5py\n",
    "import numpy as np\n",
    "import itertools\n",
    "import matplotlib.pyplot as plt\n",
    "from tqdm import tqdm\n",
    "from scipy import interpolate"
   ]
  },
  {
   "cell_type": "code",
   "execution_count": 2,
   "id": "00451aaa-dcad-4fa1-b1ea-0869f293ed33",
   "metadata": {},
   "outputs": [],
   "source": [
    "def DeltaR(eta1, phi1, eta2, phi2):\n",
    "    dEta = eta1 - eta2\n",
    "    dPhi = np.abs(phi1 - phi2)\n",
    "    dPhi = np.where(dPhi > np.pi, 2 * np.pi - dPhi, dPhi)\n",
    "    return np.sqrt(dEta ** 2 + dPhi ** 2)\n",
    "\n",
    "def FourMomentum(pt, eta, phi, m):\n",
    "    px, py, pz = pt*np.cos(phi), pt*np.sin(phi), pt*np.sinh(eta)\n",
    "    e = np.sqrt(m**2 + px**2 + py**2 + pz**2)\n",
    "    return e, px, py, pz\n",
    "\n",
    "def PtEtaPhiM(px, py, pz, e):\n",
    "    E, px ,py, pz = e, px, py, pz  \n",
    "    P = np.sqrt(px**2 + py**2 + pz**2)\n",
    "    pt = np.sqrt(px**2 + py**2)\n",
    "    eta = 1./2.*np.log((P + pz)/(P - pz))\n",
    "    phi = np.arctan2(py, px)\n",
    "    m = np.sqrt(E**2 - px**2 - py**2 - pz**2)\n",
    "\n",
    "    return pt, eta, phi, m\n",
    "\n",
    "def InvM(e, px, py, pz):\n",
    "    return np.sqrt(e**2 - px**2 - py**2 - pz**2)"
   ]
  },
  {
   "cell_type": "code",
   "execution_count": 3,
   "id": "a973c2b2",
   "metadata": {},
   "outputs": [],
   "source": [
    "def get_info(path):\n",
    "    # path: run path\n",
    "    name = os.path.split(path)[1]\n",
    "\n",
    "    with open(os.path.join(path, f'{name}_tag_1_banner.txt')) as f:\n",
    "        for line in f.readlines():\n",
    "            match = re.match(' +10 (-?.*?) # khhh', line)\n",
    "            if match:\n",
    "                kappa = float(match.group(1))\n",
    "                \n",
    "            #  Integrated weight (pb)  :       0.020257\n",
    "            match = re.match('#  Integrated weight \\(pb\\)  : +(\\d+\\.\\d+)', line)\n",
    "            if match:\n",
    "                # unit: fb\n",
    "                cross_section = float(match.group(1)) * 1000\n",
    "            \n",
    "            #  Number of Events        :       100000\n",
    "            match = re.match('#  Number of Events        : +(\\d+)', line)\n",
    "            if match:\n",
    "                nevent = int(match.group(1))\n",
    "    \n",
    "    return kappa, cross_section, nevent"
   ]
  },
  {
   "cell_type": "code",
   "execution_count": 4,
   "id": "c60d3b62-77d7-45eb-88f0-87ed5433c950",
   "metadata": {},
   "outputs": [],
   "source": [
    "def all_pairs(lst):\n",
    "    if len(lst) < 2:\n",
    "        yield []\n",
    "        return\n",
    "    if len(lst) % 2 == 1:\n",
    "        # Handle odd length list\n",
    "        for i in range(len(lst)):\n",
    "            for result in all_pairs(lst[:i] + lst[i+1:]):\n",
    "                yield result\n",
    "    else:\n",
    "        a = lst[0]\n",
    "        for i in range(1,len(lst)):\n",
    "            pair = (a,lst[i])\n",
    "            for rest in all_pairs(lst[1:i]+lst[i+1:]):\n",
    "                yield [pair] + rest  "
   ]
  },
  {
   "cell_type": "code",
   "execution_count": 5,
   "id": "c53d07de-b349-4edd-8143-3d0c38403810",
   "metadata": {},
   "outputs": [],
   "source": [
    "def compare_jet_list_diHiggs(pair1, pair2, nh_max=2):\n",
    "    # 返回配對是否完全相同，有幾個 Higgs 相同\n",
    "    h1_true = {pair1[0],pair1[1]}\n",
    "    h2_true = {pair1[2],pair1[3]}\n",
    "    \n",
    "    h1_test = {pair2[0],pair2[1]}\n",
    "    h2_test = {pair2[2],pair2[3]}\n",
    "    \n",
    "    test_h = [h1_test, h2_test]\n",
    "    \n",
    "    nh = 0\n",
    "    for id1, id2 in itertools.permutations([0,1]):\n",
    "        h1 = test_h[id1]\n",
    "        h2 = test_h[id2]\n",
    "        if h1_true == h1:\n",
    "            nh = 1\n",
    "            if h2_true == h2:\n",
    "                nh = 2         \n",
    "                \n",
    "    same = True if nh==nh_max else False\n",
    "    return same, nh"
   ]
  },
  {
   "cell_type": "code",
   "execution_count": 6,
   "id": "ffbc8125-948c-4c37-b11c-0b55eaca815f",
   "metadata": {},
   "outputs": [],
   "source": [
    "def deltaR_condition(R1, R2, m4j):\n",
    "    # R1: Delta R of leading Higgs candidate\n",
    "    # R2: Delta R of sub-leading Higgs candidate\n",
    "    \n",
    "    if m4j < 1250:\n",
    "        if R1 > 653 / m4j + 0.475:\n",
    "            return False\n",
    "        if R1 < 360 / m4j - 0.5:\n",
    "            return False\n",
    "\n",
    "        if R2 > 875 / m4j + 0.35:\n",
    "            return False\n",
    "        if R2 < 235 / m4j:\n",
    "            return False      \n",
    "    else:\n",
    "        if R1 > 1:\n",
    "            return False\n",
    "        if R1 < 0:\n",
    "            return False\n",
    "\n",
    "        if R2 > 1:\n",
    "            return False\n",
    "        if R2 < 0:\n",
    "            return False\n",
    "    return True\n",
    "\n",
    "def DHH(m1, m2):\n",
    "    # m1: mass of leading Higgs candidate\n",
    "    # m2: mass of sub-leading Higgs candidate\n",
    "    \n",
    "    return abs(m1 - 120/110*m2) / (1 + (120/110)**2)**0.5\n",
    "\n",
    "def DHH_dR_method(PT, Eta, Phi, Mass):\n",
    "    # get the pairing by DeltaR method\n",
    "    # 已經過 preseleciton PT, Eta, Phi, Mass都只有4個jets的資料\n",
    "    \n",
    "    # Total invariant mass of 4 b-jets\n",
    "    e, px, py, pz = FourMomentum(PT, Eta, Phi, Mass)\n",
    "    m4j = InvM(np.sum(e), np.sum(px), np.sum(py), np.sum(pz))\n",
    "    \n",
    "    pairing = []\n",
    "    for (i1,i2), (i3,i4) in all_pairs([0,1,2,3]):\n",
    "        PT1 = PT[[i1,i2]]\n",
    "        PT2 = PT[[i3,i4]]\n",
    "        # sorted by PT scalar sum\n",
    "        if np.sum(PT1) < np.sum(PT2):\n",
    "            i1, i2, i3, i4 = i3, i4, i1, i2\n",
    "\n",
    "        PT1 = PT[[i1,i2]] \n",
    "        Eta1 = Eta[[i1,i2]]\n",
    "        Phi1 = Phi[[i1,i2]]\n",
    "        Mass1 = Mass[[i1,i2]]\n",
    "\n",
    "        e1, px1, py1, pz1 = FourMomentum(PT1, Eta1, Phi1, Mass1)\n",
    "        mH1 = InvM(np.sum(e1), np.sum(px1), np.sum(py1), np.sum(pz1))\n",
    "\n",
    "        PT2 = PT[[i3,i4]]\n",
    "        Eta2 = Eta[[i3,i4]]\n",
    "        Phi2 = Phi[[i3,i4]]\n",
    "        Mass2 = Mass[[i3,i4]]\n",
    "\n",
    "        e2, px2, py2, pz2 = FourMomentum(PT2, Eta2, Phi2, Mass2)\n",
    "        mH2 = InvM(np.sum(e2), np.sum(px2), np.sum(py2), np.sum(pz2))\n",
    "\n",
    "        dR1 = DeltaR(Eta1[0], Phi1[0], Eta1[1], Phi1[1])\n",
    "        dR2 = DeltaR(Eta2[0], Phi2[0], Eta2[1], Phi2[1])\n",
    "\n",
    "        if deltaR_condition(dR1, dR2, m4j):\n",
    "            d = DHH(mH1, mH2)\n",
    "            pairing.append([i1,i2,i3,i4, d])\n",
    "    \n",
    "    if len(pairing) == 0:\n",
    "        return pairing\n",
    "    \n",
    "    # choose the pairing with minimum DHH\n",
    "    h_candidate = pairing[0][0:4]\n",
    "    min_DHH = pairing[0][4]\n",
    "    for i1,i2,i3,i4, d in pairing:\n",
    "        if d < min_DHH:\n",
    "            min_DHH = d\n",
    "            h_candidate = [i1,i2,i3,i4]\n",
    "\n",
    "    return h_candidate\n",
    "\n",
    "def min_dR_method(PT, Eta, Phi, Mass):\n",
    "    # get h-jets pairing\n",
    "    # 已經過 preseleciton PT, Eta, Phi, Mass都只有4個jets的資料\n",
    "    # 配對結果由0123表示，0123代表第幾個jet\n",
    "    pairing = []\n",
    "    for (i1,i2), (i3,i4) in all_pairs([0,1,2,3]):\n",
    "\n",
    "        PT1 = PT[[i1,i2]] \n",
    "        Eta1 = Eta[[i1,i2]]\n",
    "        Phi1 = Phi[[i1,i2]]\n",
    "        Mass1 = Mass[[i1,i2]]\n",
    "        \n",
    "        e1, px1, py1, pz1 = FourMomentum(PT1, Eta1, Phi1, Mass1)\n",
    "        PTH1, EtaH1, PhiH1, _ = PtEtaPhiM(np.sum(px1), np.sum(py1), np.sum(pz1), np.sum(e1))\n",
    "\n",
    "        PT2 = PT[[i3,i4]]\n",
    "        Eta2 = Eta[[i3,i4]]\n",
    "        Phi2 = Phi[[i3,i4]]\n",
    "        Mass2 = Mass[[i3,i4]]\n",
    "\n",
    "        e2, px2, py2, pz2 = FourMomentum(PT2, Eta2, Phi2, Mass2)\n",
    "        PTH2, EtaH2, PhiH2, _ = PtEtaPhiM(np.sum(px2), np.sum(py2), np.sum(pz2), np.sum(e2))\n",
    "        \n",
    "        # sorted by PT vector sum\n",
    "        if PTH1 < PTH2:\n",
    "            i1, i2, i3, i4 = i3, i4, i1, i2\n",
    "            PTH1, EtaH1, PhiH1, PTH2, EtaH2, PhiH2 = PTH2, EtaH2, PhiH2, PTH1, EtaH1, PhiH1\n",
    "\n",
    "        dR1 = DeltaR(Eta1[0], Phi1[0], Eta1[1], Phi1[1])\n",
    "        pairing.append([i1,i2,i3,i4, dR1])\n",
    "    \n",
    "    h_candidate = pairing[0][0:4]\n",
    "    min_dR = pairing[0][4]\n",
    "    for i1,i2,i3,i4, dR in pairing:\n",
    "        if dR < min_dR:\n",
    "            min_dR = dR\n",
    "            h_candidate = [i1,i2,i3,i4]\n",
    "            \n",
    "    return h_candidate"
   ]
  },
  {
   "cell_type": "code",
   "execution_count": 7,
   "id": "31ab2b6d-0b07-4186-b0ad-facada1f5497",
   "metadata": {},
   "outputs": [],
   "source": [
    "def diHiggs_pairing_performance_HDF5(file_path, pairing_method, mass=None, nevent_max=100000):\n",
    "    # input file has jet matching data (未通過 SPANET)\n",
    "    with h5py.File(file_path, 'r') as f:\n",
    "        Eta_PT_BTag_count = 0\n",
    "        match_count = 0\n",
    "        \n",
    "        correct_selection_count = 0\n",
    "        wrong_selection_count = 0\n",
    "        correct_pair_count = 0\n",
    "        wrong_pair_count = 0\n",
    "\n",
    "#         cross_section = xection\n",
    "        \n",
    "        nevent = min(f['source/pt'].shape[0], nevent_max)\n",
    "\n",
    "        for event in tqdm(range(nevent)):\n",
    "\n",
    "            nj = f['source/mask'][event].sum()\n",
    "            jet_PT = f['source/pt'][event][:nj]\n",
    "            jet_Eta = f['source/eta'][event][:nj]\n",
    "            jet_Phi = f['source/phi'][event][:nj]\n",
    "            jet_Mass = f['source/mass'][event][:nj]\n",
    "            jet_BTag = f['source/btag'][event][:nj]\n",
    "            \n",
    "            # |eta| < 2.5 & PT > 40 GeV & b-tagged\n",
    "            eta_pt_bTag_cut = np.where((np.abs(jet_Eta) < 2.5) & (jet_PT > 40) & (jet_BTag))[0]\n",
    "\n",
    "            # >= 4 b-jet\n",
    "            if len(eta_pt_bTag_cut) < 4:\n",
    "                continue\n",
    "            Eta_PT_BTag_count += 1\n",
    "            \n",
    "            if not(f['h1/mask'][event] and f['h2/mask'][event]):\n",
    "                continue\n",
    "            match_count += 1\n",
    "            \n",
    "            # correct jet pairing\n",
    "            correct_pair = [f['h1/b1'][event], f['h1/b2'][event], \n",
    "                            f['h2/b1'][event], f['h2/b2'][event],]\n",
    "\n",
    "            # choose 4 highest pt b-jets\n",
    "            h_jets = eta_pt_bTag_cut[0:4]\n",
    "            \n",
    "            correct_selection = True\n",
    "            for j in correct_pair:\n",
    "                if j not in h_jets:\n",
    "                    correct_selection = False\n",
    "                    break\n",
    "                    \n",
    "            if not correct_selection:\n",
    "                wrong_selection_count += 1\n",
    "                continue\n",
    "            correct_selection_count += 1\n",
    "            \n",
    "            # PT Eta Phi Mass for preselection jets\n",
    "            PT = jet_PT[h_jets]\n",
    "            Eta = jet_Eta[h_jets]\n",
    "            Phi = jet_Phi[h_jets]\n",
    "            Mass = jet_Mass[h_jets]\n",
    "            \n",
    "            if pairing_method == 'min-dR':\n",
    "                h_pair = min_dR_method(PT, Eta, Phi, Mass)\n",
    "            elif pairing_method == 'DHH-dR':\n",
    "                h_pair = DHH_dR_method(PT, Eta, Phi, Mass)\n",
    "            else:\n",
    "                print('Wrong pairing method')\n",
    "        \n",
    "            if len(h_pair) == 0:\n",
    "                wrong_pair_count += 1\n",
    "                continue\n",
    "                    \n",
    "            same, _ = compare_jet_list_diHiggs(correct_pair, h_jets[h_pair])\n",
    "            \n",
    "            if same:\n",
    "                correct_pair_count += 1\n",
    "            else:\n",
    "                wrong_pair_count += 1\n",
    "   \n",
    "#         print(title)\n",
    "#         print(f'In {nevent} events')\n",
    "#         print(f'Cross section: {cross_section} fb')\n",
    "\n",
    "#         print('|eta| < 2.5, PT > 40 GeV for 4 b-jets:', Eta_PT_BTag_count, cross_section * Eta_PT_BTag_count / nevent)\n",
    "\n",
    "        result = {\n",
    "            'Mass': mass,\n",
    "            'nevent': nevent,\n",
    "            'Matching': match_count,\n",
    "            'correct selection': correct_selection_count,\n",
    "            'correct pair': correct_pair_count,\n",
    "            'wrong pair': wrong_pair_count,\n",
    "        }\n",
    "#         print(f'Total number of event with true pairing: {match_count}')\n",
    "#         print(f'Correct selection: {correct_selection_count} {correct_selection_count/match_count}')\n",
    "#         print(f'Correct pairing: {correct_pair_count} {correct_pair_count/correct_selection_count}')\n",
    "#         print(f'Pairing efficiency: {correct_pair_count} {correct_pair_count/match_count}')\n",
    "        return result"
   ]
  },
  {
   "cell_type": "code",
   "execution_count": 8,
   "id": "f99a686e",
   "metadata": {},
   "outputs": [],
   "source": [
    "def diHiggs_SPANET_pairing_performance(truth_file, predict_file, nevent_max=100000):\n",
    "    # truth file 未通過 SPANET，predict file 已通過 SPANET，\n",
    "    \n",
    "    with h5py.File(predict_file, 'r') as f, h5py.File(truth_file, 'r') as f_true:\n",
    "        \n",
    "        match_count = 0\n",
    "        \n",
    "        correct_selection_count = 0\n",
    "        wrong_selection_count = 0\n",
    "        correct_pair_count = 0\n",
    "        wrong_pair_count = 0\n",
    "        \n",
    "        nevent = min(f['source/pt'].shape[0], nevent_max)\n",
    "\n",
    "        for event in tqdm(range(nevent)):\n",
    "            \n",
    "            if not(f_true['h1/mask'][event] and f_true['h2/mask'][event]):\n",
    "                continue\n",
    "            match_count += 1\n",
    "            \n",
    "            # correct jet pairing\n",
    "            correct_pair = [f_true['h1/b1'][event], f_true['h1/b2'][event], \n",
    "                            f_true['h2/b1'][event], f_true['h2/b2'][event],]\n",
    "\n",
    "            # SPANET pairing results\n",
    "            h_jets = [f['h1/b1'][event], f['h1/b2'][event], \n",
    "                      f['h2/b1'][event], f['h2/b2'][event],]\n",
    "            \n",
    "            correct_selection = True\n",
    "            for j in correct_pair:\n",
    "                if j not in h_jets:\n",
    "                    correct_selection = False\n",
    "                    break\n",
    "                    \n",
    "            if not correct_selection:\n",
    "                wrong_selection_count += 1\n",
    "                continue\n",
    "            correct_selection_count += 1\n",
    "                    \n",
    "            same, _ = compare_jet_list_diHiggs(correct_pair, h_jets)\n",
    "            \n",
    "            if same:\n",
    "                correct_pair_count += 1\n",
    "            else:\n",
    "                wrong_pair_count += 1\n",
    "\n",
    "        result = {\n",
    "            'nevent': nevent,\n",
    "            'Matching': match_count,\n",
    "            'correct selection': correct_selection_count,\n",
    "            'correct pair': correct_pair_count,\n",
    "            'wrong pair': wrong_pair_count,\n",
    "        }\n",
    "\n",
    "        return result"
   ]
  },
  {
   "cell_type": "code",
   "execution_count": 9,
   "id": "9d1d5556",
   "metadata": {},
   "outputs": [],
   "source": [
    "def get_particle_mask(quarks_Jet, quarks_index):\n",
    "    # quarks_index: 粒子對應的夸克編號\n",
    "    # 若某粒子的 每個夸克都有對應到 jet 且 每個夸克對應的 jet 都沒有重複，則返回 true\n",
    "    mask = True\n",
    "    for i in quarks_index:\n",
    "        if quarks_Jet[i] == -1:\n",
    "            mask = False\n",
    "        else:\n",
    "            for j in range(len(quarks_Jet)):\n",
    "                if j == i: \n",
    "                    continue\n",
    "                if quarks_Jet[i] == quarks_Jet[j]: \n",
    "                    mask = False\n",
    "    return mask\n",
    "\n",
    "def get_particle_mask_vectorized(quarks_Jet, quarks_index):\n",
    "    # quarks_Jet: 夸克對應的jet編號, shape: (n_particles, n_jets)\n",
    "    # quarks_index: 粒子對應的夸克編號, shape: (n_quarks,)\n",
    "\n",
    "    # 檢查每個夸克是否有對應的 jet\n",
    "    particle_jet = np.take_along_axis(quarks_Jet, quarks_index[None,:], axis=1)\n",
    "    has_jet = particle_jet != -1\n",
    "\n",
    "    # 檢查粒子對應的jet是否只對應一個夸克\n",
    "    no_duplicate_jet = np.sum(quarks_Jet[:,None,:] == particle_jet[:,:,None], axis=2) == 1\n",
    "\n",
    "    # 如果每個夸克都有對應的 jet，並且每個 jet 都只對應一個夸克，則返回 True\n",
    "    return np.all(has_jet, axis=1) & np.all(no_duplicate_jet, axis=1)"
   ]
  },
  {
   "cell_type": "code",
   "execution_count": 10,
   "id": "ec1b6c7a",
   "metadata": {},
   "outputs": [],
   "source": [
    "def diHiggs_pairing_performance_new(file_path, pairing_method, mass=None, nevent_max=100000):\n",
    "    # input file has jet matching data (未通過 SPANET)，SPANET2的HDF5\n",
    "    with h5py.File(file_path, 'r') as f:\n",
    "        \n",
    "        match_count = np.zeros(11)\n",
    "        \n",
    "        correct_selection_count = np.zeros(11)\n",
    "        wrong_selection_count = np.zeros(11)\n",
    "        correct_pair_count = np.zeros(11)\n",
    "        wrong_pair_count = np.zeros(11)\n",
    "        \n",
    "        nevent = min(f['INPUTS/Source/pt'].shape[0], nevent_max)\n",
    "\n",
    "        for event in tqdm(range(nevent)):\n",
    "\n",
    "            nj = f['INPUTS/Source/MASK'][event].sum()\n",
    "            jet_PT = f['INPUTS/Source/pt'][event][:nj]\n",
    "            jet_Eta = f['INPUTS/Source/eta'][event][:nj]\n",
    "            jet_Phi = f['INPUTS/Source/phi'][event][:nj]\n",
    "            jet_Mass = f['INPUTS/Source/mass'][event][:nj]\n",
    "            jet_BTag = f['INPUTS/Source/btag'][event][:nj]\n",
    "            \n",
    "            # |eta| < 2.5 & PT > 40 GeV & b-tagged\n",
    "            eta_pt_bTag_cut = np.where((np.abs(jet_Eta) < 2.5) & (jet_PT > 40) & (jet_BTag))[0]\n",
    "\n",
    "            # correct jet pairing            \n",
    "            correct_pair = [f['TARGETS/h1/b1'][event],\n",
    "                            f['TARGETS/h1/b2'][event],\n",
    "                            f['TARGETS/h2/b1'][event],\n",
    "                            f['TARGETS/h2/b2'][event]]\n",
    "\n",
    "            h1_mask, h2_mask = get_particle_mask(correct_pair, (0,1)), get_particle_mask(correct_pair, (2,3)) \n",
    "            \n",
    "            if not(h1_mask and h2_mask):\n",
    "                continue\n",
    "            match_count[nj] += 1\n",
    "            \n",
    "\n",
    "            # choose 4 highest pt b-jets\n",
    "            h_jets = eta_pt_bTag_cut[0:4]\n",
    "            \n",
    "            correct_selection = True if set(correct_pair) == set(h_jets) else False\n",
    "            \n",
    "            if not correct_selection:\n",
    "                wrong_selection_count[nj] += 1\n",
    "                continue\n",
    "            correct_selection_count[nj] += 1\n",
    "            \n",
    "            # PT Eta Phi Mass for preselection jets\n",
    "            PT = jet_PT[h_jets]\n",
    "            Eta = jet_Eta[h_jets]\n",
    "            Phi = jet_Phi[h_jets]\n",
    "            Mass = jet_Mass[h_jets]\n",
    "            \n",
    "            if pairing_method == 'min-dR':\n",
    "                h_pair = min_dR_method(PT, Eta, Phi, Mass)\n",
    "            elif pairing_method == 'DHH-dR':\n",
    "                h_pair = DHH_dR_method(PT, Eta, Phi, Mass)\n",
    "            else:\n",
    "                print('Wrong pairing method')\n",
    "        \n",
    "            if len(h_pair) == 0:\n",
    "                wrong_pair_count[nj] += 1\n",
    "                continue\n",
    "            \n",
    "            same, _ = compare_jet_list_diHiggs(correct_pair, h_jets[h_pair])\n",
    "            \n",
    "            if same:\n",
    "                correct_pair_count[nj] += 1\n",
    "            else:\n",
    "                wrong_pair_count[nj] += 1\n",
    "\n",
    "        result = {\n",
    "            'Mass': mass,\n",
    "            'nevent': nevent,\n",
    "            'Matching': match_count,\n",
    "            'correct selection': correct_selection_count,\n",
    "            'correct pair': correct_pair_count,\n",
    "            'wrong pair': wrong_pair_count,\n",
    "        }\n",
    "        return result"
   ]
  },
  {
   "cell_type": "code",
   "execution_count": 11,
   "id": "4cfcc3f3",
   "metadata": {},
   "outputs": [],
   "source": [
    "def diHiggs_pairing_performance_SPANET2(truth_file, predict_file):\n",
    "    # SPANET2 的 HDF5\n",
    "    # truth file 未通過 SPANET 有正確的配對結果\n",
    "    # predict file 已通過 SPANET\n",
    "    \n",
    "    with h5py.File(predict_file, 'r') as f, h5py.File(truth_file, 'r') as f_true:\n",
    "\n",
    "        # true jet pairing            \n",
    "        true_pair = np.array([f_true['TARGETS/h1/b1'][...],\n",
    "                                f_true['TARGETS/h1/b2'][...],\n",
    "                                f_true['TARGETS/h2/b1'][...],\n",
    "                                f_true['TARGETS/h2/b2'][...]]).transpose()\n",
    "\n",
    "        # SPANET pairing results\n",
    "        h_pairs = np.array([f['TARGETS/h1/b1'][...],\n",
    "                            f['TARGETS/h1/b2'][...],\n",
    "                            f['TARGETS/h2/b1'][...],\n",
    "                            f['TARGETS/h2/b2'][...]]).transpose()\n",
    "        h_jets = h_pairs\n",
    " \n",
    "        nj = np.sum(f['INPUTS/Source/MASK'][...], axis=1)\n",
    "\n",
    "    h1_index, h2_index = np.array([0,1]), np.array([2,3])\n",
    "    h1_mask, h2_mask = get_particle_mask_vectorized(true_pair, h1_index), get_particle_mask_vectorized(true_pair, h2_index)\n",
    "\n",
    "    matching = np.logical_and(h1_mask, h2_mask)\n",
    "\n",
    "    correct_selection = np.array([np.intersect1d(true_pair[row], h_jets[row]).shape[0] for row in range(true_pair.shape[0])]) == 4\n",
    "    \n",
    "    correct_pairing = np.array([compare_jet_list_diHiggs(true_pair[row], h_pairs[row])[0] for row in range(true_pair.shape[0])])\n",
    "    \n",
    "    match_count = np.array([matching[nj == j].sum() for j in range(11)])\n",
    "    correct_selection_count = np.array([correct_selection[nj == j].sum() for j in range(11)])\n",
    "    correct_pair_count = np.array([correct_pairing[nj == j].sum() for j in range(11)])\n",
    "\n",
    "    wrong_pair_count = correct_selection_count - correct_pair_count\n",
    "\n",
    "    result = {\n",
    "        'nevent': nj.shape[0],\n",
    "        'Matching': match_count,\n",
    "        'correct selection': correct_selection_count,\n",
    "        'correct pair': correct_pair_count,\n",
    "        'wrong pair': wrong_pair_count,\n",
    "    }\n",
    "\n",
    "    return result"
   ]
  },
  {
   "cell_type": "markdown",
   "id": "32886f5c",
   "metadata": {},
   "source": [
    "# SPANet1"
   ]
  },
  {
   "cell_type": "code",
   "execution_count": 9,
   "id": "1972c7c0",
   "metadata": {},
   "outputs": [
    {
     "name": "stdout",
     "output_type": "stream",
     "text": [
      "(-10.0, 865.4300000000001, 100000)\n"
     ]
    },
    {
     "name": "stderr",
     "output_type": "stream",
     "text": [
      "100%|████████████████████████████████████████████████████████████████████████████████████████████████████████████████████████████████████████| 5628/5628 [00:17<00:00, 329.61it/s]\n"
     ]
    },
    {
     "name": "stdout",
     "output_type": "stream",
     "text": [
      "pp->hh\n",
      "In 5628 events\n",
      "Cross section: 293.14191131999996 fb\n",
      "|eta| < 2.5, PT > 40 GeV for 4 b-jets: 5628 293.14191131999996\n",
      "Total number of event with true pairing: 4288\n",
      "Correct selection: 3839 0.8952891791044776\n",
      "Correct pairing: 2665 0.6941911956238603\n",
      "Pairing efficiency: 2665 0.6215018656716418\n"
     ]
    },
    {
     "name": "stderr",
     "output_type": "stream",
     "text": [
      "100%|████████████████████████████████████████████████████████████████████████████████████████████████████████████████████████████████████████| 5628/5628 [00:15<00:00, 368.96it/s]\n"
     ]
    },
    {
     "name": "stdout",
     "output_type": "stream",
     "text": [
      "pp->hh\n",
      "In 5628 events\n",
      "Cross section: 293.14191131999996 fb\n",
      "|eta| < 2.5, PT > 40 GeV for 4 b-jets: 5628 293.14191131999996\n",
      "Total number of event with true pairing: 4288\n",
      "Correct selection: 3642 0.8493470149253731\n",
      "Correct pairing: 2712 0.7446457990115322\n",
      "Pairing efficiency: 2712 0.6324626865671642\n",
      "(-9.0, 734.02, 100000)\n"
     ]
    },
    {
     "name": "stderr",
     "output_type": "stream",
     "text": [
      "100%|████████████████████████████████████████████████████████████████████████████████████████████████████████████████████████████████████████| 5698/5698 [00:17<00:00, 322.93it/s]\n"
     ]
    },
    {
     "name": "stdout",
     "output_type": "stream",
     "text": [
      "pp->hh\n",
      "In 5698 events\n",
      "Cross section: 248.63019047999998 fb\n",
      "|eta| < 2.5, PT > 40 GeV for 4 b-jets: 5698 248.63019047999998\n",
      "Total number of event with true pairing: 4348\n",
      "Correct selection: 3908 0.8988040478380864\n",
      "Correct pairing: 2730 0.6985670419651996\n",
      "Pairing efficiency: 2730 0.6278748850045999\n"
     ]
    },
    {
     "name": "stderr",
     "output_type": "stream",
     "text": [
      "100%|████████████████████████████████████████████████████████████████████████████████████████████████████████████████████████████████████████| 5698/5698 [00:15<00:00, 363.41it/s]\n"
     ]
    },
    {
     "name": "stdout",
     "output_type": "stream",
     "text": [
      "pp->hh\n",
      "In 5698 events\n",
      "Cross section: 248.63019047999998 fb\n",
      "|eta| < 2.5, PT > 40 GeV for 4 b-jets: 5698 248.63019047999998\n",
      "Total number of event with true pairing: 4348\n",
      "Correct selection: 3654 0.8403863845446182\n",
      "Correct pairing: 2717 0.7435686918445539\n",
      "Pairing efficiency: 2717 0.624885004599816\n",
      "(-8.0, 612.39, 100000)\n"
     ]
    },
    {
     "name": "stderr",
     "output_type": "stream",
     "text": [
      "100%|████████████████████████████████████████████████████████████████████████████████████████████████████████████████████████████████████████| 5658/5658 [00:17<00:00, 326.05it/s]\n"
     ]
    },
    {
     "name": "stdout",
     "output_type": "stream",
     "text": [
      "pp->hh\n",
      "In 5658 events\n",
      "Cross section: 207.43119036 fb\n",
      "|eta| < 2.5, PT > 40 GeV for 4 b-jets: 5658 207.43119036\n",
      "Total number of event with true pairing: 4310\n",
      "Correct selection: 3876 0.8993039443155453\n",
      "Correct pairing: 2652 0.6842105263157895\n",
      "Pairing efficiency: 2652 0.6153132250580047\n"
     ]
    },
    {
     "name": "stderr",
     "output_type": "stream",
     "text": [
      "100%|████████████████████████████████████████████████████████████████████████████████████████████████████████████████████████████████████████| 5658/5658 [00:15<00:00, 374.32it/s]\n"
     ]
    },
    {
     "name": "stdout",
     "output_type": "stream",
     "text": [
      "pp->hh\n",
      "In 5658 events\n",
      "Cross section: 207.43119036 fb\n",
      "|eta| < 2.5, PT > 40 GeV for 4 b-jets: 5658 207.43119036\n",
      "Total number of event with true pairing: 4310\n",
      "Correct selection: 3615 0.8387470997679815\n",
      "Correct pairing: 2629 0.7272475795297372\n",
      "Pairing efficiency: 2629 0.6099767981438515\n",
      "(-7.0, 502.6, 100000)\n"
     ]
    },
    {
     "name": "stderr",
     "output_type": "stream",
     "text": [
      "100%|████████████████████████████████████████████████████████████████████████████████████████████████████████████████████████████████████████| 5699/5699 [00:17<00:00, 324.72it/s]\n"
     ]
    },
    {
     "name": "stdout",
     "output_type": "stream",
     "text": [
      "pp->hh\n",
      "In 5699 events\n",
      "Cross section: 170.24268239999998 fb\n",
      "|eta| < 2.5, PT > 40 GeV for 4 b-jets: 5699 170.24268239999998\n",
      "Total number of event with true pairing: 4374\n",
      "Correct selection: 3952 0.9035208047553727\n",
      "Correct pairing: 2781 0.7036943319838057\n",
      "Pairing efficiency: 2781 0.6358024691358025\n"
     ]
    },
    {
     "name": "stderr",
     "output_type": "stream",
     "text": [
      "100%|████████████████████████████████████████████████████████████████████████████████████████████████████████████████████████████████████████| 5699/5699 [00:15<00:00, 376.18it/s]\n"
     ]
    },
    {
     "name": "stdout",
     "output_type": "stream",
     "text": [
      "pp->hh\n",
      "In 5699 events\n",
      "Cross section: 170.24268239999998 fb\n",
      "|eta| < 2.5, PT > 40 GeV for 4 b-jets: 5699 170.24268239999998\n",
      "Total number of event with true pairing: 4374\n",
      "Correct selection: 3708 0.8477366255144033\n",
      "Correct pairing: 2797 0.7543149946062567\n",
      "Pairing efficiency: 2797 0.6394604481024234\n",
      "(-6.0, 403.62, 100000)\n"
     ]
    },
    {
     "name": "stderr",
     "output_type": "stream",
     "text": [
      "100%|████████████████████████████████████████████████████████████████████████████████████████████████████████████████████████████████████████| 5878/5878 [00:18<00:00, 319.14it/s]\n"
     ]
    },
    {
     "name": "stdout",
     "output_type": "stream",
     "text": [
      "pp->hh\n",
      "In 5878 events\n",
      "Cross section: 136.71578087999998 fb\n",
      "|eta| < 2.5, PT > 40 GeV for 4 b-jets: 5878 136.71578087999998\n",
      "Total number of event with true pairing: 4482\n",
      "Correct selection: 4054 0.9045069165551093\n",
      "Correct pairing: 2897 0.714602861371485\n",
      "Pairing efficiency: 2897 0.6463632307005801\n"
     ]
    },
    {
     "name": "stderr",
     "output_type": "stream",
     "text": [
      "100%|████████████████████████████████████████████████████████████████████████████████████████████████████████████████████████████████████████| 5878/5878 [00:15<00:00, 367.46it/s]\n"
     ]
    },
    {
     "name": "stdout",
     "output_type": "stream",
     "text": [
      "pp->hh\n",
      "In 5878 events\n",
      "Cross section: 136.71578087999998 fb\n",
      "|eta| < 2.5, PT > 40 GeV for 4 b-jets: 5878 136.71578087999998\n",
      "Total number of event with true pairing: 4482\n",
      "Correct selection: 3823 0.8529674252565819\n",
      "Correct pairing: 2935 0.7677216845409365\n",
      "Pairing efficiency: 2935 0.6548415885765283\n",
      "(-5.0, 316.29, 100000)\n"
     ]
    },
    {
     "name": "stderr",
     "output_type": "stream",
     "text": [
      "100%|████████████████████████████████████████████████████████████████████████████████████████████████████████████████████████████████████████| 5905/5905 [00:18<00:00, 324.58it/s]\n"
     ]
    },
    {
     "name": "stdout",
     "output_type": "stream",
     "text": [
      "pp->hh\n",
      "In 5905 events\n",
      "Cross section: 107.13501396 fb\n",
      "|eta| < 2.5, PT > 40 GeV for 4 b-jets: 5905 107.13501396000001\n",
      "Total number of event with true pairing: 4503\n",
      "Correct selection: 4033 0.895625138796358\n",
      "Correct pairing: 2901 0.7193156459211505\n",
      "Pairing efficiency: 2901 0.6442371752165224\n"
     ]
    },
    {
     "name": "stderr",
     "output_type": "stream",
     "text": [
      "100%|████████████████████████████████████████████████████████████████████████████████████████████████████████████████████████████████████████| 5905/5905 [00:15<00:00, 378.65it/s]\n"
     ]
    },
    {
     "name": "stdout",
     "output_type": "stream",
     "text": [
      "pp->hh\n",
      "In 5905 events\n",
      "Cross section: 107.13501396 fb\n",
      "|eta| < 2.5, PT > 40 GeV for 4 b-jets: 5905 107.13501396000001\n",
      "Total number of event with true pairing: 4503\n",
      "Correct selection: 3831 0.8507661558960693\n",
      "Correct pairing: 2943 0.7682067345340642\n",
      "Pairing efficiency: 2943 0.653564290473018\n",
      "(-4.0, 239.21, 100000)\n"
     ]
    },
    {
     "name": "stderr",
     "output_type": "stream",
     "text": [
      "100%|████████████████████████████████████████████████████████████████████████████████████████████████████████████████████████████████████████| 6047/6047 [00:18<00:00, 326.67it/s]\n"
     ]
    },
    {
     "name": "stdout",
     "output_type": "stream",
     "text": [
      "pp->hh\n",
      "In 6047 events\n",
      "Cross section: 81.02616803999999 fb\n",
      "|eta| < 2.5, PT > 40 GeV for 4 b-jets: 6047 81.02616803999999\n",
      "Total number of event with true pairing: 4592\n",
      "Correct selection: 4141 0.9017857142857143\n",
      "Correct pairing: 3065 0.7401593817918377\n",
      "Pairing efficiency: 3065 0.6674651567944251\n"
     ]
    },
    {
     "name": "stderr",
     "output_type": "stream",
     "text": [
      "100%|████████████████████████████████████████████████████████████████████████████████████████████████████████████████████████████████████████| 6047/6047 [00:16<00:00, 370.24it/s]\n"
     ]
    },
    {
     "name": "stdout",
     "output_type": "stream",
     "text": [
      "pp->hh\n",
      "In 6047 events\n",
      "Cross section: 81.02616803999999 fb\n",
      "|eta| < 2.5, PT > 40 GeV for 4 b-jets: 6047 81.02616803999999\n",
      "Total number of event with true pairing: 4592\n",
      "Correct selection: 3920 0.8536585365853658\n",
      "Correct pairing: 3063 0.7813775510204082\n",
      "Pairing efficiency: 3063 0.6670296167247387\n",
      "(-3.0, 173.11, 100000)\n"
     ]
    },
    {
     "name": "stderr",
     "output_type": "stream",
     "text": [
      "100%|████████████████████████████████████████████████████████████████████████████████████████████████████████████████████████████████████████| 6234/6234 [00:19<00:00, 323.89it/s]\n"
     ]
    },
    {
     "name": "stdout",
     "output_type": "stream",
     "text": [
      "pp->hh\n",
      "In 6234 events\n",
      "Cross section: 58.63651164 fb\n",
      "|eta| < 2.5, PT > 40 GeV for 4 b-jets: 6234 58.63651164\n",
      "Total number of event with true pairing: 4802\n",
      "Correct selection: 4315 0.8985839233652645\n",
      "Correct pairing: 3218 0.7457705677867903\n",
      "Pairing efficiency: 3218 0.6701374427321949\n"
     ]
    },
    {
     "name": "stderr",
     "output_type": "stream",
     "text": [
      "100%|████████████████████████████████████████████████████████████████████████████████████████████████████████████████████████████████████████| 6234/6234 [00:16<00:00, 377.70it/s]\n"
     ]
    },
    {
     "name": "stdout",
     "output_type": "stream",
     "text": [
      "pp->hh\n",
      "In 6234 events\n",
      "Cross section: 58.63651164 fb\n",
      "|eta| < 2.5, PT > 40 GeV for 4 b-jets: 6234 58.63651164\n",
      "Total number of event with true pairing: 4802\n",
      "Correct selection: 4046 0.8425655976676385\n",
      "Correct pairing: 3229 0.7980721700444884\n",
      "Pairing efficiency: 3229 0.6724281549354436\n",
      "(-2.0, 118.59, 100000)\n"
     ]
    },
    {
     "name": "stderr",
     "output_type": "stream",
     "text": [
      "100%|████████████████████████████████████████████████████████████████████████████████████████████████████████████████████████████████████████| 6488/6488 [00:20<00:00, 323.09it/s]\n"
     ]
    },
    {
     "name": "stdout",
     "output_type": "stream",
     "text": [
      "pp->hh\n",
      "In 6488 events\n",
      "Cross section: 40.169279159999995 fb\n",
      "|eta| < 2.5, PT > 40 GeV for 4 b-jets: 6488 40.169279159999995\n",
      "Total number of event with true pairing: 4985\n",
      "Correct selection: 4458 0.8942828485456369\n",
      "Correct pairing: 3487 0.7821893225661731\n",
      "Pairing efficiency: 3487 0.6994984954864594\n"
     ]
    },
    {
     "name": "stderr",
     "output_type": "stream",
     "text": [
      "100%|████████████████████████████████████████████████████████████████████████████████████████████████████████████████████████████████████████| 6488/6488 [00:17<00:00, 375.13it/s]\n"
     ]
    },
    {
     "name": "stdout",
     "output_type": "stream",
     "text": [
      "pp->hh\n",
      "In 6488 events\n",
      "Cross section: 40.169279159999995 fb\n",
      "|eta| < 2.5, PT > 40 GeV for 4 b-jets: 6488 40.169279159999995\n",
      "Total number of event with true pairing: 4985\n",
      "Correct selection: 4246 0.8517552657973921\n",
      "Correct pairing: 3492 0.8224211022138483\n",
      "Pairing efficiency: 3492 0.7005015045135407\n",
      "(-1.0, 74.776, 100000)\n"
     ]
    },
    {
     "name": "stderr",
     "output_type": "stream",
     "text": [
      "100%|████████████████████████████████████████████████████████████████████████████████████████████████████████████████████████████████████████| 6770/6770 [00:21<00:00, 320.28it/s]\n"
     ]
    },
    {
     "name": "stdout",
     "output_type": "stream",
     "text": [
      "pp->hh\n",
      "In 6770 events\n",
      "Cross section: 25.328425823999996 fb\n",
      "|eta| < 2.5, PT > 40 GeV for 4 b-jets: 6770 25.328425823999996\n",
      "Total number of event with true pairing: 5252\n",
      "Correct selection: 4711 0.896991622239147\n",
      "Correct pairing: 3773 0.8008915304606241\n",
      "Pairing efficiency: 3773 0.7183929931454683\n"
     ]
    },
    {
     "name": "stderr",
     "output_type": "stream",
     "text": [
      "100%|████████████████████████████████████████████████████████████████████████████████████████████████████████████████████████████████████████| 6770/6770 [00:17<00:00, 382.95it/s]\n"
     ]
    },
    {
     "name": "stdout",
     "output_type": "stream",
     "text": [
      "pp->hh\n",
      "In 6770 events\n",
      "Cross section: 25.328425823999996 fb\n",
      "|eta| < 2.5, PT > 40 GeV for 4 b-jets: 6770 25.328425823999996\n",
      "Total number of event with true pairing: 5252\n",
      "Correct selection: 4467 0.8505331302361006\n",
      "Correct pairing: 3783 0.8468770987239759\n",
      "Pairing efficiency: 3783 0.7202970297029703\n",
      "(0.0, 42.007999999999996, 100000)\n"
     ]
    },
    {
     "name": "stderr",
     "output_type": "stream",
     "text": [
      "100%|████████████████████████████████████████████████████████████████████████████████████████████████████████████████████████████████████████| 7283/7283 [00:21<00:00, 335.33it/s]\n"
     ]
    },
    {
     "name": "stdout",
     "output_type": "stream",
     "text": [
      "pp->hh\n",
      "In 7283 events\n",
      "Cross section: 14.229117791999997 fb\n",
      "|eta| < 2.5, PT > 40 GeV for 4 b-jets: 7283 14.229117791999997\n",
      "Total number of event with true pairing: 5643\n",
      "Correct selection: 5008 0.887471203260677\n",
      "Correct pairing: 4278 0.8542332268370607\n",
      "Pairing efficiency: 4278 0.7581073896863371\n"
     ]
    },
    {
     "name": "stderr",
     "output_type": "stream",
     "text": [
      "100%|████████████████████████████████████████████████████████████████████████████████████████████████████████████████████████████████████████| 7283/7283 [00:19<00:00, 382.45it/s]\n"
     ]
    },
    {
     "name": "stdout",
     "output_type": "stream",
     "text": [
      "pp->hh\n",
      "In 7283 events\n",
      "Cross section: 14.229117791999997 fb\n",
      "|eta| < 2.5, PT > 40 GeV for 4 b-jets: 7283 14.229117791999997\n",
      "Total number of event with true pairing: 5643\n",
      "Correct selection: 4796 0.8499025341130604\n",
      "Correct pairing: 4312 0.8990825688073395\n",
      "Pairing efficiency: 4312 0.7641325536062378\n",
      "(1.0, 20.251, 100000)\n"
     ]
    },
    {
     "name": "stderr",
     "output_type": "stream",
     "text": [
      "100%|████████████████████████████████████████████████████████████████████████████████████████████████████████████████████████████████████████| 8479/8479 [00:25<00:00, 333.39it/s]\n"
     ]
    },
    {
     "name": "stdout",
     "output_type": "stream",
     "text": [
      "pp->hh\n",
      "In 8479 events\n",
      "Cross section: 6.859499724 fb\n",
      "|eta| < 2.5, PT > 40 GeV for 4 b-jets: 8479 6.859499724\n",
      "Total number of event with true pairing: 6715\n",
      "Correct selection: 5969 0.8889054355919583\n",
      "Correct pairing: 5435 0.9105377785223655\n",
      "Pairing efficiency: 5435 0.8093819806403574\n"
     ]
    },
    {
     "name": "stderr",
     "output_type": "stream",
     "text": [
      "100%|████████████████████████████████████████████████████████████████████████████████████████████████████████████████████████████████████████| 8479/8479 [00:22<00:00, 373.70it/s]\n"
     ]
    },
    {
     "name": "stdout",
     "output_type": "stream",
     "text": [
      "pp->hh\n",
      "In 8479 events\n",
      "Cross section: 6.859499724 fb\n",
      "|eta| < 2.5, PT > 40 GeV for 4 b-jets: 8479 6.859499724\n",
      "Total number of event with true pairing: 6715\n",
      "Correct selection: 5741 0.854951600893522\n",
      "Correct pairing: 5439 0.9473959240550427\n",
      "Pairing efficiency: 5439 0.8099776619508563\n",
      "(2.0, 9.519599999999999, 100000)\n"
     ]
    },
    {
     "name": "stderr",
     "output_type": "stream",
     "text": [
      "100%|████████████████████████████████████████████████████████████████████████████████████████████████████████████████████████████████████████| 9382/9382 [00:28<00:00, 327.74it/s]\n"
     ]
    },
    {
     "name": "stdout",
     "output_type": "stream",
     "text": [
      "pp->hh\n",
      "In 9382 events\n",
      "Cross section: 3.2245169903999993 fb\n",
      "|eta| < 2.5, PT > 40 GeV for 4 b-jets: 9382 3.2245169903999993\n",
      "Total number of event with true pairing: 7470\n",
      "Correct selection: 6641 0.8890227576974565\n",
      "Correct pairing: 6220 0.9366059328414396\n",
      "Pairing efficiency: 6220 0.8326639892904953\n"
     ]
    },
    {
     "name": "stderr",
     "output_type": "stream",
     "text": [
      "100%|████████████████████████████████████████████████████████████████████████████████████████████████████████████████████████████████████████| 9382/9382 [00:25<00:00, 368.38it/s]\n"
     ]
    },
    {
     "name": "stdout",
     "output_type": "stream",
     "text": [
      "pp->hh\n",
      "In 9382 events\n",
      "Cross section: 3.2245169903999993 fb\n",
      "|eta| < 2.5, PT > 40 GeV for 4 b-jets: 9382 3.2245169903999993\n",
      "Total number of event with true pairing: 7470\n",
      "Correct selection: 6326 0.8468540829986613\n",
      "Correct pairing: 6084 0.9617451786278849\n",
      "Pairing efficiency: 6084 0.8144578313253013\n",
      "(3.0, 9.818900000000001, 100000)\n"
     ]
    },
    {
     "name": "stderr",
     "output_type": "stream",
     "text": [
      "100%|████████████████████████████████████████████████████████████████████████████████████████████████████████████████████████████████████████| 6615/6615 [00:20<00:00, 323.89it/s]\n"
     ]
    },
    {
     "name": "stdout",
     "output_type": "stream",
     "text": [
      "pp->hh\n",
      "In 6615 events\n",
      "Cross section: 3.3258970836 fb\n",
      "|eta| < 2.5, PT > 40 GeV for 4 b-jets: 6615 3.3258970836\n",
      "Total number of event with true pairing: 5300\n",
      "Correct selection: 4755 0.8971698113207547\n",
      "Correct pairing: 3448 0.7251314405888538\n",
      "Pairing efficiency: 3448 0.6505660377358491\n"
     ]
    },
    {
     "name": "stderr",
     "output_type": "stream",
     "text": [
      "100%|████████████████████████████████████████████████████████████████████████████████████████████████████████████████████████████████████████| 6615/6615 [00:18<00:00, 365.34it/s]\n"
     ]
    },
    {
     "name": "stdout",
     "output_type": "stream",
     "text": [
      "pp->hh\n",
      "In 6615 events\n",
      "Cross section: 3.3258970836 fb\n",
      "|eta| < 2.5, PT > 40 GeV for 4 b-jets: 6615 3.3258970836\n",
      "Total number of event with true pairing: 5300\n",
      "Correct selection: 4344 0.819622641509434\n",
      "Correct pairing: 3245 0.7470073664825047\n",
      "Pairing efficiency: 3245 0.6122641509433963\n",
      "(4.0, 21.144, 100000)\n"
     ]
    },
    {
     "name": "stderr",
     "output_type": "stream",
     "text": [
      "100%|████████████████████████████████████████████████████████████████████████████████████████████████████████████████████████████████████████| 4657/4657 [00:14<00:00, 330.69it/s]\n"
     ]
    },
    {
     "name": "stdout",
     "output_type": "stream",
     "text": [
      "pp->hh\n",
      "In 4657 events\n",
      "Cross section: 7.161980255999999 fb\n",
      "|eta| < 2.5, PT > 40 GeV for 4 b-jets: 4657 7.161980255999998\n",
      "Total number of event with true pairing: 3578\n",
      "Correct selection: 3265 0.9125209614309671\n",
      "Correct pairing: 1549 0.4744257274119449\n",
      "Pairing efficiency: 1549 0.4329234209055338\n"
     ]
    },
    {
     "name": "stderr",
     "output_type": "stream",
     "text": [
      "100%|████████████████████████████████████████████████████████████████████████████████████████████████████████████████████████████████████████| 4657/4657 [00:12<00:00, 377.27it/s]\n"
     ]
    },
    {
     "name": "stdout",
     "output_type": "stream",
     "text": [
      "pp->hh\n",
      "In 4657 events\n",
      "Cross section: 7.161980255999999 fb\n",
      "|eta| < 2.5, PT > 40 GeV for 4 b-jets: 4657 7.161980255999998\n",
      "Total number of event with true pairing: 3578\n",
      "Correct selection: 2917 0.8152599217439911\n",
      "Correct pairing: 1391 0.4768597874528625\n",
      "Pairing efficiency: 1391 0.38876467300167694\n",
      "(5.0, 43.476, 100000)\n"
     ]
    },
    {
     "name": "stderr",
     "output_type": "stream",
     "text": [
      "100%|████████████████████████████████████████████████████████████████████████████████████████████████████████████████████████████████████████| 4273/4273 [00:12<00:00, 330.83it/s]\n"
     ]
    },
    {
     "name": "stdout",
     "output_type": "stream",
     "text": [
      "pp->hh\n",
      "In 4273 events\n",
      "Cross section: 14.726364623999999 fb\n",
      "|eta| < 2.5, PT > 40 GeV for 4 b-jets: 4273 14.726364623999999\n",
      "Total number of event with true pairing: 3267\n",
      "Correct selection: 2941 0.9002142638506275\n",
      "Correct pairing: 1289 0.4382862971778307\n",
      "Pairing efficiency: 1289 0.3945515763697582\n"
     ]
    },
    {
     "name": "stderr",
     "output_type": "stream",
     "text": [
      "100%|████████████████████████████████████████████████████████████████████████████████████████████████████████████████████████████████████████| 4273/4273 [00:11<00:00, 375.92it/s]\n"
     ]
    },
    {
     "name": "stdout",
     "output_type": "stream",
     "text": [
      "pp->hh\n",
      "In 4273 events\n",
      "Cross section: 14.726364623999999 fb\n",
      "|eta| < 2.5, PT > 40 GeV for 4 b-jets: 4273 14.726364623999999\n",
      "Total number of event with true pairing: 3267\n",
      "Correct selection: 2632 0.8056320783593511\n",
      "Correct pairing: 1209 0.4593465045592705\n",
      "Pairing efficiency: 1209 0.37006427915518825\n",
      "(6.0, 76.793, 100000)\n"
     ]
    },
    {
     "name": "stderr",
     "output_type": "stream",
     "text": [
      "100%|████████████████████████████████████████████████████████████████████████████████████████████████████████████████████████████████████████| 4380/4380 [00:13<00:00, 321.27it/s]\n"
     ]
    },
    {
     "name": "stdout",
     "output_type": "stream",
     "text": [
      "pp->hh\n",
      "In 4380 events\n",
      "Cross section: 26.011632132 fb\n",
      "|eta| < 2.5, PT > 40 GeV for 4 b-jets: 4380 26.011632132\n",
      "Total number of event with true pairing: 3328\n",
      "Correct selection: 3002 0.9020432692307693\n",
      "Correct pairing: 1388 0.46235842771485675\n",
      "Pairing efficiency: 1388 0.4170673076923077\n"
     ]
    },
    {
     "name": "stderr",
     "output_type": "stream",
     "text": [
      "100%|████████████████████████████████████████████████████████████████████████████████████████████████████████████████████████████████████████| 4380/4380 [00:11<00:00, 366.89it/s]\n"
     ]
    },
    {
     "name": "stdout",
     "output_type": "stream",
     "text": [
      "pp->hh\n",
      "In 4380 events\n",
      "Cross section: 26.011632132 fb\n",
      "|eta| < 2.5, PT > 40 GeV for 4 b-jets: 4380 26.011632132\n",
      "Total number of event with true pairing: 3328\n",
      "Correct selection: 2725 0.8188100961538461\n",
      "Correct pairing: 1339 0.49137614678899083\n",
      "Pairing efficiency: 1339 0.40234375\n",
      "(7.0, 121.21, 100000)\n"
     ]
    },
    {
     "name": "stderr",
     "output_type": "stream",
     "text": [
      "100%|████████████████████████████████████████████████████████████████████████████████████████████████████████████████████████████████████████| 4517/4517 [00:13<00:00, 329.30it/s]\n"
     ]
    },
    {
     "name": "stdout",
     "output_type": "stream",
     "text": [
      "pp->hh\n",
      "In 4517 events\n",
      "Cross section: 41.05673604 fb\n",
      "|eta| < 2.5, PT > 40 GeV for 4 b-jets: 4517 41.05673604\n",
      "Total number of event with true pairing: 3409\n",
      "Correct selection: 3085 0.9049574655324142\n",
      "Correct pairing: 1497 0.48525121555915723\n",
      "Pairing efficiency: 1497 0.4391317101789381\n"
     ]
    },
    {
     "name": "stderr",
     "output_type": "stream",
     "text": [
      "100%|████████████████████████████████████████████████████████████████████████████████████████████████████████████████████████████████████████| 4517/4517 [00:11<00:00, 379.53it/s]\n"
     ]
    },
    {
     "name": "stdout",
     "output_type": "stream",
     "text": [
      "pp->hh\n",
      "In 4517 events\n",
      "Cross section: 41.05673604 fb\n",
      "|eta| < 2.5, PT > 40 GeV for 4 b-jets: 4517 41.05673604\n",
      "Total number of event with true pairing: 3409\n",
      "Correct selection: 2786 0.8172484599589322\n",
      "Correct pairing: 1467 0.5265613783201722\n",
      "Pairing efficiency: 1467 0.43033147550601347\n",
      "(8.0, 176.6, 100000)\n"
     ]
    },
    {
     "name": "stderr",
     "output_type": "stream",
     "text": [
      "100%|████████████████████████████████████████████████████████████████████████████████████████████████████████████████████████████████████████| 4605/4605 [00:14<00:00, 328.78it/s]\n"
     ]
    },
    {
     "name": "stdout",
     "output_type": "stream",
     "text": [
      "pp->hh\n",
      "In 4605 events\n",
      "Cross section: 59.81865839999999 fb\n",
      "|eta| < 2.5, PT > 40 GeV for 4 b-jets: 4605 59.81865839999999\n",
      "Total number of event with true pairing: 3516\n",
      "Correct selection: 3172 0.9021615472127418\n",
      "Correct pairing: 1583 0.4990542244640605\n",
      "Pairing efficiency: 1583 0.45022753128555176\n"
     ]
    },
    {
     "name": "stderr",
     "output_type": "stream",
     "text": [
      "100%|████████████████████████████████████████████████████████████████████████████████████████████████████████████████████████████████████████| 4605/4605 [00:12<00:00, 377.69it/s]\n"
     ]
    },
    {
     "name": "stdout",
     "output_type": "stream",
     "text": [
      "pp->hh\n",
      "In 4605 events\n",
      "Cross section: 59.81865839999999 fb\n",
      "|eta| < 2.5, PT > 40 GeV for 4 b-jets: 4605 59.81865839999999\n",
      "Total number of event with true pairing: 3516\n",
      "Correct selection: 2882 0.8196814562002275\n",
      "Correct pairing: 1528 0.5301873698820264\n",
      "Pairing efficiency: 1528 0.43458475540386804\n",
      "(9.0, 243.10000000000002, 100000)\n"
     ]
    },
    {
     "name": "stderr",
     "output_type": "stream",
     "text": [
      "100%|████████████████████████████████████████████████████████████████████████████████████████████████████████████████████████████████████████| 4668/4668 [00:13<00:00, 335.23it/s]\n"
     ]
    },
    {
     "name": "stdout",
     "output_type": "stream",
     "text": [
      "pp->hh\n",
      "In 4668 events\n",
      "Cross section: 82.34380440000001 fb\n",
      "|eta| < 2.5, PT > 40 GeV for 4 b-jets: 4668 82.34380440000001\n",
      "Total number of event with true pairing: 3510\n",
      "Correct selection: 3201 0.911965811965812\n",
      "Correct pairing: 1668 0.521087160262418\n",
      "Pairing efficiency: 1668 0.4752136752136752\n"
     ]
    },
    {
     "name": "stderr",
     "output_type": "stream",
     "text": [
      "100%|████████████████████████████████████████████████████████████████████████████████████████████████████████████████████████████████████████| 4668/4668 [00:12<00:00, 375.89it/s]\n"
     ]
    },
    {
     "name": "stdout",
     "output_type": "stream",
     "text": [
      "pp->hh\n",
      "In 4668 events\n",
      "Cross section: 82.34380440000001 fb\n",
      "|eta| < 2.5, PT > 40 GeV for 4 b-jets: 4668 82.34380440000001\n",
      "Total number of event with true pairing: 3510\n",
      "Correct selection: 2935 0.8361823361823362\n",
      "Correct pairing: 1642 0.5594548551959114\n",
      "Pairing efficiency: 1642 0.46780626780626783\n",
      "(10.0, 320.37, 100000)\n"
     ]
    },
    {
     "name": "stderr",
     "output_type": "stream",
     "text": [
      "100%|████████████████████████████████████████████████████████████████████████████████████████████████████████████████████████████████████████| 4680/4680 [00:14<00:00, 328.39it/s]\n"
     ]
    },
    {
     "name": "stdout",
     "output_type": "stream",
     "text": [
      "pp->hh\n",
      "In 4680 events\n",
      "Cross section: 108.51700787999998 fb\n",
      "|eta| < 2.5, PT > 40 GeV for 4 b-jets: 4680 108.51700787999998\n",
      "Total number of event with true pairing: 3597\n",
      "Correct selection: 3253 0.9043647484014457\n",
      "Correct pairing: 1708 0.5250537964955426\n",
      "Pairing efficiency: 1708 0.4748401445649152\n"
     ]
    },
    {
     "name": "stderr",
     "output_type": "stream",
     "text": [
      "100%|████████████████████████████████████████████████████████████████████████████████████████████████████████████████████████████████████████| 4680/4680 [00:12<00:00, 374.89it/s]\n"
     ]
    },
    {
     "name": "stdout",
     "output_type": "stream",
     "text": [
      "pp->hh\n",
      "In 4680 events\n",
      "Cross section: 108.51700787999998 fb\n",
      "|eta| < 2.5, PT > 40 GeV for 4 b-jets: 4680 108.51700787999998\n",
      "Total number of event with true pairing: 3597\n",
      "Correct selection: 2989 0.8309702529886016\n",
      "Correct pairing: 1687 0.5644028103044496\n",
      "Pairing efficiency: 1687 0.46900194606616624\n",
      "(11.0, 408.92, 100000)\n"
     ]
    },
    {
     "name": "stderr",
     "output_type": "stream",
     "text": [
      "100%|████████████████████████████████████████████████████████████████████████████████████████████████████████████████████████████████████████| 4768/4768 [00:14<00:00, 330.63it/s]\n"
     ]
    },
    {
     "name": "stdout",
     "output_type": "stream",
     "text": [
      "pp->hh\n",
      "In 4768 events\n",
      "Cross section: 138.51101807999999 fb\n",
      "|eta| < 2.5, PT > 40 GeV for 4 b-jets: 4768 138.51101807999999\n",
      "Total number of event with true pairing: 3592\n",
      "Correct selection: 3235 0.9006124721603563\n",
      "Correct pairing: 1697 0.5245749613601236\n",
      "Pairing efficiency: 1697 0.47243875278396436\n"
     ]
    },
    {
     "name": "stderr",
     "output_type": "stream",
     "text": [
      "100%|████████████████████████████████████████████████████████████████████████████████████████████████████████████████████████████████████████| 4768/4768 [00:12<00:00, 377.49it/s]\n"
     ]
    },
    {
     "name": "stdout",
     "output_type": "stream",
     "text": [
      "pp->hh\n",
      "In 4768 events\n",
      "Cross section: 138.51101807999999 fb\n",
      "|eta| < 2.5, PT > 40 GeV for 4 b-jets: 4768 138.51101807999999\n",
      "Total number of event with true pairing: 3592\n",
      "Correct selection: 2953 0.8221046770601337\n",
      "Correct pairing: 1673 0.5665424991534033\n",
      "Pairing efficiency: 1673 0.46575723830734966\n",
      "(12.0, 508.24, 100000)\n"
     ]
    },
    {
     "name": "stderr",
     "output_type": "stream",
     "text": [
      "100%|████████████████████████████████████████████████████████████████████████████████████████████████████████████████████████████████████████| 4815/4815 [00:14<00:00, 328.88it/s]\n"
     ]
    },
    {
     "name": "stdout",
     "output_type": "stream",
     "text": [
      "pp->hh\n",
      "In 4815 events\n",
      "Cross section: 172.15308575999998 fb\n",
      "|eta| < 2.5, PT > 40 GeV for 4 b-jets: 4815 172.15308575999998\n",
      "Total number of event with true pairing: 3674\n",
      "Correct selection: 3342 0.909635274904736\n",
      "Correct pairing: 1839 0.5502692998204668\n",
      "Pairing efficiency: 1839 0.5005443658138269\n"
     ]
    },
    {
     "name": "stderr",
     "output_type": "stream",
     "text": [
      "100%|████████████████████████████████████████████████████████████████████████████████████████████████████████████████████████████████████████| 4815/4815 [00:12<00:00, 380.21it/s]\n"
     ]
    },
    {
     "name": "stdout",
     "output_type": "stream",
     "text": [
      "pp->hh\n",
      "In 4815 events\n",
      "Cross section: 172.15308575999998 fb\n",
      "|eta| < 2.5, PT > 40 GeV for 4 b-jets: 4815 172.15308575999998\n",
      "Total number of event with true pairing: 3674\n",
      "Correct selection: 3114 0.8475775721284703\n",
      "Correct pairing: 1820 0.5844572896596018\n",
      "Pairing efficiency: 1820 0.4953728905824714\n",
      "(13.0, 618.63, 100000)\n"
     ]
    },
    {
     "name": "stderr",
     "output_type": "stream",
     "text": [
      "100%|████████████████████████████████████████████████████████████████████████████████████████████████████████████████████████████████████████| 4827/4827 [00:14<00:00, 333.92it/s]\n"
     ]
    },
    {
     "name": "stdout",
     "output_type": "stream",
     "text": [
      "pp->hh\n",
      "In 4827 events\n",
      "Cross section: 209.54482811999995 fb\n",
      "|eta| < 2.5, PT > 40 GeV for 4 b-jets: 4827 209.54482811999995\n",
      "Total number of event with true pairing: 3581\n",
      "Correct selection: 3233 0.902820441217537\n",
      "Correct pairing: 1790 0.5536653263223013\n",
      "Pairing efficiency: 1790 0.4998603741971516\n"
     ]
    },
    {
     "name": "stderr",
     "output_type": "stream",
     "text": [
      "100%|████████████████████████████████████████████████████████████████████████████████████████████████████████████████████████████████████████| 4827/4827 [00:12<00:00, 384.16it/s]\n"
     ]
    },
    {
     "name": "stdout",
     "output_type": "stream",
     "text": [
      "pp->hh\n",
      "In 4827 events\n",
      "Cross section: 209.54482811999995 fb\n",
      "|eta| < 2.5, PT > 40 GeV for 4 b-jets: 4827 209.54482811999995\n",
      "Total number of event with true pairing: 3581\n",
      "Correct selection: 2960 0.8265847528623289\n",
      "Correct pairing: 1768 0.5972972972972973\n",
      "Pairing efficiency: 1768 0.4937168388718235\n",
      "(14.0, 739.65, 100000)\n"
     ]
    },
    {
     "name": "stderr",
     "output_type": "stream",
     "text": [
      "100%|████████████████████████████████████████████████████████████████████████████████████████████████████████████████████████████████████████| 4866/4866 [00:14<00:00, 332.49it/s]\n"
     ]
    },
    {
     "name": "stdout",
     "output_type": "stream",
     "text": [
      "pp->hh\n",
      "In 4866 events\n",
      "Cross section: 250.53720659999996 fb\n",
      "|eta| < 2.5, PT > 40 GeV for 4 b-jets: 4866 250.53720659999996\n",
      "Total number of event with true pairing: 3627\n",
      "Correct selection: 3289 0.9068100358422939\n",
      "Correct pairing: 1842 0.5600486470051688\n",
      "Pairing efficiency: 1842 0.5078577336641853\n"
     ]
    },
    {
     "name": "stderr",
     "output_type": "stream",
     "text": [
      "100%|████████████████████████████████████████████████████████████████████████████████████████████████████████████████████████████████████████| 4866/4866 [00:12<00:00, 383.53it/s]\n"
     ]
    },
    {
     "name": "stdout",
     "output_type": "stream",
     "text": [
      "pp->hh\n",
      "In 4866 events\n",
      "Cross section: 250.53720659999996 fb\n",
      "|eta| < 2.5, PT > 40 GeV for 4 b-jets: 4866 250.53720659999996\n",
      "Total number of event with true pairing: 3627\n",
      "Correct selection: 3038 0.8376068376068376\n",
      "Correct pairing: 1813 0.5967741935483871\n",
      "Pairing efficiency: 1813 0.49986214502343534\n",
      "(15.0, 873.59, 100000)\n"
     ]
    },
    {
     "name": "stderr",
     "output_type": "stream",
     "text": [
      "100%|████████████████████████████████████████████████████████████████████████████████████████████████████████████████████████████████████████| 4841/4841 [00:14<00:00, 330.39it/s]\n"
     ]
    },
    {
     "name": "stdout",
     "output_type": "stream",
     "text": [
      "pp->hh\n",
      "In 4841 events\n",
      "Cross section: 295.90589916 fb\n",
      "|eta| < 2.5, PT > 40 GeV for 4 b-jets: 4841 295.90589916\n",
      "Total number of event with true pairing: 3708\n",
      "Correct selection: 3350 0.9034519956850054\n",
      "Correct pairing: 1914 0.5713432835820895\n",
      "Pairing efficiency: 1914 0.5161812297734628\n"
     ]
    },
    {
     "name": "stderr",
     "output_type": "stream",
     "text": [
      "100%|████████████████████████████████████████████████████████████████████████████████████████████████████████████████████████████████████████| 4841/4841 [00:12<00:00, 380.45it/s]"
     ]
    },
    {
     "name": "stdout",
     "output_type": "stream",
     "text": [
      "pp->hh\n",
      "In 4841 events\n",
      "Cross section: 295.90589916 fb\n",
      "|eta| < 2.5, PT > 40 GeV for 4 b-jets: 4841 295.90589916\n",
      "Total number of event with true pairing: 3708\n",
      "Correct selection: 3061 0.825512405609493\n",
      "Correct pairing: 1885 0.615811826200588\n",
      "Pairing efficiency: 1885 0.5083603020496225\n"
     ]
    },
    {
     "name": "stderr",
     "output_type": "stream",
     "text": [
      "\n"
     ]
    }
   ],
   "source": [
    "# Scan kappa\n",
    "kappas, min_dR_pairings, SPANET_pairings = [], [], []\n",
    "\n",
    "for i in range(6,32,1):\n",
    "    pairing_method = 'min-dR'\n",
    "    \n",
    "    sample_dir = '/home/r10222035/CPVDM/Di-Higgs-SM/pphh/Events/'\n",
    "    info = get_info(os.path.join(sample_dir, f'run_{i:02}'))\n",
    "    print(info)\n",
    "    kappas.append(info[0])\n",
    "    xection = info[1] * 0.582 * 0.582\n",
    "    tot_event = info[2]\n",
    "\n",
    "    # calculate pairing performace\n",
    "    file_path = os.path.join(sample_dir, f'run_{i:02}_decayed_1/DiHiggs_4b_PT40.h5')\n",
    "    results = diHiggs_pairing_performance_HDF5(file_path, \n",
    "                                                  None,\n",
    "                                                  pairing_method, \n",
    "                                                  xection, \n",
    "                                                  title='pp->hh', \n",
    "                                                  nevent_max=100000)\n",
    "    min_dR_pairings.append(results)\n",
    "    \n",
    "    truth_file = os.path.join(sample_dir, f'run_{i:02}_decayed_1/DiHiggs_4b_PT40.h5')\n",
    "    predict_file = os.path.join(sample_dir, f'run_{i:02}_decayed_1/DiHiggs_4b_PT40-predict.h5')\n",
    "\n",
    "    results = diHiggs_SPANET_pairing_performance(truth_file,\n",
    "                                                  predict_file,\n",
    "                                                  xection, \n",
    "                                                  title='pp->hh', \n",
    "                                                  nevent_max=100000)\n",
    "    SPANET_pairings.append(results)"
   ]
  },
  {
   "cell_type": "code",
   "execution_count": 10,
   "id": "b9da099a",
   "metadata": {},
   "outputs": [
    {
     "name": "stdout",
     "output_type": "stream",
     "text": [
      "(-10.0, 865.4300000000001, 100000)\n"
     ]
    },
    {
     "name": "stderr",
     "output_type": "stream",
     "text": [
      "100%|████████████████████████████████████████████████████████████████████████████████████████████████████████████████████████████████████████| 5628/5628 [00:16<00:00, 331.23it/s]\n"
     ]
    },
    {
     "name": "stdout",
     "output_type": "stream",
     "text": [
      "pp->hh\n",
      "In 5628 events\n",
      "Cross section: 293.14191131999996 fb\n",
      "|eta| < 2.5, PT > 40 GeV for 4 b-jets: 5628 293.14191131999996\n",
      "Total number of event with true pairing: 4288\n",
      "Correct selection: 3839 0.8952891791044776\n",
      "Correct pairing: 2665 0.6941911956238603\n",
      "Pairing efficiency: 2665 0.6215018656716418\n"
     ]
    },
    {
     "name": "stderr",
     "output_type": "stream",
     "text": [
      "100%|████████████████████████████████████████████████████████████████████████████████████████████████████████████████████████████████████████| 5628/5628 [00:15<00:00, 373.54it/s]\n"
     ]
    },
    {
     "name": "stdout",
     "output_type": "stream",
     "text": [
      "pp->hh\n",
      "In 5628 events\n",
      "Cross section: 293.14191131999996 fb\n",
      "|eta| < 2.5, PT > 40 GeV for 4 b-jets: 5628 293.14191131999996\n",
      "Total number of event with true pairing: 4288\n",
      "Correct selection: 3911 0.9120802238805971\n",
      "Correct pairing: 3267 0.8353362311429302\n",
      "Pairing efficiency: 3267 0.761893656716418\n",
      "(-9.0, 734.02, 100000)\n"
     ]
    },
    {
     "name": "stderr",
     "output_type": "stream",
     "text": [
      "100%|████████████████████████████████████████████████████████████████████████████████████████████████████████████████████████████████████████| 5698/5698 [00:17<00:00, 317.61it/s]\n"
     ]
    },
    {
     "name": "stdout",
     "output_type": "stream",
     "text": [
      "pp->hh\n",
      "In 5698 events\n",
      "Cross section: 248.63019047999998 fb\n",
      "|eta| < 2.5, PT > 40 GeV for 4 b-jets: 5698 248.63019047999998\n",
      "Total number of event with true pairing: 4348\n",
      "Correct selection: 3908 0.8988040478380864\n",
      "Correct pairing: 2730 0.6985670419651996\n",
      "Pairing efficiency: 2730 0.6278748850045999\n"
     ]
    },
    {
     "name": "stderr",
     "output_type": "stream",
     "text": [
      "100%|████████████████████████████████████████████████████████████████████████████████████████████████████████████████████████████████████████| 5698/5698 [00:15<00:00, 363.70it/s]\n"
     ]
    },
    {
     "name": "stdout",
     "output_type": "stream",
     "text": [
      "pp->hh\n",
      "In 5698 events\n",
      "Cross section: 248.63019047999998 fb\n",
      "|eta| < 2.5, PT > 40 GeV for 4 b-jets: 5698 248.63019047999998\n",
      "Total number of event with true pairing: 4348\n",
      "Correct selection: 3996 0.9190432382704692\n",
      "Correct pairing: 3347 0.8375875875875876\n",
      "Pairing efficiency: 3347 0.7697792088316467\n",
      "(-8.0, 612.39, 100000)\n"
     ]
    },
    {
     "name": "stderr",
     "output_type": "stream",
     "text": [
      "100%|████████████████████████████████████████████████████████████████████████████████████████████████████████████████████████████████████████| 5658/5658 [00:17<00:00, 331.22it/s]\n"
     ]
    },
    {
     "name": "stdout",
     "output_type": "stream",
     "text": [
      "pp->hh\n",
      "In 5658 events\n",
      "Cross section: 207.43119036 fb\n",
      "|eta| < 2.5, PT > 40 GeV for 4 b-jets: 5658 207.43119036\n",
      "Total number of event with true pairing: 4310\n",
      "Correct selection: 3876 0.8993039443155453\n",
      "Correct pairing: 2652 0.6842105263157895\n",
      "Pairing efficiency: 2652 0.6153132250580047\n"
     ]
    },
    {
     "name": "stderr",
     "output_type": "stream",
     "text": [
      "100%|████████████████████████████████████████████████████████████████████████████████████████████████████████████████████████████████████████| 5658/5658 [00:15<00:00, 361.96it/s]\n"
     ]
    },
    {
     "name": "stdout",
     "output_type": "stream",
     "text": [
      "pp->hh\n",
      "In 5658 events\n",
      "Cross section: 207.43119036 fb\n",
      "|eta| < 2.5, PT > 40 GeV for 4 b-jets: 5658 207.43119036\n",
      "Total number of event with true pairing: 4310\n",
      "Correct selection: 3970 0.9211136890951276\n",
      "Correct pairing: 3296 0.8302267002518892\n",
      "Pairing efficiency: 3296 0.7647331786542924\n",
      "(-7.0, 502.6, 100000)\n"
     ]
    },
    {
     "name": "stderr",
     "output_type": "stream",
     "text": [
      "100%|████████████████████████████████████████████████████████████████████████████████████████████████████████████████████████████████████████| 5699/5699 [00:18<00:00, 311.71it/s]\n"
     ]
    },
    {
     "name": "stdout",
     "output_type": "stream",
     "text": [
      "pp->hh\n",
      "In 5699 events\n",
      "Cross section: 170.24268239999998 fb\n",
      "|eta| < 2.5, PT > 40 GeV for 4 b-jets: 5699 170.24268239999998\n",
      "Total number of event with true pairing: 4374\n",
      "Correct selection: 3952 0.9035208047553727\n",
      "Correct pairing: 2781 0.7036943319838057\n",
      "Pairing efficiency: 2781 0.6358024691358025\n"
     ]
    },
    {
     "name": "stderr",
     "output_type": "stream",
     "text": [
      "100%|████████████████████████████████████████████████████████████████████████████████████████████████████████████████████████████████████████| 5699/5699 [00:15<00:00, 376.67it/s]\n"
     ]
    },
    {
     "name": "stdout",
     "output_type": "stream",
     "text": [
      "pp->hh\n",
      "In 5699 events\n",
      "Cross section: 170.24268239999998 fb\n",
      "|eta| < 2.5, PT > 40 GeV for 4 b-jets: 5699 170.24268239999998\n",
      "Total number of event with true pairing: 4374\n",
      "Correct selection: 4031 0.9215820759030635\n",
      "Correct pairing: 3377 0.8377573803026545\n",
      "Pairing efficiency: 3377 0.7720621856424326\n",
      "(-6.0, 403.62, 100000)\n"
     ]
    },
    {
     "name": "stderr",
     "output_type": "stream",
     "text": [
      "100%|████████████████████████████████████████████████████████████████████████████████████████████████████████████████████████████████████████| 5878/5878 [00:18<00:00, 324.80it/s]\n"
     ]
    },
    {
     "name": "stdout",
     "output_type": "stream",
     "text": [
      "pp->hh\n",
      "In 5878 events\n",
      "Cross section: 136.71578087999998 fb\n",
      "|eta| < 2.5, PT > 40 GeV for 4 b-jets: 5878 136.71578087999998\n",
      "Total number of event with true pairing: 4482\n",
      "Correct selection: 4054 0.9045069165551093\n",
      "Correct pairing: 2897 0.714602861371485\n",
      "Pairing efficiency: 2897 0.6463632307005801\n"
     ]
    },
    {
     "name": "stderr",
     "output_type": "stream",
     "text": [
      "100%|████████████████████████████████████████████████████████████████████████████████████████████████████████████████████████████████████████| 5878/5878 [00:15<00:00, 376.99it/s]\n"
     ]
    },
    {
     "name": "stdout",
     "output_type": "stream",
     "text": [
      "pp->hh\n",
      "In 5878 events\n",
      "Cross section: 136.71578087999998 fb\n",
      "|eta| < 2.5, PT > 40 GeV for 4 b-jets: 5878 136.71578087999998\n",
      "Total number of event with true pairing: 4482\n",
      "Correct selection: 4138 0.9232485497545738\n",
      "Correct pairing: 3528 0.8525857902368293\n",
      "Pairing efficiency: 3528 0.7871485943775101\n",
      "(-5.0, 316.29, 100000)\n"
     ]
    },
    {
     "name": "stderr",
     "output_type": "stream",
     "text": [
      "100%|████████████████████████████████████████████████████████████████████████████████████████████████████████████████████████████████████████| 5905/5905 [00:18<00:00, 325.77it/s]\n"
     ]
    },
    {
     "name": "stdout",
     "output_type": "stream",
     "text": [
      "pp->hh\n",
      "In 5905 events\n",
      "Cross section: 107.13501396 fb\n",
      "|eta| < 2.5, PT > 40 GeV for 4 b-jets: 5905 107.13501396000001\n",
      "Total number of event with true pairing: 4503\n",
      "Correct selection: 4033 0.895625138796358\n",
      "Correct pairing: 2901 0.7193156459211505\n",
      "Pairing efficiency: 2901 0.6442371752165224\n"
     ]
    },
    {
     "name": "stderr",
     "output_type": "stream",
     "text": [
      "100%|████████████████████████████████████████████████████████████████████████████████████████████████████████████████████████████████████████| 5905/5905 [00:16<00:00, 363.04it/s]\n"
     ]
    },
    {
     "name": "stdout",
     "output_type": "stream",
     "text": [
      "pp->hh\n",
      "In 5905 events\n",
      "Cross section: 107.13501396 fb\n",
      "|eta| < 2.5, PT > 40 GeV for 4 b-jets: 5905 107.13501396000001\n",
      "Total number of event with true pairing: 4503\n",
      "Correct selection: 4135 0.918276704419276\n",
      "Correct pairing: 3489 0.8437726723095526\n",
      "Pairing efficiency: 3489 0.7748167888074617\n",
      "(-4.0, 239.21, 100000)\n"
     ]
    },
    {
     "name": "stderr",
     "output_type": "stream",
     "text": [
      "100%|████████████████████████████████████████████████████████████████████████████████████████████████████████████████████████████████████████| 6047/6047 [00:18<00:00, 323.93it/s]\n"
     ]
    },
    {
     "name": "stdout",
     "output_type": "stream",
     "text": [
      "pp->hh\n",
      "In 6047 events\n",
      "Cross section: 81.02616803999999 fb\n",
      "|eta| < 2.5, PT > 40 GeV for 4 b-jets: 6047 81.02616803999999\n",
      "Total number of event with true pairing: 4592\n",
      "Correct selection: 4141 0.9017857142857143\n",
      "Correct pairing: 3065 0.7401593817918377\n",
      "Pairing efficiency: 3065 0.6674651567944251\n"
     ]
    },
    {
     "name": "stderr",
     "output_type": "stream",
     "text": [
      "100%|████████████████████████████████████████████████████████████████████████████████████████████████████████████████████████████████████████| 6047/6047 [00:16<00:00, 373.00it/s]\n"
     ]
    },
    {
     "name": "stdout",
     "output_type": "stream",
     "text": [
      "pp->hh\n",
      "In 6047 events\n",
      "Cross section: 81.02616803999999 fb\n",
      "|eta| < 2.5, PT > 40 GeV for 4 b-jets: 6047 81.02616803999999\n",
      "Total number of event with true pairing: 4592\n",
      "Correct selection: 4234 0.9220383275261324\n",
      "Correct pairing: 3592 0.8483703353802551\n",
      "Pairing efficiency: 3592 0.7822299651567944\n",
      "(-3.0, 173.11, 100000)\n"
     ]
    },
    {
     "name": "stderr",
     "output_type": "stream",
     "text": [
      "100%|████████████████████████████████████████████████████████████████████████████████████████████████████████████████████████████████████████| 6234/6234 [00:19<00:00, 321.71it/s]\n"
     ]
    },
    {
     "name": "stdout",
     "output_type": "stream",
     "text": [
      "pp->hh\n",
      "In 6234 events\n",
      "Cross section: 58.63651164 fb\n",
      "|eta| < 2.5, PT > 40 GeV for 4 b-jets: 6234 58.63651164\n",
      "Total number of event with true pairing: 4802\n",
      "Correct selection: 4315 0.8985839233652645\n",
      "Correct pairing: 3218 0.7457705677867903\n",
      "Pairing efficiency: 3218 0.6701374427321949\n"
     ]
    },
    {
     "name": "stderr",
     "output_type": "stream",
     "text": [
      "100%|████████████████████████████████████████████████████████████████████████████████████████████████████████████████████████████████████████| 6234/6234 [00:16<00:00, 367.92it/s]\n"
     ]
    },
    {
     "name": "stdout",
     "output_type": "stream",
     "text": [
      "pp->hh\n",
      "In 6234 events\n",
      "Cross section: 58.63651164 fb\n",
      "|eta| < 2.5, PT > 40 GeV for 4 b-jets: 6234 58.63651164\n",
      "Total number of event with true pairing: 4802\n",
      "Correct selection: 4384 0.9129529362765514\n",
      "Correct pairing: 3775 0.8610857664233577\n",
      "Pairing efficiency: 3775 0.7861307788421491\n",
      "(-2.0, 118.59, 100000)\n"
     ]
    },
    {
     "name": "stderr",
     "output_type": "stream",
     "text": [
      "100%|████████████████████████████████████████████████████████████████████████████████████████████████████████████████████████████████████████| 6488/6488 [00:20<00:00, 323.44it/s]\n"
     ]
    },
    {
     "name": "stdout",
     "output_type": "stream",
     "text": [
      "pp->hh\n",
      "In 6488 events\n",
      "Cross section: 40.169279159999995 fb\n",
      "|eta| < 2.5, PT > 40 GeV for 4 b-jets: 6488 40.169279159999995\n",
      "Total number of event with true pairing: 4985\n",
      "Correct selection: 4458 0.8942828485456369\n",
      "Correct pairing: 3487 0.7821893225661731\n",
      "Pairing efficiency: 3487 0.6994984954864594\n"
     ]
    },
    {
     "name": "stderr",
     "output_type": "stream",
     "text": [
      "100%|████████████████████████████████████████████████████████████████████████████████████████████████████████████████████████████████████████| 6488/6488 [00:17<00:00, 366.61it/s]\n"
     ]
    },
    {
     "name": "stdout",
     "output_type": "stream",
     "text": [
      "pp->hh\n",
      "In 6488 events\n",
      "Cross section: 40.169279159999995 fb\n",
      "|eta| < 2.5, PT > 40 GeV for 4 b-jets: 6488 40.169279159999995\n",
      "Total number of event with true pairing: 4985\n",
      "Correct selection: 4553 0.9133400200601806\n",
      "Correct pairing: 3950 0.8675598506479244\n",
      "Pairing efficiency: 3950 0.7923771313941825\n",
      "(-1.0, 74.776, 100000)\n"
     ]
    },
    {
     "name": "stderr",
     "output_type": "stream",
     "text": [
      "100%|████████████████████████████████████████████████████████████████████████████████████████████████████████████████████████████████████████| 6770/6770 [00:21<00:00, 319.57it/s]\n"
     ]
    },
    {
     "name": "stdout",
     "output_type": "stream",
     "text": [
      "pp->hh\n",
      "In 6770 events\n",
      "Cross section: 25.328425823999996 fb\n",
      "|eta| < 2.5, PT > 40 GeV for 4 b-jets: 6770 25.328425823999996\n",
      "Total number of event with true pairing: 5252\n",
      "Correct selection: 4711 0.896991622239147\n",
      "Correct pairing: 3773 0.8008915304606241\n",
      "Pairing efficiency: 3773 0.7183929931454683\n"
     ]
    },
    {
     "name": "stderr",
     "output_type": "stream",
     "text": [
      "100%|████████████████████████████████████████████████████████████████████████████████████████████████████████████████████████████████████████| 6770/6770 [00:18<00:00, 361.41it/s]\n"
     ]
    },
    {
     "name": "stdout",
     "output_type": "stream",
     "text": [
      "pp->hh\n",
      "In 6770 events\n",
      "Cross section: 25.328425823999996 fb\n",
      "|eta| < 2.5, PT > 40 GeV for 4 b-jets: 6770 25.328425823999996\n",
      "Total number of event with true pairing: 5252\n",
      "Correct selection: 4816 0.916984006092917\n",
      "Correct pairing: 4198 0.8716777408637874\n",
      "Pairing efficiency: 4198 0.7993145468392994\n",
      "(0.0, 42.007999999999996, 100000)\n"
     ]
    },
    {
     "name": "stderr",
     "output_type": "stream",
     "text": [
      "100%|████████████████████████████████████████████████████████████████████████████████████████████████████████████████████████████████████████| 7283/7283 [00:22<00:00, 326.41it/s]\n"
     ]
    },
    {
     "name": "stdout",
     "output_type": "stream",
     "text": [
      "pp->hh\n",
      "In 7283 events\n",
      "Cross section: 14.229117791999997 fb\n",
      "|eta| < 2.5, PT > 40 GeV for 4 b-jets: 7283 14.229117791999997\n",
      "Total number of event with true pairing: 5643\n",
      "Correct selection: 5008 0.887471203260677\n",
      "Correct pairing: 4278 0.8542332268370607\n",
      "Pairing efficiency: 4278 0.7581073896863371\n"
     ]
    },
    {
     "name": "stderr",
     "output_type": "stream",
     "text": [
      "100%|████████████████████████████████████████████████████████████████████████████████████████████████████████████████████████████████████████| 7283/7283 [00:19<00:00, 365.08it/s]\n"
     ]
    },
    {
     "name": "stdout",
     "output_type": "stream",
     "text": [
      "pp->hh\n",
      "In 7283 events\n",
      "Cross section: 14.229117791999997 fb\n",
      "|eta| < 2.5, PT > 40 GeV for 4 b-jets: 7283 14.229117791999997\n",
      "Total number of event with true pairing: 5643\n",
      "Correct selection: 5121 0.9074960127591707\n",
      "Correct pairing: 4635 0.9050966608084359\n",
      "Pairing efficiency: 4635 0.8213716108452951\n",
      "(1.0, 20.251, 100000)\n"
     ]
    },
    {
     "name": "stderr",
     "output_type": "stream",
     "text": [
      "100%|████████████████████████████████████████████████████████████████████████████████████████████████████████████████████████████████████████| 8479/8479 [00:26<00:00, 319.80it/s]\n"
     ]
    },
    {
     "name": "stdout",
     "output_type": "stream",
     "text": [
      "pp->hh\n",
      "In 8479 events\n",
      "Cross section: 6.859499724 fb\n",
      "|eta| < 2.5, PT > 40 GeV for 4 b-jets: 8479 6.859499724\n",
      "Total number of event with true pairing: 6715\n",
      "Correct selection: 5969 0.8889054355919583\n",
      "Correct pairing: 5435 0.9105377785223655\n",
      "Pairing efficiency: 5435 0.8093819806403574\n"
     ]
    },
    {
     "name": "stderr",
     "output_type": "stream",
     "text": [
      "100%|████████████████████████████████████████████████████████████████████████████████████████████████████████████████████████████████████████| 8479/8479 [00:23<00:00, 360.79it/s]\n"
     ]
    },
    {
     "name": "stdout",
     "output_type": "stream",
     "text": [
      "pp->hh\n",
      "In 8479 events\n",
      "Cross section: 6.859499724 fb\n",
      "|eta| < 2.5, PT > 40 GeV for 4 b-jets: 8479 6.859499724\n",
      "Total number of event with true pairing: 6715\n",
      "Correct selection: 6078 0.9051377513030529\n",
      "Correct pairing: 5625 0.9254689042448174\n",
      "Pairing efficiency: 5625 0.8376768428890543\n",
      "(2.0, 9.519599999999999, 100000)\n"
     ]
    },
    {
     "name": "stderr",
     "output_type": "stream",
     "text": [
      "100%|████████████████████████████████████████████████████████████████████████████████████████████████████████████████████████████████████████| 9382/9382 [00:29<00:00, 320.30it/s]\n"
     ]
    },
    {
     "name": "stdout",
     "output_type": "stream",
     "text": [
      "pp->hh\n",
      "In 9382 events\n",
      "Cross section: 3.2245169903999993 fb\n",
      "|eta| < 2.5, PT > 40 GeV for 4 b-jets: 9382 3.2245169903999993\n",
      "Total number of event with true pairing: 7470\n",
      "Correct selection: 6641 0.8890227576974565\n",
      "Correct pairing: 6220 0.9366059328414396\n",
      "Pairing efficiency: 6220 0.8326639892904953\n"
     ]
    },
    {
     "name": "stderr",
     "output_type": "stream",
     "text": [
      "100%|████████████████████████████████████████████████████████████████████████████████████████████████████████████████████████████████████████| 9382/9382 [00:25<00:00, 360.89it/s]\n"
     ]
    },
    {
     "name": "stdout",
     "output_type": "stream",
     "text": [
      "pp->hh\n",
      "In 9382 events\n",
      "Cross section: 3.2245169903999993 fb\n",
      "|eta| < 2.5, PT > 40 GeV for 4 b-jets: 9382 3.2245169903999993\n",
      "Total number of event with true pairing: 7470\n",
      "Correct selection: 6762 0.9052208835341365\n",
      "Correct pairing: 6412 0.94824016563147\n",
      "Pairing efficiency: 6412 0.8583668005354752\n",
      "(3.0, 9.818900000000001, 100000)\n"
     ]
    },
    {
     "name": "stderr",
     "output_type": "stream",
     "text": [
      "100%|████████████████████████████████████████████████████████████████████████████████████████████████████████████████████████████████████████| 6615/6615 [00:20<00:00, 323.79it/s]\n"
     ]
    },
    {
     "name": "stdout",
     "output_type": "stream",
     "text": [
      "pp->hh\n",
      "In 6615 events\n",
      "Cross section: 3.3258970836 fb\n",
      "|eta| < 2.5, PT > 40 GeV for 4 b-jets: 6615 3.3258970836\n",
      "Total number of event with true pairing: 5300\n",
      "Correct selection: 4755 0.8971698113207547\n",
      "Correct pairing: 3448 0.7251314405888538\n",
      "Pairing efficiency: 3448 0.6505660377358491\n"
     ]
    },
    {
     "name": "stderr",
     "output_type": "stream",
     "text": [
      "100%|████████████████████████████████████████████████████████████████████████████████████████████████████████████████████████████████████████| 6615/6615 [00:18<00:00, 361.86it/s]\n"
     ]
    },
    {
     "name": "stdout",
     "output_type": "stream",
     "text": [
      "pp->hh\n",
      "In 6615 events\n",
      "Cross section: 3.3258970836 fb\n",
      "|eta| < 2.5, PT > 40 GeV for 4 b-jets: 6615 3.3258970836\n",
      "Total number of event with true pairing: 5300\n",
      "Correct selection: 4854 0.9158490566037736\n",
      "Correct pairing: 4379 0.9021425628347755\n",
      "Pairing efficiency: 4379 0.8262264150943396\n",
      "(4.0, 21.144, 100000)\n"
     ]
    },
    {
     "name": "stderr",
     "output_type": "stream",
     "text": [
      "100%|████████████████████████████████████████████████████████████████████████████████████████████████████████████████████████████████████████| 4657/4657 [00:14<00:00, 324.77it/s]\n"
     ]
    },
    {
     "name": "stdout",
     "output_type": "stream",
     "text": [
      "pp->hh\n",
      "In 4657 events\n",
      "Cross section: 7.161980255999999 fb\n",
      "|eta| < 2.5, PT > 40 GeV for 4 b-jets: 4657 7.161980255999998\n",
      "Total number of event with true pairing: 3578\n",
      "Correct selection: 3265 0.9125209614309671\n",
      "Correct pairing: 1549 0.4744257274119449\n",
      "Pairing efficiency: 1549 0.4329234209055338\n"
     ]
    },
    {
     "name": "stderr",
     "output_type": "stream",
     "text": [
      "100%|████████████████████████████████████████████████████████████████████████████████████████████████████████████████████████████████████████| 4657/4657 [00:12<00:00, 370.56it/s]\n"
     ]
    },
    {
     "name": "stdout",
     "output_type": "stream",
     "text": [
      "pp->hh\n",
      "In 4657 events\n",
      "Cross section: 7.161980255999999 fb\n",
      "|eta| < 2.5, PT > 40 GeV for 4 b-jets: 4657 7.161980255999998\n",
      "Total number of event with true pairing: 3578\n",
      "Correct selection: 3332 0.9312465064281722\n",
      "Correct pairing: 2655 0.7968187274909964\n",
      "Pairing efficiency: 2655 0.7420346562325322\n",
      "(5.0, 43.476, 100000)\n"
     ]
    },
    {
     "name": "stderr",
     "output_type": "stream",
     "text": [
      "100%|████████████████████████████████████████████████████████████████████████████████████████████████████████████████████████████████████████| 4273/4273 [00:12<00:00, 331.70it/s]\n"
     ]
    },
    {
     "name": "stdout",
     "output_type": "stream",
     "text": [
      "pp->hh\n",
      "In 4273 events\n",
      "Cross section: 14.726364623999999 fb\n",
      "|eta| < 2.5, PT > 40 GeV for 4 b-jets: 4273 14.726364623999999\n",
      "Total number of event with true pairing: 3267\n",
      "Correct selection: 2941 0.9002142638506275\n",
      "Correct pairing: 1289 0.4382862971778307\n",
      "Pairing efficiency: 1289 0.3945515763697582\n"
     ]
    },
    {
     "name": "stderr",
     "output_type": "stream",
     "text": [
      "100%|████████████████████████████████████████████████████████████████████████████████████████████████████████████████████████████████████████| 4273/4273 [00:11<00:00, 370.44it/s]\n"
     ]
    },
    {
     "name": "stdout",
     "output_type": "stream",
     "text": [
      "pp->hh\n",
      "In 4273 events\n",
      "Cross section: 14.726364623999999 fb\n",
      "|eta| < 2.5, PT > 40 GeV for 4 b-jets: 4273 14.726364623999999\n",
      "Total number of event with true pairing: 3267\n",
      "Correct selection: 3039 0.9302112029384757\n",
      "Correct pairing: 2378 0.782494241526818\n",
      "Pairing efficiency: 2378 0.7278849097030915\n",
      "(6.0, 76.793, 100000)\n"
     ]
    },
    {
     "name": "stderr",
     "output_type": "stream",
     "text": [
      "100%|████████████████████████████████████████████████████████████████████████████████████████████████████████████████████████████████████████| 4380/4380 [00:13<00:00, 330.37it/s]\n"
     ]
    },
    {
     "name": "stdout",
     "output_type": "stream",
     "text": [
      "pp->hh\n",
      "In 4380 events\n",
      "Cross section: 26.011632132 fb\n",
      "|eta| < 2.5, PT > 40 GeV for 4 b-jets: 4380 26.011632132\n",
      "Total number of event with true pairing: 3328\n",
      "Correct selection: 3002 0.9020432692307693\n",
      "Correct pairing: 1388 0.46235842771485675\n",
      "Pairing efficiency: 1388 0.4170673076923077\n"
     ]
    },
    {
     "name": "stderr",
     "output_type": "stream",
     "text": [
      "100%|████████████████████████████████████████████████████████████████████████████████████████████████████████████████████████████████████████| 4380/4380 [00:11<00:00, 369.60it/s]\n"
     ]
    },
    {
     "name": "stdout",
     "output_type": "stream",
     "text": [
      "pp->hh\n",
      "In 4380 events\n",
      "Cross section: 26.011632132 fb\n",
      "|eta| < 2.5, PT > 40 GeV for 4 b-jets: 4380 26.011632132\n",
      "Total number of event with true pairing: 3328\n",
      "Correct selection: 3090 0.9284855769230769\n",
      "Correct pairing: 2420 0.7831715210355987\n",
      "Pairing efficiency: 2420 0.7271634615384616\n",
      "(7.0, 121.21, 100000)\n"
     ]
    },
    {
     "name": "stderr",
     "output_type": "stream",
     "text": [
      "100%|████████████████████████████████████████████████████████████████████████████████████████████████████████████████████████████████████████| 4517/4517 [00:13<00:00, 323.09it/s]\n"
     ]
    },
    {
     "name": "stdout",
     "output_type": "stream",
     "text": [
      "pp->hh\n",
      "In 4517 events\n",
      "Cross section: 41.05673604 fb\n",
      "|eta| < 2.5, PT > 40 GeV for 4 b-jets: 4517 41.05673604\n",
      "Total number of event with true pairing: 3409\n",
      "Correct selection: 3085 0.9049574655324142\n",
      "Correct pairing: 1497 0.48525121555915723\n",
      "Pairing efficiency: 1497 0.4391317101789381\n"
     ]
    },
    {
     "name": "stderr",
     "output_type": "stream",
     "text": [
      "100%|████████████████████████████████████████████████████████████████████████████████████████████████████████████████████████████████████████| 4517/4517 [00:12<00:00, 374.70it/s]\n"
     ]
    },
    {
     "name": "stdout",
     "output_type": "stream",
     "text": [
      "pp->hh\n",
      "In 4517 events\n",
      "Cross section: 41.05673604 fb\n",
      "|eta| < 2.5, PT > 40 GeV for 4 b-jets: 4517 41.05673604\n",
      "Total number of event with true pairing: 3409\n",
      "Correct selection: 3147 0.9231446171897917\n",
      "Correct pairing: 2450 0.7785192246584048\n",
      "Pairing efficiency: 2450 0.7186858316221766\n",
      "(8.0, 176.6, 100000)\n"
     ]
    },
    {
     "name": "stderr",
     "output_type": "stream",
     "text": [
      "100%|████████████████████████████████████████████████████████████████████████████████████████████████████████████████████████████████████████| 4605/4605 [00:13<00:00, 329.99it/s]\n"
     ]
    },
    {
     "name": "stdout",
     "output_type": "stream",
     "text": [
      "pp->hh\n",
      "In 4605 events\n",
      "Cross section: 59.81865839999999 fb\n",
      "|eta| < 2.5, PT > 40 GeV for 4 b-jets: 4605 59.81865839999999\n",
      "Total number of event with true pairing: 3516\n",
      "Correct selection: 3172 0.9021615472127418\n",
      "Correct pairing: 1583 0.4990542244640605\n",
      "Pairing efficiency: 1583 0.45022753128555176\n"
     ]
    },
    {
     "name": "stderr",
     "output_type": "stream",
     "text": [
      "100%|████████████████████████████████████████████████████████████████████████████████████████████████████████████████████████████████████████| 4605/4605 [00:12<00:00, 370.94it/s]\n"
     ]
    },
    {
     "name": "stdout",
     "output_type": "stream",
     "text": [
      "pp->hh\n",
      "In 4605 events\n",
      "Cross section: 59.81865839999999 fb\n",
      "|eta| < 2.5, PT > 40 GeV for 4 b-jets: 4605 59.81865839999999\n",
      "Total number of event with true pairing: 3516\n",
      "Correct selection: 3230 0.9186575654152446\n",
      "Correct pairing: 2542 0.7869969040247679\n",
      "Pairing efficiency: 2542 0.7229806598407281\n",
      "(9.0, 243.10000000000002, 100000)\n"
     ]
    },
    {
     "name": "stderr",
     "output_type": "stream",
     "text": [
      "100%|████████████████████████████████████████████████████████████████████████████████████████████████████████████████████████████████████████| 4668/4668 [00:14<00:00, 329.29it/s]\n"
     ]
    },
    {
     "name": "stdout",
     "output_type": "stream",
     "text": [
      "pp->hh\n",
      "In 4668 events\n",
      "Cross section: 82.34380440000001 fb\n",
      "|eta| < 2.5, PT > 40 GeV for 4 b-jets: 4668 82.34380440000001\n",
      "Total number of event with true pairing: 3510\n",
      "Correct selection: 3201 0.911965811965812\n",
      "Correct pairing: 1668 0.521087160262418\n",
      "Pairing efficiency: 1668 0.4752136752136752\n"
     ]
    },
    {
     "name": "stderr",
     "output_type": "stream",
     "text": [
      "100%|████████████████████████████████████████████████████████████████████████████████████████████████████████████████████████████████████████| 4668/4668 [00:12<00:00, 365.40it/s]\n"
     ]
    },
    {
     "name": "stdout",
     "output_type": "stream",
     "text": [
      "pp->hh\n",
      "In 4668 events\n",
      "Cross section: 82.34380440000001 fb\n",
      "|eta| < 2.5, PT > 40 GeV for 4 b-jets: 4668 82.34380440000001\n",
      "Total number of event with true pairing: 3510\n",
      "Correct selection: 3258 0.9282051282051282\n",
      "Correct pairing: 2574 0.7900552486187845\n",
      "Pairing efficiency: 2574 0.7333333333333333\n",
      "(10.0, 320.37, 100000)\n"
     ]
    },
    {
     "name": "stderr",
     "output_type": "stream",
     "text": [
      "100%|████████████████████████████████████████████████████████████████████████████████████████████████████████████████████████████████████████| 4680/4680 [00:14<00:00, 330.35it/s]\n"
     ]
    },
    {
     "name": "stdout",
     "output_type": "stream",
     "text": [
      "pp->hh\n",
      "In 4680 events\n",
      "Cross section: 108.51700787999998 fb\n",
      "|eta| < 2.5, PT > 40 GeV for 4 b-jets: 4680 108.51700787999998\n",
      "Total number of event with true pairing: 3597\n",
      "Correct selection: 3253 0.9043647484014457\n",
      "Correct pairing: 1708 0.5250537964955426\n",
      "Pairing efficiency: 1708 0.4748401445649152\n"
     ]
    },
    {
     "name": "stderr",
     "output_type": "stream",
     "text": [
      "100%|████████████████████████████████████████████████████████████████████████████████████████████████████████████████████████████████████████| 4680/4680 [00:12<00:00, 375.71it/s]\n"
     ]
    },
    {
     "name": "stdout",
     "output_type": "stream",
     "text": [
      "pp->hh\n",
      "In 4680 events\n",
      "Cross section: 108.51700787999998 fb\n",
      "|eta| < 2.5, PT > 40 GeV for 4 b-jets: 4680 108.51700787999998\n",
      "Total number of event with true pairing: 3597\n",
      "Correct selection: 3345 0.9299416180150125\n",
      "Correct pairing: 2624 0.7844544095665172\n",
      "Pairing efficiency: 2624 0.7294968028912983\n",
      "(11.0, 408.92, 100000)\n"
     ]
    },
    {
     "name": "stderr",
     "output_type": "stream",
     "text": [
      "100%|████████████████████████████████████████████████████████████████████████████████████████████████████████████████████████████████████████| 4768/4768 [00:14<00:00, 328.24it/s]\n"
     ]
    },
    {
     "name": "stdout",
     "output_type": "stream",
     "text": [
      "pp->hh\n",
      "In 4768 events\n",
      "Cross section: 138.51101807999999 fb\n",
      "|eta| < 2.5, PT > 40 GeV for 4 b-jets: 4768 138.51101807999999\n",
      "Total number of event with true pairing: 3592\n",
      "Correct selection: 3235 0.9006124721603563\n",
      "Correct pairing: 1697 0.5245749613601236\n",
      "Pairing efficiency: 1697 0.47243875278396436\n"
     ]
    },
    {
     "name": "stderr",
     "output_type": "stream",
     "text": [
      "100%|████████████████████████████████████████████████████████████████████████████████████████████████████████████████████████████████████████| 4768/4768 [00:12<00:00, 367.19it/s]\n"
     ]
    },
    {
     "name": "stdout",
     "output_type": "stream",
     "text": [
      "pp->hh\n",
      "In 4768 events\n",
      "Cross section: 138.51101807999999 fb\n",
      "|eta| < 2.5, PT > 40 GeV for 4 b-jets: 4768 138.51101807999999\n",
      "Total number of event with true pairing: 3592\n",
      "Correct selection: 3301 0.9189866369710468\n",
      "Correct pairing: 2537 0.7685549833383823\n",
      "Pairing efficiency: 2537 0.7062917594654788\n",
      "(12.0, 508.24, 100000)\n"
     ]
    },
    {
     "name": "stderr",
     "output_type": "stream",
     "text": [
      "100%|████████████████████████████████████████████████████████████████████████████████████████████████████████████████████████████████████████| 4815/4815 [00:15<00:00, 318.52it/s]\n"
     ]
    },
    {
     "name": "stdout",
     "output_type": "stream",
     "text": [
      "pp->hh\n",
      "In 4815 events\n",
      "Cross section: 172.15308575999998 fb\n",
      "|eta| < 2.5, PT > 40 GeV for 4 b-jets: 4815 172.15308575999998\n",
      "Total number of event with true pairing: 3674\n",
      "Correct selection: 3342 0.909635274904736\n",
      "Correct pairing: 1839 0.5502692998204668\n",
      "Pairing efficiency: 1839 0.5005443658138269\n"
     ]
    },
    {
     "name": "stderr",
     "output_type": "stream",
     "text": [
      "100%|████████████████████████████████████████████████████████████████████████████████████████████████████████████████████████████████████████| 4815/4815 [00:13<00:00, 362.30it/s]\n"
     ]
    },
    {
     "name": "stdout",
     "output_type": "stream",
     "text": [
      "pp->hh\n",
      "In 4815 events\n",
      "Cross section: 172.15308575999998 fb\n",
      "|eta| < 2.5, PT > 40 GeV for 4 b-jets: 4815 172.15308575999998\n",
      "Total number of event with true pairing: 3674\n",
      "Correct selection: 3401 0.9256940664126293\n",
      "Correct pairing: 2714 0.7980005880623346\n",
      "Pairing efficiency: 2714 0.738704409363092\n",
      "(13.0, 618.63, 100000)\n"
     ]
    },
    {
     "name": "stderr",
     "output_type": "stream",
     "text": [
      "100%|████████████████████████████████████████████████████████████████████████████████████████████████████████████████████████████████████████| 4827/4827 [00:14<00:00, 331.40it/s]\n"
     ]
    },
    {
     "name": "stdout",
     "output_type": "stream",
     "text": [
      "pp->hh\n",
      "In 4827 events\n",
      "Cross section: 209.54482811999995 fb\n",
      "|eta| < 2.5, PT > 40 GeV for 4 b-jets: 4827 209.54482811999995\n",
      "Total number of event with true pairing: 3581\n",
      "Correct selection: 3233 0.902820441217537\n",
      "Correct pairing: 1790 0.5536653263223013\n",
      "Pairing efficiency: 1790 0.4998603741971516\n"
     ]
    },
    {
     "name": "stderr",
     "output_type": "stream",
     "text": [
      "100%|████████████████████████████████████████████████████████████████████████████████████████████████████████████████████████████████████████| 4827/4827 [00:12<00:00, 381.85it/s]\n"
     ]
    },
    {
     "name": "stdout",
     "output_type": "stream",
     "text": [
      "pp->hh\n",
      "In 4827 events\n",
      "Cross section: 209.54482811999995 fb\n",
      "|eta| < 2.5, PT > 40 GeV for 4 b-jets: 4827 209.54482811999995\n",
      "Total number of event with true pairing: 3581\n",
      "Correct selection: 3329 0.9296285953644233\n",
      "Correct pairing: 2645 0.7945328927605888\n",
      "Pairing efficiency: 2645 0.7386204970678582\n",
      "(14.0, 739.65, 100000)\n"
     ]
    },
    {
     "name": "stderr",
     "output_type": "stream",
     "text": [
      "100%|████████████████████████████████████████████████████████████████████████████████████████████████████████████████████████████████████████| 4866/4866 [00:14<00:00, 336.97it/s]\n"
     ]
    },
    {
     "name": "stdout",
     "output_type": "stream",
     "text": [
      "pp->hh\n",
      "In 4866 events\n",
      "Cross section: 250.53720659999996 fb\n",
      "|eta| < 2.5, PT > 40 GeV for 4 b-jets: 4866 250.53720659999996\n",
      "Total number of event with true pairing: 3627\n",
      "Correct selection: 3289 0.9068100358422939\n",
      "Correct pairing: 1842 0.5600486470051688\n",
      "Pairing efficiency: 1842 0.5078577336641853\n"
     ]
    },
    {
     "name": "stderr",
     "output_type": "stream",
     "text": [
      "100%|████████████████████████████████████████████████████████████████████████████████████████████████████████████████████████████████████████| 4866/4866 [00:12<00:00, 384.47it/s]\n"
     ]
    },
    {
     "name": "stdout",
     "output_type": "stream",
     "text": [
      "pp->hh\n",
      "In 4866 events\n",
      "Cross section: 250.53720659999996 fb\n",
      "|eta| < 2.5, PT > 40 GeV for 4 b-jets: 4866 250.53720659999996\n",
      "Total number of event with true pairing: 3627\n",
      "Correct selection: 3356 0.9252826027019575\n",
      "Correct pairing: 2654 0.7908224076281287\n",
      "Pairing efficiency: 2654 0.7317342156051834\n",
      "(15.0, 873.59, 100000)\n"
     ]
    },
    {
     "name": "stderr",
     "output_type": "stream",
     "text": [
      "100%|████████████████████████████████████████████████████████████████████████████████████████████████████████████████████████████████████████| 4841/4841 [00:14<00:00, 323.71it/s]\n"
     ]
    },
    {
     "name": "stdout",
     "output_type": "stream",
     "text": [
      "pp->hh\n",
      "In 4841 events\n",
      "Cross section: 295.90589916 fb\n",
      "|eta| < 2.5, PT > 40 GeV for 4 b-jets: 4841 295.90589916\n",
      "Total number of event with true pairing: 3708\n",
      "Correct selection: 3350 0.9034519956850054\n",
      "Correct pairing: 1914 0.5713432835820895\n",
      "Pairing efficiency: 1914 0.5161812297734628\n"
     ]
    },
    {
     "name": "stderr",
     "output_type": "stream",
     "text": [
      "100%|████████████████████████████████████████████████████████████████████████████████████████████████████████████████████████████████████████| 4841/4841 [00:13<00:00, 361.03it/s]"
     ]
    },
    {
     "name": "stdout",
     "output_type": "stream",
     "text": [
      "pp->hh\n",
      "In 4841 events\n",
      "Cross section: 295.90589916 fb\n",
      "|eta| < 2.5, PT > 40 GeV for 4 b-jets: 4841 295.90589916\n",
      "Total number of event with true pairing: 3708\n",
      "Correct selection: 3437 0.9269147788565264\n",
      "Correct pairing: 2720 0.7913878382310154\n",
      "Pairing efficiency: 2720 0.7335490830636462\n"
     ]
    },
    {
     "name": "stderr",
     "output_type": "stream",
     "text": [
      "\n"
     ]
    }
   ],
   "source": [
    "# Scan kappa\n",
    "kappas, min_dR_pairings, k5_SPANET_pairings = [], [], []\n",
    "\n",
    "for i in range(6,32,1):\n",
    "    pairing_method = 'min-dR'\n",
    "    \n",
    "    sample_dir = '/home/r10222035/CPVDM/Di-Higgs-SM/pphh/Events/'\n",
    "    info = get_info(os.path.join(sample_dir, f'run_{i:02}'))\n",
    "    print(info)\n",
    "    kappas.append(info[0])\n",
    "    xection = info[1] * 0.582 * 0.582\n",
    "    tot_event = info[2]\n",
    "\n",
    "    # calculate pairing performace\n",
    "    file_path = os.path.join(sample_dir, f'run_{i:02}_decayed_1/DiHiggs_4b_PT40.h5')\n",
    "    results = diHiggs_pairing_performance_HDF5(file_path, \n",
    "                                                  None,\n",
    "                                                  pairing_method, \n",
    "                                                  xection, \n",
    "                                                  title='pp->hh', \n",
    "                                                  nevent_max=100000)\n",
    "    min_dR_pairings.append(results)\n",
    "    \n",
    "    truth_file = os.path.join(sample_dir, f'run_{i:02}_decayed_1/DiHiggs_4b_PT40.h5')\n",
    "    predict_file = os.path.join(sample_dir, f'run_{i:02}_decayed_1/DiHiggs_4b_PT40-predict-k5.h5')\n",
    "\n",
    "    results = diHiggs_SPANET_pairing_performance(truth_file,\n",
    "                                                  predict_file,\n",
    "                                                  xection, \n",
    "                                                  title='pp->hh', \n",
    "                                                  nevent_max=100000)\n",
    "    k5_SPANET_pairings.append(results)"
   ]
  },
  {
   "cell_type": "code",
   "execution_count": 12,
   "id": "f87cc409",
   "metadata": {},
   "outputs": [
    {
     "name": "stdout",
     "output_type": "stream",
     "text": [
      "(-10.0, 865.4300000000001, 100000)\n"
     ]
    },
    {
     "name": "stderr",
     "output_type": "stream",
     "text": [
      "100%|████████████████████████████████████████████████████████████████████████████████████████████████████████████████████████████████████████| 5628/5628 [00:16<00:00, 331.14it/s]\n",
      "100%|████████████████████████████████████████████████████████████████████████████████████████████████████████████████████████████████████████| 5628/5628 [00:15<00:00, 367.58it/s]\n",
      "100%|████████████████████████████████████████████████████████████████████████████████████████████████████████████████████████████████████████| 5628/5628 [00:15<00:00, 374.75it/s]\n"
     ]
    },
    {
     "name": "stdout",
     "output_type": "stream",
     "text": [
      "(-9.0, 734.02, 100000)\n"
     ]
    },
    {
     "name": "stderr",
     "output_type": "stream",
     "text": [
      "100%|████████████████████████████████████████████████████████████████████████████████████████████████████████████████████████████████████████| 5698/5698 [00:16<00:00, 340.33it/s]\n",
      "100%|████████████████████████████████████████████████████████████████████████████████████████████████████████████████████████████████████████| 5698/5698 [00:14<00:00, 389.89it/s]\n",
      "100%|████████████████████████████████████████████████████████████████████████████████████████████████████████████████████████████████████████| 5698/5698 [00:14<00:00, 391.38it/s]\n"
     ]
    },
    {
     "name": "stdout",
     "output_type": "stream",
     "text": [
      "(-8.0, 612.39, 100000)\n"
     ]
    },
    {
     "name": "stderr",
     "output_type": "stream",
     "text": [
      "100%|████████████████████████████████████████████████████████████████████████████████████████████████████████████████████████████████████████| 5658/5658 [00:16<00:00, 341.17it/s]\n",
      "100%|████████████████████████████████████████████████████████████████████████████████████████████████████████████████████████████████████████| 5658/5658 [00:14<00:00, 389.13it/s]\n",
      "100%|████████████████████████████████████████████████████████████████████████████████████████████████████████████████████████████████████████| 5658/5658 [00:14<00:00, 385.97it/s]\n"
     ]
    },
    {
     "name": "stdout",
     "output_type": "stream",
     "text": [
      "(-7.0, 502.6, 100000)\n"
     ]
    },
    {
     "name": "stderr",
     "output_type": "stream",
     "text": [
      "100%|████████████████████████████████████████████████████████████████████████████████████████████████████████████████████████████████████████| 5699/5699 [00:16<00:00, 335.80it/s]\n",
      "100%|████████████████████████████████████████████████████████████████████████████████████████████████████████████████████████████████████████| 5699/5699 [00:14<00:00, 388.61it/s]\n",
      "100%|████████████████████████████████████████████████████████████████████████████████████████████████████████████████████████████████████████| 5699/5699 [00:14<00:00, 390.53it/s]\n"
     ]
    },
    {
     "name": "stdout",
     "output_type": "stream",
     "text": [
      "(-6.0, 403.62, 100000)\n"
     ]
    },
    {
     "name": "stderr",
     "output_type": "stream",
     "text": [
      "100%|████████████████████████████████████████████████████████████████████████████████████████████████████████████████████████████████████████| 5878/5878 [00:17<00:00, 342.20it/s]\n",
      "100%|████████████████████████████████████████████████████████████████████████████████████████████████████████████████████████████████████████| 5878/5878 [00:14<00:00, 392.33it/s]\n",
      "100%|████████████████████████████████████████████████████████████████████████████████████████████████████████████████████████████████████████| 5878/5878 [00:15<00:00, 391.18it/s]\n"
     ]
    },
    {
     "name": "stdout",
     "output_type": "stream",
     "text": [
      "(-5.0, 316.29, 100000)\n"
     ]
    },
    {
     "name": "stderr",
     "output_type": "stream",
     "text": [
      "100%|████████████████████████████████████████████████████████████████████████████████████████████████████████████████████████████████████████| 5905/5905 [00:17<00:00, 341.38it/s]\n",
      "100%|████████████████████████████████████████████████████████████████████████████████████████████████████████████████████████████████████████| 5905/5905 [00:15<00:00, 391.21it/s]\n",
      "100%|████████████████████████████████████████████████████████████████████████████████████████████████████████████████████████████████████████| 5905/5905 [00:15<00:00, 391.33it/s]\n"
     ]
    },
    {
     "name": "stdout",
     "output_type": "stream",
     "text": [
      "(-4.0, 239.21, 100000)\n"
     ]
    },
    {
     "name": "stderr",
     "output_type": "stream",
     "text": [
      "100%|████████████████████████████████████████████████████████████████████████████████████████████████████████████████████████████████████████| 6047/6047 [00:17<00:00, 338.42it/s]\n",
      "100%|████████████████████████████████████████████████████████████████████████████████████████████████████████████████████████████████████████| 6047/6047 [00:15<00:00, 389.38it/s]\n",
      "100%|████████████████████████████████████████████████████████████████████████████████████████████████████████████████████████████████████████| 6047/6047 [00:15<00:00, 394.54it/s]\n"
     ]
    },
    {
     "name": "stdout",
     "output_type": "stream",
     "text": [
      "(-3.0, 173.11, 100000)\n"
     ]
    },
    {
     "name": "stderr",
     "output_type": "stream",
     "text": [
      "100%|████████████████████████████████████████████████████████████████████████████████████████████████████████████████████████████████████████| 6234/6234 [00:18<00:00, 337.37it/s]\n",
      "100%|████████████████████████████████████████████████████████████████████████████████████████████████████████████████████████████████████████| 6234/6234 [00:16<00:00, 385.44it/s]\n",
      "100%|████████████████████████████████████████████████████████████████████████████████████████████████████████████████████████████████████████| 6234/6234 [00:16<00:00, 383.32it/s]\n"
     ]
    },
    {
     "name": "stdout",
     "output_type": "stream",
     "text": [
      "(-2.0, 118.59, 100000)\n"
     ]
    },
    {
     "name": "stderr",
     "output_type": "stream",
     "text": [
      "100%|████████████████████████████████████████████████████████████████████████████████████████████████████████████████████████████████████████| 6488/6488 [00:19<00:00, 325.93it/s]\n",
      "100%|████████████████████████████████████████████████████████████████████████████████████████████████████████████████████████████████████████| 6488/6488 [00:16<00:00, 386.53it/s]\n",
      "100%|████████████████████████████████████████████████████████████████████████████████████████████████████████████████████████████████████████| 6488/6488 [00:16<00:00, 385.51it/s]\n"
     ]
    },
    {
     "name": "stdout",
     "output_type": "stream",
     "text": [
      "(-1.0, 74.776, 100000)\n"
     ]
    },
    {
     "name": "stderr",
     "output_type": "stream",
     "text": [
      "100%|████████████████████████████████████████████████████████████████████████████████████████████████████████████████████████████████████████| 6770/6770 [00:20<00:00, 334.72it/s]\n",
      "100%|████████████████████████████████████████████████████████████████████████████████████████████████████████████████████████████████████████| 6770/6770 [00:17<00:00, 381.36it/s]\n",
      "100%|████████████████████████████████████████████████████████████████████████████████████████████████████████████████████████████████████████| 6770/6770 [00:17<00:00, 383.85it/s]\n"
     ]
    },
    {
     "name": "stdout",
     "output_type": "stream",
     "text": [
      "(0.0, 42.007999999999996, 100000)\n"
     ]
    },
    {
     "name": "stderr",
     "output_type": "stream",
     "text": [
      "100%|████████████████████████████████████████████████████████████████████████████████████████████████████████████████████████████████████████| 7283/7283 [00:21<00:00, 337.95it/s]\n",
      "100%|████████████████████████████████████████████████████████████████████████████████████████████████████████████████████████████████████████| 7283/7283 [00:18<00:00, 387.15it/s]\n",
      "100%|████████████████████████████████████████████████████████████████████████████████████████████████████████████████████████████████████████| 7283/7283 [00:18<00:00, 389.19it/s]\n"
     ]
    },
    {
     "name": "stdout",
     "output_type": "stream",
     "text": [
      "(1.0, 20.251, 100000)\n"
     ]
    },
    {
     "name": "stderr",
     "output_type": "stream",
     "text": [
      "100%|████████████████████████████████████████████████████████████████████████████████████████████████████████████████████████████████████████| 8479/8479 [00:25<00:00, 333.78it/s]\n",
      "100%|████████████████████████████████████████████████████████████████████████████████████████████████████████████████████████████████████████| 8479/8479 [00:22<00:00, 377.67it/s]\n",
      "100%|████████████████████████████████████████████████████████████████████████████████████████████████████████████████████████████████████████| 8479/8479 [00:22<00:00, 382.16it/s]\n"
     ]
    },
    {
     "name": "stdout",
     "output_type": "stream",
     "text": [
      "(2.0, 9.519599999999999, 100000)\n"
     ]
    },
    {
     "name": "stderr",
     "output_type": "stream",
     "text": [
      "100%|████████████████████████████████████████████████████████████████████████████████████████████████████████████████████████████████████████| 9382/9382 [00:28<00:00, 331.41it/s]\n",
      "100%|████████████████████████████████████████████████████████████████████████████████████████████████████████████████████████████████████████| 9382/9382 [00:24<00:00, 376.10it/s]\n",
      "100%|████████████████████████████████████████████████████████████████████████████████████████████████████████████████████████████████████████| 9382/9382 [00:25<00:00, 375.21it/s]\n"
     ]
    },
    {
     "name": "stdout",
     "output_type": "stream",
     "text": [
      "(3.0, 9.818900000000001, 100000)\n"
     ]
    },
    {
     "name": "stderr",
     "output_type": "stream",
     "text": [
      "100%|████████████████████████████████████████████████████████████████████████████████████████████████████████████████████████████████████████| 6615/6615 [00:20<00:00, 329.60it/s]\n",
      "100%|████████████████████████████████████████████████████████████████████████████████████████████████████████████████████████████████████████| 6615/6615 [00:17<00:00, 378.82it/s]\n",
      "100%|████████████████████████████████████████████████████████████████████████████████████████████████████████████████████████████████████████| 6615/6615 [00:17<00:00, 381.31it/s]\n"
     ]
    },
    {
     "name": "stdout",
     "output_type": "stream",
     "text": [
      "(4.0, 21.144, 100000)\n"
     ]
    },
    {
     "name": "stderr",
     "output_type": "stream",
     "text": [
      "100%|████████████████████████████████████████████████████████████████████████████████████████████████████████████████████████████████████████| 4657/4657 [00:13<00:00, 336.69it/s]\n",
      "100%|████████████████████████████████████████████████████████████████████████████████████████████████████████████████████████████████████████| 4657/4657 [00:12<00:00, 387.45it/s]\n",
      "100%|████████████████████████████████████████████████████████████████████████████████████████████████████████████████████████████████████████| 4657/4657 [00:12<00:00, 386.28it/s]\n"
     ]
    },
    {
     "name": "stdout",
     "output_type": "stream",
     "text": [
      "(5.0, 43.476, 100000)\n"
     ]
    },
    {
     "name": "stderr",
     "output_type": "stream",
     "text": [
      "100%|████████████████████████████████████████████████████████████████████████████████████████████████████████████████████████████████████████| 4273/4273 [00:12<00:00, 336.43it/s]\n",
      "100%|████████████████████████████████████████████████████████████████████████████████████████████████████████████████████████████████████████| 4273/4273 [00:11<00:00, 384.32it/s]\n",
      "100%|████████████████████████████████████████████████████████████████████████████████████████████████████████████████████████████████████████| 4273/4273 [00:11<00:00, 370.36it/s]\n"
     ]
    },
    {
     "name": "stdout",
     "output_type": "stream",
     "text": [
      "(6.0, 76.793, 100000)\n"
     ]
    },
    {
     "name": "stderr",
     "output_type": "stream",
     "text": [
      "100%|████████████████████████████████████████████████████████████████████████████████████████████████████████████████████████████████████████| 4380/4380 [00:14<00:00, 312.00it/s]\n",
      "100%|████████████████████████████████████████████████████████████████████████████████████████████████████████████████████████████████████████| 4380/4380 [00:11<00:00, 379.36it/s]\n",
      "100%|████████████████████████████████████████████████████████████████████████████████████████████████████████████████████████████████████████| 4380/4380 [00:11<00:00, 382.30it/s]\n"
     ]
    },
    {
     "name": "stdout",
     "output_type": "stream",
     "text": [
      "(7.0, 121.21, 100000)\n"
     ]
    },
    {
     "name": "stderr",
     "output_type": "stream",
     "text": [
      "100%|████████████████████████████████████████████████████████████████████████████████████████████████████████████████████████████████████████| 4517/4517 [00:13<00:00, 339.00it/s]\n",
      "100%|████████████████████████████████████████████████████████████████████████████████████████████████████████████████████████████████████████| 4517/4517 [00:11<00:00, 388.82it/s]\n",
      "100%|████████████████████████████████████████████████████████████████████████████████████████████████████████████████████████████████████████| 4517/4517 [00:11<00:00, 390.18it/s]\n"
     ]
    },
    {
     "name": "stdout",
     "output_type": "stream",
     "text": [
      "(8.0, 176.6, 100000)\n"
     ]
    },
    {
     "name": "stderr",
     "output_type": "stream",
     "text": [
      "100%|████████████████████████████████████████████████████████████████████████████████████████████████████████████████████████████████████████| 4605/4605 [00:13<00:00, 340.61it/s]\n",
      "100%|████████████████████████████████████████████████████████████████████████████████████████████████████████████████████████████████████████| 4605/4605 [00:11<00:00, 389.85it/s]\n",
      "100%|████████████████████████████████████████████████████████████████████████████████████████████████████████████████████████████████████████| 4605/4605 [00:11<00:00, 388.21it/s]\n"
     ]
    },
    {
     "name": "stdout",
     "output_type": "stream",
     "text": [
      "(9.0, 243.10000000000002, 100000)\n"
     ]
    },
    {
     "name": "stderr",
     "output_type": "stream",
     "text": [
      "100%|████████████████████████████████████████████████████████████████████████████████████████████████████████████████████████████████████████| 4668/4668 [00:13<00:00, 340.08it/s]\n",
      "100%|████████████████████████████████████████████████████████████████████████████████████████████████████████████████████████████████████████| 4668/4668 [00:12<00:00, 374.27it/s]\n",
      "100%|████████████████████████████████████████████████████████████████████████████████████████████████████████████████████████████████████████| 4668/4668 [00:12<00:00, 383.03it/s]\n"
     ]
    },
    {
     "name": "stdout",
     "output_type": "stream",
     "text": [
      "(10.0, 320.37, 100000)\n"
     ]
    },
    {
     "name": "stderr",
     "output_type": "stream",
     "text": [
      "100%|████████████████████████████████████████████████████████████████████████████████████████████████████████████████████████████████████████| 4680/4680 [00:14<00:00, 332.30it/s]\n",
      "100%|████████████████████████████████████████████████████████████████████████████████████████████████████████████████████████████████████████| 4680/4680 [00:12<00:00, 377.47it/s]\n",
      "100%|████████████████████████████████████████████████████████████████████████████████████████████████████████████████████████████████████████| 4680/4680 [00:12<00:00, 387.42it/s]\n"
     ]
    },
    {
     "name": "stdout",
     "output_type": "stream",
     "text": [
      "(11.0, 408.92, 100000)\n"
     ]
    },
    {
     "name": "stderr",
     "output_type": "stream",
     "text": [
      "100%|████████████████████████████████████████████████████████████████████████████████████████████████████████████████████████████████████████| 4768/4768 [00:14<00:00, 339.40it/s]\n",
      "100%|████████████████████████████████████████████████████████████████████████████████████████████████████████████████████████████████████████| 4768/4768 [00:12<00:00, 386.82it/s]\n",
      "100%|████████████████████████████████████████████████████████████████████████████████████████████████████████████████████████████████████████| 4768/4768 [00:12<00:00, 389.11it/s]\n"
     ]
    },
    {
     "name": "stdout",
     "output_type": "stream",
     "text": [
      "(12.0, 508.24, 100000)\n"
     ]
    },
    {
     "name": "stderr",
     "output_type": "stream",
     "text": [
      "100%|████████████████████████████████████████████████████████████████████████████████████████████████████████████████████████████████████████| 4815/4815 [00:14<00:00, 337.03it/s]\n",
      "100%|████████████████████████████████████████████████████████████████████████████████████████████████████████████████████████████████████████| 4815/4815 [00:12<00:00, 388.74it/s]\n",
      "100%|████████████████████████████████████████████████████████████████████████████████████████████████████████████████████████████████████████| 4815/4815 [00:12<00:00, 387.17it/s]\n"
     ]
    },
    {
     "name": "stdout",
     "output_type": "stream",
     "text": [
      "(13.0, 618.63, 100000)\n"
     ]
    },
    {
     "name": "stderr",
     "output_type": "stream",
     "text": [
      "100%|████████████████████████████████████████████████████████████████████████████████████████████████████████████████████████████████████████| 4827/4827 [00:14<00:00, 339.78it/s]\n",
      "100%|████████████████████████████████████████████████████████████████████████████████████████████████████████████████████████████████████████| 4827/4827 [00:12<00:00, 389.70it/s]\n",
      "100%|████████████████████████████████████████████████████████████████████████████████████████████████████████████████████████████████████████| 4827/4827 [00:12<00:00, 390.61it/s]\n"
     ]
    },
    {
     "name": "stdout",
     "output_type": "stream",
     "text": [
      "(14.0, 739.65, 100000)\n"
     ]
    },
    {
     "name": "stderr",
     "output_type": "stream",
     "text": [
      "100%|████████████████████████████████████████████████████████████████████████████████████████████████████████████████████████████████████████| 4866/4866 [00:14<00:00, 337.22it/s]\n",
      "100%|████████████████████████████████████████████████████████████████████████████████████████████████████████████████████████████████████████| 4866/4866 [00:12<00:00, 391.21it/s]\n",
      "100%|████████████████████████████████████████████████████████████████████████████████████████████████████████████████████████████████████████| 4866/4866 [00:12<00:00, 390.67it/s]\n"
     ]
    },
    {
     "name": "stdout",
     "output_type": "stream",
     "text": [
      "(15.0, 873.59, 100000)\n"
     ]
    },
    {
     "name": "stderr",
     "output_type": "stream",
     "text": [
      "100%|████████████████████████████████████████████████████████████████████████████████████████████████████████████████████████████████████████| 4841/4841 [00:14<00:00, 334.29it/s]\n",
      "100%|████████████████████████████████████████████████████████████████████████████████████████████████████████████████████████████████████████| 4841/4841 [00:12<00:00, 386.11it/s]\n",
      "100%|████████████████████████████████████████████████████████████████████████████████████████████████████████████████████████████████████████| 4841/4841 [00:12<00:00, 389.67it/s]\n"
     ]
    }
   ],
   "source": [
    "# Scan kappa\n",
    "kappas, min_dR_pairings, k5_SPANET_pairings, mix_SPANET_pairings = [], [], [], []\n",
    "\n",
    "for i in range(6,32,1):\n",
    "    pairing_method = 'min-dR'\n",
    "    \n",
    "    sample_dir = '/home/r10222035/CPVDM/Di-Higgs-SM/pphh/Events/'\n",
    "    info = get_info(os.path.join(sample_dir, f'run_{i:02}'))\n",
    "    print(info)\n",
    "    kappas.append(info[0])\n",
    "    xection = info[1] * 0.582 * 0.582\n",
    "    tot_event = info[2]\n",
    "\n",
    "    # calculate pairing performace\n",
    "    file_path = os.path.join(sample_dir, f'run_{i:02}_decayed_1/DiHiggs_4b_PT40.h5')\n",
    "    results = diHiggs_pairing_performance_HDF5(file_path, \n",
    "                                                  None,\n",
    "                                                  pairing_method, \n",
    "                                                  xection, \n",
    "                                                  title='pp->hh', \n",
    "                                                  nevent_max=100000)\n",
    "    min_dR_pairings.append(results)\n",
    "    \n",
    "    truth_file = os.path.join(sample_dir, f'run_{i:02}_decayed_1/DiHiggs_4b_PT40.h5')\n",
    "    predict_file = os.path.join(sample_dir, f'run_{i:02}_decayed_1/DiHiggs_4b_PT40-predict-k5.h5')\n",
    "\n",
    "    results = diHiggs_SPANET_pairing_performance(truth_file,\n",
    "                                                  predict_file,\n",
    "                                                  xection, \n",
    "                                                  title='pp->hh', \n",
    "                                                  nevent_max=100000)\n",
    "    k5_SPANET_pairings.append(results)\n",
    "    \n",
    "    truth_file = os.path.join(sample_dir, f'run_{i:02}_decayed_1/DiHiggs_4b_PT40.h5')\n",
    "    predict_file = os.path.join(sample_dir, f'run_{i:02}_decayed_1/DiHiggs_4b_PT40_kappa-predict-mix.h5')\n",
    "\n",
    "    results = diHiggs_SPANET_pairing_performance(truth_file,\n",
    "                                                  predict_file,\n",
    "                                                  xection, \n",
    "                                                  title='pp->hh', \n",
    "                                                  nevent_max=100000)\n",
    "    mix_SPANET_pairings.append(results)"
   ]
  },
  {
   "cell_type": "markdown",
   "id": "08565773",
   "metadata": {},
   "source": [
    "# SPANET2 "
   ]
  },
  {
   "cell_type": "markdown",
   "metadata": {},
   "source": [
    "## Non-resonant"
   ]
  },
  {
   "cell_type": "code",
   "execution_count": 12,
   "id": "733707c5",
   "metadata": {},
   "outputs": [
    {
     "name": "stdout",
     "output_type": "stream",
     "text": [
      "6\n"
     ]
    },
    {
     "name": "stderr",
     "output_type": "stream",
     "text": [
      "100%|██████████| 5628/5628 [00:11<00:00, 473.81it/s]\n"
     ]
    },
    {
     "name": "stdout",
     "output_type": "stream",
     "text": [
      "7\n"
     ]
    },
    {
     "name": "stderr",
     "output_type": "stream",
     "text": [
      "100%|██████████| 5698/5698 [00:12<00:00, 474.79it/s]\n"
     ]
    },
    {
     "name": "stdout",
     "output_type": "stream",
     "text": [
      "8\n"
     ]
    },
    {
     "name": "stderr",
     "output_type": "stream",
     "text": [
      "100%|██████████| 5658/5658 [00:11<00:00, 475.63it/s]\n"
     ]
    },
    {
     "name": "stdout",
     "output_type": "stream",
     "text": [
      "9\n"
     ]
    },
    {
     "name": "stderr",
     "output_type": "stream",
     "text": [
      "100%|██████████| 5699/5699 [00:12<00:00, 472.05it/s]\n"
     ]
    },
    {
     "name": "stdout",
     "output_type": "stream",
     "text": [
      "10\n"
     ]
    },
    {
     "name": "stderr",
     "output_type": "stream",
     "text": [
      "100%|██████████| 5878/5878 [00:12<00:00, 471.55it/s]\n"
     ]
    },
    {
     "name": "stdout",
     "output_type": "stream",
     "text": [
      "11\n"
     ]
    },
    {
     "name": "stderr",
     "output_type": "stream",
     "text": [
      "100%|██████████| 5905/5905 [00:12<00:00, 473.04it/s]\n"
     ]
    },
    {
     "name": "stdout",
     "output_type": "stream",
     "text": [
      "12\n"
     ]
    },
    {
     "name": "stderr",
     "output_type": "stream",
     "text": [
      "100%|██████████| 6047/6047 [00:12<00:00, 477.55it/s]\n"
     ]
    },
    {
     "name": "stdout",
     "output_type": "stream",
     "text": [
      "13\n"
     ]
    },
    {
     "name": "stderr",
     "output_type": "stream",
     "text": [
      "100%|██████████| 6234/6234 [00:13<00:00, 473.72it/s]\n"
     ]
    },
    {
     "name": "stdout",
     "output_type": "stream",
     "text": [
      "14\n"
     ]
    },
    {
     "name": "stderr",
     "output_type": "stream",
     "text": [
      "100%|██████████| 6488/6488 [00:13<00:00, 475.68it/s]\n"
     ]
    },
    {
     "name": "stdout",
     "output_type": "stream",
     "text": [
      "15\n"
     ]
    },
    {
     "name": "stderr",
     "output_type": "stream",
     "text": [
      "100%|██████████| 6770/6770 [00:14<00:00, 478.17it/s]\n"
     ]
    },
    {
     "name": "stdout",
     "output_type": "stream",
     "text": [
      "16\n"
     ]
    },
    {
     "name": "stderr",
     "output_type": "stream",
     "text": [
      "100%|██████████| 7283/7283 [00:15<00:00, 477.79it/s]\n"
     ]
    },
    {
     "name": "stdout",
     "output_type": "stream",
     "text": [
      "17\n"
     ]
    },
    {
     "name": "stderr",
     "output_type": "stream",
     "text": [
      "100%|██████████| 8479/8479 [00:17<00:00, 473.97it/s]\n"
     ]
    },
    {
     "name": "stdout",
     "output_type": "stream",
     "text": [
      "18\n"
     ]
    },
    {
     "name": "stderr",
     "output_type": "stream",
     "text": [
      "100%|██████████| 9382/9382 [00:19<00:00, 476.52it/s]\n"
     ]
    },
    {
     "name": "stdout",
     "output_type": "stream",
     "text": [
      "19\n"
     ]
    },
    {
     "name": "stderr",
     "output_type": "stream",
     "text": [
      "100%|██████████| 6615/6615 [00:13<00:00, 481.96it/s]\n"
     ]
    },
    {
     "name": "stdout",
     "output_type": "stream",
     "text": [
      "20\n"
     ]
    },
    {
     "name": "stderr",
     "output_type": "stream",
     "text": [
      "100%|██████████| 4657/4657 [00:09<00:00, 485.88it/s]\n"
     ]
    },
    {
     "name": "stdout",
     "output_type": "stream",
     "text": [
      "21\n"
     ]
    },
    {
     "name": "stderr",
     "output_type": "stream",
     "text": [
      "100%|██████████| 4273/4273 [00:08<00:00, 482.25it/s]\n"
     ]
    },
    {
     "name": "stdout",
     "output_type": "stream",
     "text": [
      "22\n"
     ]
    },
    {
     "name": "stderr",
     "output_type": "stream",
     "text": [
      "100%|██████████| 4380/4380 [00:09<00:00, 486.47it/s]\n"
     ]
    },
    {
     "name": "stdout",
     "output_type": "stream",
     "text": [
      "23\n"
     ]
    },
    {
     "name": "stderr",
     "output_type": "stream",
     "text": [
      "100%|██████████| 4517/4517 [00:09<00:00, 485.01it/s]\n"
     ]
    },
    {
     "name": "stdout",
     "output_type": "stream",
     "text": [
      "24\n"
     ]
    },
    {
     "name": "stderr",
     "output_type": "stream",
     "text": [
      "100%|██████████| 4605/4605 [00:09<00:00, 484.89it/s]\n"
     ]
    },
    {
     "name": "stdout",
     "output_type": "stream",
     "text": [
      "25\n"
     ]
    },
    {
     "name": "stderr",
     "output_type": "stream",
     "text": [
      "100%|██████████| 4668/4668 [00:09<00:00, 484.28it/s]\n"
     ]
    },
    {
     "name": "stdout",
     "output_type": "stream",
     "text": [
      "26\n"
     ]
    },
    {
     "name": "stderr",
     "output_type": "stream",
     "text": [
      "100%|██████████| 4680/4680 [00:09<00:00, 481.34it/s]\n"
     ]
    },
    {
     "name": "stdout",
     "output_type": "stream",
     "text": [
      "27\n"
     ]
    },
    {
     "name": "stderr",
     "output_type": "stream",
     "text": [
      "100%|██████████| 4768/4768 [00:09<00:00, 487.10it/s]\n"
     ]
    },
    {
     "name": "stdout",
     "output_type": "stream",
     "text": [
      "28\n"
     ]
    },
    {
     "name": "stderr",
     "output_type": "stream",
     "text": [
      "100%|██████████| 4815/4815 [00:10<00:00, 480.25it/s]\n"
     ]
    },
    {
     "name": "stdout",
     "output_type": "stream",
     "text": [
      "29\n"
     ]
    },
    {
     "name": "stderr",
     "output_type": "stream",
     "text": [
      "100%|██████████| 4827/4827 [00:09<00:00, 485.08it/s]\n"
     ]
    },
    {
     "name": "stdout",
     "output_type": "stream",
     "text": [
      "30\n"
     ]
    },
    {
     "name": "stderr",
     "output_type": "stream",
     "text": [
      "100%|██████████| 4866/4866 [00:10<00:00, 484.63it/s]\n"
     ]
    },
    {
     "name": "stdout",
     "output_type": "stream",
     "text": [
      "31\n"
     ]
    },
    {
     "name": "stderr",
     "output_type": "stream",
     "text": [
      "100%|██████████| 4841/4841 [00:10<00:00, 482.16it/s]\n"
     ]
    }
   ],
   "source": [
    "# Scan kappa\n",
    "kappas, min_dR_pairings,  mix_cls_SPANET_pairings = [], [], []\n",
    "sample_dir = '/home/r10222035/CPVDM/Di-Higgs-SM/pphh/Events/'\n",
    "for i in range(6,32,1):\n",
    "    print(i)\n",
    "    info = get_info(os.path.join(sample_dir, f'run_{i:02}'))\n",
    "    kappas.append(info[0])\n",
    "\n",
    "    # min-dR\n",
    "    pairing_method = 'min-dR'\n",
    "    file_path = os.path.join(sample_dir, f'run_{i:02}_decayed_1/DiHiggs_4b_PT40_SPANET2_with_pairing.h5')\n",
    "    results = diHiggs_pairing_performance_new(file_path, pairing_method)\n",
    "    min_dR_pairings.append(results)\n",
    "\n",
    "    # Mixing kappa classification SPANet2\n",
    "    truth_file = os.path.join(sample_dir, f'run_{i:02}_decayed_1/DiHiggs_4b_PT40_SPANET2_with_pairing.h5')\n",
    "    predict_file = os.path.join(sample_dir, f'run_{i:02}_decayed_1/DiHiggs_4b_PT40_SPANET2_with_pairing-mix-class-predict.h5')\n",
    "    results = diHiggs_pairing_performance_SPANET2(truth_file, predict_file)\n",
    "    mix_cls_SPANET_pairings.append(results)"
   ]
  },
  {
   "cell_type": "markdown",
   "id": "5cc84547",
   "metadata": {},
   "source": [
    "## Resonant"
   ]
  },
  {
   "cell_type": "code",
   "execution_count": 15,
   "id": "b033684a",
   "metadata": {},
   "outputs": [
    {
     "name": "stdout",
     "output_type": "stream",
     "text": [
      "300\n"
     ]
    },
    {
     "name": "stderr",
     "output_type": "stream",
     "text": [
      "  0%|          | 0/11336 [00:00<?, ?it/s]"
     ]
    },
    {
     "name": "stderr",
     "output_type": "stream",
     "text": [
      "100%|██████████| 11336/11336 [00:29<00:00, 384.98it/s]\n",
      "100%|██████████| 11336/11336 [00:29<00:00, 388.09it/s]\n"
     ]
    },
    {
     "name": "stdout",
     "output_type": "stream",
     "text": [
      "400\n"
     ]
    },
    {
     "name": "stderr",
     "output_type": "stream",
     "text": [
      "100%|██████████| 13237/13237 [00:34<00:00, 386.60it/s]\n",
      "100%|██████████| 13237/13237 [00:34<00:00, 388.25it/s]\n"
     ]
    },
    {
     "name": "stdout",
     "output_type": "stream",
     "text": [
      "500\n"
     ]
    },
    {
     "name": "stderr",
     "output_type": "stream",
     "text": [
      "100%|██████████| 13520/13520 [00:34<00:00, 386.36it/s]\n",
      "100%|██████████| 13520/13520 [00:34<00:00, 388.68it/s]\n"
     ]
    },
    {
     "name": "stdout",
     "output_type": "stream",
     "text": [
      "600\n"
     ]
    },
    {
     "name": "stderr",
     "output_type": "stream",
     "text": [
      "100%|██████████| 17648/17648 [00:45<00:00, 386.21it/s]\n",
      "100%|██████████| 17648/17648 [00:45<00:00, 384.55it/s]\n"
     ]
    },
    {
     "name": "stdout",
     "output_type": "stream",
     "text": [
      "700\n"
     ]
    },
    {
     "name": "stderr",
     "output_type": "stream",
     "text": [
      "100%|██████████| 10342/10342 [00:27<00:00, 382.24it/s]\n",
      "100%|██████████| 10342/10342 [00:27<00:00, 382.69it/s]\n"
     ]
    },
    {
     "name": "stdout",
     "output_type": "stream",
     "text": [
      "800\n"
     ]
    },
    {
     "name": "stderr",
     "output_type": "stream",
     "text": [
      "100%|██████████| 11314/11314 [00:29<00:00, 380.96it/s]\n",
      "100%|██████████| 11314/11314 [00:29<00:00, 380.58it/s]\n"
     ]
    },
    {
     "name": "stdout",
     "output_type": "stream",
     "text": [
      "900\n"
     ]
    },
    {
     "name": "stderr",
     "output_type": "stream",
     "text": [
      "100%|██████████| 11848/11848 [00:31<00:00, 376.92it/s]\n",
      "100%|██████████| 11848/11848 [00:31<00:00, 379.60it/s]\n"
     ]
    },
    {
     "name": "stdout",
     "output_type": "stream",
     "text": [
      "1000\n"
     ]
    },
    {
     "name": "stderr",
     "output_type": "stream",
     "text": [
      "100%|██████████| 12234/12234 [00:32<00:00, 376.80it/s]\n",
      "100%|██████████| 12234/12234 [00:32<00:00, 377.82it/s]\n"
     ]
    },
    {
     "name": "stdout",
     "output_type": "stream",
     "text": [
      "1100\n"
     ]
    },
    {
     "name": "stderr",
     "output_type": "stream",
     "text": [
      "100%|██████████| 11591/11591 [00:30<00:00, 376.69it/s]\n",
      "100%|██████████| 11591/11591 [00:30<00:00, 377.44it/s]\n"
     ]
    },
    {
     "name": "stdout",
     "output_type": "stream",
     "text": [
      "1200\n"
     ]
    },
    {
     "name": "stderr",
     "output_type": "stream",
     "text": [
      "100%|██████████| 10310/10310 [00:27<00:00, 372.27it/s]\n",
      "100%|██████████| 10310/10310 [00:27<00:00, 376.18it/s]\n"
     ]
    }
   ],
   "source": [
    "masses, min_dR_pairings, DHH_dR_pairings, SPANET_pairings, SPANET_cls_pairings = [], [], [], [], []\n",
    "\n",
    "for m in range(300,1201,100):\n",
    "    \n",
    "    masses.append(m)\n",
    "    print(m)\n",
    "    \n",
    "    sample_dir = f'../Sample/THDM-testing/Parameter_Scanning/MG5/proc_ppHhh_{m}GeV/Events/h5_data/'\n",
    "    \n",
    "    # dR-minDHH\n",
    "    pairing_method = 'DHH-dR'\n",
    "    file_path = os.path.join(sample_dir, f'DiHiggs_4b_PT40.h5')\n",
    "    results = diHiggs_pairing_performance_new(file_path, pairing_method)\n",
    "    DHH_dR_pairings.append(results)\n",
    "\n",
    "    # min-dR\n",
    "    pairing_method = 'min-dR'\n",
    "    # file_path = os.path.join(sample_dir, f'DiHiggs_4b_PT40.h5')\n",
    "    results = diHiggs_pairing_performance_new(file_path, pairing_method)\n",
    "    min_dR_pairings.append(results)\n",
    "    \n",
    "    # SPANET with classification\n",
    "    truth_file = os.path.join(sample_dir, f'DiHiggs_4b_PT40.h5')\n",
    "    predict_file = os.path.join(sample_dir, f'DiHiggs_4b_PT40-cls-predict.h5')\n",
    "    results = diHiggs_pairing_performance_SPANET2(truth_file, predict_file)\n",
    "    SPANET_cls_pairings.append(results)"
   ]
  },
  {
   "cell_type": "markdown",
   "id": "8c468273",
   "metadata": {},
   "source": [
    "# Plot "
   ]
  },
  {
   "cell_type": "code",
   "execution_count": 13,
   "id": "2ac07b6e",
   "metadata": {},
   "outputs": [],
   "source": [
    "def get_pairing_efficiency(pairings):\n",
    "    eff = {'4':[], '5':[], '>=6':[], 'total':[]}\n",
    "    for results in pairings:\n",
    "        eff['4'].append(results['correct pair'][4].sum() / results['Matching'][4].sum())\n",
    "        eff['5'].append(results['correct pair'][5].sum() / results['Matching'][5].sum())\n",
    "        eff['>=6'].append(results['correct pair'][6:].sum() / results['Matching'][6:].sum())\n",
    "        eff['total'].append(results['correct pair'][:].sum() / results['Matching'][:].sum())\n",
    "    return eff\n",
    "\n",
    "def get_interpolate(x, y):\n",
    "    x = np.array(x)\n",
    "    y = np.array(y)\n",
    "    \n",
    "    arg = x.argsort()\n",
    "    x = x[arg]\n",
    "    y = y[arg]\n",
    "\n",
    "    # interpolate\n",
    "    f = interpolate.UnivariateSpline(x, y, s=0, k=1)\n",
    "\n",
    "    x_new = np.linspace(x.min(), x.max(), 100)\n",
    "    y_new = f(x_new)\n",
    "    \n",
    "    return x_new, y_new\n",
    "\n",
    "def plot_eff(eff, title):\n",
    "    for i, (k, v) in enumerate(eff.items()):\n",
    "        x, y = get_interpolate(masses, v)\n",
    "        axes[i].plot(x, y, label=title)"
   ]
  },
  {
   "cell_type": "code",
   "execution_count": 11,
   "id": "06a61295",
   "metadata": {},
   "outputs": [
    {
     "data": {
      "image/png": "[encoded data removed]",
      "text/plain": [
       "<Figure size 432x360 with 1 Axes>"
      ]
     },
     "metadata": {
      "needs_background": "light"
     },
     "output_type": "display_data"
    }
   ],
   "source": [
    "x = np.array(kappas)\n",
    "min_dR_eff = [results['correct pair'] / results['Matching'] for results in min_dR_pairings]\n",
    "SPANET_eff = [results['correct pair'] / results['Matching'] for results in SPANET_pairings]\n",
    "\n",
    "fig, ax = plt.subplots(1,1, figsize=(6,5))\n",
    "ax.plot(x, np.ones_like(x), 'k--')\n",
    "ax.scatter(x, min_dR_eff, label='min-$\\Delta R$')\n",
    "ax.scatter(x, SPANET_eff, label='SPA-NET')\n",
    "ax.legend()\n",
    "ax.set_ylim(0,1.2)\n",
    "ax.set_xlabel('$\\kappa_\\lambda$')\n",
    "ax.set_ylabel('Efficiency')\n",
    "ax.set_title('')\n",
    "\n",
    "plt.savefig('figures/pairing_efficiency_kappa.png', facecolor='White', dpi=300, bbox_inches = 'tight')\n",
    "\n",
    "plt.show()"
   ]
  },
  {
   "cell_type": "code",
   "execution_count": 12,
   "id": "6182ce7c",
   "metadata": {},
   "outputs": [
    {
     "data": {
      "image/png": "[encoded data removed]",
      "text/plain": [
       "<Figure size 432x360 with 1 Axes>"
      ]
     },
     "metadata": {
      "needs_background": "light"
     },
     "output_type": "display_data"
    }
   ],
   "source": [
    "x = np.array(kappas)\n",
    "min_dR_eff = [results['correct pair'] / results['Matching'] for results in min_dR_pairings]\n",
    "SPANET_eff = [results['correct pair'] / results['Matching'] for results in k5_SPANET_pairings]\n",
    "\n",
    "fig, ax = plt.subplots(1,1, figsize=(6,5))\n",
    "ax.plot(x, np.ones_like(x), 'k--')\n",
    "ax.scatter(x, min_dR_eff, label='min-$\\Delta R$')\n",
    "ax.scatter(x, SPANET_eff, label='$\\kappa 5$ SPA-NET')\n",
    "ax.legend()\n",
    "ax.set_ylim(0,1.2)\n",
    "ax.set_xlabel('$\\kappa_\\lambda$')\n",
    "ax.set_ylabel('Efficiency')\n",
    "ax.set_title('')\n",
    "\n",
    "plt.savefig('figures/pairing_efficiency_kappa-k5.png', facecolor='White',dpi=300, bbox_inches = 'tight')\n",
    "\n",
    "plt.show()"
   ]
  },
  {
   "cell_type": "code",
   "execution_count": 13,
   "id": "e61d8af5",
   "metadata": {},
   "outputs": [
    {
     "data": {
      "image/png": "[encoded data removed]",
      "text/plain": [
       "<Figure size 432x360 with 1 Axes>"
      ]
     },
     "metadata": {
      "needs_background": "light"
     },
     "output_type": "display_data"
    }
   ],
   "source": [
    "x = np.array(kappas)\n",
    "min_dR_eff = [results['correct pair'] / results['Matching'] for results in min_dR_pairings]\n",
    "k5_SPANET_eff = [results['correct pair'] / results['Matching'] for results in k5_SPANET_pairings]\n",
    "mix_SPANET_eff = [results['correct pair'] / results['Matching'] for results in mix_SPANET_pairings]\n",
    "\n",
    "fig, ax = plt.subplots(1,1, figsize=(6,5))\n",
    "ax.plot(x, np.ones_like(x), 'k--')\n",
    "ax.scatter(x, min_dR_eff, label='min-$\\Delta R$')\n",
    "ax.scatter(x, k5_SPANET_eff, label='$\\kappa 5$ SPA-NET')\n",
    "ax.scatter(x, mix_SPANET_eff, label='mix SPA-NET')\n",
    "ax.legend()\n",
    "ax.set_ylim(0,1.2)\n",
    "ax.set_xlabel('$\\kappa_\\lambda$')\n",
    "ax.set_ylabel('Efficiency')\n",
    "ax.set_title('')\n",
    "\n",
    "plt.savefig('figures/pairing_efficiency_kappa-mix.png', facecolor='White',dpi=300, bbox_inches='tight')\n",
    "\n",
    "plt.show()"
   ]
  },
  {
   "cell_type": "markdown",
   "id": "260e9988",
   "metadata": {},
   "source": [
    "## SPANET2"
   ]
  },
  {
   "cell_type": "markdown",
   "metadata": {},
   "source": [
    "### Non-resonant"
   ]
  },
  {
   "cell_type": "code",
   "execution_count": 14,
   "metadata": {},
   "outputs": [
    {
     "data": {
      "image/png": "[encoded data removed]",
      "text/plain": [
       "<Figure size 500x400 with 1 Axes>"
      ]
     },
     "metadata": {},
     "output_type": "display_data"
    }
   ],
   "source": [
    "min_dR_eff = get_pairing_efficiency(min_dR_pairings)['total']\n",
    "SPANET_eff = get_pairing_efficiency(mix_cls_SPANET_pairings)['total']\n",
    "\n",
    "x, y1 = get_interpolate(kappas, min_dR_eff)\n",
    "x, y2 = get_interpolate(kappas, SPANET_eff)\n",
    "    \n",
    "fig, ax = plt.subplots(1,1, figsize=(5,4))\n",
    "ax.plot(x, np.ones_like(x), 'k--')\n",
    "\n",
    "ax.plot(x, y1, linestyle='--', label='$\\\\mathrm{min}$-$\\\\Delta R$ pairing')\n",
    "ax.plot(x, y2, linestyle='-', label='$\\\\textsc{Spa-Net}$ pairing')\n",
    "\n",
    "\n",
    "ax.set_ylim(0,1.2)\n",
    "ax.set_xlabel('$\\kappa_\\lambda$', fontsize=12)\n",
    "ax.set_ylabel('Pairing efficiency', fontsize=12)\n",
    "# 設定刻度標籤的字體大小\n",
    "ax.tick_params(axis='both', which='major', labelsize=9)\n",
    "ax.set_title('')\n",
    "\n",
    "plt.rcParams['text.usetex'] = True\n",
    "plt.rcParams['font.family'] = 'sans-serif'\n",
    "ax.legend(frameon=False, fontsize=9)\n",
    "plt.rcParams['text.usetex'] = False\n",
    "\n",
    "plt.savefig('figures/pairing_efficiency_kappa-mindR-SPANet.pdf', facecolor='White',dpi=300, bbox_inches='tight')\n",
    "\n",
    "plt.show()"
   ]
  },
  {
   "cell_type": "markdown",
   "id": "ef4bfa6d",
   "metadata": {},
   "source": [
    "## Resonant"
   ]
  },
  {
   "cell_type": "code",
   "execution_count": 16,
   "metadata": {},
   "outputs": [
    {
     "data": {
      "image/png": "[encoded data removed]",
      "text/plain": [
       "<Figure size 500x400 with 1 Axes>"
      ]
     },
     "metadata": {},
     "output_type": "display_data"
    }
   ],
   "source": [
    "DHH_dR_eff = get_pairing_efficiency(DHH_dR_pairings)['total']\n",
    "min_dR_eff = get_pairing_efficiency(min_dR_pairings)['total']\n",
    "SPANET_cls_eff = get_pairing_efficiency(SPANET_cls_pairings)['total']\n",
    "\n",
    "x, y1 = get_interpolate(masses, DHH_dR_eff)\n",
    "x, y2 = get_interpolate(masses, min_dR_eff)\n",
    "x, y3 = get_interpolate(masses, SPANET_cls_eff)\n",
    "    \n",
    "fig, ax = plt.subplots(1,1, figsize=(5,4))\n",
    "ax.plot(x, np.ones_like(x), 'k--')\n",
    "\n",
    "ax.plot(x, y1, linestyle=':', label='$\\\\Delta R+ \\\\mathrm{min}$-$D_{hh}$ pairing')\n",
    "ax.plot(x, y2, linestyle='--', label='$\\\\mathrm{min}$-$\\\\Delta R$ pairing')\n",
    "ax.plot(x, y3, linestyle='-',label='$\\\\textsc{Spa-Net}$ pairing')\n",
    "\n",
    "ax.set_xlim(250, 1250)\n",
    "ax.set_ylim(0,1.2)\n",
    "ax.set_xlabel('$m_H$ (GeV)', fontsize=12)\n",
    "ax.set_ylabel('Pairing efficiency', fontsize=12)\n",
    "\n",
    "# 設定刻度標籤的字體大小\n",
    "ax.tick_params(axis='both', which='major', labelsize=9)\n",
    "ax.set_title('')\n",
    "\n",
    "plt.rcParams['text.usetex'] = True\n",
    "plt.rcParams['font.family'] = 'sans-serif'\n",
    "ax.legend(frameon=False, fontsize=9)\n",
    "plt.rcParams['text.usetex'] = False\n",
    "\n",
    "plt.savefig('figures/pairing_efficiency_resonant-DHH-mindR-SPANet.pdf', facecolor='White',dpi=300, bbox_inches='tight')\n",
    "\n",
    "plt.show()"
   ]
  },
  {
   "cell_type": "code",
   "execution_count": 19,
   "id": "dd45be4f",
   "metadata": {},
   "outputs": [
    {
     "data": {
      "image/png": "[encoded data removed]",
      "text/plain": [
       "<Figure size 500x400 with 1 Axes>"
      ]
     },
     "metadata": {},
     "output_type": "display_data"
    }
   ],
   "source": [
    "x = np.array(masses)\n",
    "\n",
    "min_dR_eff = get_pairing_efficiency(min_dR_pairings)['total']\n",
    "\n",
    "x_new, y2_new = get_interpolate(masses, min_dR_eff)\n",
    "    \n",
    "fig, ax = plt.subplots(1,1, figsize=(5,4))\n",
    "ax.plot(x, np.ones_like(x), 'k--')\n",
    "\n",
    "ax.plot(x_new, y2_new, label='min-$\\Delta R$')\n",
    "ax.legend()\n",
    "ax.set_xlim(250, 1250)\n",
    "ax.set_ylim(0,1.2)\n",
    "ax.set_xlabel('$m_H$ (GeV)')\n",
    "ax.set_ylabel('Efficiency')\n",
    "ax.set_title('')\n",
    "\n",
    "plt.savefig('figures/pairing_efficiency_resonant-mindR.png', facecolor='White',dpi=300, bbox_inches='tight')\n",
    "\n",
    "plt.show()"
   ]
  },
  {
   "cell_type": "code",
   "execution_count": 47,
   "id": "65da1c26",
   "metadata": {},
   "outputs": [
    {
     "data": {
      "image/png": "[encoded data removed]",
      "text/plain": [
       "<Figure size 1000x1000 with 4 Axes>"
      ]
     },
     "metadata": {},
     "output_type": "display_data"
    }
   ],
   "source": [
    "from scipy import interpolate\n",
    "\n",
    "DHH_dR_eff = get_pairing_efficiency(DHH_dR_pairings)\n",
    "min_dR_eff = get_pairing_efficiency(min_dR_pairings)\n",
    "SPANET_eff = get_pairing_efficiency(SPANET_pairings)\n",
    "\n",
    "    \n",
    "fig, ax = plt.subplots(2,2, figsize=(10,10))\n",
    "axes = [x for row in ax for x in row]\n",
    "\n",
    "\n",
    "plot_eff(DHH_dR_eff, '$\\Delta R + $min-$D_{HH}$')\n",
    "plot_eff(min_dR_eff, 'min-$\\Delta R$')\n",
    "plot_eff(SPANET_eff, 'SPANET')\n",
    "\n",
    "titles = ['$N_J = 4$', '$N_J = 5$', '$N_J \\geq 6$', 'Total']\n",
    "for i, ax in enumerate(axes):\n",
    "    \n",
    "    ax.plot(x, np.ones_like(x), 'k--')\n",
    "    ax.legend()\n",
    "    ax.set_xlim(250,1250)\n",
    "    ax.set_ylim(0,1.2)\n",
    "    ax.set_xlabel('$m_H$ (GeV)')\n",
    "    ax.set_ylabel('Efficiency')\n",
    "    ax.set_title(titles[i])\n",
    "\n",
    "plt.savefig('figures/pairing_efficiency_Njet_resonant-DHH-mindR-SPANet.png', facecolor='White',dpi=300, bbox_inches='tight')\n",
    "\n",
    "plt.show()"
   ]
  }
 ],
 "metadata": {
  "kernelspec": {
   "display_name": "Python 3 (ipykernel)",
   "language": "python",
   "name": "python3"
  },
  "language_info": {
   "codemirror_mode": {
    "name": "ipython",
    "version": 3
   },
   "file_extension": ".py",
   "mimetype": "text/x-python",
   "name": "python",
   "nbconvert_exporter": "python",
   "pygments_lexer": "ipython3",
   "version": "3.8.16"
  }
 },
 "nbformat": 4,
 "nbformat_minor": 5
}
