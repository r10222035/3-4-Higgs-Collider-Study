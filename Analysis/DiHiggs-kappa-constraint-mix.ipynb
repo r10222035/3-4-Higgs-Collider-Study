{
 "cells": [
  {
   "cell_type": "code",
   "execution_count": 9,
   "id": "dc03ec7b",
   "metadata": {},
   "outputs": [],
   "source": [
    "import os\n",
    "import re\n",
    "import uproot\n",
    "import h5py\n",
    "import itertools\n",
    "import scipy\n",
    "import matplotlib.pyplot as plt\n",
    "import numpy as np\n",
    "from tqdm import tqdm\n",
    "from scipy import interpolate"
   ]
  },
  {
   "cell_type": "markdown",
   "id": "ba013853",
   "metadata": {},
   "source": [
    "# Function "
   ]
  },
  {
   "cell_type": "code",
   "execution_count": 10,
   "id": "d316cda9",
   "metadata": {},
   "outputs": [],
   "source": [
    "def DeltaR(eta1,phi1, eta2,phi2):\n",
    "    dEta = eta1-eta2\n",
    "    dPhi = abs(phi1-phi2)\n",
    "    if dPhi > np.pi:\n",
    "        dPhi = 2*np.pi - dPhi\n",
    "\n",
    "    dR = (dPhi**2 + dEta**2)**0.5\n",
    "\n",
    "    return dR\n",
    "\n",
    "def FourMomentum(pt, eta, phi, m):\n",
    "    px, py, pz = pt*np.cos(phi), pt*np.sin(phi), pt*np.sinh(eta)\n",
    "    e = np.sqrt(m**2 + px**2 + py**2 + pz**2)\n",
    "    return e, px, py, pz\n",
    "\n",
    "def PtEtaPhiM(px, py, pz, e):\n",
    "    E, px, py, pz = e, px, py, pz  \n",
    "    P = np.sqrt(px**2 + py**2 + pz**2)\n",
    "    pt = np.sqrt(px**2 + py**2)\n",
    "    eta = 1./2.*np.log((P + pz)/(P - pz))\n",
    "    phi = np.arctan(py/px)\n",
    "    m = np.sqrt(np.sqrt((E**2 - px**2 - py**2 - pz**2)**2))\n",
    "\n",
    "    return pt, eta, phi, m\n",
    "    \n",
    "def InvM(e, px, py, pz):\n",
    "    return np.sqrt(np.sum(e)**2 - np.sum(px)**2 - np.sum(py)**2 - np.sum(pz)**2)\n",
    "\n",
    "def Mjets(*arg):\n",
    "    e_tot, px_tot, py_tot, pz_tot = 0, 0, 0, 0\n",
    "    \n",
    "    for jet in arg:\n",
    "        pt, eta, phi, m = jet[0], jet[1], jet[2], jet[3]\n",
    "        \n",
    "        px, py, pz = pt*np.cos(phi), pt*np.sin(phi), pt*np.sinh(eta)\n",
    "        e = np.sqrt(m**2 + px**2 + py**2 + pz**2)\n",
    "        \n",
    "        px_tot += px\n",
    "        py_tot += py\n",
    "        pz_tot += pz\n",
    "        e_tot += e\n",
    "    \n",
    "    return np.sqrt(e_tot**2 - px_tot**2 - py_tot**2 - pz_tot**2)"
   ]
  },
  {
   "cell_type": "code",
   "execution_count": 11,
   "id": "c0214ad3",
   "metadata": {},
   "outputs": [],
   "source": [
    "def all_pairs(lst):\n",
    "    if len(lst) < 2:\n",
    "        yield []\n",
    "        return\n",
    "    if len(lst) % 2 == 1:\n",
    "        # Handle odd length list\n",
    "        for i in range(len(lst)):\n",
    "            for result in all_pairs(lst[:i] + lst[i+1:]):\n",
    "                yield result\n",
    "    else:\n",
    "        a = lst[0]\n",
    "        for i in range(1,len(lst)):\n",
    "            pair = (a,lst[i])\n",
    "            for rest in all_pairs(lst[1:i]+lst[i+1:]):\n",
    "                yield [pair] + rest              "
   ]
  },
  {
   "cell_type": "code",
   "execution_count": 12,
   "id": "6c2ce5e5",
   "metadata": {},
   "outputs": [],
   "source": [
    "def get_info(path):\n",
    "    # path: run path\n",
    "    name = os.path.split(path)[1]\n",
    "\n",
    "    with open(os.path.join(path, f'{name}_tag_1_banner.txt')) as f:\n",
    "        for line in f.readlines():\n",
    "            match = re.match(' +10 (-?.*?) # khhh', line)\n",
    "            if match:\n",
    "                kappa = float(match.group(1))\n",
    "                \n",
    "            #  Integrated weight (pb)  :       0.020257\n",
    "            match = re.match('#  Integrated weight \\(pb\\)  : +(\\d+\\.\\d+)', line)\n",
    "            if match:\n",
    "                # unit: fb\n",
    "                cross_section = float(match.group(1)) * 1000\n",
    "            \n",
    "            #  Number of Events        :       100000\n",
    "            match = re.match('#  Number of Events        : +(\\d+)', line)\n",
    "            if match:\n",
    "                nevent = int(match.group(1))\n",
    "    \n",
    "    return kappa, cross_section, nevent"
   ]
  },
  {
   "cell_type": "markdown",
   "id": "4d99348e",
   "metadata": {},
   "source": [
    "## Selection"
   ]
  },
  {
   "cell_type": "code",
   "execution_count": 13,
   "id": "f0137572",
   "metadata": {},
   "outputs": [],
   "source": [
    "def deltaR_condition(R1, R2, m4j):\n",
    "    # R1: Delta R of leading Higgs candidate\n",
    "    # R2: Delta R of sub-leading Higgs candidate\n",
    "    \n",
    "    if m4j < 1250:\n",
    "        if R1 > 653 / m4j + 0.475:\n",
    "            return False\n",
    "        if R1 < 360 / m4j - 0.5:\n",
    "            return False\n",
    "\n",
    "        if R2 > 875 / m4j + 0.35:\n",
    "            return False\n",
    "        if R2 < 235 / m4j:\n",
    "            return False      \n",
    "    else:\n",
    "        if R1 > 1:\n",
    "            return False\n",
    "        if R1 < 0:\n",
    "            return False\n",
    "\n",
    "        if R2 > 1:\n",
    "            return False\n",
    "        if R2 < 0:\n",
    "            return False\n",
    "    return True  \n",
    "\n",
    "def DHH(m1, m2):\n",
    "    # m1: mass of leading Higgs candidate\n",
    "    # m2: mass of sub-leading Higgs candidate\n",
    "    \n",
    "    return abs(m1 - 120/110*m2) / (1 + (120/110)**2)**0.5\n",
    "    \n",
    "def pt_condition(pt1, pt2, m4j):\n",
    "    # pt1: PT of leading Higgs candidate\n",
    "    # pt2: PT of sub-leading Higgs candidate\n",
    "    \n",
    "    if pt1 < 0.5 * m4j - 103:\n",
    "        return False\n",
    "    if pt2 < 0.33 * m4j - 73:\n",
    "        return False\n",
    "    return True\n",
    "\n",
    "def XHH(m1, m2, m10=120, m20=110):\n",
    "    # m1: leading Higgs candidate mass\n",
    "    # m2: sub-leading Higgs candidate mass\n",
    "    \n",
    "    return (((m1-m10)/(0.1*m1))**2 + ((m2-m20)/(0.1*m2))**2)**0.5\n",
    "\n",
    "def XWt(mW, mt):\n",
    "    # mW: W boson candidate mass\n",
    "    # mt: top candidate mass\n",
    "    \n",
    "    return (((mW-80)/(0.1*mW))**2 + ((mt-173)/(0.1*mt))**2)**0.5\n",
    "\n",
    "def DHH_dR_method(PT, Eta, Phi, Mass):\n",
    "    # get the pairing by DeltaR method\n",
    "    # 已經過 preseleciton PT, Eta, Phi, Mass都只有4個jets的資料\n",
    "    \n",
    "    # Total invariant mass of 4 b-jets\n",
    "    e, px, py, pz = FourMomentum(PT, Eta, Phi, Mass)\n",
    "    m4j = InvM(np.sum(e), np.sum(px), np.sum(py), np.sum(pz))\n",
    "    \n",
    "    pairing = []\n",
    "    for (i1,i2), (i3,i4) in all_pairs([0,1,2,3]):\n",
    "        PT1 = PT[[i1,i2]]\n",
    "        PT2 = PT[[i3,i4]]\n",
    "        # sorted by PT scalar sum\n",
    "        if np.sum(PT1) < np.sum(PT2):\n",
    "            i1, i2, i3, i4 = i3, i4, i1, i2\n",
    "\n",
    "        PT1 = PT[[i1,i2]] \n",
    "        Eta1 = Eta[[i1,i2]]\n",
    "        Phi1 = Phi[[i1,i2]]\n",
    "        Mass1 = Mass[[i1,i2]]\n",
    "\n",
    "        e1, px1, py1, pz1 = FourMomentum(PT1, Eta1, Phi1, Mass1)\n",
    "        mH1 = InvM(np.sum(e1), np.sum(px1), np.sum(py1), np.sum(pz1))\n",
    "\n",
    "        PT2 = PT[[i3,i4]]\n",
    "        Eta2 = Eta[[i3,i4]]\n",
    "        Phi2 = Phi[[i3,i4]]\n",
    "        Mass2 = Mass[[i3,i4]]\n",
    "\n",
    "        e2, px2, py2, pz2 = FourMomentum(PT2, Eta2, Phi2, Mass2)\n",
    "        mH2 = InvM(np.sum(e2), np.sum(px2), np.sum(py2), np.sum(pz2))\n",
    "\n",
    "        dR1 = DeltaR(Eta1[0], Phi1[0], Eta1[1], Phi1[1])\n",
    "        dR2 = DeltaR(Eta2[0], Phi2[0], Eta2[1], Phi2[1])\n",
    "\n",
    "        if deltaR_condition(dR1, dR2, m4j):\n",
    "            d = DHH(mH1, mH2)\n",
    "            pairing.append([i1,i2,i3,i4, d])\n",
    "    \n",
    "    if len(pairing) == 0:\n",
    "        return pairing\n",
    "    \n",
    "    # choose the pairing with minimum DHH\n",
    "    h_candidate = pairing[0][0:4]\n",
    "    min_DHH = pairing[0][4]\n",
    "    for i1,i2,i3,i4, d in pairing:\n",
    "        if d < min_DHH:\n",
    "            min_DHH = d\n",
    "            h_candidate = [i1,i2,i3,i4]\n",
    "\n",
    "    return h_candidate\n",
    "\n",
    "def top_veto(PT, Eta, Phi, M, h_jets, central_jets):\n",
    "    # PT, Eta, Phi, M are jets 4-momentum\n",
    "    # h_jets: the index of h jets candidate\n",
    "    # central_jets: index of central jets\n",
    "    \n",
    "    XWt_flag = False\n",
    "    for b in h_jets:\n",
    "        PTb = PT[b]\n",
    "        Etab = Eta[b]\n",
    "        Phib = Phi[b]\n",
    "        Massb = M[b]\n",
    "        eb, pxb, pyb, pzb = FourMomentum(PTb, Etab, Phib, Massb)\n",
    "\n",
    "        for i1,i2 in itertools.combinations(central_jets, 2):\n",
    "            if b == i1 or b == i2:\n",
    "                continue\n",
    "            PTW = PT[[i1,i2]]\n",
    "            EtaW = Eta[[i1,i2]]\n",
    "            PhiW = Phi[[i1,i2]]\n",
    "            MassW = M[[i1,i2]]\n",
    "\n",
    "            eW, pxW, pyW, pzW = FourMomentum(PTW, EtaW, PhiW, MassW)\n",
    "            mW = InvM(np.sum(eW), np.sum(pxW), np.sum(pyW), np.sum(pzW))\n",
    "\n",
    "            et, pxt, pyt, pzt = np.sum(eW) + eb, np.sum(pxW) + pxb, np.sum(pyW) + pyb, np.sum(pzW) + pzb\n",
    "            mt = InvM(et, pxt, pyt, pzt)\n",
    "\n",
    "            if XWt(mW, mt) < 1.5:\n",
    "                XWt_flag = True\n",
    "                return XWt_flag\n",
    "\n",
    "    return XWt_flag\n",
    "\n",
    "def min_dR_method(PT, Eta, Phi, Mass):\n",
    "    # get h-jets pairing\n",
    "    pairing = []\n",
    "    for (i1,i2), (i3,i4) in all_pairs([0,1,2,3]):\n",
    "\n",
    "        PT1 = PT[[i1,i2]] \n",
    "        Eta1 = Eta[[i1,i2]]\n",
    "        Phi1 = Phi[[i1,i2]]\n",
    "        Mass1 = Mass[[i1,i2]]\n",
    "        \n",
    "        e1, px1, py1, pz1 = FourMomentum(PT1, Eta1, Phi1, Mass1)\n",
    "        PTH1, EtaH1, PhiH1, _ = PtEtaPhiM(np.sum(px1), np.sum(py1), np.sum(pz1), np.sum(e1))\n",
    "\n",
    "        PT2 = PT[[i3,i4]]\n",
    "        Eta2 = Eta[[i3,i4]]\n",
    "        Phi2 = Phi[[i3,i4]]\n",
    "        Mass2 = Mass[[i3,i4]]\n",
    "\n",
    "        e2, px2, py2, pz2 = FourMomentum(PT2, Eta2, Phi2, Mass2)\n",
    "        PTH2, EtaH2, PhiH2, _ = PtEtaPhiM(np.sum(px2), np.sum(py2), np.sum(pz2), np.sum(e2))\n",
    "        \n",
    "        # sorted by PT vector sum\n",
    "        if PTH1 < PTH2:\n",
    "            i1, i2, i3, i4 = i3, i4, i1, i2\n",
    "            PTH1, EtaH1, PhiH1, PTH2, EtaH2, PhiH2 = PTH2, EtaH2, PhiH2, PTH1, EtaH1, PhiH1\n",
    "\n",
    "        dR1 = DeltaR(Eta1[0], Phi1[0], Eta1[1], Phi1[1])\n",
    "        pairing.append([i1,i2,i3,i4, dR1])\n",
    "    \n",
    "    h_candidate = pairing[0][0:4]\n",
    "    min_dR = pairing[0][4]\n",
    "    for i1,i2,i3,i4, dR in pairing:\n",
    "        if dR < min_dR:\n",
    "            min_dR = dR\n",
    "            h_candidate = [i1,i2,i3,i4]\n",
    "            \n",
    "    return h_candidate  \n",
    "\n",
    "def SPANet_pairing(PT, Eta, Phi, Mass):\n",
    "    # 已經過 preseleciton PT, Eta, Phi, Mass只有4個jets的資料\n",
    "    i1, i2, i3, i4 = 0,1,2,3\n",
    "    \n",
    "    PT1 = PT[[i1,i2]] \n",
    "    Eta1 = Eta[[i1,i2]]\n",
    "    Phi1 = Phi[[i1,i2]]\n",
    "    Mass1 = Mass[[i1,i2]]\n",
    "\n",
    "    e1, px1, py1, pz1 = FourMomentum(PT1, Eta1, Phi1, Mass1)\n",
    "    PTH1, _, _, _ = PtEtaPhiM(np.sum(px1), np.sum(py1), np.sum(pz1), np.sum(e1))\n",
    "\n",
    "    PT2 = PT[[i3,i4]]\n",
    "    Eta2 = Eta[[i3,i4]]\n",
    "    Phi2 = Phi[[i3,i4]]\n",
    "    Mass2 = Mass[[i3,i4]]\n",
    "\n",
    "    e2, px2, py2, pz2 = FourMomentum(PT2, Eta2, Phi2, Mass2)\n",
    "    PTH2, _, _, _ = PtEtaPhiM(np.sum(px2), np.sum(py2), np.sum(pz2), np.sum(e2))\n",
    "\n",
    "    # sorted by PT vector sum\n",
    "    if PTH1 > PTH2:\n",
    "        return [0, 1, 2, 3]\n",
    "    else:\n",
    "        return [2, 3, 0, 1]\n",
    "    \n",
    "def print_count_xsection(text, cross_section, count, total):\n",
    "    print(text, count, cross_section * count / total)"
   ]
  },
  {
   "cell_type": "code",
   "execution_count": 14,
   "id": "fb41c532",
   "metadata": {},
   "outputs": [],
   "source": [
    "def diHiggs_selection_HDF5(file_path, tot_event, pairing_method, xection=None, title='', nevent_max=1000):\n",
    "    # 已經過 |eta| < 2.5, PT > 40 GeV for 4 jets, >= 4 b-jets 篩選，並且通過 SPANet\n",
    "    \n",
    "    with h5py.File(file_path, 'r') as f:\n",
    "        Eta_PT_BTag_count = 0\n",
    "        dR_count = 0\n",
    "        HEta_count = 0\n",
    "        XWt_count = 0\n",
    "        XHH_count = 0\n",
    "\n",
    "        cross_section = xection\n",
    "        \n",
    "        nevent = min(f['source/pt'].shape[0], nevent_max)\n",
    "        mh = [[], []]\n",
    "        mhh = []\n",
    "        \n",
    "        for event in tqdm(range(nevent)):   \n",
    "            nj = f['source/mask'][event].sum()\n",
    "            # 須將資料標準化還原\n",
    "            jet_PT = np.exp(f['source/pt'][event][:nj])\n",
    "            jet_Eta = f['source/eta'][event][:nj]\n",
    "            jet_Phi = f['source/phi'][event][:nj]\n",
    "            jet_Mass = np.exp(f['source/mass'][event][:nj])\n",
    "            jet_BTag = f['source/btag'][event][:nj]\n",
    "\n",
    "            # |eta| < 2.5 & PT > 40 GeV\n",
    "            eta_pt_cut = np.where((np.abs(jet_Eta) < 2.5) & (jet_PT > 40))[0]\n",
    "\n",
    "            # |eta| < 2.5 & PT > 40 GeV & b-tagged\n",
    "            eta_pt_bTag_cut = np.where((np.abs(jet_Eta) < 2.5) & (jet_PT > 40) & (jet_BTag == 1))[0]\n",
    "\n",
    "            # >= 4 b-jet\n",
    "            if len(eta_pt_bTag_cut) < 4: \n",
    "                continue\n",
    "            Eta_PT_BTag_count += 1        \n",
    "                      \n",
    "            if pairing_method == 'min_dR':\n",
    "                # choose 4 highest pt b-jets\n",
    "                h_jets = eta_pt_bTag_cut[0:4]\n",
    "                \n",
    "                PT = jet_PT[h_jets]\n",
    "                Eta = jet_Eta[h_jets]\n",
    "                Phi = jet_Phi[h_jets]\n",
    "                Mass = jet_Mass[h_jets] \n",
    "                h_candidate = min_dR_method(PT, Eta, Phi, Mass)\n",
    "            elif pairing_method == 'SPANET':\n",
    "                h_jets = [f['h1/b1'][event], f['h1/b2'][event], \n",
    "                          f['h2/b1'][event], f['h2/b2'][event],]\n",
    "                PT = jet_PT[h_jets]\n",
    "                Eta = jet_Eta[h_jets]\n",
    "                Phi = jet_Phi[h_jets]\n",
    "                Mass = jet_Mass[h_jets]         \n",
    "                h_candidate = SPANet_pairing(PT, Eta, Phi, Mass)\n",
    "            else:\n",
    "                print('Wrong pairing method')\n",
    "                \n",
    "            e, px, py, pz = FourMomentum(PT, Eta, Phi, Mass)\n",
    "            m4j = InvM(np.sum(e), np.sum(px), np.sum(py), np.sum(pz))\n",
    "\n",
    "            i1, i2, i3, i4 = h_candidate[0:4] \n",
    "\n",
    "            PT1 = PT[[i1,i2]]\n",
    "            Eta1 = Eta[[i1,i2]]\n",
    "            Phi1 = Phi[[i1,i2]]\n",
    "            Mass1 = Mass[[i1,i2]]\n",
    "\n",
    "            e1, px1, py1, pz1 = FourMomentum(PT1, Eta1, Phi1, Mass1)\n",
    "            PTH1, EtaH1, PhiH1, MassH1 = PtEtaPhiM(np.sum(px1), np.sum(py1), np.sum(pz1), np.sum(e1))\n",
    "\n",
    "            PT2 = PT[[i3,i4]]\n",
    "            Eta2 = Eta[[i3,i4]]\n",
    "            Phi2 = Phi[[i3,i4]]\n",
    "            Mass2 = Mass[[i3,i4]]\n",
    "\n",
    "            e2, px2, py2, pz2 = FourMomentum(PT2, Eta2, Phi2, Mass2)\n",
    "            PTH2, EtaH2, PhiH2, MassH2 = PtEtaPhiM(np.sum(px2), np.sum(py2), np.sum(pz2), np.sum(e2))\n",
    "\n",
    "            # |dEta_HH| < 1.5\n",
    "            if abs(EtaH1 - EtaH2) > 1.5:\n",
    "                continue\n",
    "            HEta_count += 1\n",
    "\n",
    "            # Top veto\n",
    "            XWt_flag = top_veto(jet_PT, jet_Eta, jet_Phi, jet_Mass, h_jets, eta_pt_cut)\n",
    "            if XWt_flag:\n",
    "                continue\n",
    "            XWt_count += 1\n",
    "            \n",
    "            mh[0].append(MassH1)\n",
    "            mh[1].append(MassH2)\n",
    "\n",
    "            # signal region\n",
    "            if XHH(MassH1, MassH2, 124, 117) > 1.6:\n",
    "                continue\n",
    "            XHH_count += 1\n",
    "            \n",
    "            mhh.append(m4j)\n",
    "\n",
    "#         print(title)\n",
    "#         print(f'In {nevent} events')\n",
    "#         print(f'Cross section: {cross_section} fb')\n",
    "\n",
    "#         print_count_xsection('|eta| < 2.5, PT > 40 GeV for 4 b-jets:', cross_section, f['source/pt'].shape[0], tot_event)\n",
    "#         # 經過 |eta| < 2.5, PT > 40 GeV for 4 b-jets 的截面\n",
    "        cross_section_abs = cross_section * f['source/pt'].shape[0] / tot_event\n",
    "        \n",
    "#         print_count_xsection('Higgs Eta:', cross_section_abs, HEta_count, nevent)\n",
    "#         print_count_xsection('Top veto:', cross_section_abs, XWt_count, nevent)\n",
    "#         print_count_xsection('Higgs signal region:', cross_section_abs, XHH_count, nevent)\n",
    "               \n",
    "        cutflow_count = {\n",
    "            'nevent': tot_event,\n",
    "            'Cross section': cross_section,\n",
    "            'Eta PT BTag cut': Eta_PT_BTag_count,\n",
    "            'Higgs Eta cut': HEta_count,\n",
    "            'Top veto': XWt_count,\n",
    "            'Higgs signal': XHH_count,\n",
    "        }\n",
    "         \n",
    "        cutflow_cross_section = {\n",
    "            'nevent': nevent,\n",
    "            'Cross section': cross_section,\n",
    "            'Eta PT BTag cut': cross_section_abs,\n",
    "            'Higgs Eta cut': cross_section_abs * HEta_count / nevent,\n",
    "            'Top veto': cross_section_abs * XWt_count / nevent, \n",
    "            'Higgs signal': cross_section_abs * XHH_count / nevent,        \n",
    "        }\n",
    "        \n",
    "        results = {\n",
    "            'cutflow count': cutflow_count,\n",
    "            'cutflow cross section':cutflow_cross_section,\n",
    "            'mh': mh,\n",
    "            'mhh': mhh,\n",
    "        }\n",
    "        \n",
    "        return results"
   ]
  },
  {
   "cell_type": "code",
   "execution_count": 15,
   "id": "73dfc776",
   "metadata": {},
   "outputs": [],
   "source": [
    "# negative log likelyhood\n",
    "def NLL(N_sig, N_bkg, N_obv=None):\n",
    "    N_pre = N_sig + N_bkg\n",
    "    if not N_obv:\n",
    "        N_obv = N_bkg\n",
    "    \n",
    "    return -2 * (-N_pre + N_obv * np.log(N_pre)).sum()"
   ]
  },
  {
   "cell_type": "markdown",
   "id": "a2632fe9",
   "metadata": {},
   "source": [
    "# Parameters"
   ]
  },
  {
   "cell_type": "code",
   "execution_count": 16,
   "id": "8bbcfe0b",
   "metadata": {},
   "outputs": [],
   "source": [
    "n_bin = 10\n",
    "hist_range = [200, 1000]\n",
    "L = 139"
   ]
  },
  {
   "cell_type": "markdown",
   "id": "c61af593",
   "metadata": {},
   "source": [
    "# $m_{HH}$ distribution"
   ]
  },
  {
   "cell_type": "markdown",
   "id": "ec73cf11",
   "metadata": {},
   "source": [
    "## $\\text{min-}\\Delta R$ "
   ]
  },
  {
   "cell_type": "code",
   "execution_count": 18,
   "id": "2ef447c0",
   "metadata": {},
   "outputs": [],
   "source": [
    "pairing_method = 'min_dR'"
   ]
  },
  {
   "cell_type": "code",
   "execution_count": 19,
   "id": "3d279b03",
   "metadata": {},
   "outputs": [
    {
     "name": "stderr",
     "output_type": "stream",
     "text": [
      "100%|████████████████████████████████████████████████████████████████████████████████████████████████████████████████████████████████████████| 9642/9642 [00:27<00:00, 356.50it/s]\n"
     ]
    },
    {
     "name": "stdout",
     "output_type": "stream",
     "text": [
      "(1.0, 20.251, 100000)\n"
     ]
    },
    {
     "name": "stderr",
     "output_type": "stream",
     "text": [
      "100%|████████████████████████████████████████████████████████████████████████████████████████████████████████████████████████████████████████| 8479/8479 [00:33<00:00, 252.95it/s]\n"
     ]
    },
    {
     "name": "stdout",
     "output_type": "stream",
     "text": [
      "(5.0, 43.476, 100000)\n"
     ]
    },
    {
     "name": "stderr",
     "output_type": "stream",
     "text": [
      "100%|████████████████████████████████████████████████████████████████████████████████████████████████████████████████████████████████████████| 4273/4273 [00:15<00:00, 278.59it/s]\n"
     ]
    }
   ],
   "source": [
    "# Background\n",
    "file_path = '/home/r10222035/CPVDM/h5_data/1M_diHiggs_4b_DL1r_PT40_pp4b_predict.h5'\n",
    "tot_event = 1000000\n",
    "xection = 628589.0502929688\n",
    "min_4b = diHiggs_selection_HDF5(file_path, \n",
    "                                tot_event,\n",
    "                                pairing_method,\n",
    "                                xection,\n",
    "                                title='pp->4b', \n",
    "                                nevent_max=10000)\n",
    "\n",
    "n, bin_edges = np.histogram(min_4b['mhh'], bins=n_bin, range=hist_range)\n",
    "N_bkg_min = n / tot_event * xection * L\n",
    "\n",
    "# SM kappa=1\n",
    "sample_dir = '/home/r10222035/CPVDM/Di-Higgs-SM/pphh/Events/'\n",
    "i = 17\n",
    "info = get_info(os.path.join(sample_dir, f'run_{i:02}'))\n",
    "print(info)\n",
    "\n",
    "xection = info[1] * 0.582 * 0.582\n",
    "tot_event = info[2]\n",
    "min_s = diHiggs_selection_HDF5(os.path.join(sample_dir, f'run_{i:02}_decayed_1/DiHiggs_4b_PT40-predict.h5'), \n",
    "                                tot_event, \n",
    "                                pairing_method,   \n",
    "                                xection,\n",
    "                                title='pp->hh', \n",
    "                                nevent_max=10000)\n",
    "\n",
    "n, bin_edges = np.histogram(min_s['mhh'], bins=n_bin, range=hist_range)\n",
    "N_sig_min = n / tot_event * xection * L\n",
    "\n",
    "# kappa=5\n",
    "i = 21\n",
    "info = get_info(os.path.join(sample_dir, f'run_{i:02}'))\n",
    "print(info)\n",
    "\n",
    "xection = info[1] * 0.582 * 0.582\n",
    "tot_event = info[2]\n",
    "\n",
    "# selection\n",
    "# file_path = os.path.join(sample_dir, f'run_{i:02}_decayed_1/DiHiggs_4b_PT40-predict.h5')\n",
    "min_k5 = diHiggs_selection_HDF5(os.path.join(sample_dir, f'run_{i:02}_decayed_1/DiHiggs_4b_PT40-predict.h5'), \n",
    "                                tot_event, \n",
    "                                pairing_method,   \n",
    "                                xection,\n",
    "                                title='pp->hh', \n",
    "                                nevent_max=10000)\n",
    "\n",
    "n, bin_edges = np.histogram(min_k5['mhh'], bins=n_bin, range=hist_range)\n",
    "N_k5_min = n / tot_event * xection * L"
   ]
  },
  {
   "cell_type": "code",
   "execution_count": 20,
   "id": "b824624e",
   "metadata": {},
   "outputs": [
    {
     "data": {
      "image/png": "[encoded data removed]",
      "text/plain": [
       "<Figure size 576x504 with 1 Axes>"
      ]
     },
     "metadata": {
      "needs_background": "light"
     },
     "output_type": "display_data"
    }
   ],
   "source": [
    "fig, ax = plt.subplots(1, 1, figsize =(8, 7))\n",
    "\n",
    "ax.hist(np.linspace(*hist_range,n_bin), bins=n_bin, range=hist_range, weights=N_bkg_min, histtype='step', label='Background')\n",
    "ax.hist(np.linspace(*hist_range,n_bin), bins=n_bin, range=hist_range, weights=N_sig_min*200, histtype='step', label='SM HH x 200')\n",
    "ax.hist(np.linspace(*hist_range,n_bin), bins=n_bin, range=hist_range, weights=N_k5_min*100, histtype='step', label='$\\kappa = 5$ x 100')\n",
    "\n",
    "ax.set_xlabel('$m_{HH}$(GeV)')\n",
    "ax.set_ylabel('Events')\n",
    "ax.set_title('min-$\\Delta R$ method')\n",
    "\n",
    "ax.legend()\n",
    "plt.savefig('figures/mhh_distribution_min_dR.png', facecolor='White', dpi=300, bbox_inches='tight')\n",
    "plt.show()"
   ]
  },
  {
   "cell_type": "markdown",
   "id": "cf4ed302",
   "metadata": {},
   "source": [
    "## SPANET"
   ]
  },
  {
   "cell_type": "code",
   "execution_count": 22,
   "id": "9aee3a37",
   "metadata": {},
   "outputs": [],
   "source": [
    "pairing_method = 'SPANET'"
   ]
  },
  {
   "cell_type": "code",
   "execution_count": 23,
   "id": "bd18553e",
   "metadata": {},
   "outputs": [
    {
     "name": "stderr",
     "output_type": "stream",
     "text": [
      "100%|████████████████████████████████████████████████████████████████████████████████████████████████████████████████████████████████████████| 9642/9642 [00:29<00:00, 329.84it/s]\n"
     ]
    },
    {
     "name": "stdout",
     "output_type": "stream",
     "text": [
      "(1.0, 20.251, 100000)\n"
     ]
    },
    {
     "name": "stderr",
     "output_type": "stream",
     "text": [
      "100%|████████████████████████████████████████████████████████████████████████████████████████████████████████████████████████████████████████| 8479/8479 [00:35<00:00, 240.50it/s]\n"
     ]
    },
    {
     "name": "stdout",
     "output_type": "stream",
     "text": [
      "(5.0, 43.476, 100000)\n"
     ]
    },
    {
     "name": "stderr",
     "output_type": "stream",
     "text": [
      "100%|████████████████████████████████████████████████████████████████████████████████████████████████████████████████████████████████████████| 4273/4273 [00:16<00:00, 265.55it/s]\n"
     ]
    }
   ],
   "source": [
    "# Background\n",
    "file_path = '/home/r10222035/CPVDM/h5_data/1M_diHiggs_4b_DL1r_PT40_pp4b_predict-mix.h5'\n",
    "tot_event = 1000000\n",
    "xection = 628589.0502929688\n",
    "SPANET_4b = diHiggs_selection_HDF5(file_path, \n",
    "                                tot_event,\n",
    "                                pairing_method,\n",
    "                                xection,\n",
    "                                title='pp->4b', \n",
    "                                nevent_max=10000)\n",
    "\n",
    "n, bin_edges = np.histogram(SPANET_4b['mhh'], bins=n_bin, range=hist_range)\n",
    "SPANET_bkg = n / tot_event * xection * L\n",
    "\n",
    "# SM kappa=1\n",
    "sample_dir = '/home/r10222035/CPVDM/Di-Higgs-SM/pphh/Events/'\n",
    "i = 17\n",
    "info = get_info(os.path.join(sample_dir, f'run_{i:02}'))\n",
    "print(info)\n",
    "\n",
    "xection = info[1] * 0.582 * 0.582\n",
    "tot_event = info[2]\n",
    "SPANET_s = diHiggs_selection_HDF5(os.path.join(sample_dir, f'run_{i:02}_decayed_1/DiHiggs_4b_PT40_kappa-predict-mix.h5'), \n",
    "                                tot_event, \n",
    "                                pairing_method,   \n",
    "                                xection,\n",
    "                                title='pp->hh', \n",
    "                                nevent_max=10000)\n",
    "\n",
    "n, bin_edges = np.histogram(SPANET_s['mhh'], bins=n_bin, range=hist_range)\n",
    "N_sig_SPANET = n / tot_event * xection * L\n",
    "\n",
    "# SM kappa=5\n",
    "i = 21\n",
    "info = get_info(os.path.join(sample_dir, f'run_{i:02}'))\n",
    "print(info)\n",
    "\n",
    "xection = info[1] * 0.582 * 0.582\n",
    "tot_event = info[2]\n",
    "\n",
    "# selection\n",
    "file_path = os.path.join(sample_dir, f'run_{i:02}_decayed_1/DiHiggs_4b_PT40_kappa-predict-mix.h5')\n",
    "SPANET_k5 = diHiggs_selection_HDF5(file_path,\n",
    "                                tot_event, \n",
    "                                pairing_method,   \n",
    "                                xection,\n",
    "                                title='pp->hh', \n",
    "                                nevent_max=10000)\n",
    "\n",
    "n, bin_edges = np.histogram(SPANET_k5['mhh'], bins=n_bin, range=hist_range)\n",
    "N_k5_SPANET = n / tot_event * xection * L"
   ]
  },
  {
   "cell_type": "code",
   "execution_count": 24,
   "id": "d0ac3ef4",
   "metadata": {},
   "outputs": [
    {
     "data": {
      "image/png": "[encoded data removed]",
      "text/plain": [
       "<Figure size 576x504 with 1 Axes>"
      ]
     },
     "metadata": {
      "needs_background": "light"
     },
     "output_type": "display_data"
    }
   ],
   "source": [
    "fig, ax = plt.subplots(1, 1, figsize =(8, 7))\n",
    "\n",
    "ax.hist(np.linspace(*hist_range,n_bin), bins=n_bin, range=hist_range, weights=SPANET_bkg, histtype='step', label='Background')\n",
    "ax.hist(np.linspace(*hist_range,n_bin), bins=n_bin, range=hist_range, weights=N_sig_SPANET*600, histtype='step', label='SM HH x 600')\n",
    "ax.hist(np.linspace(*hist_range,n_bin), bins=n_bin, range=hist_range, weights=N_k5_SPANET*600, histtype='step', label='$\\kappa = 5$ x 600')\n",
    "ax.set_xlabel('$m_{HH}$(GeV)')\n",
    "ax.set_ylabel('Events')\n",
    "ax.set_title('SPANET method')\n",
    "\n",
    "ax.legend()\n",
    "plt.savefig('figures/mhh_distribution_SPANET-mix.png', facecolor='White', dpi=300, bbox_inches = 'tight')\n",
    "plt.show()"
   ]
  },
  {
   "cell_type": "markdown",
   "id": "abc70cfb",
   "metadata": {},
   "source": [
    "# Set constraints of $\\kappa_\\lambda$"
   ]
  },
  {
   "cell_type": "markdown",
   "id": "ae82c73b",
   "metadata": {},
   "source": [
    "## $\\kappa_\\lambda =5$ SPANET"
   ]
  },
  {
   "cell_type": "code",
   "execution_count": 25,
   "id": "c73d6a24",
   "metadata": {},
   "outputs": [],
   "source": [
    "pairing_method = 'SPANET'"
   ]
  },
  {
   "cell_type": "markdown",
   "id": "cf552fa7",
   "metadata": {},
   "source": [
    "### Background"
   ]
  },
  {
   "cell_type": "code",
   "execution_count": 26,
   "id": "e4c78c22",
   "metadata": {},
   "outputs": [
    {
     "name": "stderr",
     "output_type": "stream",
     "text": [
      "100%|████████████████████████████████████████████████████████████████████████████████████████████████████████████████████████████████████████| 9642/9642 [00:29<00:00, 324.41it/s]\n"
     ]
    }
   ],
   "source": [
    "file_path = '/home/r10222035/CPVDM/h5_data/1M_diHiggs_4b_DL1r_PT40_pp4b_predict-mix.h5'\n",
    "tot_event = 1000000\n",
    "xection = 628589.0502929688\n",
    "SPANET_4b = diHiggs_selection_HDF5(file_path, \n",
    "                                tot_event,\n",
    "                                pairing_method,\n",
    "                                xection,\n",
    "                                title='pp->4b', \n",
    "                                nevent_max=10000)\n",
    "# binned\n",
    "n, bin_edges = np.histogram(SPANET_4b['mhh'], bins=n_bin, range=hist_range)\n",
    "SPANET_bkg = n / tot_event * xection * L"
   ]
  },
  {
   "cell_type": "markdown",
   "id": "db1652d3",
   "metadata": {},
   "source": [
    "### Scan $\\kappa_\\lambda$"
   ]
  },
  {
   "cell_type": "code",
   "execution_count": 27,
   "id": "80687a11",
   "metadata": {},
   "outputs": [
    {
     "name": "stdout",
     "output_type": "stream",
     "text": [
      "(-10.0, 865.4300000000001, 100000)\n"
     ]
    },
    {
     "name": "stderr",
     "output_type": "stream",
     "text": [
      "100%|████████████████████████████████████████████████████████████████████████████████████████████████████████████████████████████████████████| 5628/5628 [00:21<00:00, 258.71it/s]\n"
     ]
    },
    {
     "name": "stdout",
     "output_type": "stream",
     "text": [
      "(-9.0, 734.02, 100000)\n"
     ]
    },
    {
     "name": "stderr",
     "output_type": "stream",
     "text": [
      "100%|████████████████████████████████████████████████████████████████████████████████████████████████████████████████████████████████████████| 5698/5698 [00:22<00:00, 258.56it/s]\n"
     ]
    },
    {
     "name": "stdout",
     "output_type": "stream",
     "text": [
      "(-8.0, 612.39, 100000)\n"
     ]
    },
    {
     "name": "stderr",
     "output_type": "stream",
     "text": [
      "100%|████████████████████████████████████████████████████████████████████████████████████████████████████████████████████████████████████████| 5658/5658 [00:21<00:00, 258.27it/s]\n"
     ]
    },
    {
     "name": "stdout",
     "output_type": "stream",
     "text": [
      "(-7.0, 502.6, 100000)\n"
     ]
    },
    {
     "name": "stderr",
     "output_type": "stream",
     "text": [
      "100%|████████████████████████████████████████████████████████████████████████████████████████████████████████████████████████████████████████| 5699/5699 [00:22<00:00, 251.74it/s]\n"
     ]
    },
    {
     "name": "stdout",
     "output_type": "stream",
     "text": [
      "(-6.0, 403.62, 100000)\n"
     ]
    },
    {
     "name": "stderr",
     "output_type": "stream",
     "text": [
      "100%|████████████████████████████████████████████████████████████████████████████████████████████████████████████████████████████████████████| 5878/5878 [00:25<00:00, 228.86it/s]\n"
     ]
    },
    {
     "name": "stdout",
     "output_type": "stream",
     "text": [
      "(-5.0, 316.29, 100000)\n"
     ]
    },
    {
     "name": "stderr",
     "output_type": "stream",
     "text": [
      "100%|████████████████████████████████████████████████████████████████████████████████████████████████████████████████████████████████████████| 5905/5905 [00:22<00:00, 257.91it/s]\n"
     ]
    },
    {
     "name": "stdout",
     "output_type": "stream",
     "text": [
      "(-4.0, 239.21, 100000)\n"
     ]
    },
    {
     "name": "stderr",
     "output_type": "stream",
     "text": [
      "100%|████████████████████████████████████████████████████████████████████████████████████████████████████████████████████████████████████████| 6047/6047 [00:23<00:00, 255.07it/s]\n"
     ]
    },
    {
     "name": "stdout",
     "output_type": "stream",
     "text": [
      "(-3.0, 173.11, 100000)\n"
     ]
    },
    {
     "name": "stderr",
     "output_type": "stream",
     "text": [
      "100%|████████████████████████████████████████████████████████████████████████████████████████████████████████████████████████████████████████| 6234/6234 [00:24<00:00, 252.33it/s]\n"
     ]
    },
    {
     "name": "stdout",
     "output_type": "stream",
     "text": [
      "(-2.0, 118.59, 100000)\n"
     ]
    },
    {
     "name": "stderr",
     "output_type": "stream",
     "text": [
      "100%|████████████████████████████████████████████████████████████████████████████████████████████████████████████████████████████████████████| 6488/6488 [00:25<00:00, 256.01it/s]\n"
     ]
    },
    {
     "name": "stdout",
     "output_type": "stream",
     "text": [
      "(-1.0, 74.776, 100000)\n"
     ]
    },
    {
     "name": "stderr",
     "output_type": "stream",
     "text": [
      "100%|████████████████████████████████████████████████████████████████████████████████████████████████████████████████████████████████████████| 6770/6770 [00:26<00:00, 252.59it/s]\n"
     ]
    },
    {
     "name": "stdout",
     "output_type": "stream",
     "text": [
      "(0.0, 42.007999999999996, 100000)\n"
     ]
    },
    {
     "name": "stderr",
     "output_type": "stream",
     "text": [
      "100%|████████████████████████████████████████████████████████████████████████████████████████████████████████████████████████████████████████| 7283/7283 [00:29<00:00, 248.61it/s]\n"
     ]
    },
    {
     "name": "stdout",
     "output_type": "stream",
     "text": [
      "(1.0, 20.251, 100000)\n"
     ]
    },
    {
     "name": "stderr",
     "output_type": "stream",
     "text": [
      "100%|████████████████████████████████████████████████████████████████████████████████████████████████████████████████████████████████████████| 8479/8479 [00:35<00:00, 239.91it/s]\n"
     ]
    },
    {
     "name": "stdout",
     "output_type": "stream",
     "text": [
      "(2.0, 9.519599999999999, 100000)\n"
     ]
    },
    {
     "name": "stderr",
     "output_type": "stream",
     "text": [
      "100%|████████████████████████████████████████████████████████████████████████████████████████████████████████████████████████████████████████| 9382/9382 [00:38<00:00, 243.62it/s]\n"
     ]
    },
    {
     "name": "stdout",
     "output_type": "stream",
     "text": [
      "(3.0, 9.818900000000001, 100000)\n"
     ]
    },
    {
     "name": "stderr",
     "output_type": "stream",
     "text": [
      "100%|████████████████████████████████████████████████████████████████████████████████████████████████████████████████████████████████████████| 6615/6615 [00:26<00:00, 252.32it/s]\n"
     ]
    },
    {
     "name": "stdout",
     "output_type": "stream",
     "text": [
      "(4.0, 21.144, 100000)\n"
     ]
    },
    {
     "name": "stderr",
     "output_type": "stream",
     "text": [
      "100%|████████████████████████████████████████████████████████████████████████████████████████████████████████████████████████████████████████| 4657/4657 [00:17<00:00, 267.46it/s]\n"
     ]
    },
    {
     "name": "stdout",
     "output_type": "stream",
     "text": [
      "(5.0, 43.476, 100000)\n"
     ]
    },
    {
     "name": "stderr",
     "output_type": "stream",
     "text": [
      "100%|████████████████████████████████████████████████████████████████████████████████████████████████████████████████████████████████████████| 4273/4273 [00:16<00:00, 264.30it/s]\n"
     ]
    },
    {
     "name": "stdout",
     "output_type": "stream",
     "text": [
      "(6.0, 76.793, 100000)\n"
     ]
    },
    {
     "name": "stderr",
     "output_type": "stream",
     "text": [
      "100%|████████████████████████████████████████████████████████████████████████████████████████████████████████████████████████████████████████| 4380/4380 [00:16<00:00, 266.70it/s]\n"
     ]
    },
    {
     "name": "stdout",
     "output_type": "stream",
     "text": [
      "(7.0, 121.21, 100000)\n"
     ]
    },
    {
     "name": "stderr",
     "output_type": "stream",
     "text": [
      "100%|████████████████████████████████████████████████████████████████████████████████████████████████████████████████████████████████████████| 4517/4517 [00:18<00:00, 241.76it/s]\n"
     ]
    },
    {
     "name": "stdout",
     "output_type": "stream",
     "text": [
      "(8.0, 176.6, 100000)\n"
     ]
    },
    {
     "name": "stderr",
     "output_type": "stream",
     "text": [
      "100%|████████████████████████████████████████████████████████████████████████████████████████████████████████████████████████████████████████| 4605/4605 [00:17<00:00, 260.72it/s]\n"
     ]
    },
    {
     "name": "stdout",
     "output_type": "stream",
     "text": [
      "(9.0, 243.10000000000002, 100000)\n"
     ]
    },
    {
     "name": "stderr",
     "output_type": "stream",
     "text": [
      "100%|████████████████████████████████████████████████████████████████████████████████████████████████████████████████████████████████████████| 4668/4668 [00:18<00:00, 258.62it/s]\n"
     ]
    },
    {
     "name": "stdout",
     "output_type": "stream",
     "text": [
      "(10.0, 320.37, 100000)\n"
     ]
    },
    {
     "name": "stderr",
     "output_type": "stream",
     "text": [
      "100%|████████████████████████████████████████████████████████████████████████████████████████████████████████████████████████████████████████| 4680/4680 [00:18<00:00, 251.58it/s]\n"
     ]
    },
    {
     "name": "stdout",
     "output_type": "stream",
     "text": [
      "(11.0, 408.92, 100000)\n"
     ]
    },
    {
     "name": "stderr",
     "output_type": "stream",
     "text": [
      "100%|████████████████████████████████████████████████████████████████████████████████████████████████████████████████████████████████████████| 4768/4768 [00:19<00:00, 246.71it/s]\n"
     ]
    },
    {
     "name": "stdout",
     "output_type": "stream",
     "text": [
      "(12.0, 508.24, 100000)\n"
     ]
    },
    {
     "name": "stderr",
     "output_type": "stream",
     "text": [
      "100%|████████████████████████████████████████████████████████████████████████████████████████████████████████████████████████████████████████| 4815/4815 [00:18<00:00, 267.09it/s]\n"
     ]
    },
    {
     "name": "stdout",
     "output_type": "stream",
     "text": [
      "(13.0, 618.63, 100000)\n"
     ]
    },
    {
     "name": "stderr",
     "output_type": "stream",
     "text": [
      "100%|████████████████████████████████████████████████████████████████████████████████████████████████████████████████████████████████████████| 4827/4827 [00:17<00:00, 268.66it/s]\n"
     ]
    },
    {
     "name": "stdout",
     "output_type": "stream",
     "text": [
      "(14.0, 739.65, 100000)\n"
     ]
    },
    {
     "name": "stderr",
     "output_type": "stream",
     "text": [
      "100%|████████████████████████████████████████████████████████████████████████████████████████████████████████████████████████████████████████| 4866/4866 [00:18<00:00, 262.83it/s]\n"
     ]
    },
    {
     "name": "stdout",
     "output_type": "stream",
     "text": [
      "(15.0, 873.59, 100000)\n"
     ]
    },
    {
     "name": "stderr",
     "output_type": "stream",
     "text": [
      "100%|████████████████████████████████████████████████████████████████████████████████████████████████████████████████████████████████████████| 4841/4841 [00:18<00:00, 263.38it/s]\n"
     ]
    }
   ],
   "source": [
    "kappas = []\n",
    "NLLs = []\n",
    "\n",
    "for i in range(6,32):\n",
    "    sample_dir = '/home/r10222035/CPVDM/Di-Higgs-SM/pphh/Events/'\n",
    "    info = get_info(os.path.join(sample_dir, f'run_{i:02}'))\n",
    "    print(info)\n",
    "    kappas.append(info[0])\n",
    "    xection = info[1] * 0.582 * 0.582\n",
    "    tot_event = info[2]\n",
    "    \n",
    "    # selection\n",
    "    file_path = os.path.join(sample_dir, f'run_{i:02}_decayed_1/DiHiggs_4b_PT40_kappa-predict-mix.h5')\n",
    "    result_s = diHiggs_selection_HDF5(file_path, \n",
    "                                    tot_event, \n",
    "                                    pairing_method,   \n",
    "                                    xection,\n",
    "                                    title='pp->hh', \n",
    "                                    nevent_max=10000)\n",
    "    \n",
    "    # bin\n",
    "    n, bin_edges = np.histogram(result_s['mhh'], bins=n_bin, range=hist_range)\n",
    "    N_sig = n / tot_event * xection * L\n",
    "\n",
    "    # NLL \n",
    "    NLLs.append(NLL(N_sig, SPANET_bkg))  "
   ]
  },
  {
   "cell_type": "code",
   "execution_count": 28,
   "id": "824b5430",
   "metadata": {},
   "outputs": [],
   "source": [
    "NLLs = np.array(NLLs)\n",
    "LL_r = NLLs - NLLs.min()\n",
    "\n",
    "x = np.array(kappas)\n",
    "arg = x.argsort()\n",
    "x = x[arg]\n",
    "y = LL_r[arg]\n",
    "\n",
    "# interpolate\n",
    "f = interpolate.UnivariateSpline(x, y, s=0, k=3)\n",
    "\n",
    "x_new = np.linspace(x.min(), x.max(), 100)\n",
    "y_new = f(x_new)"
   ]
  },
  {
   "cell_type": "code",
   "execution_count": 29,
   "id": "0bae568f",
   "metadata": {},
   "outputs": [],
   "source": [
    "def find_root(f, x0, x1):\n",
    "    if f(x0) * f(x1) > 0:\n",
    "        print('Wrong Guess')\n",
    "    else:\n",
    "        tol = 1e-12\n",
    "        while abs(f(x0)) > tol:\n",
    "            c = (x0 + x1)/2\n",
    "            if f(c) * f(x0) > 0:\n",
    "                x0, x1 = c, x1\n",
    "            else:\n",
    "                x0, x1 = x0, c\n",
    "        return x0\n",
    "    \n",
    "def g(x):\n",
    "    return f(x) - 4\n",
    "\n",
    "r1 = find_root(g, -10, 0)\n",
    "r2 = find_root(g, 15, 0)"
   ]
  },
  {
   "cell_type": "code",
   "execution_count": 30,
   "id": "272dfdce",
   "metadata": {},
   "outputs": [
    {
     "data": {
      "image/png": "[encoded data removed]",
      "text/plain": [
       "<Figure size 432x360 with 1 Axes>"
      ]
     },
     "metadata": {
      "needs_background": "light"
     },
     "output_type": "display_data"
    }
   ],
   "source": [
    "fig, ax = plt.subplots(1, 1, figsize =(6, 5))\n",
    "ax.scatter(kappas, LL_r)\n",
    "ax.plot(x_new, y_new, label='Expected')\n",
    "ax.plot(x_new, np.ones_like(x_new)*4, label='$\\pm 2 \\sigma$')\n",
    "ax.set_xlabel('$\\kappa_\\lambda$')\n",
    "ax.set_ylabel('$-2\\Delta\\ln(L)$')\n",
    "ax.set_title('SPANET method')\n",
    "if r1 and r2:\n",
    "    ax.text(0, 15, f'Expected $2\\sigma$ constraints:\\n $\\kappa_\\lambda\\in[{r1:.2f},{r2:.2f}]$')\n",
    "\n",
    "ax.legend()\n",
    "plt.savefig('figures/log_likelihood_ratio_kappa_SPANET-mix.png', facecolor='White', dpi=300, bbox_inches = 'tight')\n",
    "plt.show()"
   ]
  },
  {
   "cell_type": "code",
   "execution_count": null,
   "id": "4c2ead71",
   "metadata": {},
   "outputs": [],
   "source": []
  }
 ],
 "metadata": {
  "kernelspec": {
   "display_name": "Python 3 (ipykernel)",
   "language": "python",
   "name": "python3"
  },
  "language_info": {
   "codemirror_mode": {
    "name": "ipython",
    "version": 3
   },
   "file_extension": ".py",
   "mimetype": "text/x-python",
   "name": "python",
   "nbconvert_exporter": "python",
   "pygments_lexer": "ipython3",
   "version": "3.8.13"
  }
 },
 "nbformat": 4,
 "nbformat_minor": 5
}
