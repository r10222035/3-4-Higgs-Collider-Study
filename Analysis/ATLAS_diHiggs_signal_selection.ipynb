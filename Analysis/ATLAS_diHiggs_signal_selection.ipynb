{
 "cells": [
  {
   "cell_type": "code",
   "execution_count": 1,
   "id": "109a79a1",
   "metadata": {},
   "outputs": [],
   "source": [
    "import uproot\n",
    "import numpy as np\n",
    "import matplotlib.pyplot as plt\n",
    "from tqdm import tqdm\n",
    "import h5py\n",
    "import itertools\n",
    "import pandas as pd\n",
    "from IPython.display import display\n",
    "import os"
   ]
  },
  {
   "cell_type": "code",
   "execution_count": 2,
   "id": "ce3a70ea",
   "metadata": {},
   "outputs": [],
   "source": [
    "def DeltaR(eta1,phi1, eta2,phi2):\n",
    "    dEta = eta1-eta2\n",
    "    dPhi = abs(phi1-phi2)\n",
    "    if dPhi > np.pi:\n",
    "        dPhi = 2*np.pi - dPhi\n",
    "\n",
    "    dR = (dPhi**2 + dEta**2)**0.5\n",
    "\n",
    "    return dR\n",
    "\n",
    "def FourMomentum(pt, eta, phi, m):\n",
    "    px, py, pz = pt*np.cos(phi), pt*np.sin(phi), pt*np.sinh(eta)\n",
    "    e = np.sqrt(m**2 + px**2 + py**2 + pz**2)\n",
    "    return e, px, py, pz\n",
    "\n",
    "def PtEtaPhiM(px, py, pz, e):\n",
    "    E, px, py, pz = e, px, py, pz  \n",
    "    P = np.sqrt(px**2 + py**2 + pz**2)\n",
    "    pt = np.sqrt(px**2 + py**2)\n",
    "    eta = 1./2.*np.log((P + pz)/(P - pz))\n",
    "    phi = np.arctan(py/px)\n",
    "    m = np.sqrt(np.sqrt((E**2 - px**2 - py**2 - pz**2)**2))\n",
    "\n",
    "    return pt, eta, phi, m\n",
    "    \n",
    "def InvM(e, px, py, pz):\n",
    "    return np.sqrt(e**2 - px**2 - py**2 - pz**2)\n",
    "\n",
    "def Mjets(*arg):\n",
    "    e_tot, px_tot, py_tot, pz_tot = 0, 0, 0, 0\n",
    "    \n",
    "    for jet in arg:\n",
    "        pt, eta, phi, m = jet[0], jet[1], jet[2], jet[3]\n",
    "        \n",
    "        px, py, pz = pt*np.cos(phi), pt*np.sin(phi), pt*np.sinh(eta)\n",
    "        e = np.sqrt(m**2 + px**2 + py**2 + pz**2)\n",
    "        \n",
    "        px_tot += px\n",
    "        py_tot += py\n",
    "        pz_tot += pz\n",
    "        e_tot += e\n",
    "    \n",
    "    return np.sqrt(e_tot**2 - px_tot**2 - py_tot**2 - pz_tot**2)"
   ]
  },
  {
   "cell_type": "code",
   "execution_count": 3,
   "id": "132163e5",
   "metadata": {},
   "outputs": [],
   "source": [
    "def all_pairs(lst):\n",
    "    if len(lst) < 2:\n",
    "        yield []\n",
    "        return\n",
    "    if len(lst) % 2 == 1:\n",
    "        # Handle odd length list\n",
    "        for i in range(len(lst)):\n",
    "            for result in all_pairs(lst[:i] + lst[i+1:]):\n",
    "                yield result\n",
    "    else:\n",
    "        a = lst[0]\n",
    "        for i in range(1,len(lst)):\n",
    "            pair = (a,lst[i])\n",
    "            for rest in all_pairs(lst[1:i]+lst[i+1:]):\n",
    "                yield [pair] + rest              "
   ]
  },
  {
   "cell_type": "code",
   "execution_count": 4,
   "id": "89ae8c31",
   "metadata": {},
   "outputs": [],
   "source": [
    "def display_cutflow_table(result):\n",
    "    nevent = result['nevent']\n",
    "    cut_list = []\n",
    "    for key in result:\n",
    "        if key != 'Mass' and key != 'nevent' and key != 'Cross section':\n",
    "            cut_list.append(key)\n",
    "\n",
    "    pass_rate_list = []\n",
    "    efficiency_list = []\n",
    "    \n",
    "    for i, cut in enumerate(cut_list):\n",
    "        pass_rate_list.append(result[cut]/nevent)\n",
    "        if i == 0:\n",
    "            efficiency_list.append(pass_rate_list[i]/1)\n",
    "        else:\n",
    "            efficiency_list.append(pass_rate_list[i]/pass_rate_list[i-1])\n",
    "    data = {'Cut': cut_list, 'pass rate': pass_rate_list, 'efficiency': efficiency_list}\n",
    "    \n",
    "    df = pd.DataFrame(data)\n",
    "    \n",
    "    display(df)"
   ]
  },
  {
   "cell_type": "code",
   "execution_count": 5,
   "id": "59132820",
   "metadata": {},
   "outputs": [],
   "source": [
    "def print_sb_info(key, signal, background, L=[139]):\n",
    "    nL = len(L)\n",
    "    L = np.array(L)\n",
    "    \n",
    "    cross_section_s = signal[key] \n",
    "    cross_section_b = background[key] \n",
    "    nS = L * cross_section_s\n",
    "    nB = L * cross_section_b\n",
    "    \n",
    "    content_format = '{:15} {:<12.3f} {:<12.3} {:<12.3}' + ' {:<12.3}'* nL\n",
    "    print(content_format.format(key, cross_section_s, cross_section_b, nS[0]/nB[0], *nS/nB**0.5))\n",
    "\n",
    "def signal_background_table(signal, background, L=[139]):\n",
    "    # unit of luminosity L is fb\n",
    "    nL = len(L)\n",
    "    L = np.array(L)\n",
    "\n",
    "    row_format = '{:15} {:<12} {:<12} {:<12}' + ' {:<12}'* nL\n",
    "    print(row_format.format('', '', '', '', *L))\n",
    "    print(row_format.format('', 'Signal', 'Background', 'S/B', *['S/sqrt{B}'] * nL))\n",
    "    \n",
    "    cross_section_s = signal['Cross section']\n",
    "    cross_section_b = background['Cross section']\n",
    "    nS = L * cross_section_s\n",
    "    nB = L * cross_section_b\n",
    "    \n",
    "    content_format = '{:15} {:<12.3f} {:<12.3} {:<12.3}' + ' {:<12.3}'* nL\n",
    "    print(content_format.format('No cut', cross_section_s, cross_section_b, nS[0]/nB[0], *nS/nB**0.5))\n",
    "    \n",
    "    for key in signal:\n",
    "        if key != 'nevent' and key != 'Cross section':\n",
    "            print_sb_info(key, signal, background, L)\n",
    "            \n",
    "def combine_result_dict(dict_pre, dict_):\n",
    "    result = {\n",
    "        **dict_pre,\n",
    "        **dict_,\n",
    "    }\n",
    "    result.pop('Pre cut', None)   \n",
    "    return result\n",
    "\n",
    "def combine_cross_section(dict1, dict2):\n",
    "    result = {}\n",
    "    for key in dict1:\n",
    "        if key != 'nevent':\n",
    "            result[key] = dict1[key] + dict2[key]\n",
    "    return result  "
   ]
  },
  {
   "cell_type": "markdown",
   "id": "f8eb3bbf",
   "metadata": {},
   "source": [
    "# ATLAS diHiggs selection "
   ]
  },
  {
   "cell_type": "code",
   "execution_count": 6,
   "id": "2e8ebfbc",
   "metadata": {},
   "outputs": [],
   "source": [
    "def deltaR_condition(R1, R2, m4j):\n",
    "    # R1: Delta R of leading Higgs candidate\n",
    "    # R2: Delta R of sub-leading Higgs candidate\n",
    "    \n",
    "    if m4j < 1250:\n",
    "        if R1 > 653 / m4j + 0.475:\n",
    "            return False\n",
    "        if R1 < 360 / m4j - 0.5:\n",
    "            return False\n",
    "\n",
    "        if R2 > 875 / m4j + 0.35:\n",
    "            return False\n",
    "        if R2 < 235 / m4j:\n",
    "            return False      \n",
    "    else:\n",
    "        if R1 > 1:\n",
    "            return False\n",
    "        if R1 < 0:\n",
    "            return False\n",
    "\n",
    "        if R2 > 1:\n",
    "            return False\n",
    "        if R2 < 0:\n",
    "            return False\n",
    "    return True\n",
    "\n",
    "def DHH(m1, m2):\n",
    "    # m1: mass of leading Higgs candidate\n",
    "    # m2: mass of sub-leading Higgs candidate\n",
    "    \n",
    "    return abs(m1 - 120/110*m2) / (1 + (120/110)**2)**0.5\n",
    "    \n",
    "def pt_condition(pt1, pt2, m4j):\n",
    "    # pt1: PT of leading Higgs candidate\n",
    "    # pt2: PT of sub-leading Higgs candidate\n",
    "    \n",
    "    if pt1 < 0.5 * m4j - 103:\n",
    "        return False\n",
    "    if pt2 < 0.33 * m4j - 73:\n",
    "        return False\n",
    "    return True\n",
    "\n",
    "def XHH(m1, m2):\n",
    "    # m1: leading Higgs candidate mass\n",
    "    # m2: sub-leading Higgs candidate mass\n",
    "    \n",
    "    return (((m1-120)/(0.1*m1))**2 + ((m2-110)/(0.1*m2))**2)**0.5\n",
    "\n",
    "def XWt(mW, mt):\n",
    "    # mW: W boson candidate mass\n",
    "    # mt: top candidate mass\n",
    "    \n",
    "    return (((mW-80)/(0.1*mW))**2 + ((mt-173)/(0.1*mt))**2)**0.5"
   ]
  },
  {
   "cell_type": "code",
   "execution_count": 7,
   "id": "8cd1958f",
   "metadata": {},
   "outputs": [],
   "source": [
    "def print_count_xsection(text, cross_section, count, total):\n",
    "    print(text, count, cross_section * count / total)"
   ]
  },
  {
   "cell_type": "markdown",
   "id": "18e56c8a",
   "metadata": {},
   "source": [
    "## Root file"
   ]
  },
  {
   "cell_type": "code",
   "execution_count": 110,
   "id": "68c53cca",
   "metadata": {},
   "outputs": [],
   "source": [
    "def diHiggs_selection_ATLAS(file_path, mass, xection=None, title='', nevent_max=1000):\n",
    "    # input: root file\n",
    "    # Eta PT BTag cut: |eta| < 2.5, PT > 40 GeV for 4 b-jets\n",
    "    \n",
    "    root_file = uproot.open(file_path)['Delphes;1']\n",
    "\n",
    "    Eta_PT_BTag_count = 0\n",
    "    dR_count = 0\n",
    "    HPT_count = 0\n",
    "    HEta_count = 0\n",
    "    XHH_count = 0\n",
    "    XWt_count = 0\n",
    "\n",
    "    jet_PT = root_file['Jet.PT'].array(entry_stop=nevent_max)\n",
    "    jet_Eta = root_file['Jet.Eta'].array(entry_stop=nevent_max)\n",
    "    jet_Phi = root_file['Jet.Phi'].array(entry_stop=nevent_max)\n",
    "    jet_Mass = root_file['Jet.Mass'].array(entry_stop=nevent_max)\n",
    "    jet_BTag = root_file['Jet.BTag'].array(entry_stop=nevent_max)\n",
    "    \n",
    "    if xection:\n",
    "        cross_section = xection\n",
    "    else:\n",
    "        # unit: pb -> fb\n",
    "        cross_section = root_file['Event.Weight'].array(entry_stop=1)[0][0] * 1000\n",
    "    \n",
    "    nevent = len(jet_PT)\n",
    "    \n",
    "    for event in tqdm(range(nevent)):\n",
    "        \n",
    "        # |eta| < 2.5 & PT > 40 GeV\n",
    "        eta_pt_cut = np.where((np.abs(jet_Eta[event]) < 2.5) & (jet_PT[event] > 40))[0]\n",
    "        \n",
    "        # |eta| < 2.5 & PT > 40 GeV & b-tagged\n",
    "        eta_pt_bTag_cut = np.where((np.abs(jet_Eta[event]) < 2.5) & (jet_PT[event] > 40) & (jet_BTag[event] == 1))[0]\n",
    "\n",
    "        # >= 4 b-jet\n",
    "        if len(eta_pt_bTag_cut) < 4: \n",
    "            continue\n",
    "        Eta_PT_BTag_count += 1\n",
    "        \n",
    "        # choose 4 highest pt b-jets\n",
    "        h_jets = eta_pt_bTag_cut[0:4]\n",
    "\n",
    "        PT = jet_PT[event][h_jets]\n",
    "        Eta = jet_Eta[event][h_jets]\n",
    "        Phi = jet_Phi[event][h_jets]\n",
    "        Mass = jet_Mass[event][h_jets]\n",
    "\n",
    "        e, px, py, pz = FourMomentum(PT, Eta, Phi, Mass)\n",
    "        m4j = InvM(np.sum(e), np.sum(px), np.sum(py), np.sum(pz))\n",
    "\n",
    "        # The pairing satisfy the delta R condition\n",
    "        dR_pairing = []\n",
    "        for (i1,i2), (i3,i4) in all_pairs([0,1,2,3]):\n",
    "            PT1 = PT[[i1,i2]]\n",
    "            PT2 = PT[[i3,i4]]\n",
    "            # sorted by PT scalar sum\n",
    "            if np.sum(PT1) < np.sum(PT2):\n",
    "                i1, i2, i3, i4 = i3, i4, i1, i2\n",
    "                \n",
    "            PT1 = PT[[i1,i2]] \n",
    "            Eta1 = Eta[[i1,i2]]\n",
    "            Phi1 = Phi[[i1,i2]]\n",
    "            Mass1 = Mass[[i1,i2]]\n",
    "            \n",
    "            e1, px1, py1, pz1 = FourMomentum(PT1, Eta1, Phi1, Mass1)\n",
    "            mH1 = InvM(np.sum(e1), np.sum(px1), np.sum(py1), np.sum(pz1))\n",
    "            \n",
    "            PT2 = PT[[i3,i4]]\n",
    "            Eta2 = Eta[[i3,i4]]\n",
    "            Phi2 = Phi[[i3,i4]]\n",
    "            Mass2 = Mass[[i3,i4]]\n",
    "            \n",
    "            e2, px2, py2, pz2 = FourMomentum(PT2, Eta2, Phi2, Mass2)\n",
    "            mH2 = InvM(np.sum(e2), np.sum(px2), np.sum(py2), np.sum(pz2))\n",
    "                \n",
    "            dR1 = DeltaR(Eta1[0], Phi1[0], Eta1[1], Phi1[1])\n",
    "            dR2 = DeltaR(Eta2[0], Phi2[0], Eta2[1], Phi2[1])\n",
    "            \n",
    "            if deltaR_condition(dR1, dR2, m4j):\n",
    "                d = DHH(mH1, mH2)\n",
    "                dR_pairing.append([i1,i2,i3,i4, d])\n",
    "                \n",
    "        if len(dR_pairing) == 0:\n",
    "            continue\n",
    "        dR_count += 1\n",
    "        \n",
    "        # choose the pairing with minimum DHH\n",
    "        h_candidate = dR_pairing[0][0:4]\n",
    "        min_DHH = dR_pairing[0][4]\n",
    "        for i1,i2,i3,i4, d in dR_pairing:\n",
    "            if d < min_DHH:\n",
    "                min_DHH = d\n",
    "                h_candidate = [i1,i2,i3,i4]\n",
    "                \n",
    "        i1, i2 = h_candidate[0:2] \n",
    "        i3, i4 = h_candidate[2:4] \n",
    "        \n",
    "        PT1 = PT[[i1,i2]]\n",
    "        Eta1 = Eta[[i1,i2]]\n",
    "        Phi1 = Phi[[i1,i2]]\n",
    "        Mass1 = Mass[[i1,i2]]\n",
    "\n",
    "        e1, px1, py1, pz1 = FourMomentum(PT1, Eta1, Phi1, Mass1)\n",
    "        PTH1, EtaH1, PhiH1, MassH1 = PtEtaPhiM(np.sum(px1), np.sum(py1), np.sum(pz1), np.sum(e1))\n",
    "\n",
    "        PT2 = PT[[i3,i4]]\n",
    "        Eta2 = Eta[[i3,i4]]\n",
    "        Phi2 = Phi[[i3,i4]]\n",
    "        Mass2 = Mass[[i3,i4]]\n",
    "\n",
    "        e2, px2, py2, pz2 = FourMomentum(PT2, Eta2, Phi2, Mass2)\n",
    "        PTH2, EtaH2, PhiH2, MassH2 = PtEtaPhiM(np.sum(px2), np.sum(py2), np.sum(pz2), np.sum(e2))\n",
    "            \n",
    "        if not pt_condition(PTH1, PTH2, m4j):\n",
    "            continue\n",
    "        HPT_count += 1    \n",
    "        \n",
    "        if abs(EtaH1 - EtaH2) > 1.5:\n",
    "            continue\n",
    "        HEta_count += 1\n",
    "        \n",
    "        # signal region\n",
    "        if XHH(MassH1, MassH2) > 1.6:\n",
    "            continue\n",
    "        XHH_count += 1\n",
    "        \n",
    "        # Top veto\n",
    "        not_h_jets = []\n",
    "        for jet in eta_pt_cut:\n",
    "            if jet not in h_jets:\n",
    "                not_h_jets.append(jet)\n",
    "        \n",
    "        XWt_flag = False\n",
    "        if len(not_h_jets) >= 2:\n",
    "            for i1,i2 in itertools.combinations(not_h_jets, 2):\n",
    "                PTW = jet_PT[event][[i1,i2]]\n",
    "                EtaW = jet_Eta[event][[i1,i2]]\n",
    "                PhiW = jet_Phi[event][[i1,i2]]\n",
    "                MassW = jet_Mass[event][[i1,i2]]\n",
    "\n",
    "                eW, pxW, pyW, pzW = FourMomentum(PTW, EtaW, PhiW, MassW)\n",
    "                mW = InvM(np.sum(eW), np.sum(pxW), np.sum(pyW), np.sum(pzW))\n",
    "\n",
    "                for b in h_jets:\n",
    "                    PTb = jet_PT[event][b]\n",
    "                    Etab = jet_Eta[event][b]\n",
    "                    Phib = jet_Phi[event][b]\n",
    "                    Massb = jet_Mass[event][b]\n",
    "                    eb, pxb, pyb, pzb = FourMomentum(PTb, Etab, Phib, Massb)\n",
    "\n",
    "                    et, pxt, pyt, pzt = np.sum(eW) + eb, np.sum(pxW) + pxb, np.sum(pyW) + pyb, np.sum(pzW) + pzb\n",
    "                    mt = InvM(et, pxt, pyt, pzt)\n",
    "\n",
    "                    if XWt(mW, mt) < 1.5:\n",
    "                        XWt_flag = True\n",
    "                        break\n",
    "                        \n",
    "                if XWt_flag:\n",
    "                    break\n",
    "        if XWt_flag:\n",
    "            continue\n",
    "        XWt_count += 1\n",
    "\n",
    "    print(title)\n",
    "    print(f'In {nevent} events')\n",
    "    print(f'Cross section: {cross_section} fb')\n",
    "    \n",
    "    print_count_xsection('|eta| < 2.5, PT > 40 GeV for 4 b-jets:', cross_section, Eta_PT_BTag_count, nevent)\n",
    "    print_count_xsection('Delta R:', cross_section, dR_count, nevent)\n",
    "    print_count_xsection('Higgs PT:', cross_section, HPT_count, nevent)\n",
    "    print_count_xsection('Higgs Eta:', cross_section, HEta_count, nevent)\n",
    "    print_count_xsection('Higgs signal region:', cross_section, XHH_count, nevent)\n",
    "    print_count_xsection('Top veto:', cross_section, XWt_count, nevent)\n",
    "\n",
    "    \n",
    "    cutflow_count = {\n",
    "        'Mass': mass,\n",
    "        'nevent': nevent,\n",
    "        'Cross section': cross_section,\n",
    "        'Eta PT BTag cut': Eta_PT_BTag_count,\n",
    "        'Delta R': dR_count,\n",
    "        'Higgs PT cut': HPT_count,\n",
    "        'Higgs Eta cut': HEta_count,\n",
    "        'Higgs signal': XHH_count,\n",
    "        'Top veto': XWt_count, \n",
    "    }\n",
    "    \n",
    "    cutflow_cross_section = {  \n",
    "        'nevent': nevent,\n",
    "        'Cross section': cross_section,\n",
    "        'Eta PT BTag cut': cross_section * Eta_PT_BTag_count / nevent,\n",
    "        'Delta R': cross_section * dR_count / nevent,\n",
    "        'Higgs PT cut': cross_section * HPT_count / nevent,\n",
    "        'Higgs Eta cut': cross_section * HEta_count / nevent,\n",
    "        'Higgs signal': cross_section * XHH_count / nevent,\n",
    "        'Top veto': cross_section * XWt_count / nevent, \n",
    "    }\n",
    "    return cutflow_count, cutflow_cross_section"
   ]
  },
  {
   "cell_type": "code",
   "execution_count": 7,
   "id": "e44ff8ef",
   "metadata": {},
   "outputs": [],
   "source": [
    "def get_number_of_bjet(file_path, mass, xection=None, title='', nevent_max=1000):\n",
    "    # Eta PT BTag cut: |eta| < 2.5, PT > 40 GeV for 4 b-jets\n",
    "    \n",
    "    root_file = uproot.open(file_path)['Delphes;1']\n",
    "\n",
    "    Eta_PT_BTag_count = 0\n",
    "\n",
    "    jet_PT = root_file['Jet.PT'].array(entry_stop=nevent_max)\n",
    "    jet_Eta = root_file['Jet.Eta'].array(entry_stop=nevent_max)\n",
    "    jet_BTag = root_file['Jet.BTag'].array(entry_stop=nevent_max)\n",
    "    \n",
    "    if xection:\n",
    "        cross_section = xection\n",
    "    else:\n",
    "        # unit: pb -> fb\n",
    "        cross_section = root_file['Event.Weight'].array(entry_stop=1)[0][0] * 1000\n",
    "    \n",
    "    nevent = min(len(jet_PT), nevent_max)\n",
    "    \n",
    "    # 0: before Four tag cut, 1: after Four tag cut\n",
    "    nbj = [[], []]\n",
    "    \n",
    "    for event in tqdm(range(nevent)):\n",
    "        \n",
    "        BTag = jet_BTag[event]\n",
    "\n",
    "        nbj[0].append(np.sum(BTag))\n",
    "        \n",
    "        # |eta| < 2.5 & PT > 40 GeV\n",
    "        eta_pt_cut = np.where((np.abs(jet_Eta[event]) < 2.5) & (jet_PT[event] > 40))[0]\n",
    "        \n",
    "        # |eta| < 2.5 & PT > 40 GeV & b-tagged\n",
    "        eta_pt_bTag_cut = np.where((np.abs(jet_Eta[event]) < 2.5) & (jet_PT[event] > 40) & (jet_BTag[event] == 1))[0]\n",
    "\n",
    "        # >= 4 b-jet\n",
    "        if len(eta_pt_bTag_cut) < 4: \n",
    "            continue\n",
    "        Eta_PT_BTag_count += 1\n",
    "        \n",
    "        nbj[1].append(len(eta_pt_bTag_cut))\n",
    "        \n",
    "\n",
    "    print(title)\n",
    "    print(f'In {nevent} events')\n",
    "    print(f'Cross section: {cross_section} fb')\n",
    "    print('|eta| < 2.5, PT > 40 GeV for 4 b-jets:', Eta_PT_BTag_count, cross_section * Eta_PT_BTag_count / nevent)\n",
    "    return nbj"
   ]
  },
  {
   "cell_type": "markdown",
   "id": "84749111",
   "metadata": {},
   "source": [
    "## HDF5"
   ]
  },
  {
   "cell_type": "code",
   "execution_count": 20,
   "id": "21ee93d6",
   "metadata": {},
   "outputs": [],
   "source": [
    "def from_rootfile_to_HDF5(root_file, output_file):\n",
    "    # 生成給 SPANet 預測的 HDF5 檔案\n",
    "    min_bjets = 4\n",
    "    cmd = f'python to_SPANet_data_diHiggs_PT40.py {root_file} {output_file} {min_bjets}'\n",
    "    os.system(cmd)\n",
    "    \n",
    "    # # 用 SPANet 預測的 HDF5 檔案\n",
    "    # cmd = 'conda activae SPANet'\n",
    "    # os.system(cmd)\n",
    "\n",
    "    # cmd = 'cd /home/r10222035/SPANet/'\n",
    "    # os.system(cmd)\n",
    "\n",
    "    # model = 'diHiggs/1M_diHiggs_4b_MV2c10_PT40/version_0'\n",
    "    # output_name = '100k_diHiggs_4b_MV2c10_PT40_background_predict.h5'\n",
    "    # test_file = ''\n",
    "    # cmd = f'python predict.py {model} {output_name} -tf {test_file} --gpu'\n",
    "    # os.system(cmd)"
   ]
  },
  {
   "cell_type": "code",
   "execution_count": 8,
   "id": "a09d7e33",
   "metadata": {},
   "outputs": [],
   "source": [
    "def SPANet_pairing(jet_PT, h_jets):\n",
    "    if np.sum(jet_PT[h_jets[0:2]]) > np.sum(jet_PT[h_jets[2:4]]):\n",
    "        return [0, 1, 2, 3]\n",
    "    else:\n",
    "        return [2, 3, 0, 1]\n",
    "\n",
    "def deltaR_minDHH_pairing(PT, Eta, Phi, Mass):\n",
    "    e, px, py, pz = FourMomentum(PT, Eta, Phi, Mass)\n",
    "    m4j = InvM(np.sum(e), np.sum(px), np.sum(py), np.sum(pz))\n",
    "    \n",
    "    # The pairing satisfy the delta R condition\n",
    "    dR_pairing = []\n",
    "    for (i1,i2), (i3,i4) in all_pairs([0,1,2,3]):\n",
    "        PT1 = PT[[i1,i2]]\n",
    "        PT2 = PT[[i3,i4]]\n",
    "        # sorted by PT scalar sum\n",
    "        if np.sum(PT1) < np.sum(PT2):\n",
    "            i1, i2, i3, i4 = i3, i4, i1, i2\n",
    "\n",
    "        PT1 = PT[[i1,i2]] \n",
    "        Eta1 = Eta[[i1,i2]]\n",
    "        Phi1 = Phi[[i1,i2]]\n",
    "        Mass1 = Mass[[i1,i2]]\n",
    "        \n",
    "        e1, px1, py1, pz1 = FourMomentum(PT1, Eta1, Phi1, Mass1)\n",
    "        mH1 = InvM(np.sum(e1), np.sum(px1), np.sum(py1), np.sum(pz1))\n",
    "\n",
    "        PT2 = PT[[i3,i4]]\n",
    "        Eta2 = Eta[[i3,i4]]\n",
    "        Phi2 = Phi[[i3,i4]]\n",
    "        Mass2 = Mass[[i3,i4]]\n",
    "\n",
    "        e2, px2, py2, pz2 = FourMomentum(PT2, Eta2, Phi2, Mass2)\n",
    "        mH2 = InvM(np.sum(e2), np.sum(px2), np.sum(py2), np.sum(pz2))\n",
    "\n",
    "        dR1 = DeltaR(Eta1[0], Phi1[0], Eta1[1], Phi1[1])\n",
    "        dR2 = DeltaR(Eta2[0], Phi2[0], Eta2[1], Phi2[1])\n",
    "\n",
    "        if deltaR_condition(dR1, dR2, m4j):\n",
    "            d = DHH(mH1, mH2)\n",
    "            dR_pairing.append([i1,i2,i3,i4, d])\n",
    "\n",
    "    if len(dR_pairing) == 0:\n",
    "        return []\n",
    "\n",
    "    # choose the pairing with minimum DHH\n",
    "    h_candidate = dR_pairing[0][0:4]\n",
    "    min_DHH = dR_pairing[0][4]\n",
    "    for i1,i2,i3,i4, d in dR_pairing:\n",
    "        if d < min_DHH:\n",
    "            min_DHH = d\n",
    "            h_candidate = [i1,i2,i3,i4]\n",
    "    return h_candidate"
   ]
  },
  {
   "cell_type": "code",
   "execution_count": 9,
   "id": "15103386",
   "metadata": {},
   "outputs": [],
   "source": [
    "def diHiggs_selection_ATLAS_HDF5(file_path, tot_event, pairing_method,  xection=None, title='', nevent_max=1000):\n",
    "    # 已經過 |eta| < 2.5, PT > 40 GeV for 4 jets, >= 4 b-jets 篩選，並且通過 SPANet\n",
    "    \n",
    "    with h5py.File(file_path, 'r') as f:\n",
    "        Eta_PT_BTag_count = 0\n",
    "        dR_count = 0\n",
    "        HPT_count = 0\n",
    "        HEta_count = 0\n",
    "        XHH_count = 0\n",
    "        XWt_count = 0\n",
    "\n",
    "        cross_section = xection\n",
    "        \n",
    "        nevent = min(f['source/pt'].shape[0], nevent_max)\n",
    "        for event in tqdm(range(nevent)):\n",
    "            \n",
    "            nj = f['source/mask'][event].sum()\n",
    "            # 須將資料標準化還原\n",
    "            jet_PT = np.exp(f['source/pt'][event][:nj])\n",
    "            jet_Eta = f['source/eta'][event][:nj]\n",
    "            jet_Phi = f['source/phi'][event][:nj]\n",
    "            jet_Mass = np.exp(f['source/mass'][event][:nj])\n",
    "            jet_BTag = f['source/btag'][event][:nj]\n",
    "\n",
    "            # |eta| < 2.5 & PT > 40 GeV\n",
    "            eta_pt_cut = np.where((np.abs(jet_Eta) < 2.5) & (jet_PT > 40))[0]\n",
    "\n",
    "            # |eta| < 2.5 & PT > 40 GeV & b-tagged\n",
    "            eta_pt_bTag_cut = np.where((np.abs(jet_Eta) < 2.5) & (jet_PT > 40) & (jet_BTag == 1))[0]\n",
    "\n",
    "            # >= 4 b-jet\n",
    "            if len(eta_pt_bTag_cut) < 4: \n",
    "                continue\n",
    "            Eta_PT_BTag_count += 1\n",
    "            \n",
    "            if pairing_method == 'SPANet':\n",
    "                # SPANet pairing\n",
    "                h_jets = [f['h1/b1'][event], f['h1/b2'][event], \n",
    "                          f['h2/b1'][event], f['h2/b2'][event],]\n",
    "                h_candidate = SPANet_pairing(jet_PT, h_jets)\n",
    "            elif pairing_method == 'deltaR_minDHH':\n",
    "                # choose 4 highest pt b-jets\n",
    "                h_jets = eta_pt_bTag_cut[0:4]\n",
    "                \n",
    "                PT = jet_PT[h_jets]\n",
    "                Eta = jet_Eta[h_jets]\n",
    "                Phi = jet_Phi[h_jets]\n",
    "                Mass = jet_Mass[h_jets]\n",
    "                \n",
    "                h_candidate = deltaR_minDHH_pairing(PT, Eta, Phi, Mass)\n",
    "            else:\n",
    "                return 'Pairing method does not exist.'\n",
    "            \n",
    "            if len(h_candidate) == 0:\n",
    "                continue\n",
    "            dR_count += 1\n",
    "                                                \n",
    "            PT = jet_PT[h_jets]\n",
    "            Eta = jet_Eta[h_jets]\n",
    "            Phi = jet_Phi[h_jets]\n",
    "            Mass = jet_Mass[h_jets]\n",
    "            \n",
    "            e, px, py, pz = FourMomentum(PT, Eta, Phi, Mass)\n",
    "            m4j = InvM(np.sum(e), np.sum(px), np.sum(py), np.sum(pz))\n",
    "\n",
    "            i1, i2 = h_candidate[0:2] \n",
    "            i3, i4 = h_candidate[2:4] \n",
    "\n",
    "            PT1 = PT[[i1,i2]]\n",
    "            Eta1 = Eta[[i1,i2]]\n",
    "            Phi1 = Phi[[i1,i2]]\n",
    "            Mass1 = Mass[[i1,i2]]\n",
    "\n",
    "            e1, px1, py1, pz1 = FourMomentum(PT1, Eta1, Phi1, Mass1)\n",
    "            PTH1, EtaH1, PhiH1, MassH1 = PtEtaPhiM(np.sum(px1), np.sum(py1), np.sum(pz1), np.sum(e1))\n",
    "\n",
    "            PT2 = PT[[i3,i4]]\n",
    "            Eta2 = Eta[[i3,i4]]\n",
    "            Phi2 = Phi[[i3,i4]]\n",
    "            Mass2 = Mass[[i3,i4]]\n",
    "\n",
    "            e2, px2, py2, pz2 = FourMomentum(PT2, Eta2, Phi2, Mass2)\n",
    "            PTH2, EtaH2, PhiH2, MassH2 = PtEtaPhiM(np.sum(px2), np.sum(py2), np.sum(pz2), np.sum(e2))\n",
    "\n",
    "            if not pt_condition(PTH1, PTH2, m4j):\n",
    "                continue\n",
    "            HPT_count += 1    \n",
    "\n",
    "            if abs(EtaH1 - EtaH2) > 1.5:\n",
    "                continue\n",
    "            HEta_count += 1\n",
    "\n",
    "            # signal region\n",
    "            if XHH(MassH1, MassH2) > 1.6:\n",
    "                continue\n",
    "            XHH_count += 1\n",
    "\n",
    "            # Top veto\n",
    "            not_h_jets = []\n",
    "            for jet in eta_pt_cut:\n",
    "                if jet not in h_jets:\n",
    "                    not_h_jets.append(jet)\n",
    "                \n",
    "            XWt_flag = False\n",
    "            if len(not_h_jets) >= 2:\n",
    "                for i1,i2 in itertools.combinations(not_h_jets, 2):\n",
    "                    PTW = jet_PT[[i1,i2]]\n",
    "                    EtaW = jet_Eta[[i1,i2]]\n",
    "                    PhiW = jet_Phi[[i1,i2]]\n",
    "                    MassW = jet_Mass[[i1,i2]]\n",
    "\n",
    "                    eW, pxW, pyW, pzW = FourMomentum(PTW, EtaW, PhiW, MassW)\n",
    "                    mW = InvM(np.sum(eW), np.sum(pxW), np.sum(pyW), np.sum(pzW))\n",
    "\n",
    "                    for b in h_jets:\n",
    "                        PTb = jet_PT[b]\n",
    "                        Etab = jet_Eta[b]\n",
    "                        Phib = jet_Phi[b]\n",
    "                        Massb = jet_Mass[b]\n",
    "                        eb, pxb, pyb, pzb = FourMomentum(PTb, Etab, Phib, Massb)\n",
    "\n",
    "                        et, pxt, pyt, pzt = np.sum(eW) + eb, np.sum(pxW) + pxb, np.sum(pyW) + pyb, np.sum(pzW) + pzb\n",
    "                        mt = InvM(et, pxt, pyt, pzt)\n",
    "\n",
    "                        if XWt(mW, mt) < 1.5:\n",
    "                            XWt_flag = True\n",
    "                            break\n",
    "\n",
    "                    if XWt_flag:\n",
    "                        break\n",
    "            if XWt_flag:\n",
    "                continue\n",
    "            XWt_count += 1\n",
    "\n",
    "        print(title)\n",
    "        print(f'In {nevent} events')\n",
    "        print(f'Cross section: {cross_section} fb')\n",
    "\n",
    "        print_count_xsection('|eta| < 2.5, PT > 40 GeV for 4 b-jets:', cross_section, f['source/pt'].shape[0], tot_event)\n",
    "        # 經過 |eta| < 2.5, PT > 40 GeV for 4 b-jets 的截面\n",
    "        cross_section_abs = cross_section * f['source/pt'].shape[0] / tot_event\n",
    "        \n",
    "        if pairing_method == 'deltaR_minDHH':\n",
    "            print_count_xsection('Delta R:', cross_section_abs, dR_count, nevent)\n",
    "        print_count_xsection('Higgs PT:', cross_section_abs, HPT_count, nevent)\n",
    "        print_count_xsection('Higgs Eta:', cross_section_abs, HEta_count, nevent)\n",
    "        print_count_xsection('Higgs signal region:', cross_section_abs, XHH_count, nevent)\n",
    "        print_count_xsection('Top veto:', cross_section_abs, XWt_count, nevent)\n",
    "        \n",
    "        cutflow_count = {\n",
    "#             'Mass': mass,\n",
    "            'nevent': tot_event,\n",
    "            'Cross section': cross_section,\n",
    "            'Eta PT BTag cut': Eta_PT_BTag_count,\n",
    "            'Delta R': dR_count,\n",
    "            'Higgs PT cut': HPT_count,\n",
    "            'Higgs Eta cut': HEta_count,\n",
    "            'Higgs signal': XHH_count,\n",
    "            'Top veto': XWt_count, \n",
    "        }\n",
    "         \n",
    "        cutflow_cross_section = {\n",
    "            'nevent': nevent,\n",
    "            'Cross section': cross_section,\n",
    "            'Eta PT BTag cut': cross_section_abs,\n",
    "            'Delta R': cross_section_abs * dR_count / nevent,\n",
    "            'Higgs PT cut': cross_section_abs * HPT_count / nevent,\n",
    "            'Higgs Eta cut': cross_section_abs * HEta_count / nevent,\n",
    "            'Higgs signal': cross_section_abs * XHH_count / nevent,\n",
    "            'Top veto': cross_section_abs * XWt_count / nevent, \n",
    "        }\n",
    "        \n",
    "        if pairing_method != 'deltaR_minDHH':\n",
    "            cutflow_count.pop('Delta R')\n",
    "            cutflow_cross_section.pop('Delta R')\n",
    "        return cutflow_count, cutflow_cross_section"
   ]
  },
  {
   "cell_type": "code",
   "execution_count": 12,
   "id": "88b17d48",
   "metadata": {},
   "outputs": [],
   "source": [
    "def diHiggs_selection_ATLAS_HDF5_deltaR(file_path, mass, xection=None, title='', nevent_max=1000):\n",
    "    # input file has jet matching data\n",
    "    # count how many events in which the four b-jets all from Higgs\n",
    "    with h5py.File(file_path, 'r') as f:\n",
    "        Eta_PT_BTag_count = 0\n",
    "        dR_count = 0\n",
    "        dR_count1 = 0\n",
    "        dR_count2 = 0\n",
    "        dR_count3 = 0\n",
    "        dR_count4 = 0\n",
    "\n",
    "        cross_section = xection\n",
    "\n",
    "        # 0: all from Higgs, 1: not all from Higgs\n",
    "        dR_list = [[[],[]], [[],[]]]\n",
    "        m4j_list = [[], []]\n",
    "\n",
    "        # before delta R cut\n",
    "        unknown_pair_count = 0\n",
    "        correct_pair_count = 0\n",
    "        incorrect_pair_count1 = 0\n",
    "        incorrect_pair_count2 = 0\n",
    "        \n",
    "        nevent = min(f['source/pt'].shape[0], nevent_max)\n",
    "        for event in tqdm(range(nevent)):\n",
    "\n",
    "            nj = f['source/mask'][event].sum()\n",
    "            jet_PT = f['source/pt'][event][:nj]\n",
    "            jet_Eta = f['source/eta'][event][:nj]\n",
    "            jet_Phi = f['source/phi'][event][:nj]\n",
    "            jet_Mass = f['source/mass'][event][:nj]\n",
    "            jet_BTag = f['source/btag'][event][:nj]\n",
    "            \n",
    "            # |eta| < 2.5 & PT > 40 GeV & b-tagged\n",
    "            eta_pt_bTag_cut = np.where((np.abs(jet_Eta) < 2.5) & (jet_PT > 40) & (jet_BTag))[0]\n",
    "\n",
    "            # >= 4 b-jet\n",
    "            if len(eta_pt_bTag_cut) < 4: \n",
    "                continue\n",
    "            Eta_PT_BTag_count += 1\n",
    "            \n",
    "            # choose 4 highest pt b-jets\n",
    "            h_jets = eta_pt_bTag_cut[0:4]\n",
    "\n",
    "            unknown = False\n",
    "            correct = True\n",
    "            all_jet_in_eta_pt_bTag_cut = True\n",
    "            if not(f['h1/mask'][event] and f['h2/mask'][event]):\n",
    "                unknown = True\n",
    "            else:\n",
    "                # correct jet matching\n",
    "                h_id = [f['h1/b1'][event], f['h1/b2'][event], \n",
    "                        f['h2/b1'][event], f['h2/b2'][event],]\n",
    "\n",
    "                # compare to the correct jet matching\n",
    "                for j in h_id:\n",
    "                    if j not in h_jets:\n",
    "                        correct = False\n",
    "                        break\n",
    "                for j in h_id:\n",
    "                    if j not in eta_pt_bTag_cut:\n",
    "                        all_jet_in_eta_pt_bTag_cut = False\n",
    "                        break\n",
    "                        \n",
    "            if unknown:\n",
    "                unknown_pair_count += 1\n",
    "            elif correct:\n",
    "                correct_pair_count += 1\n",
    "            elif all_jet_in_eta_pt_bTag_cut:\n",
    "                incorrect_pair_count1 += 1\n",
    "            else:\n",
    "                incorrect_pair_count2 += 1\n",
    "                    \n",
    "            # Total invariant mass of 4 b-jets\n",
    "            PT = jet_PT[h_jets]\n",
    "            Eta = jet_Eta[h_jets]\n",
    "            Phi = jet_Phi[h_jets]\n",
    "            Mass = jet_Mass[h_jets]\n",
    "            e, px, py, pz = FourMomentum(PT, Eta, Phi, Mass)\n",
    "            m4j = InvM(np.sum(e), np.sum(px), np.sum(py), np.sum(pz))\n",
    "\n",
    "            # The pairing satisfy the delta R condition\n",
    "            dR_pairing = []\n",
    "            for (i1,i2), (i3,i4) in all_pairs([0,1,2,3]):\n",
    "                PT1 = PT[[i1,i2]]\n",
    "                Eta1 = Eta[[i1,i2]]\n",
    "                Phi1 = Phi[[i1,i2]]\n",
    "                Mass1 = Mass[[i1,i2]]\n",
    "                e1, px1, py1, pz1 = FourMomentum(PT1, Eta1, Phi1, Mass1)\n",
    "                mH1 = InvM(np.sum(e1), np.sum(px1), np.sum(py1), np.sum(pz1))\n",
    "\n",
    "                PT2 = PT[[i3,i4]]\n",
    "                Eta2 = Eta[[i3,i4]]\n",
    "                Phi2 = Phi[[i3,i4]]\n",
    "                Mass2 = Mass[[i3,i4]]\n",
    "                e2, px2, py2, pz2 = FourMomentum(PT2, Eta2, Phi2, Mass2)\n",
    "                mH2 = InvM(np.sum(e2), np.sum(px2), np.sum(py2), np.sum(pz2))\n",
    "\n",
    "                if np.sum(PT1) < np.sum(PT2):\n",
    "                    PT1, PT2 = PT2, PT1\n",
    "                    Eta1, Eta2 = Eta2, Eta1\n",
    "                    Phi1, Phi2 = Phi2, Phi1\n",
    "                    Mass1, Mass2 = Mass2, Mass1\n",
    "                    i1, i2, i3, i4 = i3, i4, i1, i2\n",
    "\n",
    "                dR1 = DeltaR(Eta1[0], Phi1[0], Eta1[1], Phi1[1])\n",
    "                dR2 = DeltaR(Eta2[0], Phi2[0], Eta2[1], Phi2[1])\n",
    "\n",
    "                if deltaR_condition(dR1, dR2, m4j):\n",
    "                    d = DHH(mH1, mH2)\n",
    "                    dR_pairing.append([i1,i2,i3,i4, d, dR1, dR2])\n",
    "            \n",
    "            if len(dR_pairing) > 0 :\n",
    "                if unknown:\n",
    "                    dR_count4 += 1\n",
    "                elif correct:\n",
    "                    dR_count1 += 1\n",
    "                elif all_jet_in_eta_pt_bTag_cut:\n",
    "                    dR_count2 += 1\n",
    "                else:\n",
    "                    dR_count3 += 1\n",
    "\n",
    "            if len(dR_pairing) == 0:\n",
    "                continue\n",
    "            dR_count += 1\n",
    "\n",
    "            min_DHH = -1\n",
    "            h_candidate = []\n",
    "            deltaR = []\n",
    "            for i1,i2,i3,i4, d, dR1, dR2 in dR_pairing:\n",
    "                if min_DHH < 0 or d < min_DHH:\n",
    "                    min_DHH = d\n",
    "                    h_candidate = [i1,i2,i3,i4]\n",
    "                    deltaR = [dR1, dR2]\n",
    "\n",
    "            if correct: \n",
    "                dR_list[0][0].append(deltaR[0])\n",
    "                dR_list[0][1].append(deltaR[1])\n",
    "                m4j_list[0].append(m4j)\n",
    "            else:\n",
    "                dR_list[1][0].append(deltaR[0])\n",
    "                dR_list[1][1].append(deltaR[1])\n",
    "                m4j_list[1].append(m4j)\n",
    "\n",
    "        print(title)\n",
    "        print(f'In {nevent} events')\n",
    "        print(f'Cross section: {cross_section} fb')\n",
    "\n",
    "        print('|eta| < 2.5, PT > 40 GeV for 4 b-jets:', Eta_PT_BTag_count, cross_section * Eta_PT_BTag_count / nevent)\n",
    "        print(f'Total: {correct_pair_count + incorrect_pair_count1 + incorrect_pair_count2 + unknown_pair_count}, All from Higgs: {correct_pair_count}, not all from Higgs: {incorrect_pair_count1 + incorrect_pair_count2}, unknown: {unknown_pair_count}')\n",
    "        print('Delta R:', dR_count, dR_count * cross_section / nevent)\n",
    "        print(f'Total: {dR_count1 + dR_count2 + dR_count3 + dR_count4}, All from Higgs: {dR_count1}, not all from Higgs: {dR_count2 + dR_count3}, unknown: {dR_count4}')\n",
    "\n",
    "        result = {\n",
    "            'Mass': mass,\n",
    "            'nevent': nevent,\n",
    "            'Cross section': cross_section,\n",
    "            'Eta PT BTag cut': Eta_PT_BTag_count,\n",
    "            'Delta R': dR_count,\n",
    "        }\n",
    "        return result, dR_list, m4j_list"
   ]
  },
  {
   "cell_type": "code",
   "execution_count": 38,
   "id": "6c0613ba",
   "metadata": {},
   "outputs": [],
   "source": [
    "def get_diHiggs_deltaR_m4j_HDF5(file_path, tot_event, pairing_method,  xection=None, title='', nevent_max=1000):\n",
    "    # 已經過 |eta| < 2.5, PT > 40 GeV for 4 jets, >= 4 b-jets 篩選，並且通過 SPANet\n",
    "    \n",
    "    with h5py.File(file_path, 'r') as f:\n",
    "        Eta_PT_BTag_count = 0\n",
    "        dR_count = 0\n",
    "        HPT_count = 0\n",
    "        HEta_count = 0\n",
    "        XHH_count = 0\n",
    "        XWt_count = 0\n",
    "\n",
    "        cross_section = xection\n",
    "        \n",
    "        nevent = min(f['source/pt'].shape[0], nevent_max)\n",
    "        # 0: leading Higgs, 1: sub-leading Higgs before Higgs region cut\n",
    "        deltaR = [[],[]]\n",
    "        m_tot = []\n",
    "        for event in tqdm(range(nevent)):\n",
    "            \n",
    "            nj = f['source/mask'][event].sum()\n",
    "            # 須將資料標準化還原\n",
    "            jet_PT = np.exp(f['source/pt'][event][:nj])\n",
    "            jet_Eta = f['source/eta'][event][:nj]\n",
    "            jet_Phi = f['source/phi'][event][:nj]\n",
    "            jet_Mass = np.exp(f['source/mass'][event][:nj])\n",
    "            jet_BTag = f['source/btag'][event][:nj]\n",
    "\n",
    "            # # |eta| < 2.5 & PT > 40 GeV\n",
    "            # eta_pt_cut = np.where((np.abs(jet_Eta) < 2.5) & (jet_PT > 40))[0]\n",
    "\n",
    "            # |eta| < 2.5 & PT > 40 GeV & b-tagged\n",
    "            eta_pt_bTag_cut = np.where((np.abs(jet_Eta) < 2.5) & (jet_PT > 40) & (jet_BTag == 1))[0]\n",
    "\n",
    "            # >= 4 b-jet\n",
    "            if len(eta_pt_bTag_cut) < 4: \n",
    "                continue\n",
    "            Eta_PT_BTag_count += 1\n",
    "            \n",
    "            # choose 4 highest pt b-jets\n",
    "            h_jets = eta_pt_bTag_cut[0:4]\n",
    "            \n",
    "            PT = jet_PT[h_jets]\n",
    "            Eta = jet_Eta[h_jets]\n",
    "            Phi = jet_Phi[h_jets]\n",
    "            Mass = jet_Mass[h_jets]\n",
    "\n",
    "            e, px, py, pz = FourMomentum(PT, Eta, Phi, Mass)\n",
    "            m4j = InvM(np.sum(e), np.sum(px), np.sum(py), np.sum(pz))\n",
    "            \n",
    "            # all pairing \n",
    "            dR_pairing = []\n",
    "            for (i1,i2), (i3,i4) in all_pairs([0,1,2,3]):\n",
    "                PT1 = PT[[i1,i2]]\n",
    "                PT2 = PT[[i3,i4]]\n",
    "                # sorted by PT scalar sum\n",
    "                if np.sum(PT1) < np.sum(PT2):\n",
    "                    i1, i2, i3, i4 = i3, i4, i1, i2\n",
    "\n",
    "                PT1 = PT[[i1,i2]] \n",
    "                Eta1 = Eta[[i1,i2]]\n",
    "                Phi1 = Phi[[i1,i2]]\n",
    "                Mass1 = Mass[[i1,i2]]\n",
    "                \n",
    "                e1, px1, py1, pz1 = FourMomentum(PT1, Eta1, Phi1, Mass1)\n",
    "                mH1 = InvM(np.sum(e1), np.sum(px1), np.sum(py1), np.sum(pz1))\n",
    "\n",
    "                PT2 = PT[[i3,i4]]\n",
    "                Eta2 = Eta[[i3,i4]]\n",
    "                Phi2 = Phi[[i3,i4]]\n",
    "                Mass2 = Mass[[i3,i4]]\n",
    "\n",
    "                e2, px2, py2, pz2 = FourMomentum(PT2, Eta2, Phi2, Mass2)\n",
    "                mH2 = InvM(np.sum(e2), np.sum(px2), np.sum(py2), np.sum(pz2))\n",
    "\n",
    "                dR1 = DeltaR(Eta1[0], Phi1[0], Eta1[1], Phi1[1])\n",
    "                dR2 = DeltaR(Eta2[0], Phi2[0], Eta2[1], Phi2[1])\n",
    "\n",
    "                # if deltaR_condition(dR1, dR2, m4j):\n",
    "                d = DHH(mH1, mH2)\n",
    "                dR_pairing.append([i1,i2,i3,i4, d, dR1,dR2])\n",
    "\n",
    "            # choose the pairing with minimum DHH\n",
    "            h_candidate = dR_pairing[0][0:4]\n",
    "            min_DHH = dR_pairing[0][4]\n",
    "            dR = dR_pairing[0][5:7]\n",
    "            for i1,i2,i3,i4, d, dR1,dR2 in dR_pairing:\n",
    "                if d < min_DHH:\n",
    "                    min_DHH = d\n",
    "                    h_candidate = [i1,i2,i3,i4]\n",
    "                    dR = [dR1, dR2]\n",
    "\n",
    "            deltaR[0].append(dR[0])\n",
    "            deltaR[1].append(dR[1])\n",
    "\n",
    "            m_tot.append(m4j)\n",
    "\n",
    "        print(title)\n",
    "        print(f'In {nevent} events')\n",
    "        print(f'Cross section: {cross_section} fb')\n",
    "\n",
    "        print_count_xsection('|eta| < 2.5, PT > 40 GeV for 4 b-jets:', cross_section, f['source/pt'].shape[0], tot_event)\n",
    "        # 經過 |eta| < 2.5, PT > 40 GeV for 4 b-jets 的截面\n",
    "        # cross_section_abs = cross_section * f['source/pt'].shape[0] / tot_event\n",
    "        \n",
    "        # print_count_xsection('Delta R:', cross_section_abs, dR_count, nevent)\n",
    "        # print_count_xsection('Higgs PT:', cross_section_abs, HPT_count, nevent)\n",
    "        # print_count_xsection('Higgs Eta:', cross_section_abs, HEta_count, nevent)\n",
    "        # print_count_xsection('Higgs signal region:', cross_section_abs, XHH_count, nevent)\n",
    "        # print_count_xsection('Top veto:', cross_section_abs, XWt_count, nevent)\n",
    "        \n",
    "        return deltaR, m_tot"
   ]
  },
  {
   "cell_type": "code",
   "execution_count": 75,
   "id": "c6d377a0",
   "metadata": {},
   "outputs": [],
   "source": [
    "def get_diHiggs_PT_m4j_HDF5(file_path, tot_event, pairing_method,  xection=None, title='', nevent_max=1000):\n",
    "    # 已經過 |eta| < 2.5, PT > 40 GeV for 4 jets, >= 4 b-jets 篩選，並且通過 SPANet\n",
    "    \n",
    "    with h5py.File(file_path, 'r') as f:\n",
    "        Eta_PT_BTag_count = 0\n",
    "        dR_count = 0\n",
    "        HPT_count = 0\n",
    "        HEta_count = 0\n",
    "        XHH_count = 0\n",
    "        XWt_count = 0\n",
    "\n",
    "        cross_section = xection\n",
    "        \n",
    "        nevent = min(f['source/pt'].shape[0], nevent_max)\n",
    "        # 0: leading Higgs, 1: sub-leading Higgs\n",
    "        ptH = [[], []]\n",
    "        m_tot = []\n",
    "        for event in tqdm(range(nevent)):\n",
    "            \n",
    "            nj = f['source/mask'][event].sum()\n",
    "            # 須將資料標準化還原\n",
    "            jet_PT = np.exp(f['source/pt'][event][:nj])\n",
    "            jet_Eta = f['source/eta'][event][:nj]\n",
    "            jet_Phi = f['source/phi'][event][:nj]\n",
    "            jet_Mass = np.exp(f['source/mass'][event][:nj])\n",
    "            jet_BTag = f['source/btag'][event][:nj]\n",
    "\n",
    "            # |eta| < 2.5 & PT > 40 GeV\n",
    "            eta_pt_cut = np.where((np.abs(jet_Eta) < 2.5) & (jet_PT > 40))[0]\n",
    "\n",
    "            # |eta| < 2.5 & PT > 40 GeV & b-tagged\n",
    "            eta_pt_bTag_cut = np.where((np.abs(jet_Eta) < 2.5) & (jet_PT > 40) & (jet_BTag == 1))[0]\n",
    "\n",
    "            # >= 4 b-jet\n",
    "            if len(eta_pt_bTag_cut) < 4: \n",
    "                continue\n",
    "            Eta_PT_BTag_count += 1\n",
    "            \n",
    "            if pairing_method == 'SPANet':\n",
    "                # SPANet pairing\n",
    "                h_jets = [f['h1/b1'][event], f['h1/b2'][event], \n",
    "                          f['h2/b1'][event], f['h2/b2'][event],]\n",
    "                h_candidate = SPANet_pairing(jet_PT, h_jets)\n",
    "            elif pairing_method == 'deltaR_minDHH':\n",
    "                # choose 4 highest pt b-jets\n",
    "                h_jets = eta_pt_bTag_cut[0:4]\n",
    "                \n",
    "                PT = jet_PT[h_jets]\n",
    "                Eta = jet_Eta[h_jets]\n",
    "                Phi = jet_Phi[h_jets]\n",
    "                Mass = jet_Mass[h_jets]\n",
    "                \n",
    "                h_candidate = deltaR_minDHH_pairing(PT, Eta, Phi, Mass)\n",
    "            else:\n",
    "                return 'Pairing method does not exist.'\n",
    "            \n",
    "            if len(h_candidate) == 0:\n",
    "                continue\n",
    "            dR_count += 1\n",
    "                                                \n",
    "            PT = jet_PT[h_jets]\n",
    "            Eta = jet_Eta[h_jets]\n",
    "            Phi = jet_Phi[h_jets]\n",
    "            Mass = jet_Mass[h_jets]\n",
    "            \n",
    "            e, px, py, pz = FourMomentum(PT, Eta, Phi, Mass)\n",
    "            m4j = InvM(np.sum(e), np.sum(px), np.sum(py), np.sum(pz))\n",
    "\n",
    "            i1, i2 = h_candidate[0:2] \n",
    "            i3, i4 = h_candidate[2:4] \n",
    "\n",
    "            PT1 = PT[[i1,i2]]\n",
    "            Eta1 = Eta[[i1,i2]]\n",
    "            Phi1 = Phi[[i1,i2]]\n",
    "            Mass1 = Mass[[i1,i2]]\n",
    "\n",
    "            e1, px1, py1, pz1 = FourMomentum(PT1, Eta1, Phi1, Mass1)\n",
    "            PTH1, EtaH1, PhiH1, MassH1 = PtEtaPhiM(np.sum(px1), np.sum(py1), np.sum(pz1), np.sum(e1))\n",
    "\n",
    "            PT2 = PT[[i3,i4]]\n",
    "            Eta2 = Eta[[i3,i4]]\n",
    "            Phi2 = Phi[[i3,i4]]\n",
    "            Mass2 = Mass[[i3,i4]]\n",
    "\n",
    "            e2, px2, py2, pz2 = FourMomentum(PT2, Eta2, Phi2, Mass2)\n",
    "            PTH2, EtaH2, PhiH2, MassH2 = PtEtaPhiM(np.sum(px2), np.sum(py2), np.sum(pz2), np.sum(e2))\n",
    "\n",
    "            ptH[0].append(PTH1)\n",
    "            ptH[1].append(PTH2)\n",
    "            m_tot.append(m4j)\n",
    "            if not pt_condition(PTH1, PTH2, m4j):\n",
    "                continue\n",
    "            HPT_count += 1    \n",
    "\n",
    "            \n",
    "\n",
    "        print(title)\n",
    "        print(f'In {nevent} events')\n",
    "        print(f'Cross section: {cross_section} fb')\n",
    "\n",
    "        print_count_xsection('|eta| < 2.5, PT > 40 GeV for 4 b-jets:', cross_section, f['source/pt'].shape[0], tot_event)\n",
    "        # 經過 |eta| < 2.5, PT > 40 GeV for 4 b-jets 的截面\n",
    "        cross_section_abs = cross_section * f['source/pt'].shape[0] / tot_event\n",
    "        \n",
    "        print_count_xsection('Delta R:', cross_section_abs, dR_count, nevent)\n",
    "        print_count_xsection('Higgs PT:', cross_section_abs, HPT_count, nevent)\n",
    "        \n",
    "        return ptH, m_tot"
   ]
  },
  {
   "cell_type": "code",
   "execution_count": 76,
   "id": "5b233bc6",
   "metadata": {},
   "outputs": [],
   "source": [
    "def get_diHiggs_dEta_HDF5(file_path, tot_event, pairing_method,  xection=None, title='', nevent_max=1000):\n",
    "    # 已經過 |eta| < 2.5, PT > 40 GeV for 4 jets, >= 4 b-jets 篩選，並且通過 SPANet\n",
    "    \n",
    "    with h5py.File(file_path, 'r') as f:\n",
    "        Eta_PT_BTag_count = 0\n",
    "        dR_count = 0\n",
    "        HPT_count = 0\n",
    "        HEta_count = 0\n",
    "        XHH_count = 0\n",
    "        XWt_count = 0\n",
    "\n",
    "        cross_section = xection\n",
    "        \n",
    "        nevent = min(f['source/pt'].shape[0], nevent_max)\n",
    "        # 0: leading Higgs, 1: sub-leading Higgs before Higgs region cut\n",
    "        dEta = []\n",
    "        for event in tqdm(range(nevent)):\n",
    "            \n",
    "            nj = f['source/mask'][event].sum()\n",
    "            # 須將資料標準化還原\n",
    "            jet_PT = np.exp(f['source/pt'][event][:nj])\n",
    "            jet_Eta = f['source/eta'][event][:nj]\n",
    "            jet_Phi = f['source/phi'][event][:nj]\n",
    "            jet_Mass = np.exp(f['source/mass'][event][:nj])\n",
    "            jet_BTag = f['source/btag'][event][:nj]\n",
    "\n",
    "            # |eta| < 2.5 & PT > 40 GeV\n",
    "            eta_pt_cut = np.where((np.abs(jet_Eta) < 2.5) & (jet_PT > 40))[0]\n",
    "\n",
    "            # |eta| < 2.5 & PT > 40 GeV & b-tagged\n",
    "            eta_pt_bTag_cut = np.where((np.abs(jet_Eta) < 2.5) & (jet_PT > 40) & (jet_BTag == 1))[0]\n",
    "\n",
    "            # >= 4 b-jet\n",
    "            if len(eta_pt_bTag_cut) < 4: \n",
    "                continue\n",
    "            Eta_PT_BTag_count += 1\n",
    "            \n",
    "            if pairing_method == 'SPANet':\n",
    "                # SPANet pairing\n",
    "                h_jets = [f['h1/b1'][event], f['h1/b2'][event], \n",
    "                          f['h2/b1'][event], f['h2/b2'][event],]\n",
    "                h_candidate = SPANet_pairing(jet_PT, h_jets)\n",
    "            elif pairing_method == 'deltaR_minDHH':\n",
    "                # choose 4 highest pt b-jets\n",
    "                h_jets = eta_pt_bTag_cut[0:4]\n",
    "                \n",
    "                PT = jet_PT[h_jets]\n",
    "                Eta = jet_Eta[h_jets]\n",
    "                Phi = jet_Phi[h_jets]\n",
    "                Mass = jet_Mass[h_jets]\n",
    "                \n",
    "                h_candidate = deltaR_minDHH_pairing(PT, Eta, Phi, Mass)\n",
    "            else:\n",
    "                return 'Pairing method does not exist.'\n",
    "            \n",
    "            if len(h_candidate) == 0:\n",
    "                continue\n",
    "            dR_count += 1\n",
    "                                                \n",
    "            PT = jet_PT[h_jets]\n",
    "            Eta = jet_Eta[h_jets]\n",
    "            Phi = jet_Phi[h_jets]\n",
    "            Mass = jet_Mass[h_jets]\n",
    "            \n",
    "            e, px, py, pz = FourMomentum(PT, Eta, Phi, Mass)\n",
    "            m4j = InvM(np.sum(e), np.sum(px), np.sum(py), np.sum(pz))\n",
    "\n",
    "            i1, i2 = h_candidate[0:2] \n",
    "            i3, i4 = h_candidate[2:4] \n",
    "\n",
    "            PT1 = PT[[i1,i2]]\n",
    "            Eta1 = Eta[[i1,i2]]\n",
    "            Phi1 = Phi[[i1,i2]]\n",
    "            Mass1 = Mass[[i1,i2]]\n",
    "\n",
    "            e1, px1, py1, pz1 = FourMomentum(PT1, Eta1, Phi1, Mass1)\n",
    "            PTH1, EtaH1, PhiH1, MassH1 = PtEtaPhiM(np.sum(px1), np.sum(py1), np.sum(pz1), np.sum(e1))\n",
    "\n",
    "            PT2 = PT[[i3,i4]]\n",
    "            Eta2 = Eta[[i3,i4]]\n",
    "            Phi2 = Phi[[i3,i4]]\n",
    "            Mass2 = Mass[[i3,i4]]\n",
    "\n",
    "            e2, px2, py2, pz2 = FourMomentum(PT2, Eta2, Phi2, Mass2)\n",
    "            PTH2, EtaH2, PhiH2, MassH2 = PtEtaPhiM(np.sum(px2), np.sum(py2), np.sum(pz2), np.sum(e2))\n",
    "\n",
    "            if not pt_condition(PTH1, PTH2, m4j):\n",
    "                continue\n",
    "            HPT_count += 1    \n",
    "\n",
    "            dEta.append(abs(EtaH1 - EtaH2))\n",
    "            if abs(EtaH1 - EtaH2) > 1.5:\n",
    "                continue\n",
    "            HEta_count += 1   \n",
    "\n",
    "        print(title)\n",
    "        print(f'In {nevent} events')\n",
    "        print(f'Cross section: {cross_section} fb')\n",
    "\n",
    "        print_count_xsection('|eta| < 2.5, PT > 40 GeV for 4 b-jets:', cross_section, f['source/pt'].shape[0], tot_event)\n",
    "        # 經過 |eta| < 2.5, PT > 40 GeV for 4 b-jets 的截面\n",
    "        cross_section_abs = cross_section * f['source/pt'].shape[0] / tot_event\n",
    "        \n",
    "        print_count_xsection('Delta R:', cross_section_abs, dR_count, nevent)\n",
    "        print_count_xsection('Higgs PT:', cross_section_abs, HPT_count, nevent)\n",
    "        print_count_xsection('Higgs Eta:', cross_section_abs, HEta_count, nevent)\n",
    "\n",
    "        return dEta"
   ]
  },
  {
   "cell_type": "code",
   "execution_count": 27,
   "id": "a7d4658b",
   "metadata": {},
   "outputs": [],
   "source": [
    "def get_diHiggs_mass_HDF5(file_path, tot_event, pairing_method,  xection=None, title='', nevent_max=1000):\n",
    "    # 已經過 |eta| < 2.5, PT > 40 GeV for 4 jets, >= 4 b-jets 篩選，並且通過 SPANet\n",
    "    \n",
    "    with h5py.File(file_path, 'r') as f:\n",
    "        Eta_PT_BTag_count = 0\n",
    "        dR_count = 0\n",
    "        HPT_count = 0\n",
    "        HEta_count = 0\n",
    "        XHH_count = 0\n",
    "        # XWt_count = 0\n",
    "\n",
    "        cross_section = xection\n",
    "        \n",
    "        nevent = min(f['source/pt'].shape[0], nevent_max)\n",
    "        # 0: leading Higgs, 1: sub-leading Higgs before Higgs region cut\n",
    "        mh = [[],[]]\n",
    "        for event in tqdm(range(nevent)):\n",
    "            \n",
    "            nj = f['source/mask'][event].sum()\n",
    "            # 須將資料標準化還原\n",
    "            jet_PT = np.exp(f['source/pt'][event][:nj])\n",
    "            jet_Eta = f['source/eta'][event][:nj]\n",
    "            jet_Phi = f['source/phi'][event][:nj]\n",
    "            jet_Mass = np.exp(f['source/mass'][event][:nj])\n",
    "            jet_BTag = f['source/btag'][event][:nj]\n",
    "\n",
    "            # |eta| < 2.5 & PT > 40 GeV\n",
    "            eta_pt_cut = np.where((np.abs(jet_Eta) < 2.5) & (jet_PT > 40))[0]\n",
    "\n",
    "            # |eta| < 2.5 & PT > 40 GeV & b-tagged\n",
    "            eta_pt_bTag_cut = np.where((np.abs(jet_Eta) < 2.5) & (jet_PT > 40) & (jet_BTag == 1))[0]\n",
    "\n",
    "            # >= 4 b-jet\n",
    "            if len(eta_pt_bTag_cut) < 4: \n",
    "                continue\n",
    "            Eta_PT_BTag_count += 1\n",
    "            \n",
    "            if pairing_method == 'SPANet':\n",
    "                # SPANet pairing\n",
    "                h_jets = [f['h1/b1'][event], f['h1/b2'][event], \n",
    "                          f['h2/b1'][event], f['h2/b2'][event],]\n",
    "                h_candidate = SPANet_pairing(jet_PT, h_jets)\n",
    "            elif pairing_method == 'deltaR_minDHH':\n",
    "                # choose 4 highest pt b-jets\n",
    "                h_jets = eta_pt_bTag_cut[0:4]\n",
    "                \n",
    "                PT = jet_PT[h_jets]\n",
    "                Eta = jet_Eta[h_jets]\n",
    "                Phi = jet_Phi[h_jets]\n",
    "                Mass = jet_Mass[h_jets]\n",
    "                \n",
    "                h_candidate = deltaR_minDHH_pairing(PT, Eta, Phi, Mass)\n",
    "            else:\n",
    "                return 'Pairing method does not exist.'\n",
    "            \n",
    "            if len(h_candidate) == 0:\n",
    "                continue\n",
    "            dR_count += 1\n",
    "                                                \n",
    "            PT = jet_PT[h_jets]\n",
    "            Eta = jet_Eta[h_jets]\n",
    "            Phi = jet_Phi[h_jets]\n",
    "            Mass = jet_Mass[h_jets]\n",
    "            \n",
    "            e, px, py, pz = FourMomentum(PT, Eta, Phi, Mass)\n",
    "            m4j = InvM(np.sum(e), np.sum(px), np.sum(py), np.sum(pz))\n",
    "\n",
    "            i1, i2 = h_candidate[0:2] \n",
    "            i3, i4 = h_candidate[2:4] \n",
    "\n",
    "            PT1 = PT[[i1,i2]]\n",
    "            Eta1 = Eta[[i1,i2]]\n",
    "            Phi1 = Phi[[i1,i2]]\n",
    "            Mass1 = Mass[[i1,i2]]\n",
    "\n",
    "            e1, px1, py1, pz1 = FourMomentum(PT1, Eta1, Phi1, Mass1)\n",
    "            PTH1, EtaH1, PhiH1, MassH1 = PtEtaPhiM(np.sum(px1), np.sum(py1), np.sum(pz1), np.sum(e1))\n",
    "\n",
    "            PT2 = PT[[i3,i4]]\n",
    "            Eta2 = Eta[[i3,i4]]\n",
    "            Phi2 = Phi[[i3,i4]]\n",
    "            Mass2 = Mass[[i3,i4]]\n",
    "\n",
    "            e2, px2, py2, pz2 = FourMomentum(PT2, Eta2, Phi2, Mass2)\n",
    "            PTH2, EtaH2, PhiH2, MassH2 = PtEtaPhiM(np.sum(px2), np.sum(py2), np.sum(pz2), np.sum(e2))\n",
    "\n",
    "            if not pt_condition(PTH1, PTH2, m4j):\n",
    "                continue\n",
    "            HPT_count += 1    \n",
    "\n",
    "            if abs(EtaH1 - EtaH2) > 1.5:\n",
    "                continue\n",
    "            HEta_count += 1\n",
    "\n",
    "            mh[0].append(MassH1)\n",
    "            mh[1].append(MassH2)            \n",
    "            # signal region\n",
    "            if XHH(MassH1, MassH2) > 1.6:\n",
    "                continue\n",
    "            XHH_count += 1\n",
    "\n",
    "        print(title)\n",
    "        print(f'In {nevent} events')\n",
    "        print(f'Cross section: {cross_section} fb')\n",
    "\n",
    "        print_count_xsection('|eta| < 2.5, PT > 40 GeV for 4 b-jets:', cross_section, f['source/pt'].shape[0], tot_event)\n",
    "        # 經過 |eta| < 2.5, PT > 40 GeV for 4 b-jets 的截面\n",
    "        cross_section_abs = cross_section * f['source/pt'].shape[0] / tot_event\n",
    "        \n",
    "        print_count_xsection('Delta R:', cross_section_abs, dR_count, nevent)\n",
    "        print_count_xsection('Higgs PT:', cross_section_abs, HPT_count, nevent)\n",
    "        print_count_xsection('Higgs Eta:', cross_section_abs, HEta_count, nevent)\n",
    "        print_count_xsection('Higgs signal region:', cross_section_abs, XHH_count, nevent)\n",
    "\n",
    "        return mh"
   ]
  },
  {
   "cell_type": "markdown",
   "id": "98d4c037",
   "metadata": {},
   "source": [
    "## Background selection"
   ]
  },
  {
   "cell_type": "markdown",
   "id": "500ddb4e",
   "metadata": {},
   "source": [
    "### Root file"
   ]
  },
  {
   "cell_type": "code",
   "execution_count": null,
   "id": "01deef1c",
   "metadata": {},
   "outputs": [],
   "source": [
    "# 13 TeV 100k pp->4b b-tagging part: MV2c10\n",
    "file_path = '/home/r10222035/Software/MG5_aMC_v3_3_1/CPVDM/pp4b/Events/run_12/tag_1_delphes_events.root'\n",
    "\n",
    "count_MV2c10_DHH_b, xsection_MV2c10_DHH_b = diHiggs_selection_ATLAS(file_path, mass = 0, xection = None, title='pp->4b', nevent_max=100000)"
   ]
  },
  {
   "cell_type": "code",
   "execution_count": null,
   "id": "a7068f5e",
   "metadata": {},
   "outputs": [
    {
     "data": {
      "text/html": [
       "<div>\n",
       "<style scoped>\n",
       "    .dataframe tbody tr th:only-of-type {\n",
       "        vertical-align: middle;\n",
       "    }\n",
       "\n",
       "    .dataframe tbody tr th {\n",
       "        vertical-align: top;\n",
       "    }\n",
       "\n",
       "    .dataframe thead th {\n",
       "        text-align: right;\n",
       "    }\n",
       "</style>\n",
       "<table border=\"1\" class=\"dataframe\">\n",
       "  <thead>\n",
       "    <tr style=\"text-align: right;\">\n",
       "      <th></th>\n",
       "      <th>Cut</th>\n",
       "      <th>pass rate</th>\n",
       "      <th>efficiency</th>\n",
       "    </tr>\n",
       "  </thead>\n",
       "  <tbody>\n",
       "    <tr>\n",
       "      <th>0</th>\n",
       "      <td>Eta PT BTag cut</td>\n",
       "      <td>0.00939</td>\n",
       "      <td>0.009390</td>\n",
       "    </tr>\n",
       "    <tr>\n",
       "      <th>1</th>\n",
       "      <td>Delta R</td>\n",
       "      <td>0.00467</td>\n",
       "      <td>0.497338</td>\n",
       "    </tr>\n",
       "    <tr>\n",
       "      <th>2</th>\n",
       "      <td>Higgs PT cut</td>\n",
       "      <td>0.00392</td>\n",
       "      <td>0.839400</td>\n",
       "    </tr>\n",
       "    <tr>\n",
       "      <th>3</th>\n",
       "      <td>Higgs Eta cut</td>\n",
       "      <td>0.00282</td>\n",
       "      <td>0.719388</td>\n",
       "    </tr>\n",
       "    <tr>\n",
       "      <th>4</th>\n",
       "      <td>Higgs signal</td>\n",
       "      <td>0.00056</td>\n",
       "      <td>0.198582</td>\n",
       "    </tr>\n",
       "    <tr>\n",
       "      <th>5</th>\n",
       "      <td>Top veto</td>\n",
       "      <td>0.00056</td>\n",
       "      <td>1.000000</td>\n",
       "    </tr>\n",
       "  </tbody>\n",
       "</table>\n",
       "</div>"
      ],
      "text/plain": [
       "               Cut  pass rate  efficiency\n",
       "0  Eta PT BTag cut    0.00939    0.009390\n",
       "1          Delta R    0.00467    0.497338\n",
       "2     Higgs PT cut    0.00392    0.839400\n",
       "3    Higgs Eta cut    0.00282    0.719388\n",
       "4     Higgs signal    0.00056    0.198582\n",
       "5         Top veto    0.00056    1.000000"
      ]
     },
     "metadata": {},
     "output_type": "display_data"
    }
   ],
   "source": [
    "display_cutflow_table(count_MV2c10_DHH_b)"
   ]
  },
  {
   "cell_type": "code",
   "execution_count": null,
   "id": "56f2fe93",
   "metadata": {},
   "outputs": [
    {
     "name": "stderr",
     "output_type": "stream",
     "text": [
      "100%|████████████████████████████████████████████████████████████████████████████████████████████████████████████████████████████████████| 100000/100000 [04:48<00:00, 346.10it/s]"
     ]
    },
    {
     "name": "stdout",
     "output_type": "stream",
     "text": [
      "pp->tt->4j2b\n",
      "In 100000 events\n",
      "Cross section: 263644.0124511719 fb\n",
      "|eta| < 2.5, PT > 40 GeV for 4 b-jets: 55 145.00420684814452\n",
      "Delta R: 25 65.91100311279297\n",
      "Higgs PT: 22 58.00168273925781\n",
      "Higgs Eta: 19 50.09236236572266\n",
      "Higgs signal region: 5 13.182200622558593\n",
      "Top veto: 4 10.545760498046874\n"
     ]
    },
    {
     "name": "stderr",
     "output_type": "stream",
     "text": [
      "\n"
     ]
    }
   ],
   "source": [
    "# 13 TeV 100k pp->tt b-tagging part: MV2c10\n",
    "file_path = '/home/r10222035/Software/MG5_aMC_v3_3_1/CPVDM/ppttbar/Events/run_02/tag_1_delphes_events.root'\n",
    "\n",
    "count_MV2c10_DHH_tt, xsection_MV2c10_DHH_tt = diHiggs_selection_ATLAS(file_path, mass = 0, xection = None, title='pp->tt->4j2b', nevent_max=100000)"
   ]
  },
  {
   "cell_type": "code",
   "execution_count": null,
   "id": "4cb92fc7",
   "metadata": {},
   "outputs": [
    {
     "data": {
      "text/html": [
       "<div>\n",
       "<style scoped>\n",
       "    .dataframe tbody tr th:only-of-type {\n",
       "        vertical-align: middle;\n",
       "    }\n",
       "\n",
       "    .dataframe tbody tr th {\n",
       "        vertical-align: top;\n",
       "    }\n",
       "\n",
       "    .dataframe thead th {\n",
       "        text-align: right;\n",
       "    }\n",
       "</style>\n",
       "<table border=\"1\" class=\"dataframe\">\n",
       "  <thead>\n",
       "    <tr style=\"text-align: right;\">\n",
       "      <th></th>\n",
       "      <th>Cut</th>\n",
       "      <th>pass rate</th>\n",
       "      <th>efficiency</th>\n",
       "    </tr>\n",
       "  </thead>\n",
       "  <tbody>\n",
       "    <tr>\n",
       "      <th>0</th>\n",
       "      <td>Eta PT BTag cut</td>\n",
       "      <td>0.00055</td>\n",
       "      <td>0.000550</td>\n",
       "    </tr>\n",
       "    <tr>\n",
       "      <th>1</th>\n",
       "      <td>Delta R</td>\n",
       "      <td>0.00025</td>\n",
       "      <td>0.454545</td>\n",
       "    </tr>\n",
       "    <tr>\n",
       "      <th>2</th>\n",
       "      <td>Higgs PT cut</td>\n",
       "      <td>0.00022</td>\n",
       "      <td>0.880000</td>\n",
       "    </tr>\n",
       "    <tr>\n",
       "      <th>3</th>\n",
       "      <td>Higgs Eta cut</td>\n",
       "      <td>0.00019</td>\n",
       "      <td>0.863636</td>\n",
       "    </tr>\n",
       "    <tr>\n",
       "      <th>4</th>\n",
       "      <td>Higgs signal</td>\n",
       "      <td>0.00005</td>\n",
       "      <td>0.263158</td>\n",
       "    </tr>\n",
       "    <tr>\n",
       "      <th>5</th>\n",
       "      <td>Top veto</td>\n",
       "      <td>0.00004</td>\n",
       "      <td>0.800000</td>\n",
       "    </tr>\n",
       "  </tbody>\n",
       "</table>\n",
       "</div>"
      ],
      "text/plain": [
       "               Cut  pass rate  efficiency\n",
       "0  Eta PT BTag cut    0.00055    0.000550\n",
       "1          Delta R    0.00025    0.454545\n",
       "2     Higgs PT cut    0.00022    0.880000\n",
       "3    Higgs Eta cut    0.00019    0.863636\n",
       "4     Higgs signal    0.00005    0.263158\n",
       "5         Top veto    0.00004    0.800000"
      ]
     },
     "metadata": {},
     "output_type": "display_data"
    }
   ],
   "source": [
    "display_cutflow_table(count_MV2c10_DHH_tt)"
   ]
  },
  {
   "cell_type": "markdown",
   "id": "52c3c018",
   "metadata": {},
   "source": [
    "### HDF5 "
   ]
  },
  {
   "cell_type": "markdown",
   "id": "8217af4f",
   "metadata": {},
   "source": [
    "#### Pre-process"
   ]
  },
  {
   "cell_type": "code",
   "execution_count": null,
   "id": "8a8e89ec",
   "metadata": {},
   "outputs": [
    {
     "name": "stderr",
     "output_type": "stream",
     "text": [
      "100%|██████████| 100000/100000 [02:34<00:00, 648.46it/s]\n"
     ]
    },
    {
     "name": "stdout",
     "output_type": "stream",
     "text": [
      "/home/r10222035/CPVDM/100k_diHiggs_4b_MV2c10_PT40_pptt.h5-00.h5 resize to 55\n"
     ]
    }
   ],
   "source": [
    "root_file = '/home/r10222035/Software/MG5_aMC_v3_3_1/CPVDM/ppttbar/Events/run_02/tag_1_delphes_events.root'\n",
    "output_file = '/home/r10222035/CPVDM/100k_diHiggs_4b_MV2c10_PT40_pptt'\n",
    "from_rootfile_to_HDF5(root_file, output_file)"
   ]
  },
  {
   "cell_type": "markdown",
   "id": "9d1b2b46",
   "metadata": {},
   "source": [
    "#### $ \\Delta R + \\text{min-}D_{HH}$"
   ]
  },
  {
   "cell_type": "code",
   "execution_count": 10,
   "id": "db672336",
   "metadata": {},
   "outputs": [
    {
     "name": "stderr",
     "output_type": "stream",
     "text": [
      "100%|████████████████████████████████████████████████████████████████████████████████████████████████████████████████████████████████████████| 9642/9642 [00:16<00:00, 599.82it/s]"
     ]
    },
    {
     "name": "stdout",
     "output_type": "stream",
     "text": [
      "pp->4b\n",
      "In 9642 events\n",
      "Cross section: 628589.0502929688 fb\n",
      "|eta| < 2.5, PT > 40 GeV for 4 b-jets: 9642 6060.855622924804\n",
      "Delta R: 5047 3172.488936828613\n",
      "Higgs PT: 4271 2684.7038338012694\n",
      "Higgs Eta: 3044 1913.4250690917968\n",
      "Higgs signal region: 472 296.69403173828124\n",
      "Top veto: 469 294.80826458740233\n"
     ]
    },
    {
     "name": "stderr",
     "output_type": "stream",
     "text": [
      "\n"
     ]
    }
   ],
   "source": [
    "# 13 TeV 1M pp->4b b-tagging part: MV2c10 \n",
    "# file_path = '/home/r10222035/Software/MG5_aMC_v3_3_1/CPVDM/pp4b/Events/run_13/...'\n",
    "file_path = '1M_diHiggs_4b_MV2c10_PT40_background_predict.h5'\n",
    "tot_event = 1000000\n",
    "cross_section = 628589.0502929688\n",
    "pairing_method = 'deltaR_minDHH'\n",
    "count_DHH_4b, xsection_DHH_4b = diHiggs_selection_ATLAS_HDF5(file_path, \n",
    "                                                                  tot_event=tot_event, \n",
    "                                                                  pairing_method=pairing_method, \n",
    "                                                                  xection = cross_section, \n",
    "                                                                  title='pp->4b', \n",
    "                                                                  nevent_max=100000)"
   ]
  },
  {
   "cell_type": "code",
   "execution_count": 11,
   "id": "96f36f62",
   "metadata": {},
   "outputs": [
    {
     "data": {
      "text/html": [
       "<div>\n",
       "<style scoped>\n",
       "    .dataframe tbody tr th:only-of-type {\n",
       "        vertical-align: middle;\n",
       "    }\n",
       "\n",
       "    .dataframe tbody tr th {\n",
       "        vertical-align: top;\n",
       "    }\n",
       "\n",
       "    .dataframe thead th {\n",
       "        text-align: right;\n",
       "    }\n",
       "</style>\n",
       "<table border=\"1\" class=\"dataframe\">\n",
       "  <thead>\n",
       "    <tr style=\"text-align: right;\">\n",
       "      <th></th>\n",
       "      <th>Cut</th>\n",
       "      <th>pass rate</th>\n",
       "      <th>efficiency</th>\n",
       "    </tr>\n",
       "  </thead>\n",
       "  <tbody>\n",
       "    <tr>\n",
       "      <th>0</th>\n",
       "      <td>Eta PT BTag cut</td>\n",
       "      <td>0.009642</td>\n",
       "      <td>0.009642</td>\n",
       "    </tr>\n",
       "    <tr>\n",
       "      <th>1</th>\n",
       "      <td>Delta R</td>\n",
       "      <td>0.005047</td>\n",
       "      <td>0.523439</td>\n",
       "    </tr>\n",
       "    <tr>\n",
       "      <th>2</th>\n",
       "      <td>Higgs PT cut</td>\n",
       "      <td>0.004271</td>\n",
       "      <td>0.846245</td>\n",
       "    </tr>\n",
       "    <tr>\n",
       "      <th>3</th>\n",
       "      <td>Higgs Eta cut</td>\n",
       "      <td>0.003044</td>\n",
       "      <td>0.712714</td>\n",
       "    </tr>\n",
       "    <tr>\n",
       "      <th>4</th>\n",
       "      <td>Higgs signal</td>\n",
       "      <td>0.000472</td>\n",
       "      <td>0.155059</td>\n",
       "    </tr>\n",
       "    <tr>\n",
       "      <th>5</th>\n",
       "      <td>Top veto</td>\n",
       "      <td>0.000469</td>\n",
       "      <td>0.993644</td>\n",
       "    </tr>\n",
       "  </tbody>\n",
       "</table>\n",
       "</div>"
      ],
      "text/plain": [
       "               Cut  pass rate  efficiency\n",
       "0  Eta PT BTag cut   0.009642    0.009642\n",
       "1          Delta R   0.005047    0.523439\n",
       "2     Higgs PT cut   0.004271    0.846245\n",
       "3    Higgs Eta cut   0.003044    0.712714\n",
       "4     Higgs signal   0.000472    0.155059\n",
       "5         Top veto   0.000469    0.993644"
      ]
     },
     "metadata": {},
     "output_type": "display_data"
    }
   ],
   "source": [
    "display_cutflow_table(count_DHH_4b)"
   ]
  },
  {
   "cell_type": "code",
   "execution_count": 12,
   "id": "5b8e006c",
   "metadata": {},
   "outputs": [
    {
     "name": "stderr",
     "output_type": "stream",
     "text": [
      "100%|██████████████████████████████████████████████████████████████████████████████████████████████████████████████████████████████████████████| 747/747 [00:01<00:00, 594.52it/s]"
     ]
    },
    {
     "name": "stdout",
     "output_type": "stream",
     "text": [
      "pp->tt->4j2b\n",
      "In 747 events\n",
      "Cross section: 263644.0124511719 fb\n",
      "|eta| < 2.5, PT > 40 GeV for 4 b-jets: 747 196.9420773010254\n",
      "Delta R: 418 110.20319720458984\n",
      "Higgs PT: 370 97.54828460693359\n",
      "Higgs Eta: 310 81.72964385986327\n",
      "Higgs signal region: 67 17.664148834228516\n",
      "Top veto: 57 15.027708709716798\n"
     ]
    },
    {
     "name": "stderr",
     "output_type": "stream",
     "text": [
      "\n"
     ]
    }
   ],
   "source": [
    "# 13 TeV 1M pp->tt->4j2b b-tagging part: MV2c10 \n",
    "# file_path = '/home/r10222035/Software/MG5_aMC_v3_3_1/CPVDM/ppttbar/Events/run_03/tag_1_delphes_events.root'\n",
    "file_path = '/home/r10222035/CPVDM/1M_diHiggs_4b_MV2c10_PT40_pptt_predict.h5'\n",
    "tot_event = 1000000\n",
    "cross_section = 263644.0124511719\n",
    "pairing_method = 'deltaR_minDHH'\n",
    "count_DHH_tt, xsection_DHH_tt = diHiggs_selection_ATLAS_HDF5(file_path, \n",
    "                                                                  tot_event=tot_event, \n",
    "                                                                  pairing_method=pairing_method, \n",
    "                                                                  xection = cross_section, \n",
    "                                                                  title='pp->tt->4j2b', \n",
    "                                                                  nevent_max=100000)"
   ]
  },
  {
   "cell_type": "code",
   "execution_count": 13,
   "id": "9221dfc1",
   "metadata": {},
   "outputs": [
    {
     "data": {
      "text/html": [
       "<div>\n",
       "<style scoped>\n",
       "    .dataframe tbody tr th:only-of-type {\n",
       "        vertical-align: middle;\n",
       "    }\n",
       "\n",
       "    .dataframe tbody tr th {\n",
       "        vertical-align: top;\n",
       "    }\n",
       "\n",
       "    .dataframe thead th {\n",
       "        text-align: right;\n",
       "    }\n",
       "</style>\n",
       "<table border=\"1\" class=\"dataframe\">\n",
       "  <thead>\n",
       "    <tr style=\"text-align: right;\">\n",
       "      <th></th>\n",
       "      <th>Cut</th>\n",
       "      <th>pass rate</th>\n",
       "      <th>efficiency</th>\n",
       "    </tr>\n",
       "  </thead>\n",
       "  <tbody>\n",
       "    <tr>\n",
       "      <th>0</th>\n",
       "      <td>Eta PT BTag cut</td>\n",
       "      <td>0.000747</td>\n",
       "      <td>0.000747</td>\n",
       "    </tr>\n",
       "    <tr>\n",
       "      <th>1</th>\n",
       "      <td>Delta R</td>\n",
       "      <td>0.000418</td>\n",
       "      <td>0.559572</td>\n",
       "    </tr>\n",
       "    <tr>\n",
       "      <th>2</th>\n",
       "      <td>Higgs PT cut</td>\n",
       "      <td>0.000370</td>\n",
       "      <td>0.885167</td>\n",
       "    </tr>\n",
       "    <tr>\n",
       "      <th>3</th>\n",
       "      <td>Higgs Eta cut</td>\n",
       "      <td>0.000310</td>\n",
       "      <td>0.837838</td>\n",
       "    </tr>\n",
       "    <tr>\n",
       "      <th>4</th>\n",
       "      <td>Higgs signal</td>\n",
       "      <td>0.000067</td>\n",
       "      <td>0.216129</td>\n",
       "    </tr>\n",
       "    <tr>\n",
       "      <th>5</th>\n",
       "      <td>Top veto</td>\n",
       "      <td>0.000057</td>\n",
       "      <td>0.850746</td>\n",
       "    </tr>\n",
       "  </tbody>\n",
       "</table>\n",
       "</div>"
      ],
      "text/plain": [
       "               Cut  pass rate  efficiency\n",
       "0  Eta PT BTag cut   0.000747    0.000747\n",
       "1          Delta R   0.000418    0.559572\n",
       "2     Higgs PT cut   0.000370    0.885167\n",
       "3    Higgs Eta cut   0.000310    0.837838\n",
       "4     Higgs signal   0.000067    0.216129\n",
       "5         Top veto   0.000057    0.850746"
      ]
     },
     "metadata": {},
     "output_type": "display_data"
    }
   ],
   "source": [
    "display_cutflow_table(count_DHH_tt)"
   ]
  },
  {
   "cell_type": "markdown",
   "id": "8383e18c",
   "metadata": {},
   "source": [
    "#### SPANet"
   ]
  },
  {
   "cell_type": "code",
   "execution_count": 14,
   "id": "ecb7a9bd",
   "metadata": {},
   "outputs": [
    {
     "name": "stderr",
     "output_type": "stream",
     "text": [
      "100%|████████████████████████████████████████████████████████████████████████████████████████████████████████████████████████████████████████| 9642/9642 [00:19<00:00, 497.82it/s]"
     ]
    },
    {
     "name": "stdout",
     "output_type": "stream",
     "text": [
      "pp->4b\n",
      "In 9642 events\n",
      "Cross section: 628589.0502929688 fb\n",
      "|eta| < 2.5, PT > 40 GeV for 4 b-jets: 9642 6060.855622924804\n",
      "Higgs PT: 6474 4069.4855115966793\n",
      "Higgs Eta: 4778 3003.3984822998045\n",
      "Higgs signal region: 83 52.1728911743164\n",
      "Top veto: 83 52.1728911743164\n"
     ]
    },
    {
     "name": "stderr",
     "output_type": "stream",
     "text": [
      "\n"
     ]
    }
   ],
   "source": [
    "# 13 TeV 1M pp->4b b-tagging part: MV2c10 \n",
    "# file_path = '/home/r10222035/Software/MG5_aMC_v3_3_1/CPVDM/pp4b/Events/run_13/...'\n",
    "file_path = '1M_diHiggs_4b_MV2c10_PT40_background_predict.h5'\n",
    "tot_event = 1000000\n",
    "cross_section = 628589.0502929688\n",
    "pairing_method = 'SPANet'\n",
    "count_SPANet_4b, xsection_SPANet_4b = diHiggs_selection_ATLAS_HDF5(file_path, \n",
    "                                                                  tot_event=tot_event, \n",
    "                                                                  pairing_method=pairing_method, \n",
    "                                                                  xection = cross_section, \n",
    "                                                                  title='pp->4b', \n",
    "                                                                  nevent_max=100000)"
   ]
  },
  {
   "cell_type": "code",
   "execution_count": 15,
   "id": "1d8dd660",
   "metadata": {},
   "outputs": [
    {
     "data": {
      "text/html": [
       "<div>\n",
       "<style scoped>\n",
       "    .dataframe tbody tr th:only-of-type {\n",
       "        vertical-align: middle;\n",
       "    }\n",
       "\n",
       "    .dataframe tbody tr th {\n",
       "        vertical-align: top;\n",
       "    }\n",
       "\n",
       "    .dataframe thead th {\n",
       "        text-align: right;\n",
       "    }\n",
       "</style>\n",
       "<table border=\"1\" class=\"dataframe\">\n",
       "  <thead>\n",
       "    <tr style=\"text-align: right;\">\n",
       "      <th></th>\n",
       "      <th>Cut</th>\n",
       "      <th>pass rate</th>\n",
       "      <th>efficiency</th>\n",
       "    </tr>\n",
       "  </thead>\n",
       "  <tbody>\n",
       "    <tr>\n",
       "      <th>0</th>\n",
       "      <td>Eta PT BTag cut</td>\n",
       "      <td>0.009642</td>\n",
       "      <td>0.009642</td>\n",
       "    </tr>\n",
       "    <tr>\n",
       "      <th>1</th>\n",
       "      <td>Higgs PT cut</td>\n",
       "      <td>0.006474</td>\n",
       "      <td>0.671437</td>\n",
       "    </tr>\n",
       "    <tr>\n",
       "      <th>2</th>\n",
       "      <td>Higgs Eta cut</td>\n",
       "      <td>0.004778</td>\n",
       "      <td>0.738029</td>\n",
       "    </tr>\n",
       "    <tr>\n",
       "      <th>3</th>\n",
       "      <td>Higgs signal</td>\n",
       "      <td>0.000083</td>\n",
       "      <td>0.017371</td>\n",
       "    </tr>\n",
       "    <tr>\n",
       "      <th>4</th>\n",
       "      <td>Top veto</td>\n",
       "      <td>0.000083</td>\n",
       "      <td>1.000000</td>\n",
       "    </tr>\n",
       "  </tbody>\n",
       "</table>\n",
       "</div>"
      ],
      "text/plain": [
       "               Cut  pass rate  efficiency\n",
       "0  Eta PT BTag cut   0.009642    0.009642\n",
       "1     Higgs PT cut   0.006474    0.671437\n",
       "2    Higgs Eta cut   0.004778    0.738029\n",
       "3     Higgs signal   0.000083    0.017371\n",
       "4         Top veto   0.000083    1.000000"
      ]
     },
     "metadata": {},
     "output_type": "display_data"
    }
   ],
   "source": [
    "display_cutflow_table(count_SPANet_4b)"
   ]
  },
  {
   "cell_type": "code",
   "execution_count": 16,
   "id": "2b09206f",
   "metadata": {},
   "outputs": [
    {
     "name": "stderr",
     "output_type": "stream",
     "text": [
      "100%|██████████████████████████████████████████████████████████████████████████████████████████████████████████████████████████████████████████| 747/747 [00:01<00:00, 502.76it/s]"
     ]
    },
    {
     "name": "stdout",
     "output_type": "stream",
     "text": [
      "pp->tt->4j2b\n",
      "In 747 events\n",
      "Cross section: 263644.0124511719 fb\n",
      "|eta| < 2.5, PT > 40 GeV for 4 b-jets: 747 196.9420773010254\n",
      "Higgs PT: 548 144.4769188232422\n",
      "Higgs Eta: 444 117.05794152832031\n",
      "Higgs signal region: 30 7.909320373535157\n",
      "Top veto: 27 7.118388336181641\n"
     ]
    },
    {
     "name": "stderr",
     "output_type": "stream",
     "text": [
      "\n"
     ]
    }
   ],
   "source": [
    "# 13 TeV 1M pp->tt->4j2b b-tagging part: MV2c10 \n",
    "# file_path = '/home/r10222035/Software/MG5_aMC_v3_3_1/CPVDM/ppttbar/Events/run_03/tag_1_delphes_events.root'\n",
    "file_path = '/home/r10222035/CPVDM/1M_diHiggs_4b_MV2c10_PT40_pptt_predict.h5'\n",
    "tot_event = 1000000\n",
    "cross_section = 263644.0124511719\n",
    "pairing_method = 'SPANet'\n",
    "count_SPANet_tt, xsection_SPANet_tt = diHiggs_selection_ATLAS_HDF5(file_path, \n",
    "                                                                  tot_event=tot_event, \n",
    "                                                                  pairing_method=pairing_method, \n",
    "                                                                  xection = cross_section, \n",
    "                                                                  title='pp->tt->4j2b', \n",
    "                                                                  nevent_max=100000)"
   ]
  },
  {
   "cell_type": "code",
   "execution_count": 17,
   "id": "9d1acc8a",
   "metadata": {},
   "outputs": [
    {
     "data": {
      "text/html": [
       "<div>\n",
       "<style scoped>\n",
       "    .dataframe tbody tr th:only-of-type {\n",
       "        vertical-align: middle;\n",
       "    }\n",
       "\n",
       "    .dataframe tbody tr th {\n",
       "        vertical-align: top;\n",
       "    }\n",
       "\n",
       "    .dataframe thead th {\n",
       "        text-align: right;\n",
       "    }\n",
       "</style>\n",
       "<table border=\"1\" class=\"dataframe\">\n",
       "  <thead>\n",
       "    <tr style=\"text-align: right;\">\n",
       "      <th></th>\n",
       "      <th>Cut</th>\n",
       "      <th>pass rate</th>\n",
       "      <th>efficiency</th>\n",
       "    </tr>\n",
       "  </thead>\n",
       "  <tbody>\n",
       "    <tr>\n",
       "      <th>0</th>\n",
       "      <td>Eta PT BTag cut</td>\n",
       "      <td>0.000747</td>\n",
       "      <td>0.000747</td>\n",
       "    </tr>\n",
       "    <tr>\n",
       "      <th>1</th>\n",
       "      <td>Higgs PT cut</td>\n",
       "      <td>0.000548</td>\n",
       "      <td>0.733601</td>\n",
       "    </tr>\n",
       "    <tr>\n",
       "      <th>2</th>\n",
       "      <td>Higgs Eta cut</td>\n",
       "      <td>0.000444</td>\n",
       "      <td>0.810219</td>\n",
       "    </tr>\n",
       "    <tr>\n",
       "      <th>3</th>\n",
       "      <td>Higgs signal</td>\n",
       "      <td>0.000030</td>\n",
       "      <td>0.067568</td>\n",
       "    </tr>\n",
       "    <tr>\n",
       "      <th>4</th>\n",
       "      <td>Top veto</td>\n",
       "      <td>0.000027</td>\n",
       "      <td>0.900000</td>\n",
       "    </tr>\n",
       "  </tbody>\n",
       "</table>\n",
       "</div>"
      ],
      "text/plain": [
       "               Cut  pass rate  efficiency\n",
       "0  Eta PT BTag cut   0.000747    0.000747\n",
       "1     Higgs PT cut   0.000548    0.733601\n",
       "2    Higgs Eta cut   0.000444    0.810219\n",
       "3     Higgs signal   0.000030    0.067568\n",
       "4         Top veto   0.000027    0.900000"
      ]
     },
     "metadata": {},
     "output_type": "display_data"
    }
   ],
   "source": [
    "display_cutflow_table(count_SPANet_tt)"
   ]
  },
  {
   "cell_type": "markdown",
   "id": "11074f49",
   "metadata": {},
   "source": [
    "## Signal selection"
   ]
  },
  {
   "cell_type": "markdown",
   "id": "cb7f7f45",
   "metadata": {},
   "source": [
    "### Root file"
   ]
  },
  {
   "cell_type": "code",
   "execution_count": null,
   "id": "171619d7",
   "metadata": {},
   "outputs": [
    {
     "name": "stderr",
     "output_type": "stream",
     "text": [
      "100%|████████████████████████████████████████████████████████████████████████████████████████████████████████████████████████████████████| 100000/100000 [13:19<00:00, 125.03it/s]"
     ]
    },
    {
     "name": "stdout",
     "output_type": "stream",
     "text": [
      "pp->H->hh\n",
      "In 100000 events\n",
      "Cross section: 0.83648 fb\n",
      "|eta| < 2.5, PT > 40 GeV for 4 b-jets: 13864 0.1159695872\n",
      "Delta R: 10891 0.09110103680000001\n",
      "Higgs PT: 8708 0.0728406784\n",
      "Higgs Eta: 8033 0.0671944384\n",
      "Higgs signal region: 4218 0.0352827264\n",
      "Top veto: 4181 0.0349732288\n"
     ]
    },
    {
     "name": "stderr",
     "output_type": "stream",
     "text": [
      "\n"
     ]
    }
   ],
   "source": [
    "# 13 TeV 100k pp->H->hh b-tagging efficiency=default H = 1000 GeV\n",
    "file_path = '/home/r10222035/Software/MG5_aMC_v3_3_1/CPVDM/proc_ppHhh/Events/run_55_decayed_1/tag_1_delphes_events.root'\n",
    "\n",
    "result_1000_s = diHiggs_selection_ATLAS(file_path, mass = 1000, xection = 0.83648, title='pp->H->hh', nevent_max=100000)"
   ]
  },
  {
   "cell_type": "code",
   "execution_count": null,
   "id": "d40e9da8",
   "metadata": {},
   "outputs": [
    {
     "data": {
      "text/html": [
       "<div>\n",
       "<style scoped>\n",
       "    .dataframe tbody tr th:only-of-type {\n",
       "        vertical-align: middle;\n",
       "    }\n",
       "\n",
       "    .dataframe tbody tr th {\n",
       "        vertical-align: top;\n",
       "    }\n",
       "\n",
       "    .dataframe thead th {\n",
       "        text-align: right;\n",
       "    }\n",
       "</style>\n",
       "<table border=\"1\" class=\"dataframe\">\n",
       "  <thead>\n",
       "    <tr style=\"text-align: right;\">\n",
       "      <th></th>\n",
       "      <th>Cut</th>\n",
       "      <th>pass rate</th>\n",
       "      <th>efficiency</th>\n",
       "    </tr>\n",
       "  </thead>\n",
       "  <tbody>\n",
       "    <tr>\n",
       "      <th>0</th>\n",
       "      <td>Eta PT BTag cut</td>\n",
       "      <td>0.13864</td>\n",
       "      <td>0.138640</td>\n",
       "    </tr>\n",
       "    <tr>\n",
       "      <th>1</th>\n",
       "      <td>Delta R</td>\n",
       "      <td>0.10891</td>\n",
       "      <td>0.785560</td>\n",
       "    </tr>\n",
       "    <tr>\n",
       "      <th>2</th>\n",
       "      <td>Higgs PT cut</td>\n",
       "      <td>0.08708</td>\n",
       "      <td>0.799559</td>\n",
       "    </tr>\n",
       "    <tr>\n",
       "      <th>3</th>\n",
       "      <td>Higgs Eta cut</td>\n",
       "      <td>0.08033</td>\n",
       "      <td>0.922485</td>\n",
       "    </tr>\n",
       "    <tr>\n",
       "      <th>4</th>\n",
       "      <td>Higgs signal</td>\n",
       "      <td>0.04218</td>\n",
       "      <td>0.525084</td>\n",
       "    </tr>\n",
       "    <tr>\n",
       "      <th>5</th>\n",
       "      <td>Top veto</td>\n",
       "      <td>0.04181</td>\n",
       "      <td>0.991228</td>\n",
       "    </tr>\n",
       "  </tbody>\n",
       "</table>\n",
       "</div>"
      ],
      "text/plain": [
       "               Cut  pass rate  efficiency\n",
       "0  Eta PT BTag cut    0.13864    0.138640\n",
       "1          Delta R    0.10891    0.785560\n",
       "2     Higgs PT cut    0.08708    0.799559\n",
       "3    Higgs Eta cut    0.08033    0.922485\n",
       "4     Higgs signal    0.04218    0.525084\n",
       "5         Top veto    0.04181    0.991228"
      ]
     },
     "metadata": {},
     "output_type": "display_data"
    }
   ],
   "source": [
    "display_cutflow_table(result_1000_s)"
   ]
  },
  {
   "cell_type": "code",
   "execution_count": null,
   "id": "b9762bac",
   "metadata": {},
   "outputs": [
    {
     "name": "stderr",
     "output_type": "stream",
     "text": [
      "100%|████████████████████████████████████████████████████████████████████████████████████████████████████████████████████████████████████| 100000/100000 [12:02<00:00, 138.37it/s]"
     ]
    },
    {
     "name": "stdout",
     "output_type": "stream",
     "text": [
      "pp->H->hh\n",
      "In 100000 events\n",
      "Cross section: 0.83648 fb\n",
      "|eta| < 2.5, PT > 40 GeV for 4 b-jets: 11199 0.09367739519999999\n",
      "Delta R: 8562 0.0716194176\n",
      "Higgs PT: 8195 0.068549536\n",
      "Higgs Eta: 7334 0.0613474432\n",
      "Higgs signal region: 2897 0.0242328256\n",
      "Top veto: 2868 0.0239902464\n"
     ]
    },
    {
     "name": "stderr",
     "output_type": "stream",
     "text": [
      "\n"
     ]
    }
   ],
   "source": [
    "# 13 TeV 100k pp->H->hh b-tagging efficiency=default H = 600 GeV\n",
    "file_path = '/home/r10222035/Software/MG5_aMC_v3_3_1/CPVDM/proc_ppHhh/Events/run_58_decayed_1/tag_1_delphes_events.root'\n",
    "\n",
    "result_600_s = diHiggs_selection_ATLAS(file_path, mass = 600, xection = 0.83648, title='pp->H->hh', nevent_max=100000)"
   ]
  },
  {
   "cell_type": "code",
   "execution_count": null,
   "id": "3dcfa3f7",
   "metadata": {},
   "outputs": [
    {
     "data": {
      "text/html": [
       "<div>\n",
       "<style scoped>\n",
       "    .dataframe tbody tr th:only-of-type {\n",
       "        vertical-align: middle;\n",
       "    }\n",
       "\n",
       "    .dataframe tbody tr th {\n",
       "        vertical-align: top;\n",
       "    }\n",
       "\n",
       "    .dataframe thead th {\n",
       "        text-align: right;\n",
       "    }\n",
       "</style>\n",
       "<table border=\"1\" class=\"dataframe\">\n",
       "  <thead>\n",
       "    <tr style=\"text-align: right;\">\n",
       "      <th></th>\n",
       "      <th>Cut</th>\n",
       "      <th>pass rate</th>\n",
       "      <th>efficiency</th>\n",
       "    </tr>\n",
       "  </thead>\n",
       "  <tbody>\n",
       "    <tr>\n",
       "      <th>0</th>\n",
       "      <td>Eta PT BTag cut</td>\n",
       "      <td>0.11199</td>\n",
       "      <td>0.111990</td>\n",
       "    </tr>\n",
       "    <tr>\n",
       "      <th>1</th>\n",
       "      <td>Delta R</td>\n",
       "      <td>0.08562</td>\n",
       "      <td>0.764533</td>\n",
       "    </tr>\n",
       "    <tr>\n",
       "      <th>2</th>\n",
       "      <td>Higgs PT cut</td>\n",
       "      <td>0.08195</td>\n",
       "      <td>0.957136</td>\n",
       "    </tr>\n",
       "    <tr>\n",
       "      <th>3</th>\n",
       "      <td>Higgs Eta cut</td>\n",
       "      <td>0.07334</td>\n",
       "      <td>0.894936</td>\n",
       "    </tr>\n",
       "    <tr>\n",
       "      <th>4</th>\n",
       "      <td>Higgs signal</td>\n",
       "      <td>0.02897</td>\n",
       "      <td>0.395010</td>\n",
       "    </tr>\n",
       "    <tr>\n",
       "      <th>5</th>\n",
       "      <td>Top veto</td>\n",
       "      <td>0.02868</td>\n",
       "      <td>0.989990</td>\n",
       "    </tr>\n",
       "  </tbody>\n",
       "</table>\n",
       "</div>"
      ],
      "text/plain": [
       "               Cut  pass rate  efficiency\n",
       "0  Eta PT BTag cut    0.11199    0.111990\n",
       "1          Delta R    0.08562    0.764533\n",
       "2     Higgs PT cut    0.08195    0.957136\n",
       "3    Higgs Eta cut    0.07334    0.894936\n",
       "4     Higgs signal    0.02897    0.395010\n",
       "5         Top veto    0.02868    0.989990"
      ]
     },
     "metadata": {},
     "output_type": "display_data"
    }
   ],
   "source": [
    "display_cutflow_table(result_600_s)"
   ]
  },
  {
   "cell_type": "code",
   "execution_count": null,
   "id": "dd1d3086",
   "metadata": {},
   "outputs": [
    {
     "name": "stderr",
     "output_type": "stream",
     "text": [
      "100%|████████████████████████████████████████████████████████████████████████████████████████████████████████████████████████████████████| 100000/100000 [11:54<00:00, 139.98it/s]"
     ]
    },
    {
     "name": "stdout",
     "output_type": "stream",
     "text": [
      "pp->H->hh\n",
      "In 100000 events\n",
      "Cross section: 0.83648 fb\n",
      "|eta| < 2.5, PT > 40 GeV for 4 b-jets: 10061 0.08415825279999999\n",
      "Delta R: 7805 0.065287264\n",
      "Higgs PT: 6264 0.0523971072\n",
      "Higgs Eta: 5745 0.048055775999999994\n",
      "Higgs signal region: 2977 0.0249020096\n",
      "Top veto: 2949 0.024667795200000002\n"
     ]
    },
    {
     "name": "stderr",
     "output_type": "stream",
     "text": [
      "\n"
     ]
    }
   ],
   "source": [
    "# 13 TeV 100k pp->H->hh b-tagging efficiency=default*0.92 H = 1000 GeV\n",
    "file_path = '/home/r10222035/Software/MG5_aMC_v3_3_1/CPVDM/proc_ppHhh/Events/run_65_decayed_1/tag_1_delphes_events.root'\n",
    "\n",
    "result_1000_btag_s = diHiggs_selection_ATLAS(file_path, mass = 1000, xection = 0.83648, title='pp->H->hh', nevent_max=100000)"
   ]
  },
  {
   "cell_type": "code",
   "execution_count": null,
   "id": "8aba627a",
   "metadata": {},
   "outputs": [
    {
     "data": {
      "text/html": [
       "<div>\n",
       "<style scoped>\n",
       "    .dataframe tbody tr th:only-of-type {\n",
       "        vertical-align: middle;\n",
       "    }\n",
       "\n",
       "    .dataframe tbody tr th {\n",
       "        vertical-align: top;\n",
       "    }\n",
       "\n",
       "    .dataframe thead th {\n",
       "        text-align: right;\n",
       "    }\n",
       "</style>\n",
       "<table border=\"1\" class=\"dataframe\">\n",
       "  <thead>\n",
       "    <tr style=\"text-align: right;\">\n",
       "      <th></th>\n",
       "      <th>Cut</th>\n",
       "      <th>pass rate</th>\n",
       "      <th>efficiency</th>\n",
       "    </tr>\n",
       "  </thead>\n",
       "  <tbody>\n",
       "    <tr>\n",
       "      <th>0</th>\n",
       "      <td>Eta PT BTag cut</td>\n",
       "      <td>0.10061</td>\n",
       "      <td>0.100610</td>\n",
       "    </tr>\n",
       "    <tr>\n",
       "      <th>1</th>\n",
       "      <td>Delta R</td>\n",
       "      <td>0.07805</td>\n",
       "      <td>0.775768</td>\n",
       "    </tr>\n",
       "    <tr>\n",
       "      <th>2</th>\n",
       "      <td>Higgs PT cut</td>\n",
       "      <td>0.06264</td>\n",
       "      <td>0.802562</td>\n",
       "    </tr>\n",
       "    <tr>\n",
       "      <th>3</th>\n",
       "      <td>Higgs Eta cut</td>\n",
       "      <td>0.05745</td>\n",
       "      <td>0.917146</td>\n",
       "    </tr>\n",
       "    <tr>\n",
       "      <th>4</th>\n",
       "      <td>Higgs signal</td>\n",
       "      <td>0.02977</td>\n",
       "      <td>0.518190</td>\n",
       "    </tr>\n",
       "    <tr>\n",
       "      <th>5</th>\n",
       "      <td>Top veto</td>\n",
       "      <td>0.02949</td>\n",
       "      <td>0.990595</td>\n",
       "    </tr>\n",
       "  </tbody>\n",
       "</table>\n",
       "</div>"
      ],
      "text/plain": [
       "               Cut  pass rate  efficiency\n",
       "0  Eta PT BTag cut    0.10061    0.100610\n",
       "1          Delta R    0.07805    0.775768\n",
       "2     Higgs PT cut    0.06264    0.802562\n",
       "3    Higgs Eta cut    0.05745    0.917146\n",
       "4     Higgs signal    0.02977    0.518190\n",
       "5         Top veto    0.02949    0.990595"
      ]
     },
     "metadata": {},
     "output_type": "display_data"
    }
   ],
   "source": [
    "display_cutflow_table(result_1000_btag_s)"
   ]
  },
  {
   "cell_type": "code",
   "execution_count": null,
   "id": "03fe0e74",
   "metadata": {},
   "outputs": [
    {
     "name": "stderr",
     "output_type": "stream",
     "text": [
      "100%|████████████████████████████████████████████████████████████████████████████████████████████████████████████████████████████████████| 100000/100000 [14:07<00:00, 117.93it/s]"
     ]
    },
    {
     "name": "stdout",
     "output_type": "stream",
     "text": [
      "pp->H->hh\n",
      "In 100000 events\n",
      "Cross section: 0.6442 fb\n",
      "|eta| < 2.5, PT > 40 GeV for 4 b-jets: 12574 0.081001708\n",
      "Delta R: 10868 0.070011656\n",
      "Higgs PT: 8963 0.057739646000000006\n",
      "Higgs Eta: 8260 0.053210919999999995\n",
      "Higgs signal region: 4453 0.028686226000000002\n",
      "Top veto: 4408 0.028396336\n"
     ]
    },
    {
     "name": "stderr",
     "output_type": "stream",
     "text": [
      "\n"
     ]
    }
   ],
   "source": [
    "# 13 TeV 100k pp->H->hh b-tagging part: MV2c10 H = 1000 GeV\n",
    "file_path = '/home/r10222035/Software/MG5_aMC_v3_3_1/CPVDM/proc_ppHhh/Events/run_66_decayed_1/tag_1_delphes_events.root'\n",
    "\n",
    "cutflow_1000_MV2c10_DHH_s, DHH_1000_MV2c10_s = diHiggs_selection_ATLAS(file_path, mass = 1000, xection = 0.6442, title='pp->H->hh', nevent_max=100000)"
   ]
  },
  {
   "cell_type": "code",
   "execution_count": null,
   "id": "69f3dd6d",
   "metadata": {},
   "outputs": [],
   "source": [
    "# 13 TeV 100k pp->H->hh b-tagging part: MV2c10 H = 1000 GeV\n",
    "file_path = '/home/r10222035/Software/MG5_aMC_v3_3_1/CPVDM/proc_ppHhh/Events/run_66_decayed_1/tag_1_delphes_events.root'\n",
    "\n",
    "count_1000_MV2c10_DHH_s, xsection_1000_MV2c10_DHH_s = diHiggs_selection_ATLAS(file_path, mass = 1000, xection = 0.6442, title='pp->H->hh', nevent_max=100000)"
   ]
  },
  {
   "cell_type": "code",
   "execution_count": null,
   "id": "a67fb9a9",
   "metadata": {},
   "outputs": [
    {
     "data": {
      "text/html": [
       "<div>\n",
       "<style scoped>\n",
       "    .dataframe tbody tr th:only-of-type {\n",
       "        vertical-align: middle;\n",
       "    }\n",
       "\n",
       "    .dataframe tbody tr th {\n",
       "        vertical-align: top;\n",
       "    }\n",
       "\n",
       "    .dataframe thead th {\n",
       "        text-align: right;\n",
       "    }\n",
       "</style>\n",
       "<table border=\"1\" class=\"dataframe\">\n",
       "  <thead>\n",
       "    <tr style=\"text-align: right;\">\n",
       "      <th></th>\n",
       "      <th>Cut</th>\n",
       "      <th>pass rate</th>\n",
       "      <th>efficiency</th>\n",
       "    </tr>\n",
       "  </thead>\n",
       "  <tbody>\n",
       "    <tr>\n",
       "      <th>0</th>\n",
       "      <td>Eta PT BTag cut</td>\n",
       "      <td>0.12574</td>\n",
       "      <td>0.125740</td>\n",
       "    </tr>\n",
       "    <tr>\n",
       "      <th>1</th>\n",
       "      <td>Delta R</td>\n",
       "      <td>0.10868</td>\n",
       "      <td>0.864323</td>\n",
       "    </tr>\n",
       "    <tr>\n",
       "      <th>2</th>\n",
       "      <td>Higgs PT cut</td>\n",
       "      <td>0.08963</td>\n",
       "      <td>0.824715</td>\n",
       "    </tr>\n",
       "    <tr>\n",
       "      <th>3</th>\n",
       "      <td>Higgs Eta cut</td>\n",
       "      <td>0.08260</td>\n",
       "      <td>0.921566</td>\n",
       "    </tr>\n",
       "    <tr>\n",
       "      <th>4</th>\n",
       "      <td>Higgs signal</td>\n",
       "      <td>0.04453</td>\n",
       "      <td>0.539104</td>\n",
       "    </tr>\n",
       "    <tr>\n",
       "      <th>5</th>\n",
       "      <td>Top veto</td>\n",
       "      <td>0.04408</td>\n",
       "      <td>0.989894</td>\n",
       "    </tr>\n",
       "  </tbody>\n",
       "</table>\n",
       "</div>"
      ],
      "text/plain": [
       "               Cut  pass rate  efficiency\n",
       "0  Eta PT BTag cut    0.12574    0.125740\n",
       "1          Delta R    0.10868    0.864323\n",
       "2     Higgs PT cut    0.08963    0.824715\n",
       "3    Higgs Eta cut    0.08260    0.921566\n",
       "4     Higgs signal    0.04453    0.539104\n",
       "5         Top veto    0.04408    0.989894"
      ]
     },
     "metadata": {},
     "output_type": "display_data"
    }
   ],
   "source": [
    "display_cutflow_table(cutflow_1000_MV2c10_DHH_s)"
   ]
  },
  {
   "cell_type": "markdown",
   "id": "93df2894",
   "metadata": {},
   "source": [
    "### HDF5"
   ]
  },
  {
   "cell_type": "markdown",
   "id": "773af4b3",
   "metadata": {},
   "source": [
    "#### $\\Delta R + \\text{min-}D_{HH}$"
   ]
  },
  {
   "cell_type": "code",
   "execution_count": 19,
   "id": "8f598dd2",
   "metadata": {},
   "outputs": [
    {
     "name": "stderr",
     "output_type": "stream",
     "text": [
      "100%|██████████████████████████████████████████████████████████████████████████████████████████████████████████████████████████████████████| 12573/12573 [00:22<00:00, 557.39it/s]"
     ]
    },
    {
     "name": "stdout",
     "output_type": "stream",
     "text": [
      "pp->H->hh\n",
      "In 12573 events\n",
      "Cross section: 0.6442 fb\n",
      "|eta| < 2.5, PT > 40 GeV for 4 b-jets: 12573 0.080995266\n",
      "Delta R: 10868 0.070011656\n",
      "Higgs PT: 8963 0.057739646\n",
      "Higgs Eta: 8260 0.05321092\n",
      "Higgs signal region: 4453 0.028686226\n",
      "Top veto: 4409 0.028402778\n"
     ]
    },
    {
     "name": "stderr",
     "output_type": "stream",
     "text": [
      "\n"
     ]
    }
   ],
   "source": [
    "# 13 TeV 100k pp->H->hh b-tagging part: MV2c10 H = 1000 GeV\n",
    "# file_path = '/home/r10222035/Software/MG5_aMC_v3_3_1/CPVDM/proc_ppHhh/Events/run_66_decayed_1/tag_1_delphes_events.root'\n",
    "file_path = '100k_diHiggs_4b_MV2c10_PT40_signal_predict.h5'\n",
    "tot_event = 100000\n",
    "cross_section = 0.6442\n",
    "pairing_method = 'deltaR_minDHH'\n",
    "count_DHH_s, xsection_DHH_s = diHiggs_selection_ATLAS_HDF5(file_path, \n",
    "                                                                  tot_event=tot_event, \n",
    "                                                                  pairing_method=pairing_method, \n",
    "                                                                  xection = cross_section, \n",
    "                                                                  title='pp->H->hh', \n",
    "                                                                  nevent_max=100000)"
   ]
  },
  {
   "cell_type": "code",
   "execution_count": 20,
   "id": "08b9e45b",
   "metadata": {
    "scrolled": true
   },
   "outputs": [
    {
     "data": {
      "text/html": [
       "<div>\n",
       "<style scoped>\n",
       "    .dataframe tbody tr th:only-of-type {\n",
       "        vertical-align: middle;\n",
       "    }\n",
       "\n",
       "    .dataframe tbody tr th {\n",
       "        vertical-align: top;\n",
       "    }\n",
       "\n",
       "    .dataframe thead th {\n",
       "        text-align: right;\n",
       "    }\n",
       "</style>\n",
       "<table border=\"1\" class=\"dataframe\">\n",
       "  <thead>\n",
       "    <tr style=\"text-align: right;\">\n",
       "      <th></th>\n",
       "      <th>Cut</th>\n",
       "      <th>pass rate</th>\n",
       "      <th>efficiency</th>\n",
       "    </tr>\n",
       "  </thead>\n",
       "  <tbody>\n",
       "    <tr>\n",
       "      <th>0</th>\n",
       "      <td>Eta PT BTag cut</td>\n",
       "      <td>0.12573</td>\n",
       "      <td>0.125730</td>\n",
       "    </tr>\n",
       "    <tr>\n",
       "      <th>1</th>\n",
       "      <td>Delta R</td>\n",
       "      <td>0.10868</td>\n",
       "      <td>0.864392</td>\n",
       "    </tr>\n",
       "    <tr>\n",
       "      <th>2</th>\n",
       "      <td>Higgs PT cut</td>\n",
       "      <td>0.08963</td>\n",
       "      <td>0.824715</td>\n",
       "    </tr>\n",
       "    <tr>\n",
       "      <th>3</th>\n",
       "      <td>Higgs Eta cut</td>\n",
       "      <td>0.08260</td>\n",
       "      <td>0.921566</td>\n",
       "    </tr>\n",
       "    <tr>\n",
       "      <th>4</th>\n",
       "      <td>Higgs signal</td>\n",
       "      <td>0.04453</td>\n",
       "      <td>0.539104</td>\n",
       "    </tr>\n",
       "    <tr>\n",
       "      <th>5</th>\n",
       "      <td>Top veto</td>\n",
       "      <td>0.04409</td>\n",
       "      <td>0.990119</td>\n",
       "    </tr>\n",
       "  </tbody>\n",
       "</table>\n",
       "</div>"
      ],
      "text/plain": [
       "               Cut  pass rate  efficiency\n",
       "0  Eta PT BTag cut    0.12573    0.125730\n",
       "1          Delta R    0.10868    0.864392\n",
       "2     Higgs PT cut    0.08963    0.824715\n",
       "3    Higgs Eta cut    0.08260    0.921566\n",
       "4     Higgs signal    0.04453    0.539104\n",
       "5         Top veto    0.04409    0.990119"
      ]
     },
     "metadata": {},
     "output_type": "display_data"
    }
   ],
   "source": [
    "display_cutflow_table(count_DHH_s)"
   ]
  },
  {
   "cell_type": "markdown",
   "id": "65f1fac1",
   "metadata": {},
   "source": [
    "#### SPANet"
   ]
  },
  {
   "cell_type": "code",
   "execution_count": 21,
   "id": "ae31d448",
   "metadata": {},
   "outputs": [
    {
     "name": "stderr",
     "output_type": "stream",
     "text": [
      "100%|██████████████████████████████████████████████████████████████████████████████████████████████████████████████████████████████████████| 12573/12573 [00:25<00:00, 484.63it/s]"
     ]
    },
    {
     "name": "stdout",
     "output_type": "stream",
     "text": [
      "pp->H->hh\n",
      "In 12573 events\n",
      "Cross section: 0.6442 fb\n",
      "|eta| < 2.5, PT > 40 GeV for 4 b-jets: 12573 0.080995266\n",
      "Higgs PT: 9756 0.06284815199999999\n",
      "Higgs Eta: 8977 0.057829834\n",
      "Higgs signal region: 4680 0.03014856\n",
      "Top veto: 4632 0.029839343999999997\n"
     ]
    },
    {
     "name": "stderr",
     "output_type": "stream",
     "text": [
      "\n"
     ]
    }
   ],
   "source": [
    "# 13 TeV 100k pp->H->hh b-tagging part: MV2c10 H = 1000 GeV\n",
    "# file_path = '/home/r10222035/Software/MG5_aMC_v3_3_1/CPVDM/proc_ppHhh/Events/run_66_decayed_1/tag_1_delphes_events.root'\n",
    "file_path = '100k_diHiggs_4b_MV2c10_PT40_signal_predict.h5'\n",
    "tot_event = 100000\n",
    "cross_section = 0.6442\n",
    "pairing_method = 'SPANet'\n",
    "count_SPANet_s, xsection_SPANet_s = diHiggs_selection_ATLAS_HDF5(file_path, \n",
    "                                                                  tot_event=tot_event, \n",
    "                                                                  pairing_method=pairing_method, \n",
    "                                                                  xection = cross_section, \n",
    "                                                                  title='pp->H->hh', \n",
    "                                                                  nevent_max=100000)"
   ]
  },
  {
   "cell_type": "code",
   "execution_count": 22,
   "id": "98b70d42",
   "metadata": {
    "scrolled": true
   },
   "outputs": [
    {
     "data": {
      "text/html": [
       "<div>\n",
       "<style scoped>\n",
       "    .dataframe tbody tr th:only-of-type {\n",
       "        vertical-align: middle;\n",
       "    }\n",
       "\n",
       "    .dataframe tbody tr th {\n",
       "        vertical-align: top;\n",
       "    }\n",
       "\n",
       "    .dataframe thead th {\n",
       "        text-align: right;\n",
       "    }\n",
       "</style>\n",
       "<table border=\"1\" class=\"dataframe\">\n",
       "  <thead>\n",
       "    <tr style=\"text-align: right;\">\n",
       "      <th></th>\n",
       "      <th>Cut</th>\n",
       "      <th>pass rate</th>\n",
       "      <th>efficiency</th>\n",
       "    </tr>\n",
       "  </thead>\n",
       "  <tbody>\n",
       "    <tr>\n",
       "      <th>0</th>\n",
       "      <td>Eta PT BTag cut</td>\n",
       "      <td>0.12573</td>\n",
       "      <td>0.125730</td>\n",
       "    </tr>\n",
       "    <tr>\n",
       "      <th>1</th>\n",
       "      <td>Higgs PT cut</td>\n",
       "      <td>0.09756</td>\n",
       "      <td>0.775948</td>\n",
       "    </tr>\n",
       "    <tr>\n",
       "      <th>2</th>\n",
       "      <td>Higgs Eta cut</td>\n",
       "      <td>0.08977</td>\n",
       "      <td>0.920152</td>\n",
       "    </tr>\n",
       "    <tr>\n",
       "      <th>3</th>\n",
       "      <td>Higgs signal</td>\n",
       "      <td>0.04680</td>\n",
       "      <td>0.521332</td>\n",
       "    </tr>\n",
       "    <tr>\n",
       "      <th>4</th>\n",
       "      <td>Top veto</td>\n",
       "      <td>0.04632</td>\n",
       "      <td>0.989744</td>\n",
       "    </tr>\n",
       "  </tbody>\n",
       "</table>\n",
       "</div>"
      ],
      "text/plain": [
       "               Cut  pass rate  efficiency\n",
       "0  Eta PT BTag cut    0.12573    0.125730\n",
       "1     Higgs PT cut    0.09756    0.775948\n",
       "2    Higgs Eta cut    0.08977    0.920152\n",
       "3     Higgs signal    0.04680    0.521332\n",
       "4         Top veto    0.04632    0.989744"
      ]
     },
     "metadata": {},
     "output_type": "display_data"
    }
   ],
   "source": [
    "display_cutflow_table(count_SPANet_s)"
   ]
  },
  {
   "cell_type": "markdown",
   "id": "5653c77c",
   "metadata": {},
   "source": [
    "\n",
    "## Results of  $S/\\sqrt{B}$ "
   ]
  },
  {
   "cell_type": "code",
   "execution_count": 26,
   "id": "bfb1f7ad",
   "metadata": {},
   "outputs": [
    {
     "name": "stdout",
     "output_type": "stream",
     "text": [
      "DHH method\n",
      "                                                       139          300          3000        \n",
      "                Signal       Background   S/B          S/sqrt{B}    S/sqrt{B}    S/sqrt{B}   \n",
      "No cut          0.644        6.29e+05     1.02e-06     0.00958      0.0141       0.0445      \n",
      "Eta PT BTag cut 0.081        6.06e+03     1.34e-05     0.0123       0.018        0.057       \n",
      "Delta R         0.070        3.17e+03     2.21e-05     0.0147       0.0215       0.0681      \n",
      "Higgs PT cut    0.058        2.68e+03     2.15e-05     0.0131       0.0193       0.061       \n",
      "Higgs Eta cut   0.053        1.91e+03     2.78e-05     0.0143       0.0211       0.0666      \n",
      "Higgs signal    0.029        2.97e+02     9.67e-05     0.0196       0.0288       0.0912      \n",
      "Top veto        0.028        2.95e+02     9.63e-05     0.0195       0.0287       0.0906      \n",
      "                                                       139          300          3000        \n",
      "                Signal       Background   S/B          S/sqrt{B}    S/sqrt{B}    S/sqrt{B}   \n",
      "No cut          0.644        2.64e+05     2.44e-06     0.0148       0.0217       0.0687      \n",
      "Eta PT BTag cut 0.081        1.97e+02     0.000411     0.068        0.1          0.316       \n",
      "Delta R         0.070        1.1e+02      0.000635     0.0786       0.116        0.365       \n",
      "Higgs PT cut    0.058        97.5         0.000592     0.0689       0.101        0.32        \n",
      "Higgs Eta cut   0.053        81.7         0.000651     0.0694       0.102        0.322       \n",
      "Higgs signal    0.029        17.7         0.00162      0.0805       0.118        0.374       \n",
      "Top veto        0.028        15.0         0.00189      0.0864       0.127        0.401       \n",
      "                                                       139          300          3000        \n",
      "                Signal       Background   S/B          S/sqrt{B}    S/sqrt{B}    S/sqrt{B}   \n",
      "No cut          0.644        8.92e+05     7.22e-07     0.00804      0.0118       0.0374      \n",
      "Eta PT BTag cut 0.081        6.26e+03     1.29e-05     0.0121       0.0177       0.0561      \n",
      "Delta R         0.070        3.28e+03     2.13e-05     0.0144       0.0212       0.0669      \n",
      "Higgs PT cut    0.058        2.78e+03     2.08e-05     0.0129       0.019        0.06        \n",
      "Higgs Eta cut   0.053        2e+03        2.67e-05     0.014        0.0206       0.0652      \n",
      "Higgs signal    0.029        3.14e+02     9.13e-05     0.0191       0.028        0.0886      \n",
      "Top veto        0.028        3.1e+02      9.17e-05     0.019        0.0279       0.0884      \n",
      "SPANet method\n",
      "                                                       139          300          3000        \n",
      "                Signal       Background   S/B          S/sqrt{B}    S/sqrt{B}    S/sqrt{B}   \n",
      "No cut          0.644        6.29e+05     1.02e-06     0.00958      0.0141       0.0445      \n",
      "Eta PT BTag cut 0.081        6.06e+03     1.34e-05     0.0123       0.018        0.057       \n",
      "Higgs PT cut    0.063        4.07e+03     1.54e-05     0.0116       0.0171       0.054       \n",
      "Higgs Eta cut   0.058        3e+03        1.93e-05     0.0124       0.0183       0.0578      \n",
      "Higgs signal    0.030        52.2         0.000578     0.0492       0.0723       0.229       \n",
      "Top veto        0.030        52.2         0.000572     0.0487       0.0716       0.226       \n",
      "                                                       139          300          3000        \n",
      "                Signal       Background   S/B          S/sqrt{B}    S/sqrt{B}    S/sqrt{B}   \n",
      "No cut          0.644        2.64e+05     2.44e-06     0.0148       0.0217       0.0687      \n",
      "Eta PT BTag cut 0.081        1.97e+02     0.000411     0.068        0.1          0.316       \n",
      "Higgs PT cut    0.063        1.44e+02     0.000435     0.0616       0.0906       0.286       \n",
      "Higgs Eta cut   0.058        1.17e+02     0.000494     0.063        0.0926       0.293       \n",
      "Higgs signal    0.030        7.91         0.00381      0.126        0.186        0.587       \n",
      "Top veto        0.030        7.12         0.00419      0.132        0.194        0.613       \n",
      "                                                       139          300          3000        \n",
      "                Signal       Background   S/B          S/sqrt{B}    S/sqrt{B}    S/sqrt{B}   \n",
      "No cut          0.644        8.92e+05     7.22e-07     0.00804      0.0118       0.0374      \n",
      "Eta PT BTag cut 0.081        6.26e+03     1.29e-05     0.0121       0.0177       0.0561      \n",
      "Higgs PT cut    0.063        4.21e+03     1.49e-05     0.0114       0.0168       0.053       \n",
      "Higgs Eta cut   0.058        3.12e+03     1.85e-05     0.0122       0.0179       0.0567      \n",
      "Higgs signal    0.030        60.1         0.000502     0.0459       0.0674       0.213       \n",
      "Top veto        0.030        59.3         0.000503     0.0457       0.0671       0.212       \n"
     ]
    }
   ],
   "source": [
    "xsection_DHH_b = combine_cross_section(xsection_DHH_4b, xsection_DHH_tt)\n",
    "xsection_SPANet_b = combine_cross_section(xsection_SPANet_4b, xsection_SPANet_tt)\n",
    "\n",
    "print('DHH method')\n",
    "signal_background_table(xsection_DHH_s, xsection_DHH_4b, L = [139, 300, 3000])\n",
    "signal_background_table(xsection_DHH_s, xsection_DHH_tt, L = [139, 300, 3000])\n",
    "signal_background_table(xsection_DHH_s, xsection_DHH_b, L = [139, 300, 3000])\n",
    "print('SPANet method')\n",
    "signal_background_table(xsection_SPANet_s, xsection_SPANet_4b, L = [139, 300, 3000])\n",
    "signal_background_table(xsection_SPANet_s, xsection_SPANet_tt, L = [139, 300, 3000])\n",
    "signal_background_table(xsection_SPANet_s, xsection_SPANet_b, L = [139, 300, 3000])\n"
   ]
  },
  {
   "cell_type": "markdown",
   "id": "ff4f3e09",
   "metadata": {},
   "source": [
    "## Number of events all from Higgs, not all from Higgs, unmatched"
   ]
  },
  {
   "cell_type": "code",
   "execution_count": null,
   "id": "cc7db2d8",
   "metadata": {},
   "outputs": [
    {
     "name": "stderr",
     "output_type": "stream",
     "text": [
      "100%|████████████████████████████████████████████████████████████████████████████████████████████████████████████████████████████████████| 100000/100000 [03:02<00:00, 546.78it/s]"
     ]
    },
    {
     "name": "stdout",
     "output_type": "stream",
     "text": [
      "pp->H->hh\n",
      "In 100000 events\n",
      "Cross section: 0.83648 fb\n",
      "|eta| < 2.5, PT > 40 GeV for 4 b-jets: 13863 0.11596122240000001\n",
      "Total: 13863, All from Higgs: 9348, not all from Higgs: 2536, unknown: 1979\n",
      "Delta R: 10891 0.09110103680000001\n",
      "Total: 10891, All from Higgs: 8961, not all from Higgs: 857, unknown: 1073\n"
     ]
    },
    {
     "name": "stderr",
     "output_type": "stream",
     "text": [
      "\n"
     ]
    }
   ],
   "source": [
    "# 13 TeV 100k pp->H->hh b-tagging efficiency=default H = 1000 GeV\n",
    "# file_path = '/home/r10222035/Software/MG5_aMC_v3_3_1/CPVDM/proc_ppHhh/Events/run_55_decayed_1/tag_1_delphes_events.root'\n",
    "file_path = '100k_diHiggs_0b_default.h5'\n",
    "\n",
    "signal_info_HDF5, dR_HDF5, m4j_HDF5 = diHiggs_selection_ATLAS_HDF5_deltaR(file_path, mass = 1000, xection = 0.83648, title='pp->H->hh', nevent_max=100000)"
   ]
  },
  {
   "cell_type": "code",
   "execution_count": null,
   "id": "0ff903a6",
   "metadata": {},
   "outputs": [
    {
     "name": "stderr",
     "output_type": "stream",
     "text": [
      "100%|████████████████████████████████████████████████████████████████████████████████████████████████████████████████████████████████████| 100000/100000 [02:54<00:00, 574.01it/s]"
     ]
    },
    {
     "name": "stdout",
     "output_type": "stream",
     "text": [
      "pp->H->hh\n",
      "In 100000 events\n",
      "Cross section: 0.83648 fb\n",
      "|eta| < 2.5, PT > 40 GeV for 4 b-jets: 10060 0.08414988799999999\n",
      "Total: 10060, All from Higgs: 6604, not all from Higgs: 1996, unknown: 1460\n",
      "Delta R: 7805 0.065287264\n",
      "Total: 7805, All from Higgs: 6343, not all from Higgs: 672, unknown: 790\n"
     ]
    },
    {
     "name": "stderr",
     "output_type": "stream",
     "text": [
      "\n"
     ]
    }
   ],
   "source": [
    "# 13 TeV 100k pp->H->hh b-tagging part: 0.92*default H = 1000 GeV\n",
    "# file_path = '/home/r10222035/Software/MG5_aMC_v3_3_1/CPVDM/proc_ppHhh/Events/run_65_decayed_1/tag_1_delphes_events.root'\n",
    "file_path = '100k_diHiggs_0b_092default.h5'\n",
    "\n",
    "signal_info_HDF5, dR1_HDF5, m4j_HDF5 = diHiggs_selection_ATLAS_HDF5_deltaR(file_path, mass = 1000, xection = 0.83648, title='pp->H->hh', nevent_max=100000)"
   ]
  },
  {
   "cell_type": "code",
   "execution_count": null,
   "id": "65e0e422",
   "metadata": {},
   "outputs": [
    {
     "name": "stderr",
     "output_type": "stream",
     "text": [
      "100%|████████████████████████████████████████████████████████████████████████████████████████████████████████████████████████████████████| 100000/100000 [02:57<00:00, 564.50it/s]"
     ]
    },
    {
     "name": "stdout",
     "output_type": "stream",
     "text": [
      "pp->H->hh\n",
      "In 100000 events\n",
      "Cross section: 0.83648 fb\n",
      "|eta| < 2.5, PT > 40 GeV for 4 b-jets: 12573 0.1051706304\n",
      "Total: 12573, All from Higgs: 10041, not all from Higgs: 1181, unknown: 1351\n",
      "Delta R: 10868 0.0909086464\n",
      "Total: 10868, All from Higgs: 9635, not all from Higgs: 377, unknown: 856\n"
     ]
    },
    {
     "name": "stderr",
     "output_type": "stream",
     "text": [
      "\n"
     ]
    }
   ],
   "source": [
    "# 13 TeV 100k pp->H->hh b-tagging part: MV2c10 H = 1000 GeV\n",
    "# file_path = '/home/r10222035/Software/MG5_aMC_v3_3_1/CPVDM/proc_ppHhh/Events/run_66_decayed_1/tag_1_delphes_events.root'\n",
    "file_path = '100k_diHiggs_0b_ATLAS.h5'\n",
    "\n",
    "signal_info_HDF5, dR1_HDF5, m4j_HDF5 = diHiggs_selection_ATLAS_HDF5_deltaR(file_path, mass = 1000, xection = 0.83648, title='pp->H->hh', nevent_max=100000)"
   ]
  },
  {
   "cell_type": "markdown",
   "id": "961b9e90",
   "metadata": {},
   "source": [
    "## Number of b-jets"
   ]
  },
  {
   "cell_type": "code",
   "execution_count": null,
   "id": "320ba78d",
   "metadata": {},
   "outputs": [
    {
     "name": "stderr",
     "output_type": "stream",
     "text": [
      "100%|████████████████████████████████████████████████████████████████████████████████████████████████████████████████████████████████████| 100000/100000 [04:58<00:00, 334.55it/s]"
     ]
    },
    {
     "name": "stdout",
     "output_type": "stream",
     "text": [
      "pp->H->hh\n",
      "In 100000 events\n",
      "Cross section: 0.83648 fb\n",
      "|eta| < 2.5, PT > 40 GeV for 4 b-jets: 12574 0.10517899520000001\n"
     ]
    },
    {
     "name": "stderr",
     "output_type": "stream",
     "text": [
      "\n"
     ]
    }
   ],
   "source": [
    "# 13 TeV 100k pp->H->hh b-tagging part: MV2c10 H = 1000 GeV\n",
    "file_path = '/home/r10222035/Software/MG5_aMC_v3_3_1/CPVDM/proc_ppHhh/Events/run_66_decayed_1/tag_1_delphes_events.root'\n",
    "\n",
    "nbj = get_number_of_bjet(file_path, mass = 1000, xection = 0.83648, title='pp->H->hh', nevent_max=100000)"
   ]
  },
  {
   "cell_type": "code",
   "execution_count": null,
   "id": "047ffdde",
   "metadata": {},
   "outputs": [
    {
     "name": "stdout",
     "output_type": "stream",
     "text": [
      "Before Four Tag cut\n",
      "total events: 100000\n",
      "> 4 b-jets: 1063\n",
      "After Four Tag cut\n",
      "total events: 12574\n",
      "> 4 b-jets: 480\n"
     ]
    },
    {
     "data": {
      "image/png": "[encoded data removed]",
      "text/plain": [
       "<Figure size 1008x360 with 2 Axes>"
      ]
     },
     "metadata": {
      "needs_background": "light"
     },
     "output_type": "display_data"
    }
   ],
   "source": [
    "data1 = np.array(nbj[0])\n",
    "data2 = np.array(nbj[1])\n",
    "\n",
    "print('Before Four Tag cut')\n",
    "print(\"total events:\", len(data1))\n",
    "print(\"> 4 b-jets:\", (data1 > 4).sum())\n",
    "print('After Four Tag cut')\n",
    "print(\"total events:\", len(data2))\n",
    "print(\"> 4 b-jets:\", (data2 > 4).sum())\n",
    "\n",
    "# title = \"pp->4b\"\n",
    "\n",
    "fig, ax = plt.subplots(1, 2, figsize=(14,5))\n",
    "\n",
    "ax[0].hist(data1, bins = 20, range=(0, 10))\n",
    "ax[0].set_xlabel('number of b-jets')\n",
    "ax[0].set_ylabel(\"Frequency\")\n",
    "ax[0].set_title('Before Four Tag cut')\n",
    "\n",
    "ax[1].hist(data2, bins = 20, range=(0, 10))\n",
    "ax[1].set_xlabel('number of b-jets')\n",
    "ax[1].set_ylabel(\"Frequency\")\n",
    "ax[1].set_title('After Four Tag cut')\n",
    "\n",
    "# plt.savefig(\"number_of_b-jets.png\", facecolor=\"White\")\n",
    "plt.show()"
   ]
  },
  {
   "cell_type": "markdown",
   "id": "31c85f90",
   "metadata": {},
   "source": [
    "## Higgs delta R"
   ]
  },
  {
   "cell_type": "code",
   "execution_count": 39,
   "id": "d9875a43",
   "metadata": {},
   "outputs": [
    {
     "name": "stderr",
     "output_type": "stream",
     "text": [
      "100%|██████████████████████████████████████████████████████████████████████████████████████████████████████████████████████████████████████| 12573/12573 [00:21<00:00, 594.83it/s]"
     ]
    },
    {
     "name": "stdout",
     "output_type": "stream",
     "text": [
      "pp->H->hh\n",
      "In 12573 events\n",
      "Cross section: 0.6442 fb\n",
      "|eta| < 2.5, PT > 40 GeV for 4 b-jets: 12573 0.080995266\n"
     ]
    },
    {
     "name": "stderr",
     "output_type": "stream",
     "text": [
      "\n"
     ]
    }
   ],
   "source": [
    "# 13 TeV 100k pp->H->hh b-tagging part: MV2c10 H = 1000 GeV\n",
    "# file_path = '/home/r10222035/Software/MG5_aMC_v3_3_1/CPVDM/proc_ppHhh/Events/run_66_decayed_1/tag_1_delphes_events.root'\n",
    "file_path = '/home/r10222035/CPVDM/100k_diHiggs_4b_MV2c10_PT40_signal_predict.h5'\n",
    "tot_event = 100000\n",
    "cross_section = 0.6442\n",
    "pairing_method = 'deltaR_minDHH'\n",
    "dR_s, m4j_s = get_diHiggs_deltaR_m4j_HDF5(file_path, \n",
    "                                  tot_event=tot_event, \n",
    "                                  pairing_method=pairing_method, \n",
    "                                  xection = cross_section, \n",
    "                                  title='pp->H->hh', \n",
    "                                  nevent_max=100000)"
   ]
  },
  {
   "cell_type": "code",
   "execution_count": 40,
   "id": "e7a3f825",
   "metadata": {},
   "outputs": [
    {
     "name": "stderr",
     "output_type": "stream",
     "text": [
      "100%|████████████████████████████████████████████████████████████████████████████████████████████████████████████████████████████████████████| 9642/9642 [00:15<00:00, 604.21it/s]"
     ]
    },
    {
     "name": "stdout",
     "output_type": "stream",
     "text": [
      "pp->4b\n",
      "In 9642 events\n",
      "Cross section: 628589.0502929688 fb\n",
      "|eta| < 2.5, PT > 40 GeV for 4 b-jets: 9642 6060.855622924804\n"
     ]
    },
    {
     "name": "stderr",
     "output_type": "stream",
     "text": [
      "\n"
     ]
    }
   ],
   "source": [
    "# 13 TeV 1M pp->4b b-tagging part: MV2c10 \n",
    "# file_path = '/home/r10222035/Software/MG5_aMC_v3_3_1/CPVDM/pp4b/Events/run_13/...'\n",
    "file_path = '/home/r10222035/CPVDM/1M_diHiggs_4b_MV2c10_PT40_background_predict.h5'\n",
    "tot_event = 1000000\n",
    "cross_section = 628589.0502929688\n",
    "pairing_method = 'deltaR_minDHH'\n",
    "dR_4b, m4j_4b = get_diHiggs_deltaR_m4j_HDF5(file_path, \n",
    "                                  tot_event=tot_event, \n",
    "                                  pairing_method=pairing_method, \n",
    "                                  xection = cross_section, \n",
    "                                  title='pp->4b', \n",
    "                                  nevent_max=100000)"
   ]
  },
  {
   "cell_type": "code",
   "execution_count": 47,
   "id": "42d7379f",
   "metadata": {},
   "outputs": [],
   "source": [
    "def plot_dR_m4j(dR, m4j, title = ''):\n",
    "    \n",
    "    # dR[0] for leading Higgs, dR[1] for sub-leading Higgs\n",
    "\n",
    "    # m4j = m4j_DHH_s\n",
    "    dR1 = dR[0]\n",
    "    dR2 = dR[1]\n",
    "\n",
    "    fig, ax = plt.subplots(1, 2, figsize =(18, 7))\n",
    "\n",
    "    R1_cut1_x = np.linspace(100, 1250, 100)\n",
    "    R1_cut1_y = 653/R1_cut1_x + 0.475\n",
    "    R1_cut1_2_x = np.linspace(1250, 1800, 100)\n",
    "    R1_cut1_2_y = np.ones_like(R1_cut1_2_x)\n",
    "\n",
    "    R1_cut2_x = np.linspace(100, 1250, 100)\n",
    "    R1_cut2_y = 360/R1_cut2_x - 0.5\n",
    "    R1_cut2_2_x = np.linspace(1250, 1800, 100)\n",
    "    R1_cut2_2_y = np.zeros_like(R1_cut2_2_x)\n",
    "\n",
    "    R2_cut1_x = np.linspace(100, 1250, 100)\n",
    "    R2_cut1_y = 875/R2_cut1_x + 0.35\n",
    "    R2_cut1_2_x = np.linspace(1250, 1800, 100)\n",
    "    R2_cut1_2_y = np.ones_like(R1_cut1_2_x)\n",
    "\n",
    "    R2_cut2_x = np.linspace(100, 1250, 100)\n",
    "    R2_cut2_y = 235/R2_cut2_x\n",
    "    R2_cut2_2_x = np.linspace(1250, 1800, 100)\n",
    "    R2_cut2_2_y = np.zeros_like(R1_cut2_2_x)\n",
    "\n",
    "    # Creating plot\n",
    "\n",
    "    hs = ax[0].hist2d(m4j, dR1, bins = [50, 50], range = [[100, 1800], [0, 4.5]],  cmin=1)\n",
    "    ax[0].set_xlabel('M4j (GeV)') \n",
    "    ax[0].set_ylabel('Leading delta R ') \n",
    "    ax[0].set_title(title)\n",
    "    ax[0].plot(R1_cut1_x, R1_cut1_y, color='r')\n",
    "    ax[0].plot(R1_cut2_x, R1_cut2_y, color='r')\n",
    "    ax[0].plot(R1_cut1_2_x, R1_cut1_2_y, color='r')\n",
    "    ax[0].plot(R1_cut2_2_x, R1_cut2_2_y, color='r')\n",
    "    fig.colorbar(hs[3], ax=ax[0])\n",
    "\n",
    "    hs = ax[1].hist2d(m4j, dR2, bins = [50, 50], range = [[100, 1800], [0, 4.5]],  cmin=1)\n",
    "    ax[1].set_xlabel('M4j (GeV)') \n",
    "    ax[1].set_ylabel('Sub-leading delta R') \n",
    "    ax[1].set_title(title)\n",
    "    ax[1].plot(R2_cut1_x, R2_cut1_y, color='r')\n",
    "    ax[1].plot(R2_cut2_x, R2_cut2_y, color='r')\n",
    "    ax[1].plot(R2_cut1_2_x, R2_cut1_2_y, color='r')\n",
    "    ax[1].plot(R2_cut2_2_x, R2_cut2_2_y, color='r')\n",
    "    fig.colorbar(hs[3], ax=ax[1])\n",
    "\n",
    "    plt.show()"
   ]
  },
  {
   "cell_type": "code",
   "execution_count": 48,
   "id": "a4a6bc04",
   "metadata": {},
   "outputs": [
    {
     "data": {
      "image/png": "[encoded data removed]",
      "text/plain": [
       "<Figure size 1296x504 with 4 Axes>"
      ]
     },
     "metadata": {
      "needs_background": "light"
     },
     "output_type": "display_data"
    },
    {
     "data": {
      "image/png": "[encoded data removed]",
      "text/plain": [
       "<Figure size 1296x504 with 4 Axes>"
      ]
     },
     "metadata": {
      "needs_background": "light"
     },
     "output_type": "display_data"
    }
   ],
   "source": [
    "plot_dR_m4j(dR = dR_s, m4j=m4j_s, title = 'Signal')\n",
    "plot_dR_m4j(dR = dR_4b, m4j=m4j_4b, title = 'pp4b')"
   ]
  },
  {
   "cell_type": "markdown",
   "id": "454352e5",
   "metadata": {},
   "source": [
    "## Higgs candidate PT"
   ]
  },
  {
   "cell_type": "code",
   "execution_count": null,
   "id": "86c4b0da",
   "metadata": {},
   "outputs": [
    {
     "name": "stderr",
     "output_type": "stream",
     "text": [
      "100%|██████████████████████████████████████████████████████████████████████████████████████████████████████████████████████████████████████| 12573/12573 [00:21<00:00, 583.04it/s]"
     ]
    },
    {
     "name": "stdout",
     "output_type": "stream",
     "text": [
      "pp->H->hh\n",
      "In 12573 events\n",
      "Cross section: 0.6442 fb\n",
      "|eta| < 2.5, PT > 40 GeV for 4 b-jets: 12573 0.080995266\n",
      "Delta R: 10868 0.070011656\n",
      "Higgs PT: 8963 0.057739646\n"
     ]
    },
    {
     "name": "stderr",
     "output_type": "stream",
     "text": [
      "\n"
     ]
    }
   ],
   "source": [
    "# 13 TeV 100k pp->H->hh b-tagging part: MV2c10 H = 1000 GeV\n",
    "# file_path = '/home/r10222035/Software/MG5_aMC_v3_3_1/CPVDM/proc_ppHhh/Events/run_66_decayed_1/tag_1_delphes_events.root'\n",
    "file_path = '/home/r10222035/CPVDM/100k_diHiggs_4b_MV2c10_PT40_signal_predict.h5'\n",
    "tot_event = 100000\n",
    "cross_section = 0.6442\n",
    "pairing_method = 'deltaR_minDHH'\n",
    "pt_DHH_s, m4j_DHH_s = get_diHiggs_PT_m4j_HDF5(file_path, \n",
    "                                  tot_event=tot_event, \n",
    "                                  pairing_method=pairing_method, \n",
    "                                  xection = cross_section, \n",
    "                                  title='pp->H->hh', \n",
    "                                  nevent_max=100000)"
   ]
  },
  {
   "cell_type": "code",
   "execution_count": null,
   "id": "80f44605",
   "metadata": {},
   "outputs": [
    {
     "name": "stderr",
     "output_type": "stream",
     "text": [
      "100%|████████████████████████████████████████████████████████████████████████████████████████████████████████████████████████████████████████| 9642/9642 [00:16<00:00, 589.81it/s]"
     ]
    },
    {
     "name": "stdout",
     "output_type": "stream",
     "text": [
      "pp->4b\n",
      "In 9642 events\n",
      "Cross section: 628589.0502929688 fb\n",
      "|eta| < 2.5, PT > 40 GeV for 4 b-jets: 9642 6060.855622924804\n",
      "Delta R: 5047 3172.488936828613\n",
      "Higgs PT: 4271 2684.7038338012694\n"
     ]
    },
    {
     "name": "stderr",
     "output_type": "stream",
     "text": [
      "\n"
     ]
    }
   ],
   "source": [
    "# 13 TeV 1M pp->4b b-tagging part: MV2c10 \n",
    "# file_path = '/home/r10222035/Software/MG5_aMC_v3_3_1/CPVDM/pp4b/Events/run_13/...'\n",
    "file_path = '/home/r10222035/CPVDM/1M_diHiggs_4b_MV2c10_PT40_background_predict.h5'\n",
    "tot_event = 1000000\n",
    "cross_section = 628589.0502929688\n",
    "pairing_method = 'deltaR_minDHH'\n",
    "pt_DHH_4b, m4j_DHH_4b = get_diHiggs_PT_m4j_HDF5(file_path, \n",
    "                                  tot_event=tot_event, \n",
    "                                  pairing_method=pairing_method, \n",
    "                                  xection = cross_section, \n",
    "                                  title='pp->4b', \n",
    "                                  nevent_max=100000)"
   ]
  },
  {
   "cell_type": "code",
   "execution_count": null,
   "id": "55085dd6",
   "metadata": {},
   "outputs": [
    {
     "name": "stderr",
     "output_type": "stream",
     "text": [
      "100%|██████████████████████████████████████████████████████████████████████████████████████████████████████████████████████████████████████| 12573/12573 [00:24<00:00, 516.25it/s]"
     ]
    },
    {
     "name": "stdout",
     "output_type": "stream",
     "text": [
      "pp->H->hh\n",
      "In 12573 events\n",
      "Cross section: 0.6442 fb\n",
      "|eta| < 2.5, PT > 40 GeV for 4 b-jets: 12573 0.080995266\n",
      "Delta R: 12573 0.080995266\n",
      "Higgs PT: 9756 0.06284815199999999\n"
     ]
    },
    {
     "name": "stderr",
     "output_type": "stream",
     "text": [
      "\n"
     ]
    }
   ],
   "source": [
    "# 13 TeV 100k pp->H->hh b-tagging part: MV2c10 H = 1000 GeV\n",
    "# file_path = '/home/r10222035/Software/MG5_aMC_v3_3_1/CPVDM/proc_ppHhh/Events/run_66_decayed_1/tag_1_delphes_events.root'\n",
    "file_path = '/home/r10222035/CPVDM/100k_diHiggs_4b_MV2c10_PT40_signal_predict.h5'\n",
    "tot_event = 100000\n",
    "cross_section = 0.6442\n",
    "pairing_method = 'SPANet'\n",
    "pt_SPANet_s, m4j_SPANet_s = get_diHiggs_PT_m4j_HDF5(file_path, \n",
    "                                  tot_event=tot_event, \n",
    "                                  pairing_method=pairing_method, \n",
    "                                  xection = cross_section, \n",
    "                                  title='pp->H->hh', \n",
    "                                  nevent_max=100000)"
   ]
  },
  {
   "cell_type": "code",
   "execution_count": null,
   "id": "db592cbf",
   "metadata": {},
   "outputs": [
    {
     "name": "stderr",
     "output_type": "stream",
     "text": [
      "100%|████████████████████████████████████████████████████████████████████████████████████████████████████████████████████████████████████████| 9642/9642 [00:18<00:00, 516.40it/s]"
     ]
    },
    {
     "name": "stdout",
     "output_type": "stream",
     "text": [
      "pp->4b\n",
      "In 9642 events\n",
      "Cross section: 628589.0502929688 fb\n",
      "|eta| < 2.5, PT > 40 GeV for 4 b-jets: 9642 6060.855622924804\n",
      "Delta R: 9642 6060.855622924804\n",
      "Higgs PT: 6474 4069.4855115966793\n"
     ]
    },
    {
     "name": "stderr",
     "output_type": "stream",
     "text": [
      "\n"
     ]
    }
   ],
   "source": [
    "# 13 TeV 1M pp->4b b-tagging part: MV2c10 \n",
    "# file_path = '/home/r10222035/Software/MG5_aMC_v3_3_1/CPVDM/pp4b/Events/run_13/...'\n",
    "file_path = '/home/r10222035/CPVDM/1M_diHiggs_4b_MV2c10_PT40_background_predict.h5'\n",
    "tot_event = 1000000\n",
    "cross_section = 628589.0502929688\n",
    "pairing_method = 'SPANet'\n",
    "pt_SPANet_4b, m4j_SPANet_4b = get_diHiggs_PT_m4j_HDF5(file_path, \n",
    "                                  tot_event=tot_event, \n",
    "                                  pairing_method=pairing_method, \n",
    "                                  xection = cross_section, \n",
    "                                  title='pp->4b', \n",
    "                                  nevent_max=100000)"
   ]
  },
  {
   "cell_type": "markdown",
   "id": "3f839ff4",
   "metadata": {},
   "source": [
    "### Plot"
   ]
  },
  {
   "cell_type": "code",
   "execution_count": null,
   "id": "05479600",
   "metadata": {},
   "outputs": [],
   "source": [
    "def plot_PT_m4j(pt, m4j, title = ''):\n",
    "    \n",
    "    # pt[0] for leading Higgs, pt[1] for sub-leading Higgs\n",
    "\n",
    "    # m4j = m4j_DHH_s\n",
    "    pt1 = pt[0]\n",
    "    pt2 = pt[1]\n",
    "\n",
    "    fig, ax = plt.subplots(1, 2, figsize =(18, 7))\n",
    "\n",
    "    # delta = 1\n",
    "    x = np.linspace(0,2000,10)\n",
    "    y1 = 0.5 * x - 103\n",
    "    y2 = 0.33 * x - 73\n",
    "\n",
    "    # Creating plot\n",
    "\n",
    "\n",
    "    hs = ax[0].hist2d(m4j, pt1, bins = [50, 50], range = [[100, 1600], [0, 1000]],  cmin=1)\n",
    "    ax[0].set_xlabel('M4j (GeV)') \n",
    "    ax[0].set_ylabel('PT1 (GeV)') \n",
    "    ax[0].set_title(title)\n",
    "    ax[0].plot(x, y1, color='r')\n",
    "    fig.colorbar(hs[3], ax=ax[0])\n",
    "\n",
    "    hs = ax[1].hist2d(m4j, pt2, bins = [50, 50], range = [[100, 1600], [0, 1000]],  cmin=1)\n",
    "    ax[1].set_xlabel('M4j (GeV)') \n",
    "    ax[1].set_ylabel('PT2 (GeV)') \n",
    "    ax[1].set_title(title)\n",
    "    ax[1].plot(x, y2, color='r')\n",
    "    fig.colorbar(hs[3], ax=ax[1])\n",
    "\n",
    "    plt.show()"
   ]
  },
  {
   "cell_type": "code",
   "execution_count": null,
   "id": "98c8557b",
   "metadata": {},
   "outputs": [
    {
     "data": {
      "image/png": "[encoded data removed]",
      "text/plain": [
       "<Figure size 1296x504 with 4 Axes>"
      ]
     },
     "metadata": {
      "needs_background": "light"
     },
     "output_type": "display_data"
    },
    {
     "data": {
      "image/png": "[encoded data removed]",
      "text/plain": [
       "<Figure size 1296x504 with 4 Axes>"
      ]
     },
     "metadata": {
      "needs_background": "light"
     },
     "output_type": "display_data"
    }
   ],
   "source": [
    "plot_PT_m4j(pt = pt_DHH_s, m4j=m4j_DHH_s, title='Signal DHH')\n",
    "plot_PT_m4j(pt = pt_DHH_4b, m4j=m4j_DHH_4b, title='pp4b DHH')"
   ]
  },
  {
   "cell_type": "code",
   "execution_count": null,
   "id": "596ac127",
   "metadata": {},
   "outputs": [
    {
     "data": {
      "image/png": "[encoded data removed]",
      "text/plain": [
       "<Figure size 1296x504 with 4 Axes>"
      ]
     },
     "metadata": {
      "needs_background": "light"
     },
     "output_type": "display_data"
    },
    {
     "data": {
      "image/png": "[encoded data removed]",
      "text/plain": [
       "<Figure size 1296x504 with 4 Axes>"
      ]
     },
     "metadata": {
      "needs_background": "light"
     },
     "output_type": "display_data"
    }
   ],
   "source": [
    "plot_PT_m4j(pt = pt_SPANet_s, m4j=m4j_SPANet_s, title='Signal SPANet')\n",
    "plot_PT_m4j(pt = pt_SPANet_4b, m4j=m4j_SPANet_4b, title='pp4b SPANet')"
   ]
  },
  {
   "cell_type": "markdown",
   "id": "c47bc420",
   "metadata": {},
   "source": [
    "## Higgs candidate Delta Eta"
   ]
  },
  {
   "cell_type": "code",
   "execution_count": 77,
   "id": "969370ad",
   "metadata": {},
   "outputs": [
    {
     "name": "stderr",
     "output_type": "stream",
     "text": [
      "100%|██████████████████████████████████████████████████████████████████████████████████████████████████████████████████████████████████████| 12573/12573 [00:21<00:00, 583.18it/s]"
     ]
    },
    {
     "name": "stdout",
     "output_type": "stream",
     "text": [
      "pp->H->hh\n",
      "In 12573 events\n",
      "Cross section: 0.6442 fb\n",
      "|eta| < 2.5, PT > 40 GeV for 4 b-jets: 12573 0.080995266\n",
      "Delta R: 10868 0.070011656\n",
      "Higgs PT: 8963 0.057739646\n",
      "Higgs Eta: 8260 0.05321092\n"
     ]
    },
    {
     "name": "stderr",
     "output_type": "stream",
     "text": [
      "\n"
     ]
    }
   ],
   "source": [
    "# 13 TeV 100k pp->H->hh b-tagging part: MV2c10 H = 1000 GeV\n",
    "# file_path = '/home/r10222035/Software/MG5_aMC_v3_3_1/CPVDM/proc_ppHhh/Events/run_66_decayed_1/tag_1_delphes_events.root'\n",
    "file_path = '/home/r10222035/CPVDM/100k_diHiggs_4b_MV2c10_PT40_signal_predict.h5'\n",
    "tot_event = 100000\n",
    "cross_section = 0.6442\n",
    "pairing_method = 'deltaR_minDHH'\n",
    "dEta_DHH_s = get_diHiggs_dEta_HDF5(file_path, \n",
    "                                  tot_event=tot_event, \n",
    "                                  pairing_method=pairing_method, \n",
    "                                  xection = cross_section, \n",
    "                                  title='pp->H->hh', \n",
    "                                  nevent_max=100000)"
   ]
  },
  {
   "cell_type": "code",
   "execution_count": 90,
   "id": "fa45d353",
   "metadata": {},
   "outputs": [
    {
     "name": "stderr",
     "output_type": "stream",
     "text": [
      "100%|████████████████████████████████████████████████████████████████████████████████████████████████████████████████████████████████████████| 9642/9642 [00:16<00:00, 594.12it/s]"
     ]
    },
    {
     "name": "stdout",
     "output_type": "stream",
     "text": [
      "pp->4b\n",
      "In 9642 events\n",
      "Cross section: 628589.0502929688 fb\n",
      "|eta| < 2.5, PT > 40 GeV for 4 b-jets: 9642 6060.855622924804\n",
      "Delta R: 5047 3172.488936828613\n",
      "Higgs PT: 4271 2684.7038338012694\n",
      "Higgs Eta: 3044 1913.4250690917968\n"
     ]
    },
    {
     "name": "stderr",
     "output_type": "stream",
     "text": [
      "\n"
     ]
    }
   ],
   "source": [
    "# 13 TeV 1M pp->4b b-tagging part: MV2c10 \n",
    "# file_path = '/home/r10222035/Software/MG5_aMC_v3_3_1/CPVDM/pp4b/Events/run_13/...'\n",
    "file_path = '/home/r10222035/CPVDM/1M_diHiggs_4b_MV2c10_PT40_background_predict.h5'\n",
    "tot_event = 1000000\n",
    "cross_section = 628589.0502929688\n",
    "pairing_method = 'deltaR_minDHH'\n",
    "dEta_DHH_4b = get_diHiggs_dEta_HDF5(file_path, \n",
    "                                  tot_event=tot_event, \n",
    "                                  pairing_method=pairing_method, \n",
    "                                  xection = cross_section, \n",
    "                                  title='pp->4b', \n",
    "                                  nevent_max=100000)"
   ]
  },
  {
   "cell_type": "code",
   "execution_count": 106,
   "id": "9dc73692",
   "metadata": {},
   "outputs": [
    {
     "name": "stderr",
     "output_type": "stream",
     "text": [
      "100%|██████████████████████████████████████████████████████████████████████████████████████████████████████████████████████████████████████| 12573/12573 [00:24<00:00, 506.91it/s]"
     ]
    },
    {
     "name": "stdout",
     "output_type": "stream",
     "text": [
      "pp->H->hh\n",
      "In 12573 events\n",
      "Cross section: 0.6442 fb\n",
      "|eta| < 2.5, PT > 40 GeV for 4 b-jets: 12573 0.080995266\n",
      "Delta R: 12573 0.080995266\n",
      "Higgs PT: 9756 0.06284815199999999\n",
      "Higgs Eta: 8977 0.057829834\n"
     ]
    },
    {
     "name": "stderr",
     "output_type": "stream",
     "text": [
      "\n"
     ]
    }
   ],
   "source": [
    "# 13 TeV 100k pp->H->hh b-tagging part: MV2c10 H = 1000 GeV\n",
    "# file_path = '/home/r10222035/Software/MG5_aMC_v3_3_1/CPVDM/proc_ppHhh/Events/run_66_decayed_1/tag_1_delphes_events.root'\n",
    "file_path = '/home/r10222035/CPVDM/100k_diHiggs_4b_MV2c10_PT40_signal_predict.h5'\n",
    "tot_event = 100000\n",
    "cross_section = 0.6442\n",
    "pairing_method = 'SPANet'\n",
    "dEta_SPANet_s = get_diHiggs_dEta_HDF5(file_path, \n",
    "                                  tot_event=tot_event, \n",
    "                                  pairing_method=pairing_method, \n",
    "                                  xection = cross_section, \n",
    "                                  title='pp->H->hh', \n",
    "                                  nevent_max=100000)"
   ]
  },
  {
   "cell_type": "code",
   "execution_count": 107,
   "id": "bf27ae12",
   "metadata": {},
   "outputs": [
    {
     "name": "stderr",
     "output_type": "stream",
     "text": [
      "100%|████████████████████████████████████████████████████████████████████████████████████████████████████████████████████████████████████████| 9642/9642 [00:19<00:00, 502.21it/s]"
     ]
    },
    {
     "name": "stdout",
     "output_type": "stream",
     "text": [
      "pp->4b\n",
      "In 9642 events\n",
      "Cross section: 628589.0502929688 fb\n",
      "|eta| < 2.5, PT > 40 GeV for 4 b-jets: 9642 6060.855622924804\n",
      "Delta R: 9642 6060.855622924804\n",
      "Higgs PT: 6474 4069.4855115966793\n",
      "Higgs Eta: 4778 3003.3984822998045\n"
     ]
    },
    {
     "name": "stderr",
     "output_type": "stream",
     "text": [
      "\n"
     ]
    }
   ],
   "source": [
    "# 13 TeV 1M pp->4b b-tagging part: MV2c10 \n",
    "# file_path = '/home/r10222035/Software/MG5_aMC_v3_3_1/CPVDM/pp4b/Events/run_13/...'\n",
    "file_path = '/home/r10222035/CPVDM/1M_diHiggs_4b_MV2c10_PT40_background_predict.h5'\n",
    "tot_event = 1000000\n",
    "cross_section = 628589.0502929688\n",
    "pairing_method = 'SPANet'\n",
    "dEta_SPANet_4b = get_diHiggs_dEta_HDF5(file_path, \n",
    "                                  tot_event=tot_event, \n",
    "                                  pairing_method=pairing_method, \n",
    "                                  xection = cross_section, \n",
    "                                  title='pp->4b', \n",
    "                                  nevent_max=100000)"
   ]
  },
  {
   "cell_type": "code",
   "execution_count": 104,
   "id": "969b9d4c",
   "metadata": {},
   "outputs": [],
   "source": [
    "def plot_dEta(dEta, title=''):\n",
    "    fig, ax = plt.subplots(1, 1, figsize =(8, 7))\n",
    "\n",
    "    ax.hist(dEta, bins=50, range=[0,3.5],  histtype='step')\n",
    "    ax.set_xlabel('Delta Eta')\n",
    "    ax.set_ylabel('Numbers')\n",
    "    ax.set_title(title)\n",
    "\n",
    "    plt.show()"
   ]
  },
  {
   "cell_type": "code",
   "execution_count": 105,
   "id": "edb72cbf",
   "metadata": {},
   "outputs": [
    {
     "data": {
      "image/png": "[encoded data removed]",
      "text/plain": [
       "<Figure size 576x504 with 1 Axes>"
      ]
     },
     "metadata": {
      "needs_background": "light"
     },
     "output_type": "display_data"
    },
    {
     "data": {
      "image/png": "[encoded data removed]",
      "text/plain": [
       "<Figure size 576x504 with 1 Axes>"
      ]
     },
     "metadata": {
      "needs_background": "light"
     },
     "output_type": "display_data"
    }
   ],
   "source": [
    "plot_dEta(dEta_DHH_s, title='Signal DHH')\n",
    "plot_dEta(dEta_DHH_4b, title='pp4b DHH')"
   ]
  },
  {
   "cell_type": "code",
   "execution_count": 108,
   "id": "c6ca7db6",
   "metadata": {},
   "outputs": [
    {
     "data": {
      "image/png": "[encoded data removed]",
      "text/plain": [
       "<Figure size 576x504 with 1 Axes>"
      ]
     },
     "metadata": {
      "needs_background": "light"
     },
     "output_type": "display_data"
    },
    {
     "data": {
      "image/png": "[encoded data removed]",
      "text/plain": [
       "<Figure size 576x504 with 1 Axes>"
      ]
     },
     "metadata": {
      "needs_background": "light"
     },
     "output_type": "display_data"
    }
   ],
   "source": [
    "plot_dEta(dEta_SPANet_s, title='Signal SPANet')\n",
    "plot_dEta(dEta_SPANet_4b, title='pp4b SPANet')"
   ]
  },
  {
   "cell_type": "markdown",
   "id": "b24d9656",
   "metadata": {},
   "source": [
    "## Higgs candidate mass "
   ]
  },
  {
   "cell_type": "markdown",
   "id": "9361397f",
   "metadata": {},
   "source": [
    "### Signal"
   ]
  },
  {
   "cell_type": "code",
   "execution_count": 30,
   "id": "2451f2de",
   "metadata": {},
   "outputs": [
    {
     "name": "stderr",
     "output_type": "stream",
     "text": [
      "100%|██████████████████████████████████████████████████████████████████████████████████████████████████████████████████████████████████████| 12573/12573 [00:22<00:00, 563.97it/s]"
     ]
    },
    {
     "name": "stdout",
     "output_type": "stream",
     "text": [
      "pp->H->hh\n",
      "In 12573 events\n",
      "Cross section: 0.6442 fb\n",
      "|eta| < 2.5, PT > 40 GeV for 4 b-jets: 12573 0.080995266\n",
      "Delta R: 10868 0.070011656\n",
      "Higgs PT: 8963 0.057739646\n",
      "Higgs Eta: 8260 0.05321092\n",
      "Higgs signal region: 4453 0.028686226\n"
     ]
    },
    {
     "name": "stderr",
     "output_type": "stream",
     "text": [
      "\n"
     ]
    }
   ],
   "source": [
    "# 13 TeV 100k pp->H->hh b-tagging part: MV2c10 H = 1000 GeV\n",
    "# file_path = '/home/r10222035/Software/MG5_aMC_v3_3_1/CPVDM/proc_ppHhh/Events/run_66_decayed_1/tag_1_delphes_events.root'\n",
    "file_path = '100k_diHiggs_4b_MV2c10_PT40_signal_predict.h5'\n",
    "tot_event = 100000\n",
    "cross_section = 0.6442\n",
    "pairing_method = 'deltaR_minDHH'\n",
    "mh_DHH_s = get_diHiggs_mass_HDF5(file_path, \n",
    "                                  tot_event=tot_event, \n",
    "                                  pairing_method=pairing_method, \n",
    "                                  xection = cross_section, \n",
    "                                  title='pp->H->hh', \n",
    "                                  nevent_max=100000)"
   ]
  },
  {
   "cell_type": "code",
   "execution_count": 31,
   "id": "c0f5dae7",
   "metadata": {},
   "outputs": [
    {
     "name": "stderr",
     "output_type": "stream",
     "text": [
      "100%|██████████████████████████████████████████████████████████████████████████████████████████████████████████████████████████████████████| 12573/12573 [00:26<00:00, 477.40it/s]"
     ]
    },
    {
     "name": "stdout",
     "output_type": "stream",
     "text": [
      "pp->H->hh\n",
      "In 12573 events\n",
      "Cross section: 0.6442 fb\n",
      "|eta| < 2.5, PT > 40 GeV for 4 b-jets: 12573 0.080995266\n",
      "Delta R: 12573 0.080995266\n",
      "Higgs PT: 9756 0.06284815199999999\n",
      "Higgs Eta: 8977 0.057829834\n",
      "Higgs signal region: 4680 0.03014856\n"
     ]
    },
    {
     "name": "stderr",
     "output_type": "stream",
     "text": [
      "\n"
     ]
    }
   ],
   "source": [
    "# 13 TeV 100k pp->H->hh b-tagging part: MV2c10 H = 1000 GeV\n",
    "# file_path = '/home/r10222035/Software/MG5_aMC_v3_3_1/CPVDM/proc_ppHhh/Events/run_66_decayed_1/tag_1_delphes_events.root'\n",
    "file_path = '100k_diHiggs_4b_MV2c10_PT40_signal_predict.h5'\n",
    "tot_event = 100000\n",
    "cross_section = 0.6442\n",
    "pairing_method = 'SPANet'\n",
    "mh_SPANet_s = get_diHiggs_mass_HDF5(file_path, \n",
    "                                  tot_event=tot_event, \n",
    "                                  pairing_method=pairing_method, \n",
    "                                  xection = cross_section, \n",
    "                                  title='pp->H->hh', \n",
    "                                  nevent_max=100000)"
   ]
  },
  {
   "cell_type": "markdown",
   "id": "f7dcd2cd",
   "metadata": {},
   "source": [
    "### Background "
   ]
  },
  {
   "cell_type": "code",
   "execution_count": 32,
   "id": "6bc34c42",
   "metadata": {},
   "outputs": [
    {
     "name": "stderr",
     "output_type": "stream",
     "text": [
      "100%|████████████████████████████████████████████████████████████████████████████████████████████████████████████████████████████████████████| 9642/9642 [00:16<00:00, 585.17it/s]"
     ]
    },
    {
     "name": "stdout",
     "output_type": "stream",
     "text": [
      "pp->4b\n",
      "In 9642 events\n",
      "Cross section: 628589.0502929688 fb\n",
      "|eta| < 2.5, PT > 40 GeV for 4 b-jets: 9642 6060.855622924804\n",
      "Delta R: 5047 3172.488936828613\n",
      "Higgs PT: 4271 2684.7038338012694\n",
      "Higgs Eta: 3044 1913.4250690917968\n",
      "Higgs signal region: 472 296.69403173828124\n"
     ]
    },
    {
     "name": "stderr",
     "output_type": "stream",
     "text": [
      "\n"
     ]
    }
   ],
   "source": [
    "# 13 TeV 1M pp->4b b-tagging part: MV2c10 \n",
    "# file_path = '/home/r10222035/Software/MG5_aMC_v3_3_1/CPVDM/pp4b/Events/run_13/...'\n",
    "file_path = '1M_diHiggs_4b_MV2c10_PT40_background_predict.h5'\n",
    "tot_event = 1000000\n",
    "cross_section = 628589.0502929688\n",
    "pairing_method = 'deltaR_minDHH'\n",
    "mh_DHH_4b = get_diHiggs_mass_HDF5(file_path, \n",
    "                                  tot_event=tot_event, \n",
    "                                  pairing_method=pairing_method, \n",
    "                                  xection = cross_section, \n",
    "                                  title='pp->4b', \n",
    "                                  nevent_max=100000)"
   ]
  },
  {
   "cell_type": "code",
   "execution_count": 33,
   "id": "faae38ec",
   "metadata": {},
   "outputs": [
    {
     "name": "stderr",
     "output_type": "stream",
     "text": [
      "100%|████████████████████████████████████████████████████████████████████████████████████████████████████████████████████████████████████████| 9642/9642 [00:20<00:00, 480.44it/s]"
     ]
    },
    {
     "name": "stdout",
     "output_type": "stream",
     "text": [
      "pp->H->hh\n",
      "In 9642 events\n",
      "Cross section: 628589.0502929688 fb\n",
      "|eta| < 2.5, PT > 40 GeV for 4 b-jets: 9642 6060.855622924804\n",
      "Delta R: 9642 6060.855622924804\n",
      "Higgs PT: 6474 4069.4855115966793\n",
      "Higgs Eta: 4778 3003.3984822998045\n",
      "Higgs signal region: 83 52.1728911743164\n"
     ]
    },
    {
     "name": "stderr",
     "output_type": "stream",
     "text": [
      "\n"
     ]
    }
   ],
   "source": [
    "# 13 TeV 1M pp->4b b-tagging part: MV2c10 \n",
    "# file_path = '/home/r10222035/Software/MG5_aMC_v3_3_1/CPVDM/pp4b/Events/run_13/...'\n",
    "file_path = '1M_diHiggs_4b_MV2c10_PT40_background_predict.h5'\n",
    "tot_event = 1000000\n",
    "cross_section = 628589.0502929688\n",
    "pairing_method = 'SPANet'\n",
    "mh_SPANet_4b = get_diHiggs_mass_HDF5(file_path, \n",
    "                                  tot_event=tot_event, \n",
    "                                  pairing_method=pairing_method, \n",
    "                                  xection = cross_section, \n",
    "                                  title='pp->H->hh', \n",
    "                                  nevent_max=100000)"
   ]
  },
  {
   "cell_type": "markdown",
   "id": "c4d309e6",
   "metadata": {},
   "source": [
    "### Mass plane"
   ]
  },
  {
   "cell_type": "code",
   "execution_count": 34,
   "id": "a5cde480",
   "metadata": {},
   "outputs": [],
   "source": [
    "def plot_mass_plane(mh, title=''):\n",
    "    # mh[0] for leading Higgs, mh[1] for sub-leading Higgs\n",
    "    \n",
    "    x_1 = mh[0]\n",
    "    y_1 = mh[1]\n",
    "\n",
    "    fig, ax = plt.subplots(1, 2, figsize =(18, 7))\n",
    "\n",
    "    delta = 1\n",
    "    xrange = np.arange(1, 250, delta)\n",
    "    yrange = np.arange(1, 250, delta)\n",
    "    X, Y = np.meshgrid(xrange,yrange)\n",
    "    # F is one side of the equation, G is the other\n",
    "    F = ((X-120)/(0.1*X))**2\n",
    "    G = -((Y-110)/(0.1*Y))**2 + 1.6**2\n",
    "    ax[0].contour((F - G), [0], colors='y')\n",
    "\n",
    "    # Creating plot\n",
    "    hs = ax[0].hist2d(x_1, y_1, bins = [50, 50], range = [[50, 250], [50, 250]], cmin=1)\n",
    "    ax[0].set_xlabel('MH1 (GeV)') \n",
    "    ax[0].set_ylabel('MH2 (GeV)') \n",
    "    ax[0].set_title(title)\n",
    "    fig.colorbar(hs[3], ax=ax[0])\n",
    "\n",
    "\n",
    "    ax[1].hist(x_1, bins=50, range=[0,200], histtype='step', label='Higgs leading')\n",
    "    ax[1].hist(y_1, bins=50, range=[0,200], histtype='step', label='Higgs sub-leading')\n",
    "    ax[1].set_xlabel('Higgs mass (GeV)')\n",
    "    ax[1].set_ylabel('Numbers')\n",
    "    ax[1].legend()\n",
    "    ax[1].set_title(title)\n",
    "\n",
    "    plt.show()"
   ]
  },
  {
   "cell_type": "code",
   "execution_count": 35,
   "id": "c68dbd90",
   "metadata": {},
   "outputs": [
    {
     "data": {
      "image/png": "[encoded data removed]",
      "text/plain": [
       "<Figure size 1296x504 with 3 Axes>"
      ]
     },
     "metadata": {
      "needs_background": "light"
     },
     "output_type": "display_data"
    },
    {
     "data": {
      "image/png": "[encoded data removed]",
      "text/plain": [
       "<Figure size 1296x504 with 3 Axes>"
      ]
     },
     "metadata": {
      "needs_background": "light"
     },
     "output_type": "display_data"
    }
   ],
   "source": [
    "# 13 TeV 100k pp->H->hh b-tagging part: MV2c10 H = 1000 GeV\n",
    "plot_mass_plane(mh_DHH_s, title = 'Signal DHH')\n",
    "\n",
    "# 13 TeV 100k pp->4b b-tagging part: MV2c10\n",
    "plot_mass_plane(mh_DHH_4b, title = 'pp4b DHH')"
   ]
  },
  {
   "cell_type": "code",
   "execution_count": 36,
   "id": "dd7a7727",
   "metadata": {},
   "outputs": [
    {
     "data": {
      "image/png": "[encoded data removed]",
      "text/plain": [
       "<Figure size 1296x504 with 3 Axes>"
      ]
     },
     "metadata": {
      "needs_background": "light"
     },
     "output_type": "display_data"
    },
    {
     "data": {
      "image/png": "[encoded data removed]",
      "text/plain": [
       "<Figure size 1296x504 with 3 Axes>"
      ]
     },
     "metadata": {
      "needs_background": "light"
     },
     "output_type": "display_data"
    }
   ],
   "source": [
    "# 13 TeV 100k pp->H->hh b-tagging part: MV2c10 H = 1000 GeV\n",
    "plot_mass_plane(mh_SPANet_s, title = 'Signal SPANet')\n",
    "\n",
    "# 13 TeV 100k pp->4b b-tagging part: MV2c10\n",
    "plot_mass_plane(mh_SPANet_4b, title = 'pp4b SPANet')"
   ]
  }
 ],
 "metadata": {
  "kernelspec": {
   "display_name": "Python 3 (ipykernel)",
   "language": "python",
   "name": "python3"
  },
  "language_info": {
   "codemirror_mode": {
    "name": "ipython",
    "version": 3
   },
   "file_extension": ".py",
   "mimetype": "text/x-python",
   "name": "python",
   "nbconvert_exporter": "python",
   "pygments_lexer": "ipython3",
   "version": "3.8.13"
  }
 },
 "nbformat": 4,
 "nbformat_minor": 5
}
