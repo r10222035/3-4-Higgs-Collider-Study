{
 "cells": [
  {
   "cell_type": "code",
   "execution_count": 1,
   "id": "1f7bd8e7",
   "metadata": {},
   "outputs": [],
   "source": [
    "import pylhe\n",
    "import math"
   ]
  },
  {
   "cell_type": "code",
   "execution_count": 2,
   "id": "5d71839d",
   "metadata": {},
   "outputs": [],
   "source": [
    "def PT(px, py):\n",
    "    return math.sqrt(px*px+py*py)\n",
    "def Eta(px, py, pz):\n",
    "    p = math.sqrt(px*px+py*py+pz*pz)  \n",
    "    return math.atanh(pz/p)\n",
    "def M(px, py, pz, e):\n",
    "    p = math.sqrt(px*px+py*py+pz*pz)  \n",
    "    return math.sqrt(e*e - (px*px+py*py+pz*pz))"
   ]
  },
  {
   "cell_type": "markdown",
   "id": "08dd11c9",
   "metadata": {},
   "source": [
    "## 13 TeV "
   ]
  },
  {
   "cell_type": "code",
   "execution_count": 5,
   "id": "0bb52770",
   "metadata": {},
   "outputs": [],
   "source": [
    "def abs_cross_section(lhe_path):\n",
    "\n",
    "    lhe_file = pylhe.readLHE(lhe_path)\n",
    "\n",
    "    event_list = []\n",
    "\n",
    "    for event in lhe_file:        \n",
    "        event_list.append(event)\n",
    "        \n",
    "    print(\"total events: {} \".format(len(event_list)))\n",
    "\n",
    "    count = 0\n",
    "    # selection conditions\n",
    "    pt_min, eta_max = 20, 3\n",
    "\n",
    "    for event in event_list:\n",
    "        flag = True\n",
    "        for particle in event.particles:\n",
    "            if particle.id == 5 or particle.id == -5:\n",
    "                px = particle.px\n",
    "                py = particle.py\n",
    "                pz = particle.pz\n",
    "\n",
    "                pt = PT(px, py)\n",
    "                eta = Eta(px, py, pz)\n",
    "\n",
    "                if not(pt > pt_min and abs(eta) < eta_max): \n",
    "                    flag = False\n",
    "                    break\n",
    "\n",
    "        if flag: count += 1\n",
    "    print(\"events pass selection:\", count)\n",
    "    efficiency = count/len(event_list)\n",
    "    print(\"efficiency:\", efficiency)\n",
    "    print(\"cross section:\", event_list[0].eventinfo.weight)\n",
    "    print(\"absolute cross section:\", event_list[0].eventinfo.weight * efficiency)\n",
    "    print(\"& {} & {} & {} & {}\".format(len(event_list), event_list[0].eventinfo.weight, count, event_list[0].eventinfo.weight * efficiency))"
   ]
  },
  {
   "cell_type": "code",
   "execution_count": 6,
   "id": "5a24cfe4",
   "metadata": {},
   "outputs": [
    {
     "name": "stdout",
     "output_type": "stream",
     "text": [
      "total events: 339 \n",
      "events pass selection: 0\n",
      "efficiency: 0.0\n",
      "cross section: 2731.9362\n",
      "absolute cross section: 0.0\n",
      "& 339 & 2731.9362 & 0 & 0.0\n"
     ]
    }
   ],
   "source": [
    "# pp->6b ptb = 0 etab = -1\n",
    "lhe_path = '/home/r10222035/Software/MG5_aMC_v3_3_1/CPVDM/ppbbbbbb/Events/run_01/unweighted_events.lhe.gz'\n",
    "\n",
    "abs_cross_section(lhe_path)"
   ]
  },
  {
   "cell_type": "code",
   "execution_count": 7,
   "id": "a2ed2a15",
   "metadata": {},
   "outputs": [
    {
     "name": "stdout",
     "output_type": "stream",
     "text": [
      "total events: 4761 \n",
      "events pass selection: 190\n",
      "efficiency: 0.039907582440663725\n",
      "cross section: 71.316651\n",
      "absolute cross section: 2.846075129174543\n",
      "& 4761 & 71.316651 & 190 & 2.846075129174543\n"
     ]
    }
   ],
   "source": [
    "# pp->6b ptb = 10 etab = 5\n",
    "lhe_path = '/home/r10222035/Software/MG5_aMC_v3_3_1/CPVDM/ppbbbbbb/Events/run_02/unweighted_events.lhe.gz'\n",
    "\n",
    "abs_cross_section(lhe_path)"
   ]
  },
  {
   "cell_type": "code",
   "execution_count": 8,
   "id": "f0cd7d5e",
   "metadata": {},
   "outputs": [
    {
     "name": "stdout",
     "output_type": "stream",
     "text": [
      "total events: 9054 \n",
      "events pass selection: 694\n",
      "efficiency: 0.0766512038877844\n",
      "cross section: 35.225852\n",
      "absolute cross section: 2.7001039637729183\n",
      "& 9054 & 35.225852 & 694 & 2.7001039637729183\n"
     ]
    }
   ],
   "source": [
    "# pp->6b ptb = 10 etab = 3\n",
    "lhe_path = '/home/r10222035/Software/MG5_aMC_v3_3_1/CPVDM/ppbbbbbb/Events/run_03/unweighted_events.lhe.gz'\n",
    "\n",
    "abs_cross_section(lhe_path)"
   ]
  },
  {
   "cell_type": "code",
   "execution_count": 9,
   "id": "554d0b64",
   "metadata": {},
   "outputs": [
    {
     "name": "stdout",
     "output_type": "stream",
     "text": [
      "total events: 4207 \n",
      "events pass selection: 4183\n",
      "efficiency: 0.9942952222486332\n",
      "cross section: 2.7698473\n",
      "absolute cross section: 2.7540459367482764\n",
      "& 4207 & 2.7698473 & 4183 & 2.7540459367482764\n"
     ]
    }
   ],
   "source": [
    "# pp->6b ptb = 20 etab = 3\n",
    "lhe_path = '/home/r10222035/Software/MG5_aMC_v3_3_1/CPVDM/ppbbbbbb/Events/run_04/unweighted_events.lhe.gz'\n",
    "\n",
    "abs_cross_section(lhe_path)"
   ]
  },
  {
   "cell_type": "code",
   "execution_count": 10,
   "id": "63d3cbca",
   "metadata": {},
   "outputs": [
    {
     "name": "stdout",
     "output_type": "stream",
     "text": [
      "total events: 1000 \n",
      "events pass selection: 0\n",
      "efficiency: 0.0\n",
      "cross section: 2531.9304\n",
      "absolute cross section: 0.0\n",
      "& 1000 & 2531.9304 & 0 & 0.0\n"
     ]
    }
   ],
   "source": [
    "# pp->6b ptb = 0 etab = -1 \n",
    "lhe_path = '/home/r10222035/Software/MG5_aMC_v3_3_1/CPVDM/ppbbbbbb_1000/Events/run_01/unweighted_events.lhe.gz'\n",
    "\n",
    "abs_cross_section(lhe_path)"
   ]
  },
  {
   "cell_type": "code",
   "execution_count": 13,
   "id": "a3ae4308",
   "metadata": {},
   "outputs": [
    {
     "name": "stdout",
     "output_type": "stream",
     "text": [
      "total events: 1000 \n",
      "events pass selection: 27\n",
      "efficiency: 0.027\n",
      "cross section: 70.158431\n",
      "absolute cross section: 1.8942776369999998\n",
      "& 1000 & 70.158431 & 27 & 1.8942776369999998\n"
     ]
    }
   ],
   "source": [
    "# pp->6b ptb = 10 etab = -1\n",
    "lhe_path = '/home/r10222035/Software/MG5_aMC_v3_3_1/CPVDM/ppbbbbbb_1000_2/Events/run_01/unweighted_events.lhe.gz'\n",
    "\n",
    "abs_cross_section(lhe_path)"
   ]
  },
  {
   "cell_type": "markdown",
   "id": "995c9093",
   "metadata": {},
   "source": [
    "## 14 TeV "
   ]
  },
  {
   "cell_type": "code",
   "execution_count": 11,
   "id": "a64c2965",
   "metadata": {},
   "outputs": [],
   "source": [
    "def abs_cross_section_mm(lhe_path):\n",
    "    lhe_file = pylhe.readLHE(lhe_path)\n",
    "\n",
    "    event_list = []\n",
    "\n",
    "    for event in lhe_file:        \n",
    "        event_list.append(event)\n",
    "\n",
    "    print(\"total events: {} \".format(len(event_list)))\n",
    "\n",
    "    count = 0\n",
    "    # selection conditions\n",
    "    pt_min, eta_max, mmbb_min = 25, 2.5, 20\n",
    "\n",
    "    for event in event_list:\n",
    "        flag = True\n",
    "        particles = [[p.px, p.py, p.pz, p.e] for p in event.particles if abs(p.id)==5]\n",
    "        for i in range(len(particles)):\n",
    "            for j in range(i+1,len(particles)):\n",
    "                px1, py1, pz1, e1 = particles[i]\n",
    "                px2, py2, pz2, e2 = particles[j]\n",
    "\n",
    "                m = M(px1 + px2, py1 + py2, pz1 + pz2, e1 + e2)\n",
    "                if m < mmbb_min:\n",
    "                    flag = False\n",
    "                    break\n",
    "            if not flag: break\n",
    "\n",
    "        for particle in event.particles:\n",
    "            if particle.id == 5 or particle.id == -5:\n",
    "                px = particle.px\n",
    "                py = particle.py\n",
    "                pz = particle.pz\n",
    "\n",
    "                pt = PT(px, py)\n",
    "                eta = Eta(px, py, pz)\n",
    "\n",
    "                if not(pt > pt_min and abs(eta) < eta_max): \n",
    "                    flag = False\n",
    "                    break\n",
    "\n",
    "        if flag: count += 1\n",
    "    print(\"events pass selection:\", count)\n",
    "    efficiency = count/len(event_list)\n",
    "    print(\"efficiency:\", efficiency)\n",
    "    print(\"cross section:\", event_list[0].eventinfo.weight)\n",
    "    print(\"absolute cross section:\", event_list[0].eventinfo.weight * efficiency)"
   ]
  },
  {
   "cell_type": "code",
   "execution_count": 12,
   "id": "f7f39b16",
   "metadata": {},
   "outputs": [
    {
     "name": "stdout",
     "output_type": "stream",
     "text": [
      "total events: 10000 \n",
      "events pass selection: 2964\n",
      "efficiency: 0.2964\n",
      "cross section: 0.90360871\n",
      "absolute cross section: 0.267829621644\n"
     ]
    }
   ],
   "source": [
    "# pp->6b ptb = 25 etab = 2.5 mmbb = -1\n",
    "lhe_path = '/home/r10222035/Software/MG5_aMC_v3_3_1/CPVDM/ppbbbbbb/Events/run_05/unweighted_events.lhe.gz'\n",
    "\n",
    "abs_cross_section_mm(lhe_path)"
   ]
  },
  {
   "cell_type": "code",
   "execution_count": 13,
   "id": "2a06e52c",
   "metadata": {},
   "outputs": [
    {
     "name": "stdout",
     "output_type": "stream",
     "text": [
      "total events: 10000 \n",
      "events pass selection: 9949\n",
      "efficiency: 0.9949\n",
      "cross section: 0.27532242\n",
      "absolute cross section: 0.27391827565800003\n"
     ]
    }
   ],
   "source": [
    "# pp->6b ptb = 25 etab = 2.5 mmbb = 20\n",
    "lhe_path = '/home/r10222035/Software/MG5_aMC_v3_3_1/CPVDM/ppbbbbbb/Events/run_06/unweighted_events.lhe.gz'\n",
    "\n",
    "abs_cross_section_mm(lhe_path)"
   ]
  }
 ],
 "metadata": {
  "kernelspec": {
   "display_name": "Python 3 (ipykernel)",
   "language": "python",
   "name": "python3"
  },
  "language_info": {
   "codemirror_mode": {
    "name": "ipython",
    "version": 3
   },
   "file_extension": ".py",
   "mimetype": "text/x-python",
   "name": "python",
   "nbconvert_exporter": "python",
   "pygments_lexer": "ipython3",
   "version": "3.9.7"
  }
 },
 "nbformat": 4,
 "nbformat_minor": 5
}
