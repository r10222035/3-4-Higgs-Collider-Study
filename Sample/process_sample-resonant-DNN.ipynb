{
 "cells": [
  {
   "cell_type": "code",
   "execution_count": 1,
   "metadata": {},
   "outputs": [],
   "source": [
    "def from_h5_to_npy(true_file, predict_file, output_path, pairing_method):\n",
    "    cmd = f'python from_h5_to_npy.py {true_file} {predict_file} {output_path} {pairing_method}'\n",
    "    print(cmd)"
   ]
  },
  {
   "cell_type": "markdown",
   "metadata": {},
   "source": [
    "1. 利用已生成的 .h5 檔，生成DNN的訓練資料\n",
    "- 分別利用 $\\text{min-}\\Delta R$ 與 SPANet 配對方法來計算高階物理量"
   ]
  },
  {
   "cell_type": "markdown",
   "metadata": {},
   "source": [
    "# 1. DNN with high-level physical observables"
   ]
  },
  {
   "cell_type": "markdown",
   "metadata": {},
   "source": [
    "## SPANet pairing"
   ]
  },
  {
   "cell_type": "code",
   "execution_count": 2,
   "metadata": {},
   "outputs": [
    {
     "name": "stdout",
     "output_type": "stream",
     "text": [
      "python from_h5_to_npy.py /home/r10222035/SPANet2/data/diHiggs/500k_diHiggs_4b_PT40_resonant_mix_class_train.h5 /home/r10222035/SPANet2/data/diHiggs/500k_diHiggs_4b_PT40_resonant_mix_class_train-predict.h5 ../DNN-resonant/DNN_sample/SPANet_high_level_train.npy SPANET\n",
      "python from_h5_to_npy.py /home/r10222035/SPANet2/data/diHiggs/500k_diHiggs_4b_PT40_resonant_mix_class_test.h5 /home/r10222035/SPANet2/data/diHiggs/500k_diHiggs_4b_PT40_resonant_mix_class_test-predict.h5 ../DNN-resonant/DNN_sample/SPANet_high_level_test.npy SPANET\n"
     ]
    }
   ],
   "source": [
    "# Datasets for training DNN model\n",
    "pairing_method = 'SPANET'\n",
    "true_file = f'/home/r10222035/SPANet2/data/diHiggs/500k_diHiggs_4b_PT40_resonant_mix_class_train.h5'\n",
    "predict_file = f'/home/r10222035/SPANet2/data/diHiggs/500k_diHiggs_4b_PT40_resonant_mix_class_train-predict.h5' \n",
    "output_path = f'../DNN-resonant/DNN_sample/SPANet_high_level_train.npy'\n",
    "from_h5_to_npy(true_file, predict_file, output_path, pairing_method)\n",
    "\n",
    "true_file = f'/home/r10222035/SPANet2/data/diHiggs/500k_diHiggs_4b_PT40_resonant_mix_class_test.h5'\n",
    "predict_file = f'/home/r10222035/SPANet2/data/diHiggs/500k_diHiggs_4b_PT40_resonant_mix_class_test-predict.h5' \n",
    "output_path = f'../DNN-resonant/DNN_sample/SPANet_high_level_test.npy'\n",
    "from_h5_to_npy(true_file, predict_file, output_path, pairing_method)"
   ]
  },
  {
   "cell_type": "code",
   "execution_count": 3,
   "metadata": {},
   "outputs": [
    {
     "name": "stdout",
     "output_type": "stream",
     "text": [
      "python from_h5_to_npy.py ../Sample/THDM-testing/Parameter_Scanning/MG5/proc_ppHhh_300GeV/Events/h5_data/DiHiggs_4b_PT40.h5 ../Sample/THDM-testing/Parameter_Scanning/MG5/proc_ppHhh_300GeV/Events/h5_data/DiHiggs_4b_PT40-cls-predict.h5 ../Sample/THDM-testing/Parameter_Scanning/MG5/proc_ppHhh_300GeV/Events/h5_data/SPANet_high_level.npy SPANET\n",
      "python from_h5_to_npy.py ../Sample/THDM-testing/Parameter_Scanning/MG5/proc_ppHhh_400GeV/Events/h5_data/DiHiggs_4b_PT40.h5 ../Sample/THDM-testing/Parameter_Scanning/MG5/proc_ppHhh_400GeV/Events/h5_data/DiHiggs_4b_PT40-cls-predict.h5 ../Sample/THDM-testing/Parameter_Scanning/MG5/proc_ppHhh_400GeV/Events/h5_data/SPANet_high_level.npy SPANET\n",
      "python from_h5_to_npy.py ../Sample/THDM-testing/Parameter_Scanning/MG5/proc_ppHhh_500GeV/Events/h5_data/DiHiggs_4b_PT40.h5 ../Sample/THDM-testing/Parameter_Scanning/MG5/proc_ppHhh_500GeV/Events/h5_data/DiHiggs_4b_PT40-cls-predict.h5 ../Sample/THDM-testing/Parameter_Scanning/MG5/proc_ppHhh_500GeV/Events/h5_data/SPANet_high_level.npy SPANET\n",
      "python from_h5_to_npy.py ../Sample/THDM-testing/Parameter_Scanning/MG5/proc_ppHhh_600GeV/Events/h5_data/DiHiggs_4b_PT40.h5 ../Sample/THDM-testing/Parameter_Scanning/MG5/proc_ppHhh_600GeV/Events/h5_data/DiHiggs_4b_PT40-cls-predict.h5 ../Sample/THDM-testing/Parameter_Scanning/MG5/proc_ppHhh_600GeV/Events/h5_data/SPANet_high_level.npy SPANET\n",
      "python from_h5_to_npy.py ../Sample/THDM-testing/Parameter_Scanning/MG5/proc_ppHhh_700GeV/Events/h5_data/DiHiggs_4b_PT40.h5 ../Sample/THDM-testing/Parameter_Scanning/MG5/proc_ppHhh_700GeV/Events/h5_data/DiHiggs_4b_PT40-cls-predict.h5 ../Sample/THDM-testing/Parameter_Scanning/MG5/proc_ppHhh_700GeV/Events/h5_data/SPANet_high_level.npy SPANET\n",
      "python from_h5_to_npy.py ../Sample/THDM-testing/Parameter_Scanning/MG5/proc_ppHhh_800GeV/Events/h5_data/DiHiggs_4b_PT40.h5 ../Sample/THDM-testing/Parameter_Scanning/MG5/proc_ppHhh_800GeV/Events/h5_data/DiHiggs_4b_PT40-cls-predict.h5 ../Sample/THDM-testing/Parameter_Scanning/MG5/proc_ppHhh_800GeV/Events/h5_data/SPANet_high_level.npy SPANET\n",
      "python from_h5_to_npy.py ../Sample/THDM-testing/Parameter_Scanning/MG5/proc_ppHhh_900GeV/Events/h5_data/DiHiggs_4b_PT40.h5 ../Sample/THDM-testing/Parameter_Scanning/MG5/proc_ppHhh_900GeV/Events/h5_data/DiHiggs_4b_PT40-cls-predict.h5 ../Sample/THDM-testing/Parameter_Scanning/MG5/proc_ppHhh_900GeV/Events/h5_data/SPANet_high_level.npy SPANET\n",
      "python from_h5_to_npy.py ../Sample/THDM-testing/Parameter_Scanning/MG5/proc_ppHhh_1000GeV/Events/h5_data/DiHiggs_4b_PT40.h5 ../Sample/THDM-testing/Parameter_Scanning/MG5/proc_ppHhh_1000GeV/Events/h5_data/DiHiggs_4b_PT40-cls-predict.h5 ../Sample/THDM-testing/Parameter_Scanning/MG5/proc_ppHhh_1000GeV/Events/h5_data/SPANet_high_level.npy SPANET\n",
      "python from_h5_to_npy.py ../Sample/THDM-testing/Parameter_Scanning/MG5/proc_ppHhh_1100GeV/Events/h5_data/DiHiggs_4b_PT40.h5 ../Sample/THDM-testing/Parameter_Scanning/MG5/proc_ppHhh_1100GeV/Events/h5_data/DiHiggs_4b_PT40-cls-predict.h5 ../Sample/THDM-testing/Parameter_Scanning/MG5/proc_ppHhh_1100GeV/Events/h5_data/SPANet_high_level.npy SPANET\n",
      "python from_h5_to_npy.py ../Sample/THDM-testing/Parameter_Scanning/MG5/proc_ppHhh_1200GeV/Events/h5_data/DiHiggs_4b_PT40.h5 ../Sample/THDM-testing/Parameter_Scanning/MG5/proc_ppHhh_1200GeV/Events/h5_data/DiHiggs_4b_PT40-cls-predict.h5 ../Sample/THDM-testing/Parameter_Scanning/MG5/proc_ppHhh_1200GeV/Events/h5_data/SPANet_high_level.npy SPANET\n",
      "python from_h5_to_npy.py /home/r10222035/CPVDM/h5_data/1M_diHiggs_4b_PT40_pp4b_SPANET2.h5 /home/r10222035/CPVDM/h5_data/1M_diHiggs_4b_PT40_pp4b_SPANET2-mix-resonant-cls-predict.h5 /home/r10222035/CPVDM/h5_data/1M_diHiggs_4b_PT40_pp4b_SPANet_high_level.npy SPANET\n",
      "python from_h5_to_npy.py /home/r10222035/CPVDM/h5_data/1M_diHiggs_4b_PT40_pptt_SPANET2.h5 /home/r10222035/CPVDM/h5_data/1M_diHiggs_4b_PT40_pptt_SPANET2-mix-resonant-cls-predict.h5 /home/r10222035/CPVDM/h5_data/1M_diHiggs_4b_PT40_pptt_SPANet_high_level.npy SPANET\n"
     ]
    }
   ],
   "source": [
    "# Datasets for analysis\n",
    "pairing_method = 'SPANET'\n",
    "for m in range(300, 1201, 100):\n",
    "    true_file = f'../Sample/THDM-testing/Parameter_Scanning/MG5/proc_ppHhh_{m}GeV/Events/h5_data/DiHiggs_4b_PT40.h5'\n",
    "    predict_file = f'../Sample/THDM-testing/Parameter_Scanning/MG5/proc_ppHhh_{m}GeV/Events/h5_data/DiHiggs_4b_PT40-cls-predict.h5'\n",
    "    output_path = f'../Sample/THDM-testing/Parameter_Scanning/MG5/proc_ppHhh_{m}GeV/Events/h5_data/SPANet_high_level.npy'\n",
    "\n",
    "    from_h5_to_npy(true_file, predict_file, output_path, pairing_method)\n",
    "\n",
    "true_file = f'/home/r10222035/CPVDM/h5_data/1M_diHiggs_4b_PT40_pp4b_SPANET2.h5'\n",
    "predict_file = f'/home/r10222035/CPVDM/h5_data/1M_diHiggs_4b_PT40_pp4b_SPANET2-mix-resonant-cls-predict.h5' \n",
    "output_path = f'/home/r10222035/CPVDM/h5_data/1M_diHiggs_4b_PT40_pp4b_SPANet_high_level.npy' \n",
    "\n",
    "from_h5_to_npy(true_file, predict_file, output_path, pairing_method)\n",
    "\n",
    "true_file = f'/home/r10222035/CPVDM/h5_data/1M_diHiggs_4b_PT40_pptt_SPANET2.h5'\n",
    "predict_file = f'/home/r10222035/CPVDM/h5_data/1M_diHiggs_4b_PT40_pptt_SPANET2-mix-resonant-cls-predict.h5'\n",
    "output_path = f'/home/r10222035/CPVDM/h5_data/1M_diHiggs_4b_PT40_pptt_SPANet_high_level.npy'\n",
    "\n",
    "from_h5_to_npy(true_file, predict_file, output_path, pairing_method)"
   ]
  },
  {
   "cell_type": "code",
   "execution_count": 4,
   "metadata": {},
   "outputs": [
    {
     "name": "stdout",
     "output_type": "stream",
     "text": [
      "python from_h5_to_npy.py /home/r10222035/CPVDM/3-4-Higgs-Collider-Study/Sample/h5_data/resonant/pp4b/13M_DiHiggs_4b_PT40.h5 /home/r10222035/CPVDM/3-4-Higgs-Collider-Study/Sample/h5_data/resonant/pp4b/13M_DiHiggs_4b_PT40-cls-predict.h5 /home/r10222035/CPVDM/3-4-Higgs-Collider-Study/Sample/h5_data/resonant/pp4b/SPANet_high_level.npy SPANET\n"
     ]
    }
   ],
   "source": [
    "# More pp4b samples for analysis\n",
    "pairing_method = 'SPANET'\n",
    "\n",
    "true_file = f'/home/r10222035/CPVDM/3-4-Higgs-Collider-Study/Sample/h5_data/resonant/pp4b/13M_DiHiggs_4b_PT40.h5'\n",
    "predict_file = f'/home/r10222035/CPVDM/3-4-Higgs-Collider-Study/Sample/h5_data/resonant/pp4b/13M_DiHiggs_4b_PT40-cls-predict.h5'\n",
    "output_path = f'/home/r10222035/CPVDM/3-4-Higgs-Collider-Study/Sample/h5_data/resonant/pp4b/SPANet_high_level.npy'\n",
    "\n",
    "from_h5_to_npy(true_file, predict_file, output_path, pairing_method)"
   ]
  },
  {
   "cell_type": "markdown",
   "metadata": {},
   "source": [
    "## $\\text{min-}\\Delta R$ pairing"
   ]
  },
  {
   "cell_type": "code",
   "execution_count": 5,
   "metadata": {},
   "outputs": [
    {
     "name": "stdout",
     "output_type": "stream",
     "text": [
      "python from_h5_to_npy.py /home/r10222035/SPANet2/data/diHiggs/500k_diHiggs_4b_PT40_resonant_mix_class_train.h5 /home/r10222035/SPANet2/data/diHiggs/500k_diHiggs_4b_PT40_resonant_mix_class_train-predict.h5 ../DNN-resonant/DNN_sample/min_dR_high_level_train.npy min_dR\n",
      "python from_h5_to_npy.py /home/r10222035/SPANet2/data/diHiggs/500k_diHiggs_4b_PT40_resonant_mix_class_test.h5 /home/r10222035/SPANet2/data/diHiggs/500k_diHiggs_4b_PT40_resonant_mix_class_test-predict.h5 ../DNN-resonant/DNN_sample/min_dR_high_level_test.npy min_dR\n"
     ]
    }
   ],
   "source": [
    "# Datasets for training DNN model\n",
    "pairing_method = 'min_dR'\n",
    "\n",
    "true_file = f'/home/r10222035/SPANet2/data/diHiggs/500k_diHiggs_4b_PT40_resonant_mix_class_train.h5'\n",
    "predict_file = f'/home/r10222035/SPANet2/data/diHiggs/500k_diHiggs_4b_PT40_resonant_mix_class_train-predict.h5' \n",
    "output_path = f'../DNN-resonant/DNN_sample/{pairing_method}_high_level_train.npy'\n",
    "from_h5_to_npy(true_file, predict_file, output_path, pairing_method)\n",
    "\n",
    "true_file = f'/home/r10222035/SPANet2/data/diHiggs/500k_diHiggs_4b_PT40_resonant_mix_class_test.h5'\n",
    "predict_file = f'/home/r10222035/SPANet2/data/diHiggs/500k_diHiggs_4b_PT40_resonant_mix_class_test-predict.h5' \n",
    "output_path = f'../DNN-resonant/DNN_sample/{pairing_method}_high_level_test.npy'\n",
    "from_h5_to_npy(true_file, predict_file, output_path, pairing_method)"
   ]
  },
  {
   "cell_type": "code",
   "execution_count": 6,
   "metadata": {},
   "outputs": [
    {
     "name": "stdout",
     "output_type": "stream",
     "text": [
      "python from_h5_to_npy.py /home/r10222035/CPVDM/3-4-Higgs-Collider-Study/Sample/THDM-testing/Parameter_Scanning/MG5/proc_ppHhh_300GeV/Events/h5_data/DiHiggs_4b_PT40.h5 /home/r10222035/CPVDM/3-4-Higgs-Collider-Study/Sample/THDM-testing/Parameter_Scanning/MG5/proc_ppHhh_300GeV/Events/h5_data/DiHiggs_4b_PT40-cls-predict.h5 /home/r10222035/CPVDM/3-4-Higgs-Collider-Study/Sample/THDM-testing/Parameter_Scanning/MG5/proc_ppHhh_300GeV/Events/h5_data/min_dR_high_level.npy min_dR\n",
      "python from_h5_to_npy.py /home/r10222035/CPVDM/3-4-Higgs-Collider-Study/Sample/THDM-testing/Parameter_Scanning/MG5/proc_ppHhh_400GeV/Events/h5_data/DiHiggs_4b_PT40.h5 /home/r10222035/CPVDM/3-4-Higgs-Collider-Study/Sample/THDM-testing/Parameter_Scanning/MG5/proc_ppHhh_400GeV/Events/h5_data/DiHiggs_4b_PT40-cls-predict.h5 /home/r10222035/CPVDM/3-4-Higgs-Collider-Study/Sample/THDM-testing/Parameter_Scanning/MG5/proc_ppHhh_400GeV/Events/h5_data/min_dR_high_level.npy min_dR\n",
      "python from_h5_to_npy.py /home/r10222035/CPVDM/3-4-Higgs-Collider-Study/Sample/THDM-testing/Parameter_Scanning/MG5/proc_ppHhh_500GeV/Events/h5_data/DiHiggs_4b_PT40.h5 /home/r10222035/CPVDM/3-4-Higgs-Collider-Study/Sample/THDM-testing/Parameter_Scanning/MG5/proc_ppHhh_500GeV/Events/h5_data/DiHiggs_4b_PT40-cls-predict.h5 /home/r10222035/CPVDM/3-4-Higgs-Collider-Study/Sample/THDM-testing/Parameter_Scanning/MG5/proc_ppHhh_500GeV/Events/h5_data/min_dR_high_level.npy min_dR\n",
      "python from_h5_to_npy.py /home/r10222035/CPVDM/3-4-Higgs-Collider-Study/Sample/THDM-testing/Parameter_Scanning/MG5/proc_ppHhh_600GeV/Events/h5_data/DiHiggs_4b_PT40.h5 /home/r10222035/CPVDM/3-4-Higgs-Collider-Study/Sample/THDM-testing/Parameter_Scanning/MG5/proc_ppHhh_600GeV/Events/h5_data/DiHiggs_4b_PT40-cls-predict.h5 /home/r10222035/CPVDM/3-4-Higgs-Collider-Study/Sample/THDM-testing/Parameter_Scanning/MG5/proc_ppHhh_600GeV/Events/h5_data/min_dR_high_level.npy min_dR\n",
      "python from_h5_to_npy.py /home/r10222035/CPVDM/3-4-Higgs-Collider-Study/Sample/THDM-testing/Parameter_Scanning/MG5/proc_ppHhh_700GeV/Events/h5_data/DiHiggs_4b_PT40.h5 /home/r10222035/CPVDM/3-4-Higgs-Collider-Study/Sample/THDM-testing/Parameter_Scanning/MG5/proc_ppHhh_700GeV/Events/h5_data/DiHiggs_4b_PT40-cls-predict.h5 /home/r10222035/CPVDM/3-4-Higgs-Collider-Study/Sample/THDM-testing/Parameter_Scanning/MG5/proc_ppHhh_700GeV/Events/h5_data/min_dR_high_level.npy min_dR\n",
      "python from_h5_to_npy.py /home/r10222035/CPVDM/3-4-Higgs-Collider-Study/Sample/THDM-testing/Parameter_Scanning/MG5/proc_ppHhh_800GeV/Events/h5_data/DiHiggs_4b_PT40.h5 /home/r10222035/CPVDM/3-4-Higgs-Collider-Study/Sample/THDM-testing/Parameter_Scanning/MG5/proc_ppHhh_800GeV/Events/h5_data/DiHiggs_4b_PT40-cls-predict.h5 /home/r10222035/CPVDM/3-4-Higgs-Collider-Study/Sample/THDM-testing/Parameter_Scanning/MG5/proc_ppHhh_800GeV/Events/h5_data/min_dR_high_level.npy min_dR\n",
      "python from_h5_to_npy.py /home/r10222035/CPVDM/3-4-Higgs-Collider-Study/Sample/THDM-testing/Parameter_Scanning/MG5/proc_ppHhh_900GeV/Events/h5_data/DiHiggs_4b_PT40.h5 /home/r10222035/CPVDM/3-4-Higgs-Collider-Study/Sample/THDM-testing/Parameter_Scanning/MG5/proc_ppHhh_900GeV/Events/h5_data/DiHiggs_4b_PT40-cls-predict.h5 /home/r10222035/CPVDM/3-4-Higgs-Collider-Study/Sample/THDM-testing/Parameter_Scanning/MG5/proc_ppHhh_900GeV/Events/h5_data/min_dR_high_level.npy min_dR\n",
      "python from_h5_to_npy.py /home/r10222035/CPVDM/3-4-Higgs-Collider-Study/Sample/THDM-testing/Parameter_Scanning/MG5/proc_ppHhh_1000GeV/Events/h5_data/DiHiggs_4b_PT40.h5 /home/r10222035/CPVDM/3-4-Higgs-Collider-Study/Sample/THDM-testing/Parameter_Scanning/MG5/proc_ppHhh_1000GeV/Events/h5_data/DiHiggs_4b_PT40-cls-predict.h5 /home/r10222035/CPVDM/3-4-Higgs-Collider-Study/Sample/THDM-testing/Parameter_Scanning/MG5/proc_ppHhh_1000GeV/Events/h5_data/min_dR_high_level.npy min_dR\n",
      "python from_h5_to_npy.py /home/r10222035/CPVDM/3-4-Higgs-Collider-Study/Sample/THDM-testing/Parameter_Scanning/MG5/proc_ppHhh_1100GeV/Events/h5_data/DiHiggs_4b_PT40.h5 /home/r10222035/CPVDM/3-4-Higgs-Collider-Study/Sample/THDM-testing/Parameter_Scanning/MG5/proc_ppHhh_1100GeV/Events/h5_data/DiHiggs_4b_PT40-cls-predict.h5 /home/r10222035/CPVDM/3-4-Higgs-Collider-Study/Sample/THDM-testing/Parameter_Scanning/MG5/proc_ppHhh_1100GeV/Events/h5_data/min_dR_high_level.npy min_dR\n",
      "python from_h5_to_npy.py /home/r10222035/CPVDM/3-4-Higgs-Collider-Study/Sample/THDM-testing/Parameter_Scanning/MG5/proc_ppHhh_1200GeV/Events/h5_data/DiHiggs_4b_PT40.h5 /home/r10222035/CPVDM/3-4-Higgs-Collider-Study/Sample/THDM-testing/Parameter_Scanning/MG5/proc_ppHhh_1200GeV/Events/h5_data/DiHiggs_4b_PT40-cls-predict.h5 /home/r10222035/CPVDM/3-4-Higgs-Collider-Study/Sample/THDM-testing/Parameter_Scanning/MG5/proc_ppHhh_1200GeV/Events/h5_data/min_dR_high_level.npy min_dR\n",
      "python from_h5_to_npy.py /home/r10222035/CPVDM/h5_data/1M_diHiggs_4b_PT40_pp4b_SPANET2.h5 /home/r10222035/CPVDM/h5_data/1M_diHiggs_4b_PT40_pp4b_SPANET2-mix-resonant-cls-predict.h5 /home/r10222035/CPVDM/h5_data/1M_diHiggs_4b_PT40_pp4b_min_dR_high_level.npy min_dR\n",
      "python from_h5_to_npy.py /home/r10222035/CPVDM/h5_data/1M_diHiggs_4b_PT40_pptt_SPANET2.h5 /home/r10222035/CPVDM/h5_data/1M_diHiggs_4b_PT40_pptt_SPANET2-mix-resonant-cls-predict.h5 /home/r10222035/CPVDM/h5_data/1M_diHiggs_4b_PT40_pptt_min_dR_high_level.npy min_dR\n"
     ]
    }
   ],
   "source": [
    "# Datasets for analysis\n",
    "pairing_method = 'min_dR'\n",
    "\n",
    "for m in range(300, 1201, 100):\n",
    "    true_file = f'/home/r10222035/CPVDM/3-4-Higgs-Collider-Study/Sample/THDM-testing/Parameter_Scanning/MG5/proc_ppHhh_{m}GeV/Events/h5_data/DiHiggs_4b_PT40.h5'\n",
    "    predict_file = f'/home/r10222035/CPVDM/3-4-Higgs-Collider-Study/Sample/THDM-testing/Parameter_Scanning/MG5/proc_ppHhh_{m}GeV/Events/h5_data/DiHiggs_4b_PT40-cls-predict.h5'\n",
    "    output_path = f'/home/r10222035/CPVDM/3-4-Higgs-Collider-Study/Sample/THDM-testing/Parameter_Scanning/MG5/proc_ppHhh_{m}GeV/Events/h5_data/{pairing_method}_high_level.npy'\n",
    "\n",
    "    from_h5_to_npy(true_file, predict_file, output_path, pairing_method)\n",
    "\n",
    "true_file = f'/home/r10222035/CPVDM/h5_data/1M_diHiggs_4b_PT40_pp4b_SPANET2.h5'\n",
    "predict_file = f'/home/r10222035/CPVDM/h5_data/1M_diHiggs_4b_PT40_pp4b_SPANET2-mix-resonant-cls-predict.h5' \n",
    "output_path = f'/home/r10222035/CPVDM/h5_data/1M_diHiggs_4b_PT40_pp4b_{pairing_method}_high_level.npy' \n",
    "\n",
    "from_h5_to_npy(true_file, predict_file, output_path, pairing_method)\n",
    "\n",
    "true_file = f'/home/r10222035/CPVDM/h5_data/1M_diHiggs_4b_PT40_pptt_SPANET2.h5'\n",
    "predict_file = f'/home/r10222035/CPVDM/h5_data/1M_diHiggs_4b_PT40_pptt_SPANET2-mix-resonant-cls-predict.h5'\n",
    "output_path = f'/home/r10222035/CPVDM/h5_data/1M_diHiggs_4b_PT40_pptt_{pairing_method}_high_level.npy'\n",
    "\n",
    "from_h5_to_npy(true_file, predict_file, output_path, pairing_method)"
   ]
  },
  {
   "cell_type": "code",
   "execution_count": 7,
   "metadata": {},
   "outputs": [
    {
     "name": "stdout",
     "output_type": "stream",
     "text": [
      "python from_h5_to_npy.py /home/r10222035/CPVDM/3-4-Higgs-Collider-Study/Sample/h5_data/resonant/pp4b/13M_DiHiggs_4b_PT40.h5 /home/r10222035/CPVDM/3-4-Higgs-Collider-Study/Sample/h5_data/resonant/pp4b/13M_DiHiggs_4b_PT40-cls-predict.h5 /home/r10222035/CPVDM/3-4-Higgs-Collider-Study/Sample/h5_data/resonant/pp4b/min_dR_high_level.npy min_dR\n"
     ]
    }
   ],
   "source": [
    "# More pp4b samples for analysis\n",
    "pairing_method = 'min_dR'\n",
    "\n",
    "true_file = f'/home/r10222035/CPVDM/3-4-Higgs-Collider-Study/Sample/h5_data/resonant/pp4b/13M_DiHiggs_4b_PT40.h5'\n",
    "predict_file = f'/home/r10222035/CPVDM/3-4-Higgs-Collider-Study/Sample/h5_data/resonant/pp4b/13M_DiHiggs_4b_PT40-cls-predict.h5'\n",
    "output_path = f'/home/r10222035/CPVDM/3-4-Higgs-Collider-Study/Sample/h5_data/resonant/pp4b/{pairing_method}_high_level.npy'\n",
    "\n",
    "from_h5_to_npy(true_file, predict_file, output_path, pairing_method)"
   ]
  }
 ],
 "metadata": {
  "kernelspec": {
   "display_name": "Python 3 (ipykernel)",
   "language": "python",
   "name": "python3"
  },
  "language_info": {
   "codemirror_mode": {
    "name": "ipython",
    "version": 3
   },
   "file_extension": ".py",
   "mimetype": "text/x-python",
   "name": "python",
   "nbconvert_exporter": "python",
   "pygments_lexer": "ipython3",
   "version": "3.8.16"
  }
 },
 "nbformat": 4,
 "nbformat_minor": 2
}
